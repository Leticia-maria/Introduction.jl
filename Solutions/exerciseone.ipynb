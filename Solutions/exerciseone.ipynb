{
 "cells": [
  {
   "cell_type": "code",
   "execution_count": 11,
   "metadata": {},
   "outputs": [
    {
     "name": "stdout",
     "output_type": "stream",
     "text": [
      "Stoichiometry of 18.0\n",
      "0.0\n",
      "H2O coefficient: 0.0\n"
     ]
    }
   ],
   "source": [
    "# Test Substance and Reaction display\n",
    "H2 = Substance(\"H2\", 2.0)\n",
    "O2 = Substance(\"O2\", 32.0)\n",
    "H2O = Substance(\"H2O\", 18.0)\n",
    "\n",
    "reaction = Reaction(Dict(H2 => 2.0, O2 => 1.0), Dict(H2O => NaN))\n",
    "#println(reaction)\n",
    "\n",
    "# Test stoichiometry function\n",
    "println(\"H2O coefficient: \", stoichiometry(reaction, H2O))"
   ]
  },
  {
   "cell_type": "code",
   "execution_count": null,
   "metadata": {},
   "outputs": [],
   "source": []
  }
 ],
 "metadata": {
  "kernelspec": {
   "display_name": "Julia 1.9.0",
   "language": "julia",
   "name": "julia-1.9"
  },
  "language_info": {
   "file_extension": ".jl",
   "mimetype": "application/julia",
   "name": "julia",
   "version": "1.9.0"
  },
  "orig_nbformat": 4
 },
 "nbformat": 4,
 "nbformat_minor": 2
}
