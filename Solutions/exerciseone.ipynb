{
 "cells": [
  {
   "cell_type": "code",
   "execution_count": 1,
   "metadata": {},
   "outputs": [
    {
     "data": {
      "text/plain": [
       "stoichiometry (generic function with 2 methods)"
      ]
     },
     "metadata": {},
     "output_type": "display_data"
    }
   ],
   "source": [
    "struct Substance\n",
    "    name::String\n",
    "    moles::Float64\n",
    "end\n",
    "\n",
    "struct Reaction\n",
    "    reactants::Dict{Substance, Float64}\n",
    "    products::Dict{Substance, Float64}\n",
    "end\n",
    "\n",
    "function stoichiometry(r::Reaction, s::Substance)\n",
    "    total_mass_reactants = sum([s.moles * coeff for (s, coeff) in r.reactants if s != s])\n",
    "    println(total_mass_reactants)\n",
    "    total_mass_products = sum([s.moles * coeff for (s, coeff) in r.products if s != s])\n",
    "\n",
    "    missing_mass = total_mass_reactants - total_mass_products\n",
    "    missing_coeff = missing_mass / s.moles\n",
    "\n",
    "    return missing_coeff\n",
    "end\n",
    "\n",
    "# Stretch Goal 1: Display function\n",
    "function Base.show(io::IO, s::Substance)\n",
    "    print(io, \"$(s.name), $(s.moles) mol\")\n",
    "end\n",
    "\n",
    "function Base.show(io::IO, r::Reaction)\n",
    "    reactants_strs = [\"$(coeff)$(s)\" for (s, coeff) in r.reactants]\n",
    "    products_strs = [\"$(coeff)$(s)\" for (s, coeff) in r.products]\n",
    "\n",
    "    print(io, join(reactants_strs, \" + \"), \" -> \", join(products_strs, \" + \"))\n",
    "end\n",
    "\n",
    "# Stretch Goal 2: Exception handling\n",
    "function stoichiometry_safe(r::Reaction, s::Substance)\n",
    "    if !(s in keys(r.reactants) || s in keys(r.products))\n",
    "        throw(ArgumentError(\"The substance $(s.name) is not part of the reaction.\"))\n",
    "    end\n",
    "    return stoichiometry(r, s)\n",
    "end\n",
    "\n",
    "# Stretch Goal 3: Reactions with coefficients\n",
    "struct CoefficientSubstance\n",
    "    s::Substance\n",
    "    coeff::Float64\n",
    "end\n",
    "\n",
    "struct CoefficientReaction\n",
    "    reactants::Dict{CoefficientSubstance, Float64}\n",
    "    products::Dict{CoefficientSubstance, Float64}\n",
    "end\n",
    "\n",
    "function stoichiometry(r::CoefficientReaction, cs::CoefficientSubstance)\n",
    "    total_mass_reactants = sum([cs.s.moles * cs.coeff * coeff for (cs, coeff) in r.reactants if cs != cs])\n",
    "    total_mass_products = sum([cs.s.moles * cs.coeff * coeff for (cs, coeff) in r.products if cs != cs])\n",
    "\n",
    "    missing_mass = total_mass_reactants - total_mass_products\n",
    "    missing_coeff = missing_mass / (cs.s.moles * cs.coeff)\n",
    "\n",
    "    return missing_coeff\n",
    "end"
   ]
  },
  {
   "cell_type": "code",
   "execution_count": 2,
   "metadata": {},
   "outputs": [
    {
     "name": "stdout",
     "output_type": "stream",
     "text": [
      "H2, 2.0 mol\n"
     ]
    },
    {
     "name": "stdout",
     "output_type": "stream",
     "text": [
      "1.0O2, 32.0 mol + 2.0H2, 2.0 mol -> NaNH2O, 18.0 mol\n"
     ]
    },
    {
     "name": "stdout",
     "output_type": "stream",
     "text": [
      "H2O coefficient: 0.0\n"
     ]
    }
   ],
   "source": [
    "# Test Substance and Reaction display\n",
    "H2 = Substance(\"H2\", 2.0)\n",
    "O2 = Substance(\"O2\", 32.0)\n",
    "H2O = Substance(\"H2O\", 18.0)\n",
    "\n",
    "reaction = Reaction(Dict(H2 => 2.0, O2 => 1.0), Dict(H2O => NaN))\n",
    "println(reaction)\n",
    "\n",
    "# Test stoichiometry function\n",
    "println(\"H2O coefficient: \", stoichiometry(reaction, H2O))"
   ]
  }
 ],
 "metadata": {
  "kernelspec": {
   "display_name": "Julia 1.9.0",
   "language": "julia",
   "name": "julia-1.9"
  },
  "language_info": {
   "file_extension": ".jl",
   "mimetype": "application/julia",
   "name": "julia",
   "version": "1.9.0"
  },
  "orig_nbformat": 4
 },
 "nbformat": 4,
 "nbformat_minor": 2
}
