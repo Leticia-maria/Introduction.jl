{
 "cells": [
  {
   "attachments": {},
   "cell_type": "markdown",
   "metadata": {},
   "source": [
    "# **Julia** workshop"
   ]
  },
  {
   "attachments": {},
   "cell_type": "markdown",
   "metadata": {},
   "source": [
    "**How to proceed with the course?**\n",
    "\n",
    "1. Clone this repository ```git clone https://github.com/Leticia-maria/Introduction.jl.git```\n",
    "2. In the folder called ```classes``` you will find the notebooks for each class\n",
    "3. Open the notebooks and follow the instructions\n",
    "4. In the folder ```practice``` you will find exercises to practice what you have learned\n",
    "5. In the ```issues``` tab you will find the questions and answers for each class (open yours there :smile:)\n"
   ]
  },
  {
   "attachments": {},
   "cell_type": "markdown",
   "metadata": {},
   "source": [
    "# Level of this workshop: **Beginner**\n",
    "\n",
    "### __(You are all welcome to work together and learn)__"
   ]
  },
  {
   "attachments": {},
   "cell_type": "markdown",
   "metadata": {},
   "source": [
    "> ## In this workshop, you will see:\n",
    "\n",
    "- ### a brief background of Julia Language\n",
    "- ### what are the advantages implemented in Julia\n",
    "- ### some applications in chemistry\n",
    "- ### some applications in machine learning\n",
    "- ### a brief and fun hands-on\n",
    "- ### how the julia community works"
   ]
  },
  {
   "attachments": {},
   "cell_type": "markdown",
   "metadata": {},
   "source": [
    "### The objective of this workshop is **not** to make you an expert in Julia, but to inspire you starting applying julia in your projects, studies or research!"
   ]
  },
  {
   "attachments": {},
   "cell_type": "markdown",
   "metadata": {},
   "source": [
    "![History](../assets/JuliaHistory.png)"
   ]
  },
  {
   "attachments": {},
   "cell_type": "markdown",
   "metadata": {},
   "source": [
    "### Julia language is a compiled programming language released in 2012!"
   ]
  },
  {
   "attachments": {},
   "cell_type": "markdown",
   "metadata": {},
   "source": [
    "[Julia Repository](https://github.com/JuliaLang/julia)"
   ]
  },
  {
   "attachments": {},
   "cell_type": "markdown",
   "metadata": {},
   "source": [
    "### **Curious fact** \n",
    "\n",
    "#### Why the programming language is called Julia?"
   ]
  },
  {
   "attachments": {},
   "cell_type": "markdown",
   "metadata": {},
   "source": []
  },
  {
   "attachments": {},
   "cell_type": "markdown",
   "metadata": {},
   "source": [
    "#### Some good points about Julia"
   ]
  },
  {
   "attachments": {},
   "cell_type": "markdown",
   "metadata": {},
   "source": [
    "![](../assets/Paper.png)"
   ]
  },
  {
   "attachments": {},
   "cell_type": "markdown",
   "metadata": {},
   "source": [
    "- ### Speed \n",
    "(why is it important for chemistry ?)"
   ]
  },
  {
   "attachments": {},
   "cell_type": "markdown",
   "metadata": {},
   "source": [
    "#### Runnning a for loop in python"
   ]
  },
  {
   "attachments": {},
   "cell_type": "markdown",
   "metadata": {},
   "source": [
    "```python\n",
    "import numpy as np\n",
    "import timeit\n",
    "np.random.seed(0)\n",
    "values = np.random.randint(1, 100, size=1000000)\n",
    "def getReciprocal(values):\n",
    "    output = np.empty(len(values))\n",
    "    \n",
    "    for i in range(len(values)):\n",
    "        output[i] = 1.0/values[i]\n",
    "\n",
    "duration = timeit.repeat(\n",
    "    \"getReciprocal(values)\", - \n",
    "    \"from __main__ import getReciprocal, values\",\n",
    "    number=1,\n",
    "    repeat=7\n",
    ")\n",
    "\n",
    "print(duration)\n",
    "1.73 s +- 16.5 ms per loop\n",
    "```"
   ]
  },
  {
   "attachments": {},
   "cell_type": "markdown",
   "metadata": {},
   "source": [
    "### Now, the same loop in Julia:"
   ]
  },
  {
   "attachments": {},
   "cell_type": "markdown",
   "metadata": {},
   "source": [
    "```julia\n",
    "function getReciprocal2(values)\n",
    "    output = Vector{Float64}(undef, length(values))\n",
    "    \n",
    "    for i in eachindex(values)\n",
    "        @inbounds output[i] = 1.0 / values[1]\n",
    "    end\n",
    "    \n",
    "    return output\n",
    "end\n",
    "\n",
    "@btime getReciprocal2(values)\n",
    "\n",
    "--------------\n",
    "minimum time:    1.099 microseconds (0.00% GC)\n",
    "--------------\n",
    "```"
   ]
  },
  {
   "attachments": {},
   "cell_type": "markdown",
   "metadata": {},
   "source": [
    "#### Julia **can be** 1 million times FASTER than Python!"
   ]
  },
  {
   "attachments": {},
   "cell_type": "markdown",
   "metadata": {},
   "source": [
    "```julia\n",
    "import Pkg\n",
    "Pkg.add(\"BenchmarkTools\")\n",
    "using BenchmarkTools\n",
    "using Random\n",
    "using LinearAlgebra\n",
    "Random.seed!(0)\n",
    "values =  rand(1:100, 1, 1000000)\n",
    "function getReciprocal(values)\n",
    "    output = zeros(1, 1000000)\n",
    "    for i in 1:length(values)\n",
    "        output[i] = 1.0/values[i]\n",
    "    end\n",
    "end\n",
    "\n",
    "@btime getReciprocal(values)\n",
    "\n",
    "--------------\n",
    "minimum time:     1.931 ms (0.00% GC)\n",
    "--------------\n",
    "```"
   ]
  },
  {
   "attachments": {},
   "cell_type": "markdown",
   "metadata": {},
   "source": [
    "#### Speed can become important when you are trying to solve many body problem in Physics and Chemistry."
   ]
  },
  {
   "attachments": {},
   "cell_type": "markdown",
   "metadata": {},
   "source": [
    "- ### Syntax"
   ]
  },
  {
   "attachments": {},
   "cell_type": "markdown",
   "metadata": {},
   "source": [
    "#### high level syntax >> faster to code and learn"
   ]
  },
  {
   "attachments": {},
   "cell_type": "markdown",
   "metadata": {},
   "source": [
    "### **Purposeful**: \n",
    "- #### numerical programming\n",
    "- #### scientific programming\n",
    "- #### machine learning"
   ]
  },
  {
   "attachments": {},
   "cell_type": "markdown",
   "metadata": {},
   "source": [
    "### **the two language problem**"
   ]
  },
  {
   "attachments": {},
   "cell_type": "markdown",
   "metadata": {},
   "source": [
    "### Now, let's get started!"
   ]
  },
  {
   "attachments": {},
   "cell_type": "markdown",
   "metadata": {},
   "source": [
    "### **Configuring Julia**\n",
    "- show the REPL\n",
    "- show ```config``` folder"
   ]
  },
  {
   "attachments": {},
   "cell_type": "markdown",
   "metadata": {},
   "source": [
    "##### 1.1. **Types** "
   ]
  },
  {
   "attachments": {},
   "cell_type": "markdown",
   "metadata": {},
   "source": [
    "##### 1.2. **Print** method "
   ]
  },
  {
   "cell_type": "code",
   "execution_count": 2,
   "metadata": {},
   "outputs": [
    {
     "name": "stdout",
     "output_type": "stream",
     "text": [
      "Julia is a fast language!"
     ]
    }
   ],
   "source": [
    "print(\"Julia is a fast language!\")"
   ]
  },
  {
   "attachments": {},
   "cell_type": "markdown",
   "metadata": {},
   "source": [
    "### Now it is your **turn to practice**!"
   ]
  },
  {
   "attachments": {},
   "cell_type": "markdown",
   "metadata": {},
   "source": [
    "**Activity 1** : Print your own name."
   ]
  },
  {
   "cell_type": "code",
   "execution_count": 3,
   "metadata": {},
   "outputs": [
    {
     "name": "stdout",
     "output_type": "stream",
     "text": [
      "Leticia Maria Pequeno Madureira"
     ]
    }
   ],
   "source": [
    "println(\"Leticia\")"
   ]
  },
  {
   "cell_type": "code",
   "execution_count": 9,
   "metadata": {},
   "outputs": [
    {
     "data": {
      "text/plain": [
       "String"
      ]
     },
     "metadata": {},
     "output_type": "display_data"
    }
   ],
   "source": [
    "name = \"Leticia\"\n",
    "typeof(name)"
   ]
  },
  {
   "attachments": {},
   "cell_type": "markdown",
   "metadata": {},
   "source": [
    "**Activity 2** : Make the computer spell your name with a ```for``` loop."
   ]
  },
  {
   "cell_type": "code",
   "execution_count": null,
   "metadata": {},
   "outputs": [],
   "source": [
    "for letter in name\n",
    "    print(letter)\n",
    "end"
   ]
  },
  {
   "cell_type": "code",
   "execution_count": null,
   "metadata": {},
   "outputs": [],
   "source": [
    "for letter in name\n",
    "    println(letter)\n",
    "end"
   ]
  },
  {
   "attachments": {},
   "cell_type": "markdown",
   "metadata": {},
   "source": [
    "- ### Multiple dispatch"
   ]
  },
  {
   "cell_type": "code",
   "execution_count": 14,
   "metadata": {},
   "outputs": [
    {
     "data": {
      "text/plain": [
       "Int64"
      ]
     },
     "metadata": {},
     "output_type": "display_data"
    }
   ],
   "source": [
    "integer_number = 2\n",
    "typeof(integer_number)"
   ]
  },
  {
   "cell_type": "code",
   "execution_count": 15,
   "metadata": {},
   "outputs": [
    {
     "data": {
      "text/plain": [
       "Float64"
      ]
     },
     "metadata": {},
     "output_type": "display_data"
    }
   ],
   "source": [
    "decimal_number = 2.5\n",
    "typeof(decimal_number)"
   ]
  },
  {
   "cell_type": "code",
   "execution_count": 17,
   "metadata": {},
   "outputs": [
    {
     "data": {
      "text/plain": [
       "number_test (generic function with 1 method)"
      ]
     },
     "metadata": {},
     "output_type": "display_data"
    }
   ],
   "source": [
    "function number_test(N::Int64)\n",
    "    print(N)\n",
    "end"
   ]
  },
  {
   "cell_type": "code",
   "execution_count": 18,
   "metadata": {},
   "outputs": [
    {
     "name": "stdout",
     "output_type": "stream",
     "text": [
      "5"
     ]
    }
   ],
   "source": [
    "number_test(5)"
   ]
  },
  {
   "cell_type": "code",
   "execution_count": 19,
   "metadata": {},
   "outputs": [
    {
     "ename": "MethodError",
     "evalue": "MethodError: no method matching number_test(::Float64)\nClosest candidates are:\n  number_test(!Matched::Int64) at ~/RIIA_workshop/HandsOn.ipynb:1",
     "output_type": "error",
     "traceback": [
      "MethodError: no method matching number_test(::Float64)\n",
      "Closest candidates are:\n",
      "  number_test(!Matched::Int64) at ~/RIIA_workshop/HandsOn.ipynb:1\n",
      "\n",
      "Stacktrace:\n",
      " [1] top-level scope\n",
      "   @ ~/RIIA_workshop/HandsOn.ipynb:1"
     ]
    }
   ],
   "source": [
    "number_test(2.5)"
   ]
  },
  {
   "attachments": {},
   "cell_type": "markdown",
   "metadata": {},
   "source": [
    "> There is support for ```Int16```, ```Int32```, ```Int64```. (The difference is the usage of bits to allocate it). In the data structures in Julia, all these types are subtypes of ```Integer```."
   ]
  },
  {
   "cell_type": "code",
   "execution_count": 20,
   "metadata": {},
   "outputs": [
    {
     "data": {
      "text/plain": [
       "true"
      ]
     },
     "metadata": {},
     "output_type": "display_data"
    }
   ],
   "source": [
    "Int32 <: Integer"
   ]
  },
  {
   "cell_type": "code",
   "execution_count": null,
   "metadata": {},
   "outputs": [],
   "source": [
    "function number_test(N::T) where T <: Integer\n",
    "    print(N)\n",
    "end"
   ]
  },
  {
   "attachments": {},
   "cell_type": "markdown",
   "metadata": {},
   "source": [
    "> For example, let's think about one example that is more reasonable: a ```Molecule``` is a subtype of ```ChemicalSystem```, right? So, let us build it in Julia!"
   ]
  },
  {
   "cell_type": "code",
   "execution_count": null,
   "metadata": {},
   "outputs": [],
   "source": [
    "abstract type ChemicalSystem end ### this is a supertype."
   ]
  },
  {
   "cell_type": "code",
   "execution_count": null,
   "metadata": {},
   "outputs": [],
   "source": [
    "struct Molecule <: ChemicalSystem end ## a class in python"
   ]
  },
  {
   "cell_type": "code",
   "execution_count": 21,
   "metadata": {},
   "outputs": [
    {
     "data": {
      "text/plain": [
       "number_test (generic function with 2 methods)"
      ]
     },
     "metadata": {},
     "output_type": "display_data"
    }
   ],
   "source": [
    "function number_test(N::Float64)\n",
    "    print(N)\n",
    "end"
   ]
  },
  {
   "cell_type": "code",
   "execution_count": 22,
   "metadata": {},
   "outputs": [
    {
     "name": "stdout",
     "output_type": "stream",
     "text": [
      "5.2"
     ]
    }
   ],
   "source": [
    "number_test(5.2)"
   ]
  },
  {
   "attachments": {},
   "cell_type": "markdown",
   "metadata": {},
   "source": [
    "### **Practice** an example on REPL! >> Let's do it together!"
   ]
  },
  {
   "attachments": {},
   "cell_type": "markdown",
   "metadata": {},
   "source": [
    "- print ```integer``` if Int; \n",
    "- print ```float``` if Float."
   ]
  },
  {
   "cell_type": "code",
   "execution_count": 30,
   "metadata": {},
   "outputs": [
    {
     "data": {
      "text/plain": [
       "true"
      ]
     },
     "metadata": {},
     "output_type": "display_data"
    }
   ],
   "source": [
    "Float32 <: Number"
   ]
  },
  {
   "cell_type": "code",
   "execution_count": 31,
   "metadata": {},
   "outputs": [
    {
     "name": "stdout",
     "output_type": "stream",
     "text": [
      "It is a float!"
     ]
    }
   ],
   "source": [
    "function practice_1(N::V) where V <: Number \n",
    "    if typeof(N) <: Integer\n",
    "        print(\"It is an integer number!\")\n",
    "    else\n",
    "        print(\"It is a float!\")\n",
    "    end\n",
    "end\n",
    "\n",
    "practice_1(2.5)\n"
   ]
  },
  {
   "cell_type": "code",
   "execution_count": 28,
   "metadata": {},
   "outputs": [
    {
     "name": "stdout",
     "output_type": "stream",
     "text": [
      "It is a string"
     ]
    }
   ],
   "source": [
    "function practice_2(N::Int64)\n",
    "    print(\"It is an integer\")\n",
    "end\n",
    "\n",
    "function practice_2(N::Float64)\n",
    "    print(\"It is a float\")\n",
    "end\n",
    "\n",
    "function practice_2(N::String)\n",
    "    print(\"It is a string\")\n",
    "end"
   ]
  },
  {
   "cell_type": "code",
   "execution_count": null,
   "metadata": {},
   "outputs": [],
   "source": [
    "practice_2(\"4\")"
   ]
  },
  {
   "attachments": {},
   "cell_type": "markdown",
   "metadata": {},
   "source": [
    "### **Math** notation"
   ]
  },
  {
   "cell_type": "code",
   "execution_count": null,
   "metadata": {},
   "outputs": [],
   "source": [
    "f(x) = x+2 ## this is an expression"
   ]
  },
  {
   "cell_type": "code",
   "execution_count": null,
   "metadata": {},
   "outputs": [],
   "source": [
    "f(2)"
   ]
  },
  {
   "attachments": {},
   "cell_type": "markdown",
   "metadata": {},
   "source": [
    "> Julia also support UNICODES! (what is so fun!)"
   ]
  },
  {
   "cell_type": "code",
   "execution_count": 32,
   "metadata": {},
   "outputs": [
    {
     "data": {
      "text/plain": [
       "f (generic function with 1 method)"
      ]
     },
     "metadata": {},
     "output_type": "display_data"
    }
   ],
   "source": [
    "f(θ) = α + β"
   ]
  },
  {
   "attachments": {},
   "cell_type": "markdown",
   "metadata": {},
   "source": [
    "## 2. How to use libraries in Julia"
   ]
  },
  {
   "attachments": {},
   "cell_type": "markdown",
   "metadata": {},
   "source": [
    "#### Use **Pkg** manager"
   ]
  },
  {
   "cell_type": "code",
   "execution_count": 33,
   "metadata": {},
   "outputs": [],
   "source": [
    "using Pkg"
   ]
  },
  {
   "cell_type": "code",
   "execution_count": 35,
   "metadata": {},
   "outputs": [
    {
     "name": "stderr",
     "output_type": "stream",
     "text": [
      "\u001b[32m\u001b[1m   Resolving\u001b[22m\u001b[39m package versions...\n"
     ]
    },
    {
     "name": "stderr",
     "output_type": "stream",
     "text": [
      "\u001b[32m\u001b[1m  No Changes\u001b[22m\u001b[39m to `~/.julia/environments/v1.8/Project.toml`\n",
      "\u001b[32m\u001b[1m  No Changes\u001b[22m\u001b[39m to `~/.julia/environments/v1.8/Manifest.toml`\n"
     ]
    }
   ],
   "source": [
    "Pkg.add(\"LinearAlgebra\")"
   ]
  },
  {
   "cell_type": "code",
   "execution_count": null,
   "metadata": {},
   "outputs": [],
   "source": [
    "using LinearAlgebra"
   ]
  }
 ],
 "metadata": {
  "kernelspec": {
   "display_name": "Julia 1.9.0",
   "language": "julia",
   "name": "julia-1.9"
  },
  "language_info": {
   "file_extension": ".jl",
   "mimetype": "application/julia",
   "name": "julia",
   "version": "1.9.0"
  },
  "orig_nbformat": 4
 },
 "nbformat": 4,
 "nbformat_minor": 2
}
