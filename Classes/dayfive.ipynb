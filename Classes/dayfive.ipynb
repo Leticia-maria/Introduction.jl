{
 "cells": [
  {
   "cell_type": "code",
   "execution_count": 2,
   "metadata": {},
   "outputs": [
    {
     "name": "stderr",
     "output_type": "stream",
     "text": [
      "\u001b[32m\u001b[1m   Resolving\u001b[22m\u001b[39m package versions...\n"
     ]
    },
    {
     "name": "stderr",
     "output_type": "stream",
     "text": [
      "\u001b[32m\u001b[1m   Installed\u001b[22m\u001b[39m LinearMaps ─ v3.10.2\n"
     ]
    },
    {
     "name": "stderr",
     "output_type": "stream",
     "text": [
      "\u001b[32m\u001b[1m    Updating\u001b[22m\u001b[39m `~/.julia/environments/v1.9/Project.toml`\n",
      "  \u001b[90m[acf6eb54] \u001b[39m\u001b[92m+ DFTK v0.6.9\u001b[39m\n",
      "\u001b[32m\u001b[1m    Updating\u001b[22m\u001b[39m `~/.julia/environments/v1.9/Manifest.toml`\n"
     ]
    },
    {
     "name": "stderr",
     "output_type": "stream",
     "text": [
      "  \u001b[90m[ada6cbde] \u001b[39m\u001b[92m+ Bravais v0.1.8\u001b[39m\n",
      "  \u001b[90m[23470ee3] \u001b[39m\u001b[92m+ Brillouin v0.5.13\u001b[39m\n",
      "  \u001b[90m[b0b7db55] \u001b[39m\u001b[92m+ ComponentArrays v0.13.14\u001b[39m\n",
      "  \u001b[90m[acf6eb54] \u001b[39m\u001b[92m+ DFTK v0.6.9\u001b[39m\n",
      "  \u001b[90m[6bd331d2] \u001b[39m\u001b[92m+ DftFunctionals v0.2.3\u001b[39m\n",
      "  \u001b[90m[c3f9d41a] \u001b[39m\u001b[92m+ DirectQhull v0.2.0\u001b[39m\n",
      "  \u001b[90m[d9f16b24] \u001b[39m\u001b[92m+ Functors v0.4.4\u001b[39m\n",
      "  \u001b[90m[a9efe35a] \u001b[39m\u001b[92m+ InteratomicPotentials v0.2.6\u001b[39m\n",
      "  \u001b[90m[42fd0dbc] \u001b[39m\u001b[92m+ IterativeSolvers v0.9.2\u001b[39m\n",
      "  \u001b[90m[66e17ffc] \u001b[39m\u001b[92m+ Libxc v0.3.15\u001b[39m\n",
      "  \u001b[90m[7a12625a] \u001b[39m\u001b[92m+ LinearMaps v3.10.2\u001b[39m\n",
      "  \u001b[90m[da04e1cc] \u001b[39m\u001b[92m+ MPI v0.20.11\u001b[39m\n",
      "  \u001b[90m[3da0fdf6] \u001b[39m\u001b[92m+ MPIPreferences v0.1.8\u001b[39m\n",
      "  \u001b[90m[eebad327] \u001b[39m\u001b[92m+ PkgVersion v0.3.2\u001b[39m\n",
      "  \u001b[90m[f27b6e38] \u001b[39m\u001b[92m+ Polynomials v3.2.13\u001b[39m\n",
      "\u001b[33m⌅\u001b[39m \u001b[90m[cb339c56] \u001b[39m\u001b[92m+ PseudoPotentialIO v0.1.1\u001b[39m\n",
      "  \u001b[90m[f2b01f46] \u001b[39m\u001b[92m+ Roots v2.0.17\u001b[39m\n",
      "  \u001b[90m[f761d5c5] \u001b[39m\u001b[92m+ Spglib v0.6.1\u001b[39m\n",
      "\u001b[33m⌅\u001b[39m \u001b[90m[4093c41a] \u001b[39m\u001b[92m+ StructHelpers v0.1.5\u001b[39m\n",
      "  \u001b[90m[1d63c593] \u001b[39m\u001b[92m+ LLVMOpenMP_jll v15.0.4+0\u001b[39m\n",
      "  \u001b[90m[25af9330] \u001b[39m\u001b[92m+ Libxc_GPU_jll v6.1.0+2\u001b[39m\n",
      "  \u001b[90m[a56a6d9d] \u001b[39m\u001b[92m+ Libxc_jll v6.1.0+0\u001b[39m\n",
      "  \u001b[90m[7cb0a576] \u001b[39m\u001b[92m+ MPICH_jll v4.1.2+0\u001b[39m\n",
      "  \u001b[90m[f1f71cc9] \u001b[39m\u001b[92m+ MPItrampoline_jll v5.3.1+0\u001b[39m\n",
      "  \u001b[90m[9237b28f] \u001b[39m\u001b[92m+ MicrosoftMPI_jll v10.1.3+4\u001b[39m\n",
      "  \u001b[90m[fe0851c0] \u001b[39m\u001b[92m+ OpenMPI_jll v4.1.5+0\u001b[39m\n",
      "\u001b[33m⌅\u001b[39m \u001b[90m[784f63db] \u001b[39m\u001b[92m+ Qhull_jll v8.0.1003+0\u001b[39m\n",
      "  \u001b[90m[ac4a9f1e] \u001b[39m\u001b[92m+ spglib_jll v1.16.5+0\u001b[39m\n",
      "\u001b[36m\u001b[1m        Info\u001b[22m\u001b[39m Packages marked with \u001b[33m⌅\u001b[39m have new versions available but compatibility constraints restrict them from upgrading. To see why use `status --outdated -m`\n"
     ]
    },
    {
     "name": "stderr",
     "output_type": "stream",
     "text": [
      "\u001b[32m\u001b[1mPrecompiling\u001b[22m\u001b[39m "
     ]
    },
    {
     "name": "stderr",
     "output_type": "stream",
     "text": [
      "project...\n"
     ]
    },
    {
     "name": "stderr",
     "output_type": "stream",
     "text": [
      "\u001b[32m  ✓ \u001b[39m\u001b[90mPolynomials → PolynomialsMutableArithmeticsExt\u001b[39m\n",
      "\u001b[32m  ✓ \u001b[39m\u001b[90mComponentArrays → ComponentArraysRecursiveArrayToolsExt\u001b[39m\n",
      "\u001b[32m  ✓ \u001b[39m\u001b[90mLinearMaps\u001b[39m\n"
     ]
    },
    {
     "name": "stderr",
     "output_type": "stream",
     "text": [
      "\u001b[32m  ✓ \u001b[39m\u001b[90mDiffEqBase → DiffEqBaseMPIExt\u001b[39m\n"
     ]
    },
    {
     "name": "stderr",
     "output_type": "stream",
     "text": [
      "\u001b[32m  ✓ \u001b[39m\u001b[90mLinearMaps → LinearMapsSparseArraysExt\u001b[39m\n"
     ]
    },
    {
     "name": "stderr",
     "output_type": "stream",
     "text": [
      "\u001b[32m  ✓ \u001b[39m\u001b[90mComponentArrays → ComponentArraysSciMLBaseExt\u001b[39m\n"
     ]
    },
    {
     "name": "stderr",
     "output_type": "stream",
     "text": [
      "\u001b[32m  ✓ \u001b[39m\u001b[90mLinearMaps → LinearMapsChainRulesCoreExt\u001b[39m\n"
     ]
    },
    {
     "name": "stderr",
     "output_type": "stream",
     "text": [
      "\u001b[32m  ✓ \u001b[39m\u001b[90mLinearMaps → LinearMapsStatisticsExt\u001b[39m\n",
      "\u001b[32m  ✓ \u001b[39m\u001b[90mLinearSolve → LinearSolveIterativeSolversExt\u001b[39m\n"
     ]
    },
    {
     "name": "stderr",
     "output_type": "stream",
     "text": [
      "\u001b[32m  ✓ \u001b[39mDFTK\n",
      "  10 dependencies successfully precompiled in 49 seconds. 488 already precompiled.\n"
     ]
    }
   ],
   "source": [
    "using Pkg\n",
    "Pkg.add(\"DFTK\")\n",
    "using DFTK"
   ]
  },
  {
   "cell_type": "code",
   "execution_count": 6,
   "metadata": {},
   "outputs": [
    {
     "data": {
      "text/plain": [
       "3×3 Matrix{Float64}:\n",
       " 5.0   5.0   0.0\n",
       " 5.0  -5.0   0.0\n",
       " 0.0   0.0  10.0"
      ]
     },
     "metadata": {},
     "output_type": "display_data"
    }
   ],
   "source": [
    "# Define a simple 2D square lattice\n",
    "a = 10.0  # Lattice constant\n",
    "lattice = a / 2 * [1  1 0; \n",
    "                   1 -1 0; \n",
    "                   0  0 2]"
   ]
  },
  {
   "cell_type": "code",
   "execution_count": 7,
   "metadata": {},
   "outputs": [
    {
     "data": {
      "text/plain": [
       "1-element Vector{Pair{ElementPsp, Vector{Vector{Float64}}}}:\n",
       " ElementPsp(H, psp=\"hgh/lda/h-q1\") => [[0.125, 0.125, 0.125], [-0.125, -0.125, -0.125]]"
      ]
     },
     "metadata": {},
     "output_type": "display_data"
    }
   ],
   "source": [
    "# Define the atomic positions and species\n",
    "atoms = [ElementPsp(:H, psp=load_psp(\"hgh/lda/h-q1\")) => [ones(3)/8, -ones(3)/8]]"
   ]
  },
  {
   "cell_type": "code",
   "execution_count": 13,
   "metadata": {},
   "outputs": [
    {
     "ename": "MethodError",
     "evalue": "MethodError: no method matching Model(::Matrix{Float64}, ::Vector{Pair{ElementPsp, Vector{Vector{Float64}}}})\n\nClosest candidates are:\n  Model(::AbstractMatrix{T}) where T<:Real\n   @ DFTK ~/.julia/packages/DFTK/k0wtY/src/Model.jl:95\n  Model(::AbstractMatrix{T}, !Matched::Vector{<:DFTK.Element}) where T<:Real\n   @ DFTK ~/.julia/packages/DFTK/k0wtY/src/Model.jl:95\n  Model(::AbstractMatrix{T}, !Matched::Vector{<:DFTK.Element}, !Matched::Vector{<:AbstractVector}; model_name, εF, n_electrons, disable_electrostatics_check, magnetic_moments, terms, temperature, smearing, spin_polarization, symmetries) where T<:Real\n   @ DFTK ~/.julia/packages/DFTK/k0wtY/src/Model.jl:95\n",
     "output_type": "error",
     "traceback": [
      "MethodError: no method matching Model(::Matrix{Float64}, ::Vector{Pair{ElementPsp, Vector{Vector{Float64}}}})\n",
      "\n",
      "Closest candidates are:\n",
      "  Model(::AbstractMatrix{T}) where T<:Real\n",
      "   @ DFTK ~/.julia/packages/DFTK/k0wtY/src/Model.jl:95\n",
      "  Model(::AbstractMatrix{T}, !Matched::Vector{<:DFTK.Element}) where T<:Real\n",
      "   @ DFTK ~/.julia/packages/DFTK/k0wtY/src/Model.jl:95\n",
      "  Model(::AbstractMatrix{T}, !Matched::Vector{<:DFTK.Element}, !Matched::Vector{<:AbstractVector}; model_name, εF, n_electrons, disable_electrostatics_check, magnetic_moments, terms, temperature, smearing, spin_polarization, symmetries) where T<:Real\n",
      "   @ DFTK ~/.julia/packages/DFTK/k0wtY/src/Model.jl:95\n",
      "\n",
      "\n",
      "Stacktrace:\n",
      " [1] top-level scope\n",
      "   @ ~/Introduction.jl/Classes/dayfive.ipynb:2"
     ]
    }
   ],
   "source": [
    "# Create the crystal\n",
    "model = Model(lattice, atoms)"
   ]
  },
  {
   "cell_type": "code",
   "execution_count": null,
   "metadata": {},
   "outputs": [],
   "source": [
    "using DFTK\n",
    "using Unitful\n",
    "using UnitfulAtomic\n",
    "using LinearAlgebra\n",
    "\n",
    "# Define the convergence parameters (these should be increased in production)\n",
    "L = 20  # height of the simulation box\n",
    "kgrid = [6, 6, 1]\n",
    "Ecut = 15\n",
    "temperature = 1e-3\n",
    "\n",
    "# Define the geometry and pseudopotential\n",
    "a = 4.66  # lattice constant\n",
    "a1 = a*[1/2,-sqrt(3)/2, 0]\n",
    "a2 = a*[1/2, sqrt(3)/2, 0]\n",
    "a3 = L*[0  , 0        , 1]\n",
    "lattice = [a1 a2 a3]\n",
    "C1 = [1/3,-1/3,0.0]  # in reduced coordinates\n",
    "C2 = -C1\n",
    "positions = [C1, C2]\n",
    "C = ElementPsp(:C, psp=load_psp(\"hgh/pbe/c-q4\"))\n",
    "atoms = [C, C]\n",
    "\n",
    "# Run SCF\n",
    "model = model_PBE(lattice, atoms, positions; temperature)\n",
    "basis = PlaneWaveBasis(model; Ecut, kgrid)\n",
    "scfres = self_consistent_field(basis)"
   ]
  }
 ],
 "metadata": {
  "kernelspec": {
   "display_name": "Julia 1.9.0",
   "language": "julia",
   "name": "julia-1.9"
  },
  "language_info": {
   "file_extension": ".jl",
   "mimetype": "application/julia",
   "name": "julia",
   "version": "1.9.0"
  },
  "orig_nbformat": 4
 },
 "nbformat": 4,
 "nbformat_minor": 2
}
