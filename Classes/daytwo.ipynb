{
 "cells": [
  {
   "attachments": {},
   "cell_type": "markdown",
   "metadata": {},
   "source": [
    "### Vectorization in Julia"
   ]
  },
  {
   "attachments": {},
   "cell_type": "markdown",
   "metadata": {},
   "source": [
    "#### Element-wise arithmetic operations:"
   ]
  },
  {
   "cell_type": "code",
   "execution_count": 11,
   "metadata": {},
   "outputs": [
    {
     "data": {
      "text/plain": [
       "3-element Vector{Int64}:\n",
       " 5\n",
       " 7\n",
       " 9"
      ]
     },
     "metadata": {},
     "output_type": "display_data"
    }
   ],
   "source": [
    "a = [1, 2, 3]\n",
    "b = [4, 5, 6]\n",
    "c = a + b  "
   ]
  },
  {
   "cell_type": "code",
   "execution_count": 13,
   "metadata": {},
   "outputs": [
    {
     "data": {
      "text/plain": [
       "7-element Vector{Int64}:\n",
       " 1\n",
       " 2\n",
       " 3\n",
       " 4\n",
       " 5\n",
       " 6\n",
       " 7"
      ]
     },
     "metadata": {},
     "output_type": "display_data"
    }
   ],
   "source": [
    "a = [j for j in 1:7]\n"
   ]
  },
  {
   "cell_type": "code",
   "execution_count": 14,
   "metadata": {},
   "outputs": [
    {
     "data": {
      "text/plain": [
       "8-element Vector{Int64}:\n",
       " 1\n",
       " 2\n",
       " 3\n",
       " 4\n",
       " 5\n",
       " 6\n",
       " 7\n",
       " 8"
      ]
     },
     "metadata": {},
     "output_type": "display_data"
    }
   ],
   "source": [
    "b = [k for k in 1:8]"
   ]
  },
  {
   "cell_type": "code",
   "execution_count": 15,
   "metadata": {},
   "outputs": [
    {
     "data": {
      "text/plain": [
       "(7,)"
      ]
     },
     "metadata": {},
     "output_type": "display_data"
    }
   ],
   "source": [
    "size(a)"
   ]
  },
  {
   "cell_type": "code",
   "execution_count": 16,
   "metadata": {},
   "outputs": [
    {
     "data": {
      "text/plain": [
       "(8,)"
      ]
     },
     "metadata": {},
     "output_type": "display_data"
    }
   ],
   "source": [
    "size(b)"
   ]
  },
  {
   "cell_type": "code",
   "execution_count": 17,
   "metadata": {},
   "outputs": [
    {
     "ename": "DimensionMismatch",
     "evalue": "DimensionMismatch: dimensions must match: a has dims (Base.OneTo(7),), b has dims (Base.OneTo(8),), mismatch at 1",
     "output_type": "error",
     "traceback": [
      "DimensionMismatch: dimensions must match: a has dims (Base.OneTo(7),), b has dims (Base.OneTo(8),), mismatch at 1\n",
      "\n",
      "Stacktrace:\n",
      " [1] promote_shape\n",
      "   @ ./indices.jl:178 [inlined]\n",
      " [2] promote_shape\n",
      "   @ ./indices.jl:169 [inlined]\n",
      " [3] +(A::Vector{Int64}, Bs::Vector{Int64})\n",
      "   @ Base ./arraymath.jl:14\n",
      " [4] top-level scope\n",
      "   @ ~/Introduction.jl/Classes/daytwo.ipynb:1"
     ]
    }
   ],
   "source": [
    "a + b"
   ]
  },
  {
   "cell_type": "code",
   "execution_count": 21,
   "metadata": {},
   "outputs": [
    {
     "data": {
      "text/plain": [
       "3-element Vector{Float64}:\n",
       " -2.5\n",
       " -3.0\n",
       " -3.0"
      ]
     },
     "metadata": {},
     "output_type": "display_data"
    }
   ],
   "source": [
    "a = [1.5, 2, 3]\n",
    "b = [4, 5, 6]\n",
    "c = a - b"
   ]
  },
  {
   "cell_type": "code",
   "execution_count": 22,
   "metadata": {},
   "outputs": [
    {
     "data": {
      "text/plain": [
       "Vector{Float64}\u001b[90m (alias for \u001b[39m\u001b[90mArray{Float64, 1}\u001b[39m\u001b[90m)\u001b[39m"
      ]
     },
     "metadata": {},
     "output_type": "display_data"
    }
   ],
   "source": [
    "typeof(a)"
   ]
  },
  {
   "attachments": {},
   "cell_type": "markdown",
   "metadata": {},
   "source": [
    "### Element-wise logical operations:"
   ]
  },
  {
   "attachments": {},
   "cell_type": "markdown",
   "metadata": {},
   "source": [
    "| A | B | A AND B | A OR B |\n",
    "|---|---|---------|--------|\n",
    "| 0 | 0 |    0    |   0    |\n",
    "| 0 | 1 |    0    |   1    |\n",
    "| 1 | 0 |    0    |   1    |\n",
    "| 1 | 1 |    1    |   1    |"
   ]
  },
  {
   "cell_type": "code",
   "execution_count": 24,
   "metadata": {},
   "outputs": [
    {
     "data": {
      "text/plain": [
       "3-element BitVector:\n",
       " 0\n",
       " 1\n",
       " 0"
      ]
     },
     "metadata": {},
     "output_type": "display_data"
    }
   ],
   "source": [
    "# Element-wise comparison\n",
    "a = [1, 2, 3]\n",
    "b = [2, 2, 2]\n",
    "c = a .== b  # [false, true, false]"
   ]
  },
  {
   "cell_type": "code",
   "execution_count": 27,
   "metadata": {},
   "outputs": [
    {
     "data": {
      "text/plain": [
       "false"
      ]
     },
     "metadata": {},
     "output_type": "display_data"
    }
   ],
   "source": [
    "a == b"
   ]
  },
  {
   "cell_type": "code",
   "execution_count": 32,
   "metadata": {},
   "outputs": [
    {
     "data": {
      "text/plain": [
       "3-element BitVector:\n",
       " 0\n",
       " 0\n",
       " 1"
      ]
     },
     "metadata": {},
     "output_type": "display_data"
    }
   ],
   "source": [
    "# Element-wise logical AND\n",
    "x = [true, false, true]\n",
    "y = [false, true, true]\n",
    "z = x .& y  # [false, false, true]"
   ]
  },
  {
   "attachments": {},
   "cell_type": "markdown",
   "metadata": {},
   "source": [
    "### Matrices"
   ]
  },
  {
   "cell_type": "code",
   "execution_count": 86,
   "metadata": {},
   "outputs": [
    {
     "data": {
      "text/plain": [
       "3-element Vector{Vector{Int64}}:\n",
       " [1, 2, 3]\n",
       " [4, 5, 6]\n",
       " [7, 8, 9]"
      ]
     },
     "metadata": {},
     "output_type": "display_data"
    }
   ],
   "source": [
    "A = [[1,2,3], [4,5,6], [7,8,9]]"
   ]
  },
  {
   "cell_type": "code",
   "execution_count": 95,
   "metadata": {},
   "outputs": [
    {
     "data": {
      "text/plain": [
       "1×3 Matrix{Vector{Int64}}:\n",
       " [1, 2, 3]  [4, 5, 6]  [7, 8, 9]"
      ]
     },
     "metadata": {},
     "output_type": "display_data"
    }
   ],
   "source": [
    "E = reshape(A, 1, 3)"
   ]
  },
  {
   "cell_type": "code",
   "execution_count": 97,
   "metadata": {},
   "outputs": [
    {
     "data": {
      "text/plain": [
       "3-element Vector{Int64}:\n",
       " 4\n",
       " 5\n",
       " 6"
      ]
     },
     "metadata": {},
     "output_type": "display_data"
    }
   ],
   "source": [
    "E[1,2]"
   ]
  },
  {
   "cell_type": "code",
   "execution_count": 34,
   "metadata": {},
   "outputs": [
    {
     "data": {
      "text/plain": [
       "3×3 Matrix{Int64}:\n",
       " 1  2  3\n",
       " 4  5  6\n",
       " 7  8  9"
      ]
     },
     "metadata": {},
     "output_type": "display_data"
    }
   ],
   "source": [
    "# Using square brackets to define a matrix\n",
    "A = [1 2 3;\n",
    "     4 5 6;\n",
    "     7 8 9]\n"
   ]
  },
  {
   "cell_type": "code",
   "execution_count": 38,
   "metadata": {},
   "outputs": [
    {
     "data": {
      "text/plain": [
       "3×3 Matrix{Int64}:\n",
       " 1  4  7\n",
       " 2  5  8\n",
       " 3  6  9"
      ]
     },
     "metadata": {},
     "output_type": "display_data"
    }
   ],
   "source": [
    "# Using the `reshape` function\n",
    "B = reshape([1, 2, 3, 4, 5, 6, 7, 8, 9], 3, 3)"
   ]
  },
  {
   "cell_type": "code",
   "execution_count": 39,
   "metadata": {},
   "outputs": [
    {
     "ename": "DimensionMismatch",
     "evalue": "DimensionMismatch: new dimensions (4, 3) must be consistent with array size 9",
     "output_type": "error",
     "traceback": [
      "DimensionMismatch: new dimensions (4, 3) must be consistent with array size 9\n",
      "\n",
      "Stacktrace:\n",
      " [1] (::Base.var\"#throw_dmrsa#318\")(dims::Tuple{Int64, Int64}, len::Int64)\n",
      "   @ Base ~/.julia/compiled/v1.9/Plots/ld3vC_zDkrv.dylib:-1\n",
      " [2] reshape\n",
      "   @ ./reshapedarray.jl:45 [inlined]\n",
      " [3] reshape(::Vector{Int64}, ::Int64, ::Int64)\n",
      "   @ Base ./reshapedarray.jl:117\n",
      " [4] top-level scope\n",
      "   @ ~/Introduction.jl/Classes/daytwo.ipynb:1"
     ]
    }
   ],
   "source": [
    "B = reshape([1, 2, 3, 4, 5, 6, 7, 8, 9], 4, 3)"
   ]
  },
  {
   "cell_type": "code",
   "execution_count": 44,
   "metadata": {},
   "outputs": [
    {
     "data": {
      "text/plain": [
       "2×5 Matrix{Float64}:\n",
       " 1.0  3.0  5.0  7.0   9.0\n",
       " 2.0  4.0  6.0  8.0  10.0"
      ]
     },
     "metadata": {},
     "output_type": "display_data"
    }
   ],
   "source": [
    "B = reshape([1, 2, 3, 4, 5, 6, 7, 8, 9.0, 10], 2, 5)"
   ]
  },
  {
   "cell_type": "code",
   "execution_count": 45,
   "metadata": {},
   "outputs": [
    {
     "data": {
      "text/plain": [
       "5×2 adjoint(::Matrix{Float64}) with eltype Float64:\n",
       " 1.0   2.0\n",
       " 3.0   4.0\n",
       " 5.0   6.0\n",
       " 7.0   8.0\n",
       " 9.0  10.0"
      ]
     },
     "metadata": {},
     "output_type": "display_data"
    }
   ],
   "source": [
    "B'"
   ]
  },
  {
   "cell_type": "code",
   "execution_count": 46,
   "metadata": {},
   "outputs": [
    {
     "data": {
      "text/plain": [
       "3×3 Matrix{Float64}:\n",
       " 0.0  0.0  0.0\n",
       " 0.0  0.0  0.0\n",
       " 0.0  0.0  0.0"
      ]
     },
     "metadata": {},
     "output_type": "display_data"
    }
   ],
   "source": [
    "# Using the `zeros` function to create a matrix of zeros\n",
    "C = zeros(3, 3)"
   ]
  },
  {
   "cell_type": "code",
   "execution_count": 47,
   "metadata": {},
   "outputs": [
    {
     "data": {
      "text/plain": [
       "5×5 Matrix{Int64}:\n",
       " 0  0  0  0  0\n",
       " 0  0  0  0  0\n",
       " 0  0  0  0  0\n",
       " 0  0  0  0  0\n",
       " 0  0  0  0  0"
      ]
     },
     "metadata": {},
     "output_type": "display_data"
    }
   ],
   "source": [
    "C = zeros(Int64, 5, 5)"
   ]
  },
  {
   "cell_type": "code",
   "execution_count": 49,
   "metadata": {},
   "outputs": [
    {
     "data": {
      "text/plain": [
       "3×3 Matrix{Float64}:\n",
       " 1.0  1.0  1.0\n",
       " 1.0  1.0  1.0\n",
       " 1.0  1.0  1.0"
      ]
     },
     "metadata": {},
     "output_type": "display_data"
    }
   ],
   "source": [
    "# Using the `ones` function to create a matrix of ones\n",
    "D = ones(3, 3)"
   ]
  },
  {
   "cell_type": "code",
   "execution_count": 61,
   "metadata": {},
   "outputs": [
    {
     "data": {
      "text/plain": [
       "3×3 Matrix{Float64}:\n",
       " 0.209572  0.995078  0.437085\n",
       " 0.636621  0.312977  0.57039\n",
       " 0.565149  0.407648  0.124798"
      ]
     },
     "metadata": {},
     "output_type": "display_data"
    }
   ],
   "source": [
    "# Using the `rand` function to create a matrix of random numbers\n",
    "E = rand(3, 3)"
   ]
  },
  {
   "attachments": {},
   "cell_type": "markdown",
   "metadata": {},
   "source": [
    "## Element extraction/parsing"
   ]
  },
  {
   "cell_type": "code",
   "execution_count": 62,
   "metadata": {},
   "outputs": [
    {
     "data": {
      "text/plain": [
       "3×3 Matrix{Int64}:\n",
       " 1  2  3\n",
       " 4  5  6\n",
       " 7  8  9"
      ]
     },
     "metadata": {},
     "output_type": "display_data"
    }
   ],
   "source": [
    "A = [1 2 3;\n",
    "     4 5 6;\n",
    "     7 8 9]"
   ]
  },
  {
   "cell_type": "code",
   "execution_count": 65,
   "metadata": {},
   "outputs": [
    {
     "data": {
      "text/plain": [
       "3-element Vector{Int64}:\n",
       " 3\n",
       " 6\n",
       " 9"
      ]
     },
     "metadata": {},
     "output_type": "display_data"
    }
   ],
   "source": [
    "A[:, 3]  # First column"
   ]
  },
  {
   "cell_type": "code",
   "execution_count": 66,
   "metadata": {},
   "outputs": [
    {
     "data": {
      "text/plain": [
       "3-element Vector{Int64}:\n",
       " 1\n",
       " 2\n",
       " 3"
      ]
     },
     "metadata": {},
     "output_type": "display_data"
    }
   ],
   "source": [
    "A[1, :]"
   ]
  },
  {
   "cell_type": "code",
   "execution_count": 67,
   "metadata": {},
   "outputs": [
    {
     "ename": "BoundsError",
     "evalue": "BoundsError: attempt to access 3×3 Matrix{Int64} at index [0, 1:3]",
     "output_type": "error",
     "traceback": [
      "BoundsError: attempt to access 3×3 Matrix{Int64} at index [0, 1:3]\n",
      "\n",
      "Stacktrace:\n",
      " [1] throw_boundserror(A::Matrix{Int64}, I::Tuple{Int64, Base.Slice{Base.OneTo{Int64}}})\n",
      "   @ Base ./abstractarray.jl:744\n",
      " [2] checkbounds\n",
      "   @ ./abstractarray.jl:709 [inlined]\n",
      " [3] _getindex\n",
      "   @ ./multidimensional.jl:860 [inlined]\n",
      " [4] getindex(::Matrix{Int64}, ::Int64, ::Function)\n",
      "   @ Base ./abstractarray.jl:1294\n",
      " [5] top-level scope\n",
      "   @ ~/Introduction.jl/Classes/daytwo.ipynb:1"
     ]
    }
   ],
   "source": [
    "A[0, :]"
   ]
  },
  {
   "cell_type": "code",
   "execution_count": 68,
   "metadata": {},
   "outputs": [
    {
     "data": {
      "text/plain": [
       "2×2 Matrix{Int64}:\n",
       " 5  6\n",
       " 7  8"
      ]
     },
     "metadata": {},
     "output_type": "display_data"
    }
   ],
   "source": [
    "A = [1 2;\n",
    "     3 4]\n",
    "\n",
    "B = [5 6;\n",
    "     7 8]"
   ]
  },
  {
   "cell_type": "code",
   "execution_count": 69,
   "metadata": {},
   "outputs": [
    {
     "data": {
      "text/plain": [
       "2×2 Matrix{Int64}:\n",
       "  6   8\n",
       " 10  12"
      ]
     },
     "metadata": {},
     "output_type": "display_data"
    }
   ],
   "source": [
    "# Matrix addition\n",
    "C = A + B  # [6 8; 10 12]"
   ]
  },
  {
   "cell_type": "code",
   "execution_count": 70,
   "metadata": {},
   "outputs": [
    {
     "data": {
      "text/plain": [
       "2×2 Matrix{Int64}:\n",
       " -4  -4\n",
       " -4  -4"
      ]
     },
     "metadata": {},
     "output_type": "display_data"
    }
   ],
   "source": [
    "# Matrix subtraction\n",
    "D = A - B  # [-4 -4; -4 -4]"
   ]
  },
  {
   "cell_type": "code",
   "execution_count": 71,
   "metadata": {},
   "outputs": [
    {
     "data": {
      "text/plain": [
       "2×2 Matrix{Int64}:\n",
       " 19  22\n",
       " 43  50"
      ]
     },
     "metadata": {},
     "output_type": "display_data"
    }
   ],
   "source": [
    "# Matrix multiplication\n",
    "E = A * B  # [19 22; 43 50]"
   ]
  },
  {
   "cell_type": "code",
   "execution_count": 72,
   "metadata": {},
   "outputs": [
    {
     "data": {
      "text/plain": [
       "2×2 Matrix{Int64}:\n",
       " 1  2\n",
       " 3  4"
      ]
     },
     "metadata": {},
     "output_type": "display_data"
    }
   ],
   "source": [
    "A"
   ]
  },
  {
   "cell_type": "code",
   "execution_count": 73,
   "metadata": {},
   "outputs": [
    {
     "data": {
      "text/plain": [
       "2×2 Matrix{Int64}:\n",
       " 2  4\n",
       " 6  8"
      ]
     },
     "metadata": {},
     "output_type": "display_data"
    }
   ],
   "source": [
    "2 * A"
   ]
  },
  {
   "cell_type": "code",
   "execution_count": 76,
   "metadata": {},
   "outputs": [
    {
     "data": {
      "text/plain": [
       "2-element Vector{Int64}:\n",
       " 1\n",
       " 2"
      ]
     },
     "metadata": {},
     "output_type": "display_data"
    }
   ],
   "source": [
    "[1; 2]"
   ]
  },
  {
   "cell_type": "code",
   "execution_count": 77,
   "metadata": {},
   "outputs": [
    {
     "data": {
      "text/plain": [
       "1×2 Matrix{Int64}:\n",
       " 1  2"
      ]
     },
     "metadata": {},
     "output_type": "display_data"
    }
   ],
   "source": [
    "[1 2]"
   ]
  },
  {
   "cell_type": "code",
   "execution_count": 75,
   "metadata": {},
   "outputs": [
    {
     "data": {
      "text/plain": [
       "2-element Vector{Int64}:\n",
       "  5\n",
       " 11"
      ]
     },
     "metadata": {},
     "output_type": "display_data"
    }
   ],
   "source": [
    "A * [1; 2]"
   ]
  },
  {
   "cell_type": "code",
   "execution_count": 78,
   "metadata": {},
   "outputs": [
    {
     "data": {
      "text/plain": [
       "2×2 adjoint(::Matrix{Int64}) with eltype Int64:\n",
       " 1  3\n",
       " 2  4"
      ]
     },
     "metadata": {},
     "output_type": "display_data"
    }
   ],
   "source": [
    "# Matrix transpose\n",
    "F = A'  # [1 3; 2 4]"
   ]
  },
  {
   "cell_type": "code",
   "execution_count": 79,
   "metadata": {},
   "outputs": [
    {
     "data": {
      "text/plain": [
       "2×2 Matrix{Int64}:\n",
       " 1  2\n",
       " 3  4"
      ]
     },
     "metadata": {},
     "output_type": "display_data"
    }
   ],
   "source": [
    "A"
   ]
  },
  {
   "cell_type": "code",
   "execution_count": 80,
   "metadata": {},
   "outputs": [
    {
     "data": {
      "text/plain": [
       "2×2 Matrix{Int64}:\n",
       " 5  6\n",
       " 7  8"
      ]
     },
     "metadata": {},
     "output_type": "display_data"
    }
   ],
   "source": [
    "B"
   ]
  },
  {
   "cell_type": "code",
   "execution_count": 81,
   "metadata": {},
   "outputs": [
    {
     "data": {
      "text/plain": [
       "2×4 Matrix{Int64}:\n",
       " 1  2  5  6\n",
       " 3  4  7  8"
      ]
     },
     "metadata": {},
     "output_type": "display_data"
    }
   ],
   "source": [
    "# Concatenating matrices horizontally\n",
    "C = hcat(A, B)  # [1 2 5 6; 3 4 7 8]"
   ]
  },
  {
   "cell_type": "code",
   "execution_count": 83,
   "metadata": {},
   "outputs": [
    {
     "data": {
      "text/plain": [
       "4×2 adjoint(::Matrix{Int64}) with eltype Int64:\n",
       " 1  3\n",
       " 2  4\n",
       " 5  7\n",
       " 6  8"
      ]
     },
     "metadata": {},
     "output_type": "display_data"
    }
   ],
   "source": [
    "C'"
   ]
  },
  {
   "cell_type": "code",
   "execution_count": 84,
   "metadata": {},
   "outputs": [
    {
     "data": {
      "text/plain": [
       "2×2 Matrix{Float64}:\n",
       "  4.5   9.0\n",
       " 13.5  18.0"
      ]
     },
     "metadata": {},
     "output_type": "display_data"
    }
   ],
   "source": [
    "4.5 * A"
   ]
  },
  {
   "cell_type": "code",
   "execution_count": 82,
   "metadata": {},
   "outputs": [
    {
     "data": {
      "text/plain": [
       "4×2 Matrix{Int64}:\n",
       " 1  2\n",
       " 3  4\n",
       " 5  6\n",
       " 7  8"
      ]
     },
     "metadata": {},
     "output_type": "display_data"
    }
   ],
   "source": [
    "# Concatenating matrices vertically\n",
    "D = vcat(A, B)  # [1 2; 3 4; 5 6; 7 8]"
   ]
  },
  {
   "attachments": {},
   "cell_type": "markdown",
   "metadata": {},
   "source": [
    "### Plots (The Particle in a Box model)"
   ]
  },
  {
   "cell_type": "code",
   "execution_count": 106,
   "metadata": {},
   "outputs": [],
   "source": [
    "# using Pkg\n",
    "# Pkg.add(\"Plots\")\n",
    "# using Plots"
   ]
  },
  {
   "cell_type": "code",
   "execution_count": 104,
   "metadata": {},
   "outputs": [],
   "source": [
    "#Pkg.add(\"Plots\")"
   ]
  },
  {
   "cell_type": "code",
   "execution_count": 148,
   "metadata": {},
   "outputs": [
    {
     "name": "stdout",
     "output_type": "stream",
     "text": [
      "[0.0, 0.044870073859038906, 0.08969496735717507, 0.13442954562629936, 0.1790287647380826, 0.22344771705939315, 0.2676416764704768, 0.3115661434003682, 0.3551768896341865, 0.39843000284719876, 0.44128193082080913, 0.48368952529595055, 0.5256100854197243, 0.5670014007415395, 0.6078217937154586, 0.6480301616659535, 0.6875860181748155, 0.7264495338475463, 0.7645815764181828, 0.8019437501521713, 0.8384984345076174, 0.874208822015983, 0.9090389553440873, 0.9429537635000929, 0.9759190971470215, 1.0079017629882427, 1.0388695571903088, 1.068791297809486, 1.0976368561893277, 1.125377187297679, 1.151984358972561, 1.17743158004749, 1.2016932273279126, 1.2247448713915892, 1.2465633011869517, 1.2671265474046651, 1.28641390459886, 1.3044059520357616, 1.3210845732487209, 1.3364329742799628, 1.350435700590677, 1.3630786526224292, 1.3743490999942203, 1.3842356943209022, 1.392728480640038, 1.3998189074357075, 1.405499835249157, 1.40976554386763, 1.4126117380841363, 1.4140355520223618, 1.4140355520223618, 1.4126117380841363, 1.40976554386763, 1.405499835249157, 1.3998189074357075, 1.392728480640038, 1.3842356943209022, 1.3743490999942203, 1.3630786526224294, 1.350435700590677, 1.3364329742799628, 1.3210845732487209, 1.3044059520357616, 1.2864139045988603, 1.2671265474046651, 1.2465633011869517, 1.2247448713915892, 1.2016932273279124, 1.17743158004749, 1.151984358972561, 1.1253771872976792, 1.0976368561893275, 1.068791297809486, 1.0388695571903093, 1.0079017629882432, 0.9759190971470215, 0.9429537635000929, 0.9090389553440876, 0.8742088220159835, 0.8384984345076174, 0.8019437501521716, 0.7645815764181831, 0.7264495338475463, 0.6875860181748155, 0.6480301616659537, 0.607821793715459, 0.5670014007415394, 0.5256100854197244, 0.4836895252959508, 0.4412819308208095, 0.39843000284719876, 0.3551768896341866, 0.3115661434003685, 0.26764167647047726, 0.22344771705939315, 0.17902876473808277, 0.13442954562629966, 0.08969496735717554, 0.04487007385903892, 1.7319121124709868e-16]\n",
      "[0.0, 0.08969496735717507, 0.1790287647380826, 0.2676416764704768, 0.3551768896341865, 0.44128193082080913, 0.5256100854197243, 0.6078217937154586, 0.6875860181748155, 0.7645815764181828, 0.8384984345076174, 0.9090389553440873, 0.9759190971470215, 1.0388695571903088, 1.0976368561893277, 1.151984358972561, 1.2016932273279126, 1.2465633011869517, 1.28641390459886, 1.3210845732487209, 1.350435700590677, 1.3743490999942203, 1.392728480640038, 1.405499835249157, 1.4126117380841363, 1.4140355520223618, 1.40976554386763, 1.3998189074357075, 1.3842356943209022, 1.3630786526224294, 1.3364329742799628, 1.3044059520357616, 1.2671265474046651, 1.2247448713915892, 1.17743158004749, 1.1253771872976792, 1.068791297809486, 1.0079017629882432, 0.9429537635000929, 0.8742088220159835, 0.8019437501521716, 0.7264495338475463, 0.6480301616659537, 0.5670014007415394, 0.4836895252959508, 0.39843000284719876, 0.3115661434003685, 0.22344771705939315, 0.13442954562629966, 0.04487007385903892, -0.04487007385903857, -0.1344295456262993, -0.22344771705939281, -0.3115661434003681, -0.3984300028471984, -0.48368952529595044, -0.567001400741539, -0.6480301616659534, -0.726449533847546, -0.8019437501521712, -0.8742088220159833, -0.9429537635000927, -1.007901762988243, -1.0687912978094858, -1.125377187297679, -1.17743158004749, -1.224744871391589, -1.2671265474046651, -1.3044059520357616, -1.3364329742799625, -1.363078652622429, -1.3842356943209022, -1.3998189074357075, -1.40976554386763, -1.4140355520223618, -1.4126117380841363, -1.405499835249157, -1.3927284806400382, -1.3743490999942207, -1.350435700590677, -1.3210845732487209, -1.2864139045988605, -1.2465633011869515, -1.2016932273279126, -1.151984358972561, -1.0976368561893282, -1.0388695571903088, -0.9759190971470217, -0.9090389553440877, -0.838498434507618, -0.7645815764181827, -0.6875860181748157, -0.6078217937154591, -0.5256100854197251, -0.44128193082080913, -0.3551768896341867, -0.26764167647047743, -0.17902876473808355, -0.08969496735717508, -3.4638242249419736e-16]\n",
      "[0.0, 0.13442954562629936, 0.2676416764704768, 0.39843000284719876, 0.5256100854197243, 0.6480301616659535, 0.7645815764181828, 0.874208822015983, 0.9759190971470215, 1.068791297809486, 1.151984358972561, 1.2247448713915892, 1.28641390459886, 1.3364329742799628, 1.3743490999942203, 1.3998189074357075, 1.4126117380841363, 1.4126117380841363, 1.3998189074357075, 1.3743490999942203, 1.3364329742799628, 1.2864139045988603, 1.2247448713915892, 1.151984358972561, 1.068791297809486, 0.9759190971470215, 0.8742088220159835, 0.7645815764181831, 0.6480301616659537, 0.5256100854197244, 0.39843000284719876, 0.26764167647047726, 0.13442954562629966, 1.7319121124709868e-16, -0.1344295456262993, -0.26764167647047693, -0.3984300028471984, -0.5256100854197241, -0.6480301616659534, -0.7645815764181828, -0.8742088220159833, -0.9759190971470214, -1.0687912978094858, -1.1519843589725607, -1.224744871391589, -1.2864139045988603, -1.3364329742799625, -1.3743490999942205, -1.3998189074357075, -1.4126117380841363, -1.4126117380841363, -1.3998189074357075, -1.3743490999942207, -1.336432974279963, -1.2864139045988605, -1.2247448713915892, -1.151984358972561, -1.0687912978094865, -0.9759190971470217, -0.8742088220159837, -0.7645815764181827, -0.6480301616659538, -0.5256100854197251, -0.3984300028471989, -0.26764167647047743, -0.13442954562629922, -3.4638242249419736e-16, 0.13442954562629852, 0.26764167647047676, 0.3984300028471982, 0.5256100854197244, 0.6480301616659533, 0.7645815764181823, 0.874208822015983, 0.9759190971470212, 1.068791297809486, 1.1519843589725607, 1.2247448713915887, 1.28641390459886, 1.3364329742799625, 1.3743490999942205, 1.3998189074357075, 1.4126117380841363, 1.4126117380841363, 1.3998189074357075, 1.3743490999942207, 1.336432974279963, 1.2864139045988598, 1.2247448713915898, 1.1519843589725611, 1.0687912978094858, 0.9759190971470227, 0.8742088220159837, 0.7645815764181828, 0.648030161665953, 0.5256100854197252, 0.3984300028471991, 0.2676416764704764, 0.13442954562630063, 5.19573633741296e-16]\n",
      "[0.0, 0.1790287647380826, 0.3551768896341865, 0.5256100854197243, 0.6875860181748155, 0.8384984345076174, 0.9759190971470215, 1.0976368561893277, 1.2016932273279126, 1.28641390459886, 1.350435700590677, 1.392728480640038, 1.4126117380841363, 1.40976554386763, 1.3842356943209022, 1.3364329742799628, 1.2671265474046651, 1.17743158004749, 1.068791297809486, 0.9429537635000929, 0.8019437501521716, 0.6480301616659537, 0.4836895252959508, 0.3115661434003685, 0.13442954562629966, -0.04487007385903857, -0.22344771705939281, -0.3984300028471984, -0.567001400741539, -0.726449533847546, -0.8742088220159833, -1.007901762988243, -1.125377187297679, -1.224744871391589, -1.3044059520357616, -1.363078652622429, -1.3998189074357075, -1.4140355520223618, -1.405499835249157, -1.3743490999942207, -1.3210845732487209, -1.2465633011869515, -1.151984358972561, -1.0388695571903088, -0.9090389553440877, -0.7645815764181827, -0.6078217937154591, -0.44128193082080913, -0.26764167647047743, -0.08969496735717508, 0.0896949673571744, 0.26764167647047676, 0.4412819308208085, 0.6078217937154585, 0.7645815764181823, 0.9090389553440872, 1.0388695571903084, 1.1519843589725607, 1.2465633011869512, 1.3210845732487209, 1.3743490999942205, 1.405499835249157, 1.4140355520223618, 1.3998189074357075, 1.3630786526224292, 1.3044059520357618, 1.2247448713915898, 1.1253771872976785, 1.007901762988243, 0.8742088220159837, 0.7264495338475475, 0.5670014007415392, 0.3984300028471991, 0.2234477170593941, 0.044870073859040516, -0.13442954562629958, -0.3115661434003678, -0.4836895252959495, -0.648030161665952, -0.8019437501521713, -0.9429537635000924, -1.0687912978094851, -1.1774315800474904, -1.2671265474046651, -1.3364329742799625, -1.3842356943209018, -1.40976554386763, -1.4126117380841363, -1.3927284806400382, -1.3504357005906775, -1.28641390459886, -1.2016932273279128, -1.0976368561893284, -0.9759190971470227, -0.8384984345076174, -0.6875860181748159, -0.5256100854197254, -0.3551768896341883, -0.17902876473808266, -6.927648449883947e-16]\n",
      "[0.0, 0.22344771705939315, 0.44128193082080913, 0.6480301616659535, 0.8384984345076174, 1.0079017629882427, 1.151984358972561, 1.2671265474046651, 1.350435700590677, "
     ]
    },
    {
     "name": "stdout",
     "output_type": "stream",
     "text": [
      "1.3998189074357075, 1.4140355520223618, 1.392728480640038, 1.3364329742799628, 1.2465633011869517, 1.1253771872976792, 0.9759190971470215, 0.8019437501521716, 0.607821793715459, 0.39843000284719876, 0.17902876473808277, -0.04487007385903857, -0.26764167647047693, -0.48368952529595044, -0.6875860181748151, -0.8742088220159833, -1.0388695571903088, -1.17743158004749, -1.2864139045988603, -1.363078652622429, -1.405499835249157, -1.4126117380841363, -1.3842356943209022, -1.3210845732487209, -1.2247448713915892, -1.0976368561893282, -0.9429537635000931, -0.7645815764181827, -0.56700140074154, -0.3551768896341867, -0.13442954562629922, 0.0896949673571744, 0.3115661434003679, 0.5256100854197244, 0.7264495338475457, 0.9090389553440872, 1.068791297809486, 1.2016932273279124, 1.3044059520357616, 1.3743490999942205, 1.40976554386763, 1.40976554386763, 1.3743490999942207, 1.3044059520357618, 1.2016932273279128, 1.0687912978094858, 0.909038955344087, 0.7264495338475475, 0.5256100854197252, 0.3115661434003688, 0.08969496735717526, -0.13442954562629958, -0.3551768896341871, -0.5670014007415382, -0.764581576418182, -0.9429537635000924, -1.0976368561893275, -1.2247448713915892, -1.3210845732487202, -1.3842356943209018, -1.4126117380841363, -1.405499835249157, -1.3630786526224294, -1.28641390459886, -1.177431580047491, -1.0388695571903097, -0.8742088220159838, -0.6875860181748159, -0.48368952529595066, -0.26764167647047654, -0.044870073859040696, 0.17902876473808127, 0.39843000284719793, 0.6078217937154582, 0.8019437501521712, 0.9759190971470219, 1.1253771872976779, 1.246563301186951, 1.3364329742799625, 1.392728480640038, 1.4140355520223618, 1.3998189074357075, 1.3504357005906775, 1.2671265474046656, 1.1519843589725614, 1.0079017629882432, 0.8384984345076175, 0.6480301616659533, 0.4412819308208108, 0.22344771705939445, 8.659560562354934e-16]\n",
      "[0.0, 0.2676416764704768, 0.5256100854197243, 0.7645815764181828, 0.9759190971470215, 1.151984358972561, 1.28641390459886, 1.3743490999942203, 1.4126117380841363, 1.3998189074357075, 1.3364329742799628, 1.2247448713915892, 1.068791297809486, 0.8742088220159835, 0.6480301616659537, 0.39843000284719876, 0.13442954562629966, -0.1344295456262993, -0.3984300028471984, -0.6480301616659534, -0.8742088220159833, -1.0687912978094858, -1.224744871391589, -1.3364329742799625, -1.3998189074357075, -1.4126117380841363, -1.3743490999942207, -1.2864139045988605, -1.151984358972561, -0.9759190971470217, -0.7645815764181827, -0.5256100854197251, -0.26764167647047743, -3.4638242249419736e-16, 0.26764167647047676, 0.5256100854197244, 0.7645815764181823, 0.9759190971470212, 1.1519843589725607, 1.28641390459886, 1.3743490999942205, 1.4126117380841363, 1.3998189074357075, 1.336432974279963, 1.2247448713915898, 1.0687912978094858, 0.8742088220159837, 0.648030161665953, 0.3984300028471991, 0.13442954562630063, -0.13442954562629958, -0.39843000284719804, -0.648030161665952, -0.8742088220159829, -1.0687912978094851, -1.2247448713915892, -1.3364329742799625, -1.3998189074357072, -1.4126117380841363, -1.3743490999942207, -1.28641390459886, -1.1519843589725614, -0.9759190971470227, -0.764581576418183, -0.5256100854197254, -0.26764167647047654, -6.927648449883947e-16, 0.26764167647047515, 0.5256100854197241, 0.7645815764181819, 0.9759190971470219, 1.1519843589725605, 1.2864139045988594, 1.3743490999942203, 1.4126117380841363, 1.3998189074357075, 1.336432974279963, 1.22474487139159, 1.068791297809486, 0.874208822015984, 0.6480301616659533, 0.3984300028471994, 0.134429545626301, -0.13442954562629925, -0.39843000284719776, -0.6480301616659516, -0.8742088220159826, -1.0687912978094865, -1.2247448713915878, -1.3364329742799625, -1.3998189074357075, -1.4126117380841365, -1.374349099994221, -1.2864139045988603, -1.1519843589725598, -0.9759190971470231, -0.7645815764181834, -0.5256100854197234, -0.2676416764704793, -1.039147267482592e-15]\n",
      "Any[\"n = 1\" \"n = 2\" \"n = 3\" \"n = 4\" \"n = 5\" \"n = 6\"]"
     ]
    },
    {
     "data": {
      "image/png": "[encoded data removed]",
      "image/svg+xml": [
       "<?xml version=\"1.0\" encoding=\"utf-8\"?>\n",
       "<svg xmlns=\"http://www.w3.org/2000/svg\" xmlns:xlink=\"http://www.w3.org/1999/xlink\" width=\"600\" height=\"400\" viewBox=\"0 0 2400 1600\">\n",
       "<defs>\n",
       "  <clipPath id=\"clip350\">\n",
       "    <rect x=\"0\" y=\"0\" width=\"2400\" height=\"1600\"/>\n",
       "  </clipPath>\n",
       "</defs>\n",
       "<path clip-path=\"url(#clip350)\" d=\"M0 1600 L2400 1600 L2400 0 L0 0  Z\" fill=\"#ffffff\" fill-rule=\"evenodd\" fill-opacity=\"1\"/>\n",
       "<defs>\n",
       "  <clipPath id=\"clip351\">\n",
       "    <rect x=\"480\" y=\"0\" width=\"1681\" height=\"1600\"/>\n",
       "  </clipPath>\n",
       "</defs>\n",
       "<path clip-path=\"url(#clip350)\" d=\"M242.516 1425.62 L2352.76 1425.62 L2352.76 121.675 L242.516 121.675  Z\" fill=\"#ffffff\" fill-rule=\"evenodd\" fill-opacity=\"1\"/>\n",
       "<defs>\n",
       "  <clipPath id=\"clip352\">\n",
       "    <rect x=\"242\" y=\"121\" width=\"2111\" height=\"1305\"/>\n",
       "  </clipPath>\n",
       "</defs>\n",
       "<polyline clip-path=\"url(#clip352)\" style=\"stroke:#000000; stroke-linecap:round; stroke-linejoin:round; stroke-width:2; stroke-opacity:0.1; fill:none\" points=\"302.24,1425.62 302.24,121.675 \"/>\n",
       "<polyline clip-path=\"url(#clip352)\" style=\"stroke:#000000; stroke-linecap:round; stroke-linejoin:round; stroke-width:2; stroke-opacity:0.1; fill:none\" points=\"799.938,1425.62 799.938,121.675 \"/>\n",
       "<polyline clip-path=\"url(#clip352)\" style=\"stroke:#000000; stroke-linecap:round; stroke-linejoin:round; stroke-width:2; stroke-opacity:0.1; fill:none\" points=\"1297.64,1425.62 1297.64,121.675 \"/>\n",
       "<polyline clip-path=\"url(#clip352)\" style=\"stroke:#000000; stroke-linecap:round; stroke-linejoin:round; stroke-width:2; stroke-opacity:0.1; fill:none\" points=\"1795.33,1425.62 1795.33,121.675 \"/>\n",
       "<polyline clip-path=\"url(#clip352)\" style=\"stroke:#000000; stroke-linecap:round; stroke-linejoin:round; stroke-width:2; stroke-opacity:0.1; fill:none\" points=\"2293.03,1425.62 2293.03,121.675 \"/>\n",
       "<polyline clip-path=\"url(#clip350)\" style=\"stroke:#000000; stroke-linecap:round; stroke-linejoin:round; stroke-width:4; stroke-opacity:1; fill:none\" points=\"242.516,1425.62 2352.76,1425.62 \"/>\n",
       "<polyline clip-path=\"url(#clip350)\" style=\"stroke:#000000; stroke-linecap:round; stroke-linejoin:round; stroke-width:4; stroke-opacity:1; fill:none\" points=\"302.24,1425.62 302.24,1406.72 \"/>\n",
       "<polyline clip-path=\"url(#clip350)\" style=\"stroke:#000000; stroke-linecap:round; stroke-linejoin:round; stroke-width:4; stroke-opacity:1; fill:none\" points=\"799.938,1425.62 799.938,1406.72 \"/>\n",
       "<polyline clip-path=\"url(#clip350)\" style=\"stroke:#000000; stroke-linecap:round; stroke-linejoin:round; stroke-width:4; stroke-opacity:1; fill:none\" points=\"1297.64,1425.62 1297.64,1406.72 \"/>\n",
       "<polyline clip-path=\"url(#clip350)\" style=\"stroke:#000000; stroke-linecap:round; stroke-linejoin:round; stroke-width:4; stroke-opacity:1; fill:none\" points=\"1795.33,1425.62 1795.33,1406.72 \"/>\n",
       "<polyline clip-path=\"url(#clip350)\" style=\"stroke:#000000; stroke-linecap:round; stroke-linejoin:round; stroke-width:4; stroke-opacity:1; fill:none\" points=\"2293.03,1425.62 2293.03,1406.72 \"/>\n",
       "<g clip-path=\"url(#clip350)\">\n",
       "<text style=\"fill:#000000; fill-opacity:1; font-family:Arial,Helvetica Neue,Helvetica,sans-serif; font-size:48px; text-anchor:middle;\" transform=\"rotate(0, 302.24, 1487.47)\" x=\"302.24\" y=\"1487.47\">0.00</text>\n",
       "</g>\n",
       "<g clip-path=\"url(#clip350)\">\n",
       "<text style=\"fill:#000000; fill-opacity:1; font-family:Arial,Helvetica Neue,Helvetica,sans-serif; font-size:48px; text-anchor:middle;\" transform=\"rotate(0, 799.938, 1487.47)\" x=\"799.938\" y=\"1487.47\">0.25</text>\n",
       "</g>\n",
       "<g clip-path=\"url(#clip350)\">\n",
       "<text style=\"fill:#000000; fill-opacity:1; font-family:Arial,Helvetica Neue,Helvetica,sans-serif; font-size:48px; text-anchor:middle;\" transform=\"rotate(0, 1297.64, 1487.47)\" x=\"1297.64\" y=\"1487.47\">0.50</text>\n",
       "</g>\n",
       "<g clip-path=\"url(#clip350)\">\n",
       "<text style=\"fill:#000000; fill-opacity:1; font-family:Arial,Helvetica Neue,Helvetica,sans-serif; font-size:48px; text-anchor:middle;\" transform=\"rotate(0, 1795.33, 1487.47)\" x=\"1795.33\" y=\"1487.47\">0.75</text>\n",
       "</g>\n",
       "<g clip-path=\"url(#clip350)\">\n",
       "<text style=\"fill:#000000; fill-opacity:1; font-family:Arial,Helvetica Neue,Helvetica,sans-serif; font-size:48px; text-anchor:middle;\" transform=\"rotate(0, 2293.03, 1487.47)\" x=\"2293.03\" y=\"1487.47\">1.00</text>\n",
       "</g>\n",
       "<g clip-path=\"url(#clip350)\">\n",
       "<text style=\"fill:#000000; fill-opacity:1; font-family:Arial,Helvetica Neue,Helvetica,sans-serif; font-size:66px; text-anchor:middle;\" transform=\"rotate(0, 1297.64, 1571.48)\" x=\"1297.64\" y=\"1571.48\">x (a.u.)</text>\n",
       "</g>\n",
       "<polyline clip-path=\"url(#clip352)\" style=\"stroke:#000000; stroke-linecap:round; stroke-linejoin:round; stroke-width:2; stroke-opacity:0.1; fill:none\" points=\"242.516,1208.62 2352.76,1208.62 \"/>\n",
       "<polyline clip-path=\"url(#clip352)\" style=\"stroke:#000000; stroke-linecap:round; stroke-linejoin:round; stroke-width:2; stroke-opacity:0.1; fill:none\" points=\"242.516,991.134 2352.76,991.134 \"/>\n",
       "<polyline clip-path=\"url(#clip352)\" style=\"stroke:#000000; stroke-linecap:round; stroke-linejoin:round; stroke-width:2; stroke-opacity:0.1; fill:none\" points=\"242.516,773.647 2352.76,773.647 \"/>\n",
       "<polyline clip-path=\"url(#clip352)\" style=\"stroke:#000000; stroke-linecap:round; stroke-linejoin:round; stroke-width:2; stroke-opacity:0.1; fill:none\" points=\"242.516,556.16 2352.76,556.16 \"/>\n",
       "<polyline clip-path=\"url(#clip352)\" style=\"stroke:#000000; stroke-linecap:round; stroke-linejoin:round; stroke-width:2; stroke-opacity:0.1; fill:none\" points=\"242.516,338.674 2352.76,338.674 \"/>\n",
       "<polyline clip-path=\"url(#clip350)\" style=\"stroke:#000000; stroke-linecap:round; stroke-linejoin:round; stroke-width:4; stroke-opacity:1; fill:none\" points=\"242.516,1425.62 242.516,121.675 \"/>\n",
       "<polyline clip-path=\"url(#clip350)\" style=\"stroke:#000000; stroke-linecap:round; stroke-linejoin:round; stroke-width:4; stroke-opacity:1; fill:none\" points=\"242.516,1208.62 261.414,1208.62 \"/>\n",
       "<polyline clip-path=\"url(#clip350)\" style=\"stroke:#000000; stroke-linecap:round; stroke-linejoin:round; stroke-width:4; stroke-opacity:1; fill:none\" points=\"242.516,991.134 261.414,991.134 \"/>\n",
       "<polyline clip-path=\"url(#clip350)\" style=\"stroke:#000000; stroke-linecap:round; stroke-linejoin:round; stroke-width:4; stroke-opacity:1; fill:none\" points=\"242.516,773.647 261.414,773.647 \"/>\n",
       "<polyline clip-path=\"url(#clip350)\" style=\"stroke:#000000; stroke-linecap:round; stroke-linejoin:round; stroke-width:4; stroke-opacity:1; fill:none\" points=\"242.516,556.16 261.414,556.16 \"/>\n",
       "<polyline clip-path=\"url(#clip350)\" style=\"stroke:#000000; stroke-linecap:round; stroke-linejoin:round; stroke-width:4; stroke-opacity:1; fill:none\" points=\"242.516,338.674 261.414,338.674 \"/>\n",
       "<g clip-path=\"url(#clip350)\">\n",
       "<text style=\"fill:#000000; fill-opacity:1; font-family:Arial,Helvetica Neue,Helvetica,sans-serif; font-size:48px; text-anchor:middle;\" transform=\"rotate(0, 159.682, 1226.12)\" x=\"159.682\" y=\"1226.12\">−1.0</text>\n",
       "</g>\n",
       "<g clip-path=\"url(#clip350)\">\n",
       "<text style=\"fill:#000000; fill-opacity:1; font-family:Arial,Helvetica Neue,Helvetica,sans-serif; font-size:48px; text-anchor:middle;\" transform=\"rotate(0, 159.682, 1008.63)\" x=\"159.682\" y=\"1008.63\">−0.5</text>\n",
       "</g>\n",
       "<g clip-path=\"url(#clip350)\">\n",
       "<text style=\"fill:#000000; fill-opacity:1; font-family:Arial,Helvetica Neue,Helvetica,sans-serif; font-size:48px; text-anchor:middle;\" transform=\"rotate(0, 173.064, 791.147)\" x=\"173.064\" y=\"791.147\">0.0</text>\n",
       "</g>\n",
       "<g clip-path=\"url(#clip350)\">\n",
       "<text style=\"fill:#000000; fill-opacity:1; font-family:Arial,Helvetica Neue,Helvetica,sans-serif; font-size:48px; text-anchor:middle;\" transform=\"rotate(0, 173.064, 573.66)\" x=\"173.064\" y=\"573.66\">0.5</text>\n",
       "</g>\n",
       "<g clip-path=\"url(#clip350)\">\n",
       "<text style=\"fill:#000000; fill-opacity:1; font-family:Arial,Helvetica Neue,Helvetica,sans-serif; font-size:48px; text-anchor:middle;\" transform=\"rotate(0, 173.064, 356.174)\" x=\"173.064\" y=\"356.174\">1.0</text>\n",
       "</g>\n",
       "<g clip-path=\"url(#clip350)\">\n",
       "<text style=\"fill:#000000; fill-opacity:1; font-family:Arial,Helvetica Neue,Helvetica,sans-serif; font-size:66px; text-anchor:middle;\" transform=\"rotate(-90, 65.2861, 773.647)\" x=\"65.2861\" y=\"773.647\">ψ(x)</text>\n",
       "</g>\n",
       "<g clip-path=\"url(#clip350)\">\n",
       "<text style=\"fill:#000000; fill-opacity:1; font-family:Arial,Helvetica Neue,Helvetica,sans-serif; font-size:84px; text-anchor:middle;\" transform=\"rotate(0, 1297.64, 73.2)\" x=\"1297.64\" y=\"73.2\">Particle in a Box Wavefunctions</text>\n",
       "</g>\n",
       "<polyline clip-path=\"url(#clip352)\" style=\"stroke:#ff0000; stroke-linecap:round; stroke-linejoin:round; stroke-width:12; stroke-opacity:1; fill:none\" points=\"302.24,773.647 322.349,754.13 342.458,734.632 362.567,715.174 382.676,695.774 402.785,676.453 422.894,657.23 443.003,638.124 463.112,619.154 483.221,600.34 503.33,581.701 523.439,563.255 543.548,545.021 563.657,527.016 583.766,509.261 603.875,491.771 623.984,474.565 644.093,457.661 664.202,441.074 684.311,424.823 704.42,408.922 724.529,393.389 744.638,378.239 764.747,363.487 784.856,349.148 804.965,335.237 825.074,321.766 845.183,308.751 865.292,296.204 885.401,284.138 905.51,272.564 925.619,261.496 945.728,250.942 965.838,240.916 985.947,231.425 1006.06,222.481 1026.16,214.091 1046.27,206.265 1066.38,199.01 1086.49,192.334 1106.6,186.243 1126.71,180.744 1146.82,175.842 1166.93,171.541 1187.04,167.847 1207.15,164.763 1227.25,162.292 1247.36,160.437 1267.47,159.199 1287.58,158.579 1307.69,158.579 1327.8,159.199 1347.91,160.437 1368.02,162.292 1388.13,164.763 1408.24,167.847 1428.34,171.541 1448.45,175.842 1468.56,180.744 1488.67,186.243 1508.78,192.334 1528.89,199.01 1549,206.265 1569.11,214.091 1589.22,222.481 1609.33,231.425 1629.43,240.916 1649.54,250.942 1669.65,261.496 1689.76,272.564 1709.87,284.138 1729.98,296.204 1750.09,308.751 1770.2,321.766 1790.31,335.237 1810.42,349.148 1830.52,363.487 1850.63,378.239 1870.74,393.389 1890.85,408.922 1910.96,424.823 1931.07,441.074 1951.18,457.661 1971.29,474.565 1991.4,491.771 2011.51,509.261 2031.62,527.016 2051.72,545.021 2071.83,563.255 2091.94,581.701 2112.05,600.34 2132.16,619.154 2152.27,638.124 2172.38,657.23 2192.49,676.453 2212.6,695.774 2232.71,715.174 2252.81,734.632 2272.92,754.13 2293.03,773.647 \"/>\n",
       "<polyline clip-path=\"url(#clip352)\" style=\"stroke:#008000; stroke-linecap:round; stroke-linejoin:round; stroke-width:12; stroke-opacity:1; fill:none\" points=\"302.24,773.647 322.349,734.632 342.458,695.774 362.567,657.23 382.676,619.154 402.785,581.701 422.894,545.021 443.003,509.261 463.112,474.565 483.221,441.074 503.33,408.922 523.439,378.239 543.548,349.148 563.657,321.766 583.766,296.204 603.875,272.564 623.984,250.942 644.093,231.425 664.202,214.091 684.311,199.01 704.42,186.243 724.529,175.842 744.638,167.847 764.747,162.292 784.856,159.199 804.965,158.579 825.074,160.437 845.183,164.763 865.292,171.541 885.401,180.744 905.51,192.334 925.619,206.265 945.728,222.481 965.838,240.916 985.947,261.496 1006.06,284.138 1026.16,308.751 1046.27,335.237 1066.38,363.487 1086.49,393.389 1106.6,424.823 1126.71,457.661 1146.82,491.771 1166.93,527.016 1187.04,563.255 1207.15,600.34 1227.25,638.124 1247.36,676.453 1267.47,715.174 1287.58,754.13 1307.69,793.164 1327.8,832.12 1347.91,870.841 1368.02,909.17 1388.13,946.953 1408.24,984.039 1428.34,1020.28 1448.45,1055.52 1468.56,1089.63 1488.67,1122.47 1508.78,1153.9 1528.89,1183.81 1549,1212.06 1569.11,1238.54 1589.22,1263.16 1609.33,1285.8 1629.43,1306.38 1649.54,1324.81 1669.65,1341.03 1689.76,1354.96 1709.87,1366.55 1729.98,1375.75 1750.09,1382.53 1770.2,1386.86 1790.31,1388.71 1810.42,1388.1 1830.52,1385 1850.63,1379.45 1870.74,1371.45 1890.85,1361.05 1910.96,1348.28 1931.07,1333.2 1951.18,1315.87 1971.29,1296.35 1991.4,1274.73 2011.51,1251.09 2031.62,1225.53 2051.72,1198.15 2071.83,1169.05 2091.94,1138.37 2112.05,1106.22 2132.16,1072.73 2152.27,1038.03 2172.38,1002.27 2192.49,965.593 2212.6,928.139 2232.71,890.064 2252.81,851.52 2272.92,812.662 2293.03,773.647 \"/>\n",
       "<polyline clip-path=\"url(#clip352)\" style=\"stroke:#0000ff; stroke-linecap:round; stroke-linejoin:round; stroke-width:12; stroke-opacity:1; fill:none\" points=\"302.24,773.647 322.349,715.174 342.458,657.23 362.567,600.34 382.676,545.021 402.785,491.771 422.894,441.074 443.003,393.389 463.112,349.148 483.221,308.751 503.33,272.564 523.439,240.916 543.548,214.091 563.657,192.334 583.766,175.842 603.875,164.763 623.984,159.199 644.093,159.199 664.202,164.763 684.311,175.842 704.42,192.334 724.529,214.091 744.638,240.916 764.747,272.564 784.856,308.751 804.965,349.148 825.074,393.389 845.183,441.074 865.292,491.771 885.401,545.021 905.51,600.34 925.619,657.23 945.728,715.174 965.838,773.647 985.947,832.12 1006.06,890.064 1026.16,946.953 1046.27,1002.27 1066.38,1055.52 1086.49,1106.22 1106.6,1153.9 1126.71,1198.15 1146.82,1238.54 1166.93,1274.73 1187.04,1306.38 1207.15,1333.2 1227.25,1354.96 1247.36,1371.45 1267.47,1382.53 1287.58,1388.1 1307.69,1388.1 1327.8,1382.53 1347.91,1371.45 1368.02,1354.96 1388.13,1333.2 1408.24,1306.38 1428.34,1274.73 1448.45,1238.54 1468.56,1198.15 1488.67,1153.9 1508.78,1106.22 1528.89,1055.52 1549,1002.27 1569.11,946.953 1589.22,890.064 1609.33,832.12 1629.43,773.647 1649.54,715.174 1669.65,657.23 1689.76,600.34 1709.87,545.021 1729.98,491.771 1750.09,441.074 1770.2,393.389 1790.31,349.148 1810.42,308.751 1830.52,272.564 1850.63,240.916 1870.74,214.091 1890.85,192.334 1910.96,175.842 1931.07,164.763 1951.18,159.199 1971.29,159.199 1991.4,164.763 2011.51,175.842 2031.62,192.334 2051.72,214.091 2071.83,240.916 2091.94,272.564 2112.05,308.751 2132.16,349.148 2152.27,393.389 2172.38,441.074 2192.49,491.771 2212.6,545.021 2232.71,600.34 2252.81,657.23 2272.92,715.174 2293.03,773.647 \"/>\n",
       "<polyline clip-path=\"url(#clip352)\" style=\"stroke:#ffa500; stroke-linecap:round; stroke-linejoin:round; stroke-width:12; stroke-opacity:1; fill:none\" points=\"302.24,773.647 322.349,695.774 342.458,619.154 362.567,545.021 382.676,474.565 402.785,408.922 422.894,349.148 443.003,296.204 463.112,250.942 483.221,214.091 503.33,186.243 523.439,167.847 543.548,159.199 563.657,160.437 583.766,171.541 603.875,192.334 623.984,222.481 644.093,261.496 664.202,308.751 684.311,363.487 704.42,424.823 724.529,491.771 744.638,563.255 764.747,638.124 784.856,715.174 804.965,793.164 825.074,870.841 845.183,946.953 865.292,1020.28 885.401,1089.63 905.51,1153.9 925.619,1212.06 945.728,1263.16 965.838,1306.38 985.947,1341.03 1006.06,1366.55 1026.16,1382.53 1046.27,1388.71 1066.38,1385 1086.49,1371.45 1106.6,1348.28 1126.71,1315.87 1146.82,1274.73 1166.93,1225.53 1187.04,1169.05 1207.15,1106.22 1227.25,1038.03 1247.36,965.593 1267.47,890.064 1287.58,812.662 1307.69,734.632 1327.8,657.23 1347.91,581.701 1368.02,509.261 1388.13,441.074 1408.24,378.239 1428.34,321.766 1448.45,272.564 1468.56,231.425 1488.67,199.01 1508.78,175.842 1528.89,162.292 1549,158.579 1569.11,164.763 1589.22,180.744 1609.33,206.265 1629.43,240.916 1649.54,284.138 1669.65,335.237 1689.76,393.389 1709.87,457.661 1729.98,527.016 1750.09,600.34 1770.2,676.453 1790.31,754.13 1810.42,832.12 1830.52,909.17 1850.63,984.039 1870.74,1055.52 1890.85,1122.47 1910.96,1183.81 1931.07,1238.54 1951.18,1285.8 1971.29,1324.81 1991.4,1354.96 2011.51,1375.75 2031.62,1386.86 2051.72,1388.1 2071.83,1379.45 2091.94,1361.05 2112.05,1333.2 2132.16,1296.35 2152.27,1251.09 2172.38,1198.15 2192.49,1138.37 2212.6,1072.73 2232.71,1002.27 2252.81,928.139 2272.92,851.52 2293.03,773.647 \"/>\n",
       "<polyline clip-path=\"url(#clip352)\" style=\"stroke:#800080; stroke-linecap:round; stroke-linejoin:round; stroke-width:12; stroke-opacity:1; fill:none\" points=\"302.24,773.647 322.349,676.453 342.458,581.701 362.567,491.771 382.676,408.922 402.785,335.237 422.894,272.564 443.003,222.481 463.112,186.243 483.221,164.763 503.33,158.579 523.439,167.847 543.548,192.334 563.657,231.425 583.766,284.138 603.875,349.148 623.984,424.823 644.093,509.261 664.202,600.34 684.311,695.774 704.42,793.164 724.529,890.064 744.638,984.039 764.747,1072.73 784.856,1153.9 804.965,1225.53 825.074,1285.8 845.183,1333.2 865.292,1366.55 885.401,1385 905.51,1388.1 925.619,1375.75 945.728,1348.28 965.838,1306.38 985.947,1251.09 1006.06,1183.81 1026.16,1106.22 1046.27,1020.28 1066.38,928.139 1086.49,832.12 1106.6,734.632 1126.71,638.124 1146.82,545.021 1166.93,457.661 1187.04,378.239 1207.15,308.751 1227.25,250.942 1247.36,206.265 1267.47,175.842 1287.58,160.437 1307.69,160.437 1327.8,175.842 1347.91,206.265 1368.02,250.942 1388.13,308.751 1408.24,378.239 1428.34,457.661 1448.45,545.021 1468.56,638.124 1488.67,734.632 1508.78,832.12 1528.89,928.139 1549,1020.28 1569.11,1106.22 1589.22,1183.81 1609.33,1251.09 1629.43,1306.38 1649.54,1348.28 1669.65,1375.75 1689.76,1388.1 1709.87,1385 1729.98,1366.55 1750.09,1333.2 1770.2,1285.8 1790.31,1225.53 1810.42,1153.9 1830.52,1072.73 1850.63,984.039 1870.74,890.064 1890.85,793.164 1910.96,695.774 1931.07,600.34 1951.18,509.261 1971.29,424.823 1991.4,349.148 2011.51,284.138 2031.62,231.425 2051.72,192.334 2071.83,167.847 2091.94,158.579 2112.05,164.763 2132.16,186.243 2152.27,222.481 2172.38,272.564 2192.49,335.237 2212.6,408.922 2232.71,491.771 2252.81,581.701 2272.92,676.453 2293.03,773.647 \"/>\n",
       "<polyline clip-path=\"url(#clip352)\" style=\"stroke:#000000; stroke-linecap:round; stroke-linejoin:round; stroke-width:12; stroke-opacity:1; fill:none\" points=\"302.24,773.647 322.349,657.23 342.458,545.021 362.567,441.074 382.676,349.148 402.785,272.564 422.894,214.091 443.003,175.842 463.112,159.199 483.221,164.763 503.33,192.334 523.439,240.916 543.548,308.751 563.657,393.389 583.766,491.771 603.875,600.34 623.984,715.174 644.093,832.12 664.202,946.953 684.311,1055.52 704.42,1153.9 724.529,1238.54 744.638,1306.38 764.747,1354.96 784.856,1382.53 804.965,1388.1 825.074,1371.45 845.183,1333.2 865.292,1274.73 885.401,1198.15 905.51,1106.22 925.619,1002.27 945.728,890.064 965.838,773.647 985.947,657.23 1006.06,545.021 1026.16,441.074 1046.27,349.148 1066.38,272.564 1086.49,214.091 1106.6,175.842 1126.71,159.199 1146.82,164.763 1166.93,192.334 1187.04,240.916 1207.15,308.751 1227.25,393.389 1247.36,491.771 1267.47,600.34 1287.58,715.174 1307.69,832.12 1327.8,946.953 1347.91,1055.52 1368.02,1153.9 1388.13,1238.54 1408.24,1306.38 1428.34,1354.96 1448.45,1382.53 1468.56,1388.1 1488.67,1371.45 1508.78,1333.2 1528.89,1274.73 1549,1198.15 1569.11,1106.22 1589.22,1002.27 1609.33,890.064 1629.43,773.647 1649.54,657.23 1669.65,545.021 1689.76,441.074 1709.87,349.148 1729.98,272.564 1750.09,214.091 1770.2,175.842 1790.31,159.199 1810.42,164.763 1830.52,192.334 1850.63,240.916 1870.74,308.751 1890.85,393.389 1910.96,491.771 1931.07,600.34 1951.18,715.174 1971.29,832.12 1991.4,946.953 2011.51,1055.52 2031.62,1153.9 2051.72,1238.54 2071.83,1306.38 2091.94,1354.96 2112.05,1382.53 2132.16,1388.1 2152.27,1371.45 2172.38,1333.2 2192.49,1274.73 2212.6,1198.15 2232.71,1106.22 2252.81,1002.27 2272.92,890.064 2293.03,773.647 \"/>\n",
       "<path clip-path=\"url(#clip350)\" d=\"M1962.99 517.238 L2282.41 517.238 L2282.41 165.14 L1962.99 165.14  Z\" fill=\"#ffffff\" fill-rule=\"evenodd\" fill-opacity=\"1\"/>\n",
       "<polyline clip-path=\"url(#clip350)\" style=\"stroke:#000000; stroke-linecap:round; stroke-linejoin:round; stroke-width:4; stroke-opacity:1; fill:none\" points=\"1962.99,517.238 2282.41,517.238 2282.41,165.14 1962.99,165.14 1962.99,517.238 \"/>\n",
       "<polyline clip-path=\"url(#clip350)\" style=\"stroke:#ff0000; stroke-linecap:round; stroke-linejoin:round; stroke-width:12; stroke-opacity:1; fill:none\" points=\"1986.44,215.44 2127.12,215.44 \"/>\n",
       "<g clip-path=\"url(#clip350)\">\n",
       "<text style=\"fill:#000000; fill-opacity:1; font-family:Arial,Helvetica Neue,Helvetica,sans-serif; font-size:48px; text-anchor:start;\" transform=\"rotate(0, 2150.57, 232.94)\" x=\"2150.57\" y=\"232.94\">n = 1</text>\n",
       "</g>\n",
       "<polyline clip-path=\"url(#clip350)\" style=\"stroke:#008000; stroke-linecap:round; stroke-linejoin:round; stroke-width:12; stroke-opacity:1; fill:none\" points=\"1986.44,265.739 2127.12,265.739 \"/>\n",
       "<g clip-path=\"url(#clip350)\">\n",
       "<text style=\"fill:#000000; fill-opacity:1; font-family:Arial,Helvetica Neue,Helvetica,sans-serif; font-size:48px; text-anchor:start;\" transform=\"rotate(0, 2150.57, 283.239)\" x=\"2150.57\" y=\"283.239\">n = 2</text>\n",
       "</g>\n",
       "<polyline clip-path=\"url(#clip350)\" style=\"stroke:#0000ff; stroke-linecap:round; stroke-linejoin:round; stroke-width:12; stroke-opacity:1; fill:none\" points=\"1986.44,316.039 2127.12,316.039 \"/>\n",
       "<g clip-path=\"url(#clip350)\">\n",
       "<text style=\"fill:#000000; fill-opacity:1; font-family:Arial,Helvetica Neue,Helvetica,sans-serif; font-size:48px; text-anchor:start;\" transform=\"rotate(0, 2150.57, 333.539)\" x=\"2150.57\" y=\"333.539\">n = 3</text>\n",
       "</g>\n",
       "<polyline clip-path=\"url(#clip350)\" style=\"stroke:#ffa500; stroke-linecap:round; stroke-linejoin:round; stroke-width:12; stroke-opacity:1; fill:none\" points=\"1986.44,366.339 2127.12,366.339 \"/>\n",
       "<g clip-path=\"url(#clip350)\">\n",
       "<text style=\"fill:#000000; fill-opacity:1; font-family:Arial,Helvetica Neue,Helvetica,sans-serif; font-size:48px; text-anchor:start;\" transform=\"rotate(0, 2150.57, 383.839)\" x=\"2150.57\" y=\"383.839\">n = 4</text>\n",
       "</g>\n",
       "<polyline clip-path=\"url(#clip350)\" style=\"stroke:#800080; stroke-linecap:round; stroke-linejoin:round; stroke-width:12; stroke-opacity:1; fill:none\" points=\"1986.44,416.639 2127.12,416.639 \"/>\n",
       "<g clip-path=\"url(#clip350)\">\n",
       "<text style=\"fill:#000000; fill-opacity:1; font-family:Arial,Helvetica Neue,Helvetica,sans-serif; font-size:48px; text-anchor:start;\" transform=\"rotate(0, 2150.57, 434.139)\" x=\"2150.57\" y=\"434.139\">n = 5</text>\n",
       "</g>\n",
       "<polyline clip-path=\"url(#clip350)\" style=\"stroke:#000000; stroke-linecap:round; stroke-linejoin:round; stroke-width:12; stroke-opacity:1; fill:none\" points=\"1986.44,466.938 2127.12,466.938 \"/>\n",
       "<g clip-path=\"url(#clip350)\">\n",
       "<text style=\"fill:#000000; fill-opacity:1; font-family:Arial,Helvetica Neue,Helvetica,sans-serif; font-size:48px; text-anchor:start;\" transform=\"rotate(0, 2150.57, 484.438)\" x=\"2150.57\" y=\"484.438\">n = 6</text>\n",
       "</g>\n",
       "</svg>\n"
      ],
      "text/html": [
       "<?xml version=\"1.0\" encoding=\"utf-8\"?>\n",
       "<svg xmlns=\"http://www.w3.org/2000/svg\" xmlns:xlink=\"http://www.w3.org/1999/xlink\" width=\"600\" height=\"400\" viewBox=\"0 0 2400 1600\">\n",
       "<defs>\n",
       "  <clipPath id=\"clip400\">\n",
       "    <rect x=\"0\" y=\"0\" width=\"2400\" height=\"1600\"/>\n",
       "  </clipPath>\n",
       "</defs>\n",
       "<path clip-path=\"url(#clip400)\" d=\"M0 1600 L2400 1600 L2400 0 L0 0  Z\" fill=\"#ffffff\" fill-rule=\"evenodd\" fill-opacity=\"1\"/>\n",
       "<defs>\n",
       "  <clipPath id=\"clip401\">\n",
       "    <rect x=\"480\" y=\"0\" width=\"1681\" height=\"1600\"/>\n",
       "  </clipPath>\n",
       "</defs>\n",
       "<path clip-path=\"url(#clip400)\" d=\"M242.516 1425.62 L2352.76 1425.62 L2352.76 121.675 L242.516 121.675  Z\" fill=\"#ffffff\" fill-rule=\"evenodd\" fill-opacity=\"1\"/>\n",
       "<defs>\n",
       "  <clipPath id=\"clip402\">\n",
       "    <rect x=\"242\" y=\"121\" width=\"2111\" height=\"1305\"/>\n",
       "  </clipPath>\n",
       "</defs>\n",
       "<polyline clip-path=\"url(#clip402)\" style=\"stroke:#000000; stroke-linecap:round; stroke-linejoin:round; stroke-width:2; stroke-opacity:0.1; fill:none\" points=\"302.24,1425.62 302.24,121.675 \"/>\n",
       "<polyline clip-path=\"url(#clip402)\" style=\"stroke:#000000; stroke-linecap:round; stroke-linejoin:round; stroke-width:2; stroke-opacity:0.1; fill:none\" points=\"799.938,1425.62 799.938,121.675 \"/>\n",
       "<polyline clip-path=\"url(#clip402)\" style=\"stroke:#000000; stroke-linecap:round; stroke-linejoin:round; stroke-width:2; stroke-opacity:0.1; fill:none\" points=\"1297.64,1425.62 1297.64,121.675 \"/>\n",
       "<polyline clip-path=\"url(#clip402)\" style=\"stroke:#000000; stroke-linecap:round; stroke-linejoin:round; stroke-width:2; stroke-opacity:0.1; fill:none\" points=\"1795.33,1425.62 1795.33,121.675 \"/>\n",
       "<polyline clip-path=\"url(#clip402)\" style=\"stroke:#000000; stroke-linecap:round; stroke-linejoin:round; stroke-width:2; stroke-opacity:0.1; fill:none\" points=\"2293.03,1425.62 2293.03,121.675 \"/>\n",
       "<polyline clip-path=\"url(#clip400)\" style=\"stroke:#000000; stroke-linecap:round; stroke-linejoin:round; stroke-width:4; stroke-opacity:1; fill:none\" points=\"242.516,1425.62 2352.76,1425.62 \"/>\n",
       "<polyline clip-path=\"url(#clip400)\" style=\"stroke:#000000; stroke-linecap:round; stroke-linejoin:round; stroke-width:4; stroke-opacity:1; fill:none\" points=\"302.24,1425.62 302.24,1406.72 \"/>\n",
       "<polyline clip-path=\"url(#clip400)\" style=\"stroke:#000000; stroke-linecap:round; stroke-linejoin:round; stroke-width:4; stroke-opacity:1; fill:none\" points=\"799.938,1425.62 799.938,1406.72 \"/>\n",
       "<polyline clip-path=\"url(#clip400)\" style=\"stroke:#000000; stroke-linecap:round; stroke-linejoin:round; stroke-width:4; stroke-opacity:1; fill:none\" points=\"1297.64,1425.62 1297.64,1406.72 \"/>\n",
       "<polyline clip-path=\"url(#clip400)\" style=\"stroke:#000000; stroke-linecap:round; stroke-linejoin:round; stroke-width:4; stroke-opacity:1; fill:none\" points=\"1795.33,1425.62 1795.33,1406.72 \"/>\n",
       "<polyline clip-path=\"url(#clip400)\" style=\"stroke:#000000; stroke-linecap:round; stroke-linejoin:round; stroke-width:4; stroke-opacity:1; fill:none\" points=\"2293.03,1425.62 2293.03,1406.72 \"/>\n",
       "<g clip-path=\"url(#clip400)\">\n",
       "<text style=\"fill:#000000; fill-opacity:1; font-family:Arial,Helvetica Neue,Helvetica,sans-serif; font-size:48px; text-anchor:middle;\" transform=\"rotate(0, 302.24, 1487.47)\" x=\"302.24\" y=\"1487.47\">0.00</text>\n",
       "</g>\n",
       "<g clip-path=\"url(#clip400)\">\n",
       "<text style=\"fill:#000000; fill-opacity:1; font-family:Arial,Helvetica Neue,Helvetica,sans-serif; font-size:48px; text-anchor:middle;\" transform=\"rotate(0, 799.938, 1487.47)\" x=\"799.938\" y=\"1487.47\">0.25</text>\n",
       "</g>\n",
       "<g clip-path=\"url(#clip400)\">\n",
       "<text style=\"fill:#000000; fill-opacity:1; font-family:Arial,Helvetica Neue,Helvetica,sans-serif; font-size:48px; text-anchor:middle;\" transform=\"rotate(0, 1297.64, 1487.47)\" x=\"1297.64\" y=\"1487.47\">0.50</text>\n",
       "</g>\n",
       "<g clip-path=\"url(#clip400)\">\n",
       "<text style=\"fill:#000000; fill-opacity:1; font-family:Arial,Helvetica Neue,Helvetica,sans-serif; font-size:48px; text-anchor:middle;\" transform=\"rotate(0, 1795.33, 1487.47)\" x=\"1795.33\" y=\"1487.47\">0.75</text>\n",
       "</g>\n",
       "<g clip-path=\"url(#clip400)\">\n",
       "<text style=\"fill:#000000; fill-opacity:1; font-family:Arial,Helvetica Neue,Helvetica,sans-serif; font-size:48px; text-anchor:middle;\" transform=\"rotate(0, 2293.03, 1487.47)\" x=\"2293.03\" y=\"1487.47\">1.00</text>\n",
       "</g>\n",
       "<g clip-path=\"url(#clip400)\">\n",
       "<text style=\"fill:#000000; fill-opacity:1; font-family:Arial,Helvetica Neue,Helvetica,sans-serif; font-size:66px; text-anchor:middle;\" transform=\"rotate(0, 1297.64, 1571.48)\" x=\"1297.64\" y=\"1571.48\">x (a.u.)</text>\n",
       "</g>\n",
       "<polyline clip-path=\"url(#clip402)\" style=\"stroke:#000000; stroke-linecap:round; stroke-linejoin:round; stroke-width:2; stroke-opacity:0.1; fill:none\" points=\"242.516,1208.62 2352.76,1208.62 \"/>\n",
       "<polyline clip-path=\"url(#clip402)\" style=\"stroke:#000000; stroke-linecap:round; stroke-linejoin:round; stroke-width:2; stroke-opacity:0.1; fill:none\" points=\"242.516,991.134 2352.76,991.134 \"/>\n",
       "<polyline clip-path=\"url(#clip402)\" style=\"stroke:#000000; stroke-linecap:round; stroke-linejoin:round; stroke-width:2; stroke-opacity:0.1; fill:none\" points=\"242.516,773.647 2352.76,773.647 \"/>\n",
       "<polyline clip-path=\"url(#clip402)\" style=\"stroke:#000000; stroke-linecap:round; stroke-linejoin:round; stroke-width:2; stroke-opacity:0.1; fill:none\" points=\"242.516,556.16 2352.76,556.16 \"/>\n",
       "<polyline clip-path=\"url(#clip402)\" style=\"stroke:#000000; stroke-linecap:round; stroke-linejoin:round; stroke-width:2; stroke-opacity:0.1; fill:none\" points=\"242.516,338.674 2352.76,338.674 \"/>\n",
       "<polyline clip-path=\"url(#clip400)\" style=\"stroke:#000000; stroke-linecap:round; stroke-linejoin:round; stroke-width:4; stroke-opacity:1; fill:none\" points=\"242.516,1425.62 242.516,121.675 \"/>\n",
       "<polyline clip-path=\"url(#clip400)\" style=\"stroke:#000000; stroke-linecap:round; stroke-linejoin:round; stroke-width:4; stroke-opacity:1; fill:none\" points=\"242.516,1208.62 261.414,1208.62 \"/>\n",
       "<polyline clip-path=\"url(#clip400)\" style=\"stroke:#000000; stroke-linecap:round; stroke-linejoin:round; stroke-width:4; stroke-opacity:1; fill:none\" points=\"242.516,991.134 261.414,991.134 \"/>\n",
       "<polyline clip-path=\"url(#clip400)\" style=\"stroke:#000000; stroke-linecap:round; stroke-linejoin:round; stroke-width:4; stroke-opacity:1; fill:none\" points=\"242.516,773.647 261.414,773.647 \"/>\n",
       "<polyline clip-path=\"url(#clip400)\" style=\"stroke:#000000; stroke-linecap:round; stroke-linejoin:round; stroke-width:4; stroke-opacity:1; fill:none\" points=\"242.516,556.16 261.414,556.16 \"/>\n",
       "<polyline clip-path=\"url(#clip400)\" style=\"stroke:#000000; stroke-linecap:round; stroke-linejoin:round; stroke-width:4; stroke-opacity:1; fill:none\" points=\"242.516,338.674 261.414,338.674 \"/>\n",
       "<g clip-path=\"url(#clip400)\">\n",
       "<text style=\"fill:#000000; fill-opacity:1; font-family:Arial,Helvetica Neue,Helvetica,sans-serif; font-size:48px; text-anchor:middle;\" transform=\"rotate(0, 159.682, 1226.12)\" x=\"159.682\" y=\"1226.12\">−1.0</text>\n",
       "</g>\n",
       "<g clip-path=\"url(#clip400)\">\n",
       "<text style=\"fill:#000000; fill-opacity:1; font-family:Arial,Helvetica Neue,Helvetica,sans-serif; font-size:48px; text-anchor:middle;\" transform=\"rotate(0, 159.682, 1008.63)\" x=\"159.682\" y=\"1008.63\">−0.5</text>\n",
       "</g>\n",
       "<g clip-path=\"url(#clip400)\">\n",
       "<text style=\"fill:#000000; fill-opacity:1; font-family:Arial,Helvetica Neue,Helvetica,sans-serif; font-size:48px; text-anchor:middle;\" transform=\"rotate(0, 173.064, 791.147)\" x=\"173.064\" y=\"791.147\">0.0</text>\n",
       "</g>\n",
       "<g clip-path=\"url(#clip400)\">\n",
       "<text style=\"fill:#000000; fill-opacity:1; font-family:Arial,Helvetica Neue,Helvetica,sans-serif; font-size:48px; text-anchor:middle;\" transform=\"rotate(0, 173.064, 573.66)\" x=\"173.064\" y=\"573.66\">0.5</text>\n",
       "</g>\n",
       "<g clip-path=\"url(#clip400)\">\n",
       "<text style=\"fill:#000000; fill-opacity:1; font-family:Arial,Helvetica Neue,Helvetica,sans-serif; font-size:48px; text-anchor:middle;\" transform=\"rotate(0, 173.064, 356.174)\" x=\"173.064\" y=\"356.174\">1.0</text>\n",
       "</g>\n",
       "<g clip-path=\"url(#clip400)\">\n",
       "<text style=\"fill:#000000; fill-opacity:1; font-family:Arial,Helvetica Neue,Helvetica,sans-serif; font-size:66px; text-anchor:middle;\" transform=\"rotate(-90, 65.2861, 773.647)\" x=\"65.2861\" y=\"773.647\">ψ(x)</text>\n",
       "</g>\n",
       "<g clip-path=\"url(#clip400)\">\n",
       "<text style=\"fill:#000000; fill-opacity:1; font-family:Arial,Helvetica Neue,Helvetica,sans-serif; font-size:84px; text-anchor:middle;\" transform=\"rotate(0, 1297.64, 73.2)\" x=\"1297.64\" y=\"73.2\">Particle in a Box Wavefunctions</text>\n",
       "</g>\n",
       "<polyline clip-path=\"url(#clip402)\" style=\"stroke:#ff0000; stroke-linecap:round; stroke-linejoin:round; stroke-width:12; stroke-opacity:1; fill:none\" points=\"302.24,773.647 322.349,754.13 342.458,734.632 362.567,715.174 382.676,695.774 402.785,676.453 422.894,657.23 443.003,638.124 463.112,619.154 483.221,600.34 503.33,581.701 523.439,563.255 543.548,545.021 563.657,527.016 583.766,509.261 603.875,491.771 623.984,474.565 644.093,457.661 664.202,441.074 684.311,424.823 704.42,408.922 724.529,393.389 744.638,378.239 764.747,363.487 784.856,349.148 804.965,335.237 825.074,321.766 845.183,308.751 865.292,296.204 885.401,284.138 905.51,272.564 925.619,261.496 945.728,250.942 965.838,240.916 985.947,231.425 1006.06,222.481 1026.16,214.091 1046.27,206.265 1066.38,199.01 1086.49,192.334 1106.6,186.243 1126.71,180.744 1146.82,175.842 1166.93,171.541 1187.04,167.847 1207.15,164.763 1227.25,162.292 1247.36,160.437 1267.47,159.199 1287.58,158.579 1307.69,158.579 1327.8,159.199 1347.91,160.437 1368.02,162.292 1388.13,164.763 1408.24,167.847 1428.34,171.541 1448.45,175.842 1468.56,180.744 1488.67,186.243 1508.78,192.334 1528.89,199.01 1549,206.265 1569.11,214.091 1589.22,222.481 1609.33,231.425 1629.43,240.916 1649.54,250.942 1669.65,261.496 1689.76,272.564 1709.87,284.138 1729.98,296.204 1750.09,308.751 1770.2,321.766 1790.31,335.237 1810.42,349.148 1830.52,363.487 1850.63,378.239 1870.74,393.389 1890.85,408.922 1910.96,424.823 1931.07,441.074 1951.18,457.661 1971.29,474.565 1991.4,491.771 2011.51,509.261 2031.62,527.016 2051.72,545.021 2071.83,563.255 2091.94,581.701 2112.05,600.34 2132.16,619.154 2152.27,638.124 2172.38,657.23 2192.49,676.453 2212.6,695.774 2232.71,715.174 2252.81,734.632 2272.92,754.13 2293.03,773.647 \"/>\n",
       "<polyline clip-path=\"url(#clip402)\" style=\"stroke:#008000; stroke-linecap:round; stroke-linejoin:round; stroke-width:12; stroke-opacity:1; fill:none\" points=\"302.24,773.647 322.349,734.632 342.458,695.774 362.567,657.23 382.676,619.154 402.785,581.701 422.894,545.021 443.003,509.261 463.112,474.565 483.221,441.074 503.33,408.922 523.439,378.239 543.548,349.148 563.657,321.766 583.766,296.204 603.875,272.564 623.984,250.942 644.093,231.425 664.202,214.091 684.311,199.01 704.42,186.243 724.529,175.842 744.638,167.847 764.747,162.292 784.856,159.199 804.965,158.579 825.074,160.437 845.183,164.763 865.292,171.541 885.401,180.744 905.51,192.334 925.619,206.265 945.728,222.481 965.838,240.916 985.947,261.496 1006.06,284.138 1026.16,308.751 1046.27,335.237 1066.38,363.487 1086.49,393.389 1106.6,424.823 1126.71,457.661 1146.82,491.771 1166.93,527.016 1187.04,563.255 1207.15,600.34 1227.25,638.124 1247.36,676.453 1267.47,715.174 1287.58,754.13 1307.69,793.164 1327.8,832.12 1347.91,870.841 1368.02,909.17 1388.13,946.953 1408.24,984.039 1428.34,1020.28 1448.45,1055.52 1468.56,1089.63 1488.67,1122.47 1508.78,1153.9 1528.89,1183.81 1549,1212.06 1569.11,1238.54 1589.22,1263.16 1609.33,1285.8 1629.43,1306.38 1649.54,1324.81 1669.65,1341.03 1689.76,1354.96 1709.87,1366.55 1729.98,1375.75 1750.09,1382.53 1770.2,1386.86 1790.31,1388.71 1810.42,1388.1 1830.52,1385 1850.63,1379.45 1870.74,1371.45 1890.85,1361.05 1910.96,1348.28 1931.07,1333.2 1951.18,1315.87 1971.29,1296.35 1991.4,1274.73 2011.51,1251.09 2031.62,1225.53 2051.72,1198.15 2071.83,1169.05 2091.94,1138.37 2112.05,1106.22 2132.16,1072.73 2152.27,1038.03 2172.38,1002.27 2192.49,965.593 2212.6,928.139 2232.71,890.064 2252.81,851.52 2272.92,812.662 2293.03,773.647 \"/>\n",
       "<polyline clip-path=\"url(#clip402)\" style=\"stroke:#0000ff; stroke-linecap:round; stroke-linejoin:round; stroke-width:12; stroke-opacity:1; fill:none\" points=\"302.24,773.647 322.349,715.174 342.458,657.23 362.567,600.34 382.676,545.021 402.785,491.771 422.894,441.074 443.003,393.389 463.112,349.148 483.221,308.751 503.33,272.564 523.439,240.916 543.548,214.091 563.657,192.334 583.766,175.842 603.875,164.763 623.984,159.199 644.093,159.199 664.202,164.763 684.311,175.842 704.42,192.334 724.529,214.091 744.638,240.916 764.747,272.564 784.856,308.751 804.965,349.148 825.074,393.389 845.183,441.074 865.292,491.771 885.401,545.021 905.51,600.34 925.619,657.23 945.728,715.174 965.838,773.647 985.947,832.12 1006.06,890.064 1026.16,946.953 1046.27,1002.27 1066.38,1055.52 1086.49,1106.22 1106.6,1153.9 1126.71,1198.15 1146.82,1238.54 1166.93,1274.73 1187.04,1306.38 1207.15,1333.2 1227.25,1354.96 1247.36,1371.45 1267.47,1382.53 1287.58,1388.1 1307.69,1388.1 1327.8,1382.53 1347.91,1371.45 1368.02,1354.96 1388.13,1333.2 1408.24,1306.38 1428.34,1274.73 1448.45,1238.54 1468.56,1198.15 1488.67,1153.9 1508.78,1106.22 1528.89,1055.52 1549,1002.27 1569.11,946.953 1589.22,890.064 1609.33,832.12 1629.43,773.647 1649.54,715.174 1669.65,657.23 1689.76,600.34 1709.87,545.021 1729.98,491.771 1750.09,441.074 1770.2,393.389 1790.31,349.148 1810.42,308.751 1830.52,272.564 1850.63,240.916 1870.74,214.091 1890.85,192.334 1910.96,175.842 1931.07,164.763 1951.18,159.199 1971.29,159.199 1991.4,164.763 2011.51,175.842 2031.62,192.334 2051.72,214.091 2071.83,240.916 2091.94,272.564 2112.05,308.751 2132.16,349.148 2152.27,393.389 2172.38,441.074 2192.49,491.771 2212.6,545.021 2232.71,600.34 2252.81,657.23 2272.92,715.174 2293.03,773.647 \"/>\n",
       "<polyline clip-path=\"url(#clip402)\" style=\"stroke:#ffa500; stroke-linecap:round; stroke-linejoin:round; stroke-width:12; stroke-opacity:1; fill:none\" points=\"302.24,773.647 322.349,695.774 342.458,619.154 362.567,545.021 382.676,474.565 402.785,408.922 422.894,349.148 443.003,296.204 463.112,250.942 483.221,214.091 503.33,186.243 523.439,167.847 543.548,159.199 563.657,160.437 583.766,171.541 603.875,192.334 623.984,222.481 644.093,261.496 664.202,308.751 684.311,363.487 704.42,424.823 724.529,491.771 744.638,563.255 764.747,638.124 784.856,715.174 804.965,793.164 825.074,870.841 845.183,946.953 865.292,1020.28 885.401,1089.63 905.51,1153.9 925.619,1212.06 945.728,1263.16 965.838,1306.38 985.947,1341.03 1006.06,1366.55 1026.16,1382.53 1046.27,1388.71 1066.38,1385 1086.49,1371.45 1106.6,1348.28 1126.71,1315.87 1146.82,1274.73 1166.93,1225.53 1187.04,1169.05 1207.15,1106.22 1227.25,1038.03 1247.36,965.593 1267.47,890.064 1287.58,812.662 1307.69,734.632 1327.8,657.23 1347.91,581.701 1368.02,509.261 1388.13,441.074 1408.24,378.239 1428.34,321.766 1448.45,272.564 1468.56,231.425 1488.67,199.01 1508.78,175.842 1528.89,162.292 1549,158.579 1569.11,164.763 1589.22,180.744 1609.33,206.265 1629.43,240.916 1649.54,284.138 1669.65,335.237 1689.76,393.389 1709.87,457.661 1729.98,527.016 1750.09,600.34 1770.2,676.453 1790.31,754.13 1810.42,832.12 1830.52,909.17 1850.63,984.039 1870.74,1055.52 1890.85,1122.47 1910.96,1183.81 1931.07,1238.54 1951.18,1285.8 1971.29,1324.81 1991.4,1354.96 2011.51,1375.75 2031.62,1386.86 2051.72,1388.1 2071.83,1379.45 2091.94,1361.05 2112.05,1333.2 2132.16,1296.35 2152.27,1251.09 2172.38,1198.15 2192.49,1138.37 2212.6,1072.73 2232.71,1002.27 2252.81,928.139 2272.92,851.52 2293.03,773.647 \"/>\n",
       "<polyline clip-path=\"url(#clip402)\" style=\"stroke:#800080; stroke-linecap:round; stroke-linejoin:round; stroke-width:12; stroke-opacity:1; fill:none\" points=\"302.24,773.647 322.349,676.453 342.458,581.701 362.567,491.771 382.676,408.922 402.785,335.237 422.894,272.564 443.003,222.481 463.112,186.243 483.221,164.763 503.33,158.579 523.439,167.847 543.548,192.334 563.657,231.425 583.766,284.138 603.875,349.148 623.984,424.823 644.093,509.261 664.202,600.34 684.311,695.774 704.42,793.164 724.529,890.064 744.638,984.039 764.747,1072.73 784.856,1153.9 804.965,1225.53 825.074,1285.8 845.183,1333.2 865.292,1366.55 885.401,1385 905.51,1388.1 925.619,1375.75 945.728,1348.28 965.838,1306.38 985.947,1251.09 1006.06,1183.81 1026.16,1106.22 1046.27,1020.28 1066.38,928.139 1086.49,832.12 1106.6,734.632 1126.71,638.124 1146.82,545.021 1166.93,457.661 1187.04,378.239 1207.15,308.751 1227.25,250.942 1247.36,206.265 1267.47,175.842 1287.58,160.437 1307.69,160.437 1327.8,175.842 1347.91,206.265 1368.02,250.942 1388.13,308.751 1408.24,378.239 1428.34,457.661 1448.45,545.021 1468.56,638.124 1488.67,734.632 1508.78,832.12 1528.89,928.139 1549,1020.28 1569.11,1106.22 1589.22,1183.81 1609.33,1251.09 1629.43,1306.38 1649.54,1348.28 1669.65,1375.75 1689.76,1388.1 1709.87,1385 1729.98,1366.55 1750.09,1333.2 1770.2,1285.8 1790.31,1225.53 1810.42,1153.9 1830.52,1072.73 1850.63,984.039 1870.74,890.064 1890.85,793.164 1910.96,695.774 1931.07,600.34 1951.18,509.261 1971.29,424.823 1991.4,349.148 2011.51,284.138 2031.62,231.425 2051.72,192.334 2071.83,167.847 2091.94,158.579 2112.05,164.763 2132.16,186.243 2152.27,222.481 2172.38,272.564 2192.49,335.237 2212.6,408.922 2232.71,491.771 2252.81,581.701 2272.92,676.453 2293.03,773.647 \"/>\n",
       "<polyline clip-path=\"url(#clip402)\" style=\"stroke:#000000; stroke-linecap:round; stroke-linejoin:round; stroke-width:12; stroke-opacity:1; fill:none\" points=\"302.24,773.647 322.349,657.23 342.458,545.021 362.567,441.074 382.676,349.148 402.785,272.564 422.894,214.091 443.003,175.842 463.112,159.199 483.221,164.763 503.33,192.334 523.439,240.916 543.548,308.751 563.657,393.389 583.766,491.771 603.875,600.34 623.984,715.174 644.093,832.12 664.202,946.953 684.311,1055.52 704.42,1153.9 724.529,1238.54 744.638,1306.38 764.747,1354.96 784.856,1382.53 804.965,1388.1 825.074,1371.45 845.183,1333.2 865.292,1274.73 885.401,1198.15 905.51,1106.22 925.619,1002.27 945.728,890.064 965.838,773.647 985.947,657.23 1006.06,545.021 1026.16,441.074 1046.27,349.148 1066.38,272.564 1086.49,214.091 1106.6,175.842 1126.71,159.199 1146.82,164.763 1166.93,192.334 1187.04,240.916 1207.15,308.751 1227.25,393.389 1247.36,491.771 1267.47,600.34 1287.58,715.174 1307.69,832.12 1327.8,946.953 1347.91,1055.52 1368.02,1153.9 1388.13,1238.54 1408.24,1306.38 1428.34,1354.96 1448.45,1382.53 1468.56,1388.1 1488.67,1371.45 1508.78,1333.2 1528.89,1274.73 1549,1198.15 1569.11,1106.22 1589.22,1002.27 1609.33,890.064 1629.43,773.647 1649.54,657.23 1669.65,545.021 1689.76,441.074 1709.87,349.148 1729.98,272.564 1750.09,214.091 1770.2,175.842 1790.31,159.199 1810.42,164.763 1830.52,192.334 1850.63,240.916 1870.74,308.751 1890.85,393.389 1910.96,491.771 1931.07,600.34 1951.18,715.174 1971.29,832.12 1991.4,946.953 2011.51,1055.52 2031.62,1153.9 2051.72,1238.54 2071.83,1306.38 2091.94,1354.96 2112.05,1382.53 2132.16,1388.1 2152.27,1371.45 2172.38,1333.2 2192.49,1274.73 2212.6,1198.15 2232.71,1106.22 2252.81,1002.27 2272.92,890.064 2293.03,773.647 \"/>\n",
       "<path clip-path=\"url(#clip400)\" d=\"M1962.99 517.238 L2282.41 517.238 L2282.41 165.14 L1962.99 165.14  Z\" fill=\"#ffffff\" fill-rule=\"evenodd\" fill-opacity=\"1\"/>\n",
       "<polyline clip-path=\"url(#clip400)\" style=\"stroke:#000000; stroke-linecap:round; stroke-linejoin:round; stroke-width:4; stroke-opacity:1; fill:none\" points=\"1962.99,517.238 2282.41,517.238 2282.41,165.14 1962.99,165.14 1962.99,517.238 \"/>\n",
       "<polyline clip-path=\"url(#clip400)\" style=\"stroke:#ff0000; stroke-linecap:round; stroke-linejoin:round; stroke-width:12; stroke-opacity:1; fill:none\" points=\"1986.44,215.44 2127.12,215.44 \"/>\n",
       "<g clip-path=\"url(#clip400)\">\n",
       "<text style=\"fill:#000000; fill-opacity:1; font-family:Arial,Helvetica Neue,Helvetica,sans-serif; font-size:48px; text-anchor:start;\" transform=\"rotate(0, 2150.57, 232.94)\" x=\"2150.57\" y=\"232.94\">n = 1</text>\n",
       "</g>\n",
       "<polyline clip-path=\"url(#clip400)\" style=\"stroke:#008000; stroke-linecap:round; stroke-linejoin:round; stroke-width:12; stroke-opacity:1; fill:none\" points=\"1986.44,265.739 2127.12,265.739 \"/>\n",
       "<g clip-path=\"url(#clip400)\">\n",
       "<text style=\"fill:#000000; fill-opacity:1; font-family:Arial,Helvetica Neue,Helvetica,sans-serif; font-size:48px; text-anchor:start;\" transform=\"rotate(0, 2150.57, 283.239)\" x=\"2150.57\" y=\"283.239\">n = 2</text>\n",
       "</g>\n",
       "<polyline clip-path=\"url(#clip400)\" style=\"stroke:#0000ff; stroke-linecap:round; stroke-linejoin:round; stroke-width:12; stroke-opacity:1; fill:none\" points=\"1986.44,316.039 2127.12,316.039 \"/>\n",
       "<g clip-path=\"url(#clip400)\">\n",
       "<text style=\"fill:#000000; fill-opacity:1; font-family:Arial,Helvetica Neue,Helvetica,sans-serif; font-size:48px; text-anchor:start;\" transform=\"rotate(0, 2150.57, 333.539)\" x=\"2150.57\" y=\"333.539\">n = 3</text>\n",
       "</g>\n",
       "<polyline clip-path=\"url(#clip400)\" style=\"stroke:#ffa500; stroke-linecap:round; stroke-linejoin:round; stroke-width:12; stroke-opacity:1; fill:none\" points=\"1986.44,366.339 2127.12,366.339 \"/>\n",
       "<g clip-path=\"url(#clip400)\">\n",
       "<text style=\"fill:#000000; fill-opacity:1; font-family:Arial,Helvetica Neue,Helvetica,sans-serif; font-size:48px; text-anchor:start;\" transform=\"rotate(0, 2150.57, 383.839)\" x=\"2150.57\" y=\"383.839\">n = 4</text>\n",
       "</g>\n",
       "<polyline clip-path=\"url(#clip400)\" style=\"stroke:#800080; stroke-linecap:round; stroke-linejoin:round; stroke-width:12; stroke-opacity:1; fill:none\" points=\"1986.44,416.639 2127.12,416.639 \"/>\n",
       "<g clip-path=\"url(#clip400)\">\n",
       "<text style=\"fill:#000000; fill-opacity:1; font-family:Arial,Helvetica Neue,Helvetica,sans-serif; font-size:48px; text-anchor:start;\" transform=\"rotate(0, 2150.57, 434.139)\" x=\"2150.57\" y=\"434.139\">n = 5</text>\n",
       "</g>\n",
       "<polyline clip-path=\"url(#clip400)\" style=\"stroke:#000000; stroke-linecap:round; stroke-linejoin:round; stroke-width:12; stroke-opacity:1; fill:none\" points=\"1986.44,466.938 2127.12,466.938 \"/>\n",
       "<g clip-path=\"url(#clip400)\">\n",
       "<text style=\"fill:#000000; fill-opacity:1; font-family:Arial,Helvetica Neue,Helvetica,sans-serif; font-size:48px; text-anchor:start;\" transform=\"rotate(0, 2150.57, 484.438)\" x=\"2150.57\" y=\"484.438\">n = 6</text>\n",
       "</g>\n",
       "</svg>\n"
      ]
     },
     "metadata": {},
     "output_type": "display_data"
    }
   ],
   "source": [
    "using Plots\n",
    "# Let's define a simple one-dimensional box from 0 to a:\n",
    "\n",
    "a = 1.0  # in atomic units\n",
    "# Number of points in space\n",
    "N = 100\n",
    "# Coordinate space\n",
    "x = range(0, stop=a, length=N)\n",
    "\n",
    "labels = []\n",
    "wavefunctions = []\n",
    "\n",
    "# Now let's compute the first three wavefunctions:\n",
    "for n in 1:6\n",
    "    ψ = sqrt(2/a) * sin.(n * π * x / a)\n",
    "    push!(wavefunctions, ψ)\n",
    "    push!(labels, \"n = $n\")\n",
    "    println(ψ)\n",
    "end\n",
    "\n",
    "colors = [:red :green :blue :orange :purple :black]\n",
    "\n",
    "print(reshape(labels, 1,6)) # reshaping vector into a matrix to be your label \n",
    "\n",
    "plot()\n",
    "plot!(\n",
    "        x, wavefunctions, \n",
    "        label=reshape(labels, 1,6),\n",
    "        linewidth=3.0,\n",
    "        fontfamily=\"Helvetica\",\n",
    "        color=colors,\n",
    "        legend=:topright\n",
    "    )\n",
    "\n",
    "title!(\"Particle in a Box Wavefunctions\")\n",
    "\n",
    "xlabel!(\"x (a.u.)\")\n",
    "ylabel!(\"ψ(x)\")"
   ]
  },
  {
   "cell_type": "code",
   "execution_count": 105,
   "metadata": {},
   "outputs": [
    {
     "data": {
      "text/plain": [
       "f (generic function with 1 method)"
      ]
     },
     "metadata": {},
     "output_type": "display_data"
    }
   ],
   "source": [
    "f(x) = x^2"
   ]
  },
  {
   "cell_type": "code",
   "execution_count": 111,
   "metadata": {},
   "outputs": [
    {
     "data": {
      "text/plain": [
       "100-element Vector{Int64}:\n",
       "     1\n",
       "     4\n",
       "     9\n",
       "    16\n",
       "    25\n",
       "    36\n",
       "    49\n",
       "    64\n",
       "    81\n",
       "   100\n",
       "     ⋮\n",
       "  8464\n",
       "  8649\n",
       "  8836\n",
       "  9025\n",
       "  9216\n",
       "  9409\n",
       "  9604\n",
       "  9801\n",
       " 10000"
      ]
     },
     "metadata": {},
     "output_type": "display_data"
    }
   ],
   "source": [
    "y = [f(i) for i in 1:100]"
   ]
  },
  {
   "cell_type": "code",
   "execution_count": 112,
   "metadata": {},
   "outputs": [
    {
     "data": {
      "text/plain": [
       "100-element Vector{Int64}:\n",
       "   1\n",
       "   2\n",
       "   3\n",
       "   4\n",
       "   5\n",
       "   6\n",
       "   7\n",
       "   8\n",
       "   9\n",
       "  10\n",
       "   ⋮\n",
       "  92\n",
       "  93\n",
       "  94\n",
       "  95\n",
       "  96\n",
       "  97\n",
       "  98\n",
       "  99\n",
       " 100"
      ]
     },
     "metadata": {},
     "output_type": "display_data"
    }
   ],
   "source": [
    "x = [i for i in 1:100]"
   ]
  },
  {
   "cell_type": "code",
   "execution_count": 131,
   "metadata": {},
   "outputs": [
    {
     "data": {
      "image/png": "[encoded data removed]",
      "image/svg+xml": [
       "<?xml version=\"1.0\" encoding=\"utf-8\"?>\n",
       "<svg xmlns=\"http://www.w3.org/2000/svg\" xmlns:xlink=\"http://www.w3.org/1999/xlink\" width=\"600\" height=\"400\" viewBox=\"0 0 2400 1600\">\n",
       "<defs>\n",
       "  <clipPath id=\"clip090\">\n",
       "    <rect x=\"0\" y=\"0\" width=\"2400\" height=\"1600\"/>\n",
       "  </clipPath>\n",
       "</defs>\n",
       "<path clip-path=\"url(#clip090)\" d=\"M0 1600 L2400 1600 L2400 0 L0 0  Z\" fill=\"#ffffff\" fill-rule=\"evenodd\" fill-opacity=\"1\"/>\n",
       "<defs>\n",
       "  <clipPath id=\"clip091\">\n",
       "    <rect x=\"480\" y=\"0\" width=\"1681\" height=\"1600\"/>\n",
       "  </clipPath>\n",
       "</defs>\n",
       "<path clip-path=\"url(#clip090)\" d=\"M282.66 1425.62 L2352.76 1425.62 L2352.76 121.675 L282.66 121.675  Z\" fill=\"#ffffff\" fill-rule=\"evenodd\" fill-opacity=\"1\"/>\n",
       "<defs>\n",
       "  <clipPath id=\"clip092\">\n",
       "    <rect x=\"282\" y=\"121\" width=\"2071\" height=\"1305\"/>\n",
       "  </clipPath>\n",
       "</defs>\n",
       "<polyline clip-path=\"url(#clip092)\" style=\"stroke:#000000; stroke-linecap:round; stroke-linejoin:round; stroke-width:2; stroke-opacity:0.1; fill:none\" points=\"321.521,1425.62 321.521,121.675 \"/>\n",
       "<polyline clip-path=\"url(#clip092)\" style=\"stroke:#000000; stroke-linecap:round; stroke-linejoin:round; stroke-width:2; stroke-opacity:0.1; fill:none\" points=\"814.683,1425.62 814.683,121.675 \"/>\n",
       "<polyline clip-path=\"url(#clip092)\" style=\"stroke:#000000; stroke-linecap:round; stroke-linejoin:round; stroke-width:2; stroke-opacity:0.1; fill:none\" points=\"1307.84,1425.62 1307.84,121.675 \"/>\n",
       "<polyline clip-path=\"url(#clip092)\" style=\"stroke:#000000; stroke-linecap:round; stroke-linejoin:round; stroke-width:2; stroke-opacity:0.1; fill:none\" points=\"1801.01,1425.62 1801.01,121.675 \"/>\n",
       "<polyline clip-path=\"url(#clip092)\" style=\"stroke:#000000; stroke-linecap:round; stroke-linejoin:round; stroke-width:2; stroke-opacity:0.1; fill:none\" points=\"2294.17,1425.62 2294.17,121.675 \"/>\n",
       "<polyline clip-path=\"url(#clip090)\" style=\"stroke:#000000; stroke-linecap:round; stroke-linejoin:round; stroke-width:4; stroke-opacity:1; fill:none\" points=\"282.66,1425.62 2352.76,1425.62 \"/>\n",
       "<polyline clip-path=\"url(#clip090)\" style=\"stroke:#000000; stroke-linecap:round; stroke-linejoin:round; stroke-width:4; stroke-opacity:1; fill:none\" points=\"321.521,1425.62 321.521,1406.72 \"/>\n",
       "<polyline clip-path=\"url(#clip090)\" style=\"stroke:#000000; stroke-linecap:round; stroke-linejoin:round; stroke-width:4; stroke-opacity:1; fill:none\" points=\"814.683,1425.62 814.683,1406.72 \"/>\n",
       "<polyline clip-path=\"url(#clip090)\" style=\"stroke:#000000; stroke-linecap:round; stroke-linejoin:round; stroke-width:4; stroke-opacity:1; fill:none\" points=\"1307.84,1425.62 1307.84,1406.72 \"/>\n",
       "<polyline clip-path=\"url(#clip090)\" style=\"stroke:#000000; stroke-linecap:round; stroke-linejoin:round; stroke-width:4; stroke-opacity:1; fill:none\" points=\"1801.01,1425.62 1801.01,1406.72 \"/>\n",
       "<polyline clip-path=\"url(#clip090)\" style=\"stroke:#000000; stroke-linecap:round; stroke-linejoin:round; stroke-width:4; stroke-opacity:1; fill:none\" points=\"2294.17,1425.62 2294.17,1406.72 \"/>\n",
       "<g clip-path=\"url(#clip090)\">\n",
       "<text style=\"fill:#000000; fill-opacity:1; font-family:Arial,Helvetica Neue,Helvetica,sans-serif; font-size:48px; text-anchor:middle;\" transform=\"rotate(0, 321.521, 1487.47)\" x=\"321.521\" y=\"1487.47\">0</text>\n",
       "</g>\n",
       "<g clip-path=\"url(#clip090)\">\n",
       "<text style=\"fill:#000000; fill-opacity:1; font-family:Arial,Helvetica Neue,Helvetica,sans-serif; font-size:48px; text-anchor:middle;\" transform=\"rotate(0, 814.683, 1487.47)\" x=\"814.683\" y=\"1487.47\">25</text>\n",
       "</g>\n",
       "<g clip-path=\"url(#clip090)\">\n",
       "<text style=\"fill:#000000; fill-opacity:1; font-family:Arial,Helvetica Neue,Helvetica,sans-serif; font-size:48px; text-anchor:middle;\" transform=\"rotate(0, 1307.84, 1487.47)\" x=\"1307.84\" y=\"1487.47\">50</text>\n",
       "</g>\n",
       "<g clip-path=\"url(#clip090)\">\n",
       "<text style=\"fill:#000000; fill-opacity:1; font-family:Arial,Helvetica Neue,Helvetica,sans-serif; font-size:48px; text-anchor:middle;\" transform=\"rotate(0, 1801.01, 1487.47)\" x=\"1801.01\" y=\"1487.47\">75</text>\n",
       "</g>\n",
       "<g clip-path=\"url(#clip090)\">\n",
       "<text style=\"fill:#000000; fill-opacity:1; font-family:Arial,Helvetica Neue,Helvetica,sans-serif; font-size:48px; text-anchor:middle;\" transform=\"rotate(0, 2294.17, 1487.47)\" x=\"2294.17\" y=\"1487.47\">100</text>\n",
       "</g>\n",
       "<g clip-path=\"url(#clip090)\">\n",
       "<text style=\"fill:#000000; fill-opacity:1; font-family:Arial,Helvetica Neue,Helvetica,sans-serif; font-size:66px; text-anchor:middle;\" transform=\"rotate(0, 1317.71, 1571.48)\" x=\"1317.71\" y=\"1571.48\">x</text>\n",
       "</g>\n",
       "<polyline clip-path=\"url(#clip092)\" style=\"stroke:#000000; stroke-linecap:round; stroke-linejoin:round; stroke-width:2; stroke-opacity:0.1; fill:none\" points=\"282.66,1388.84 2352.76,1388.84 \"/>\n",
       "<polyline clip-path=\"url(#clip092)\" style=\"stroke:#000000; stroke-linecap:round; stroke-linejoin:round; stroke-width:2; stroke-opacity:0.1; fill:none\" points=\"282.66,1081.27 2352.76,1081.27 \"/>\n",
       "<polyline clip-path=\"url(#clip092)\" style=\"stroke:#000000; stroke-linecap:round; stroke-linejoin:round; stroke-width:2; stroke-opacity:0.1; fill:none\" points=\"282.66,773.708 2352.76,773.708 \"/>\n",
       "<polyline clip-path=\"url(#clip092)\" style=\"stroke:#000000; stroke-linecap:round; stroke-linejoin:round; stroke-width:2; stroke-opacity:0.1; fill:none\" points=\"282.66,466.144 2352.76,466.144 \"/>\n",
       "<polyline clip-path=\"url(#clip092)\" style=\"stroke:#000000; stroke-linecap:round; stroke-linejoin:round; stroke-width:2; stroke-opacity:0.1; fill:none\" points=\"282.66,158.579 2352.76,158.579 \"/>\n",
       "<polyline clip-path=\"url(#clip090)\" style=\"stroke:#000000; stroke-linecap:round; stroke-linejoin:round; stroke-width:4; stroke-opacity:1; fill:none\" points=\"282.66,1425.62 282.66,121.675 \"/>\n",
       "<polyline clip-path=\"url(#clip090)\" style=\"stroke:#000000; stroke-linecap:round; stroke-linejoin:round; stroke-width:4; stroke-opacity:1; fill:none\" points=\"282.66,1388.84 301.558,1388.84 \"/>\n",
       "<polyline clip-path=\"url(#clip090)\" style=\"stroke:#000000; stroke-linecap:round; stroke-linejoin:round; stroke-width:4; stroke-opacity:1; fill:none\" points=\"282.66,1081.27 301.558,1081.27 \"/>\n",
       "<polyline clip-path=\"url(#clip090)\" style=\"stroke:#000000; stroke-linecap:round; stroke-linejoin:round; stroke-width:4; stroke-opacity:1; fill:none\" points=\"282.66,773.708 301.558,773.708 \"/>\n",
       "<polyline clip-path=\"url(#clip090)\" style=\"stroke:#000000; stroke-linecap:round; stroke-linejoin:round; stroke-width:4; stroke-opacity:1; fill:none\" points=\"282.66,466.144 301.558,466.144 \"/>\n",
       "<polyline clip-path=\"url(#clip090)\" style=\"stroke:#000000; stroke-linecap:round; stroke-linejoin:round; stroke-width:4; stroke-opacity:1; fill:none\" points=\"282.66,158.579 301.558,158.579 \"/>\n",
       "<g clip-path=\"url(#clip090)\">\n",
       "<text style=\"fill:#000000; fill-opacity:1; font-family:Arial,Helvetica Neue,Helvetica,sans-serif; font-size:48px; text-anchor:middle;\" transform=\"rotate(0, 233.279, 1406.34)\" x=\"233.279\" y=\"1406.34\">0</text>\n",
       "</g>\n",
       "<g clip-path=\"url(#clip090)\">\n",
       "<text style=\"fill:#000000; fill-opacity:1; font-family:Arial,Helvetica Neue,Helvetica,sans-serif; font-size:48px; text-anchor:middle;\" transform=\"rotate(0, 193.135, 1098.77)\" x=\"193.135\" y=\"1098.77\">2500</text>\n",
       "</g>\n",
       "<g clip-path=\"url(#clip090)\">\n",
       "<text style=\"fill:#000000; fill-opacity:1; font-family:Arial,Helvetica Neue,Helvetica,sans-serif; font-size:48px; text-anchor:middle;\" transform=\"rotate(0, 193.135, 791.208)\" x=\"193.135\" y=\"791.208\">5000</text>\n",
       "</g>\n",
       "<g clip-path=\"url(#clip090)\">\n",
       "<text style=\"fill:#000000; fill-opacity:1; font-family:Arial,Helvetica Neue,Helvetica,sans-serif; font-size:48px; text-anchor:middle;\" transform=\"rotate(0, 193.135, 483.644)\" x=\"193.135\" y=\"483.644\">7500</text>\n",
       "</g>\n",
       "<g clip-path=\"url(#clip090)\">\n",
       "<text style=\"fill:#000000; fill-opacity:1; font-family:Arial,Helvetica Neue,Helvetica,sans-serif; font-size:48px; text-anchor:middle;\" transform=\"rotate(0, 179.754, 176.079)\" x=\"179.754\" y=\"176.079\">10000</text>\n",
       "</g>\n",
       "<g clip-path=\"url(#clip090)\">\n",
       "<text style=\"fill:#000000; fill-opacity:1; font-family:Arial,Helvetica Neue,Helvetica,sans-serif; font-size:66px; text-anchor:middle;\" transform=\"rotate(-90, 65.2861, 773.647)\" x=\"65.2861\" y=\"773.647\">y</text>\n",
       "</g>\n",
       "<g clip-path=\"url(#clip090)\">\n",
       "<text style=\"fill:#000000; fill-opacity:1; font-family:Arial,Helvetica Neue,Helvetica,sans-serif; font-size:84px; text-anchor:middle;\" transform=\"rotate(0, 1317.71, 73.2)\" x=\"1317.71\" y=\"73.2\">Practice plot with f(x)=x²</text>\n",
       "</g>\n",
       "<polyline clip-path=\"url(#clip092)\" style=\"stroke:#ff0000; stroke-linecap:round; stroke-linejoin:round; stroke-width:12; stroke-opacity:1; fill:none\" points=\"341.248,1388.71 360.974,1388.35 380.701,1387.73 400.427,1386.87 420.153,1385.76 439.88,1384.41 459.606,1382.81 479.333,1380.96 499.059,1378.87 518.786,1376.53 538.512,1373.95 558.239,1371.12 577.965,1368.05 597.692,1364.72 617.418,1361.16 637.145,1357.34 656.871,1353.28 676.598,1348.98 696.324,1344.43 716.051,1339.63 735.777,1334.58 755.503,1329.29 775.23,1323.76 794.956,1317.97 814.683,1311.95 834.409,1305.67 854.136,1299.15 873.862,1292.39 893.589,1285.37 913.315,1278.11 933.042,1270.61 952.768,1262.86 972.495,1254.86 992.221,1246.62 1011.95,1238.13 1031.67,1229.4 1051.4,1220.42 1071.13,1211.19 1090.85,1201.72 1110.58,1192 1130.31,1182.03 1150.03,1171.82 1169.76,1161.36 1189.49,1150.66 1209.21,1139.71 1228.94,1128.51 1248.67,1117.07 1268.39,1105.39 1288.12,1093.45 1307.84,1081.27 1327.57,1068.85 1347.3,1056.18 1367.02,1043.26 1386.75,1030.09 1406.48,1016.68 1426.2,1003.03 1445.93,989.127 1465.66,974.979 1485.38,960.585 1505.11,945.945 1524.84,931.058 1544.56,915.926 1564.29,900.548 1584.02,884.924 1603.74,869.053 1623.47,852.937 1643.19,836.575 1662.92,819.966 1682.65,803.112 1702.37,786.011 1722.1,768.664 1741.83,751.072 1761.55,733.233 1781.28,715.148 1801.01,696.817 1820.73,678.24 1840.46,659.417 1860.19,640.348 1879.91,621.033 1899.64,601.472 1919.37,581.665 1939.09,561.612 1958.82,541.313 1978.54,520.767 1998.27,499.976 2018,478.938 2037.72,457.655 2057.45,436.125 2077.18,414.35 2096.9,392.328 2116.63,370.061 2136.36,347.547 2156.08,324.787 2175.81,301.781 2195.54,278.529 2215.26,255.031 2234.99,231.287 2254.72,207.297 2274.44,183.061 2294.17,158.579 \"/>\n",
       "<path clip-path=\"url(#clip090)\" d=\"M351.663 265.739 L598.768 265.739 L598.768 165.14 L351.663 165.14  Z\" fill=\"#ffffff\" fill-rule=\"evenodd\" fill-opacity=\"1\"/>\n",
       "<polyline clip-path=\"url(#clip090)\" style=\"stroke:#000000; stroke-linecap:round; stroke-linejoin:round; stroke-width:4; stroke-opacity:1; fill:none\" points=\"351.663,265.739 598.768,265.739 598.768,165.14 351.663,165.14 351.663,265.739 \"/>\n",
       "<polyline clip-path=\"url(#clip090)\" style=\"stroke:#ff0000; stroke-linecap:round; stroke-linejoin:round; stroke-width:12; stroke-opacity:1; fill:none\" points=\"374.664,215.44 512.671,215.44 \"/>\n",
       "<g clip-path=\"url(#clip090)\">\n",
       "<text style=\"fill:#000000; fill-opacity:1; font-family:Arial,Helvetica Neue,Helvetica,sans-serif; font-size:48px; text-anchor:start;\" transform=\"rotate(0, 535.672, 232.94)\" x=\"535.672\" y=\"232.94\">x²</text>\n",
       "</g>\n",
       "</svg>\n"
      ],
      "text/html": [
       "<?xml version=\"1.0\" encoding=\"utf-8\"?>\n",
       "<svg xmlns=\"http://www.w3.org/2000/svg\" xmlns:xlink=\"http://www.w3.org/1999/xlink\" width=\"600\" height=\"400\" viewBox=\"0 0 2400 1600\">\n",
       "<defs>\n",
       "  <clipPath id=\"clip140\">\n",
       "    <rect x=\"0\" y=\"0\" width=\"2400\" height=\"1600\"/>\n",
       "  </clipPath>\n",
       "</defs>\n",
       "<path clip-path=\"url(#clip140)\" d=\"M0 1600 L2400 1600 L2400 0 L0 0  Z\" fill=\"#ffffff\" fill-rule=\"evenodd\" fill-opacity=\"1\"/>\n",
       "<defs>\n",
       "  <clipPath id=\"clip141\">\n",
       "    <rect x=\"480\" y=\"0\" width=\"1681\" height=\"1600\"/>\n",
       "  </clipPath>\n",
       "</defs>\n",
       "<path clip-path=\"url(#clip140)\" d=\"M282.66 1425.62 L2352.76 1425.62 L2352.76 121.675 L282.66 121.675  Z\" fill=\"#ffffff\" fill-rule=\"evenodd\" fill-opacity=\"1\"/>\n",
       "<defs>\n",
       "  <clipPath id=\"clip142\">\n",
       "    <rect x=\"282\" y=\"121\" width=\"2071\" height=\"1305\"/>\n",
       "  </clipPath>\n",
       "</defs>\n",
       "<polyline clip-path=\"url(#clip142)\" style=\"stroke:#000000; stroke-linecap:round; stroke-linejoin:round; stroke-width:2; stroke-opacity:0.1; fill:none\" points=\"321.521,1425.62 321.521,121.675 \"/>\n",
       "<polyline clip-path=\"url(#clip142)\" style=\"stroke:#000000; stroke-linecap:round; stroke-linejoin:round; stroke-width:2; stroke-opacity:0.1; fill:none\" points=\"814.683,1425.62 814.683,121.675 \"/>\n",
       "<polyline clip-path=\"url(#clip142)\" style=\"stroke:#000000; stroke-linecap:round; stroke-linejoin:round; stroke-width:2; stroke-opacity:0.1; fill:none\" points=\"1307.84,1425.62 1307.84,121.675 \"/>\n",
       "<polyline clip-path=\"url(#clip142)\" style=\"stroke:#000000; stroke-linecap:round; stroke-linejoin:round; stroke-width:2; stroke-opacity:0.1; fill:none\" points=\"1801.01,1425.62 1801.01,121.675 \"/>\n",
       "<polyline clip-path=\"url(#clip142)\" style=\"stroke:#000000; stroke-linecap:round; stroke-linejoin:round; stroke-width:2; stroke-opacity:0.1; fill:none\" points=\"2294.17,1425.62 2294.17,121.675 \"/>\n",
       "<polyline clip-path=\"url(#clip140)\" style=\"stroke:#000000; stroke-linecap:round; stroke-linejoin:round; stroke-width:4; stroke-opacity:1; fill:none\" points=\"282.66,1425.62 2352.76,1425.62 \"/>\n",
       "<polyline clip-path=\"url(#clip140)\" style=\"stroke:#000000; stroke-linecap:round; stroke-linejoin:round; stroke-width:4; stroke-opacity:1; fill:none\" points=\"321.521,1425.62 321.521,1406.72 \"/>\n",
       "<polyline clip-path=\"url(#clip140)\" style=\"stroke:#000000; stroke-linecap:round; stroke-linejoin:round; stroke-width:4; stroke-opacity:1; fill:none\" points=\"814.683,1425.62 814.683,1406.72 \"/>\n",
       "<polyline clip-path=\"url(#clip140)\" style=\"stroke:#000000; stroke-linecap:round; stroke-linejoin:round; stroke-width:4; stroke-opacity:1; fill:none\" points=\"1307.84,1425.62 1307.84,1406.72 \"/>\n",
       "<polyline clip-path=\"url(#clip140)\" style=\"stroke:#000000; stroke-linecap:round; stroke-linejoin:round; stroke-width:4; stroke-opacity:1; fill:none\" points=\"1801.01,1425.62 1801.01,1406.72 \"/>\n",
       "<polyline clip-path=\"url(#clip140)\" style=\"stroke:#000000; stroke-linecap:round; stroke-linejoin:round; stroke-width:4; stroke-opacity:1; fill:none\" points=\"2294.17,1425.62 2294.17,1406.72 \"/>\n",
       "<g clip-path=\"url(#clip140)\">\n",
       "<text style=\"fill:#000000; fill-opacity:1; font-family:Arial,Helvetica Neue,Helvetica,sans-serif; font-size:48px; text-anchor:middle;\" transform=\"rotate(0, 321.521, 1487.47)\" x=\"321.521\" y=\"1487.47\">0</text>\n",
       "</g>\n",
       "<g clip-path=\"url(#clip140)\">\n",
       "<text style=\"fill:#000000; fill-opacity:1; font-family:Arial,Helvetica Neue,Helvetica,sans-serif; font-size:48px; text-anchor:middle;\" transform=\"rotate(0, 814.683, 1487.47)\" x=\"814.683\" y=\"1487.47\">25</text>\n",
       "</g>\n",
       "<g clip-path=\"url(#clip140)\">\n",
       "<text style=\"fill:#000000; fill-opacity:1; font-family:Arial,Helvetica Neue,Helvetica,sans-serif; font-size:48px; text-anchor:middle;\" transform=\"rotate(0, 1307.84, 1487.47)\" x=\"1307.84\" y=\"1487.47\">50</text>\n",
       "</g>\n",
       "<g clip-path=\"url(#clip140)\">\n",
       "<text style=\"fill:#000000; fill-opacity:1; font-family:Arial,Helvetica Neue,Helvetica,sans-serif; font-size:48px; text-anchor:middle;\" transform=\"rotate(0, 1801.01, 1487.47)\" x=\"1801.01\" y=\"1487.47\">75</text>\n",
       "</g>\n",
       "<g clip-path=\"url(#clip140)\">\n",
       "<text style=\"fill:#000000; fill-opacity:1; font-family:Arial,Helvetica Neue,Helvetica,sans-serif; font-size:48px; text-anchor:middle;\" transform=\"rotate(0, 2294.17, 1487.47)\" x=\"2294.17\" y=\"1487.47\">100</text>\n",
       "</g>\n",
       "<g clip-path=\"url(#clip140)\">\n",
       "<text style=\"fill:#000000; fill-opacity:1; font-family:Arial,Helvetica Neue,Helvetica,sans-serif; font-size:66px; text-anchor:middle;\" transform=\"rotate(0, 1317.71, 1571.48)\" x=\"1317.71\" y=\"1571.48\">x</text>\n",
       "</g>\n",
       "<polyline clip-path=\"url(#clip142)\" style=\"stroke:#000000; stroke-linecap:round; stroke-linejoin:round; stroke-width:2; stroke-opacity:0.1; fill:none\" points=\"282.66,1388.84 2352.76,1388.84 \"/>\n",
       "<polyline clip-path=\"url(#clip142)\" style=\"stroke:#000000; stroke-linecap:round; stroke-linejoin:round; stroke-width:2; stroke-opacity:0.1; fill:none\" points=\"282.66,1081.27 2352.76,1081.27 \"/>\n",
       "<polyline clip-path=\"url(#clip142)\" style=\"stroke:#000000; stroke-linecap:round; stroke-linejoin:round; stroke-width:2; stroke-opacity:0.1; fill:none\" points=\"282.66,773.708 2352.76,773.708 \"/>\n",
       "<polyline clip-path=\"url(#clip142)\" style=\"stroke:#000000; stroke-linecap:round; stroke-linejoin:round; stroke-width:2; stroke-opacity:0.1; fill:none\" points=\"282.66,466.144 2352.76,466.144 \"/>\n",
       "<polyline clip-path=\"url(#clip142)\" style=\"stroke:#000000; stroke-linecap:round; stroke-linejoin:round; stroke-width:2; stroke-opacity:0.1; fill:none\" points=\"282.66,158.579 2352.76,158.579 \"/>\n",
       "<polyline clip-path=\"url(#clip140)\" style=\"stroke:#000000; stroke-linecap:round; stroke-linejoin:round; stroke-width:4; stroke-opacity:1; fill:none\" points=\"282.66,1425.62 282.66,121.675 \"/>\n",
       "<polyline clip-path=\"url(#clip140)\" style=\"stroke:#000000; stroke-linecap:round; stroke-linejoin:round; stroke-width:4; stroke-opacity:1; fill:none\" points=\"282.66,1388.84 301.558,1388.84 \"/>\n",
       "<polyline clip-path=\"url(#clip140)\" style=\"stroke:#000000; stroke-linecap:round; stroke-linejoin:round; stroke-width:4; stroke-opacity:1; fill:none\" points=\"282.66,1081.27 301.558,1081.27 \"/>\n",
       "<polyline clip-path=\"url(#clip140)\" style=\"stroke:#000000; stroke-linecap:round; stroke-linejoin:round; stroke-width:4; stroke-opacity:1; fill:none\" points=\"282.66,773.708 301.558,773.708 \"/>\n",
       "<polyline clip-path=\"url(#clip140)\" style=\"stroke:#000000; stroke-linecap:round; stroke-linejoin:round; stroke-width:4; stroke-opacity:1; fill:none\" points=\"282.66,466.144 301.558,466.144 \"/>\n",
       "<polyline clip-path=\"url(#clip140)\" style=\"stroke:#000000; stroke-linecap:round; stroke-linejoin:round; stroke-width:4; stroke-opacity:1; fill:none\" points=\"282.66,158.579 301.558,158.579 \"/>\n",
       "<g clip-path=\"url(#clip140)\">\n",
       "<text style=\"fill:#000000; fill-opacity:1; font-family:Arial,Helvetica Neue,Helvetica,sans-serif; font-size:48px; text-anchor:middle;\" transform=\"rotate(0, 233.279, 1406.34)\" x=\"233.279\" y=\"1406.34\">0</text>\n",
       "</g>\n",
       "<g clip-path=\"url(#clip140)\">\n",
       "<text style=\"fill:#000000; fill-opacity:1; font-family:Arial,Helvetica Neue,Helvetica,sans-serif; font-size:48px; text-anchor:middle;\" transform=\"rotate(0, 193.135, 1098.77)\" x=\"193.135\" y=\"1098.77\">2500</text>\n",
       "</g>\n",
       "<g clip-path=\"url(#clip140)\">\n",
       "<text style=\"fill:#000000; fill-opacity:1; font-family:Arial,Helvetica Neue,Helvetica,sans-serif; font-size:48px; text-anchor:middle;\" transform=\"rotate(0, 193.135, 791.208)\" x=\"193.135\" y=\"791.208\">5000</text>\n",
       "</g>\n",
       "<g clip-path=\"url(#clip140)\">\n",
       "<text style=\"fill:#000000; fill-opacity:1; font-family:Arial,Helvetica Neue,Helvetica,sans-serif; font-size:48px; text-anchor:middle;\" transform=\"rotate(0, 193.135, 483.644)\" x=\"193.135\" y=\"483.644\">7500</text>\n",
       "</g>\n",
       "<g clip-path=\"url(#clip140)\">\n",
       "<text style=\"fill:#000000; fill-opacity:1; font-family:Arial,Helvetica Neue,Helvetica,sans-serif; font-size:48px; text-anchor:middle;\" transform=\"rotate(0, 179.754, 176.079)\" x=\"179.754\" y=\"176.079\">10000</text>\n",
       "</g>\n",
       "<g clip-path=\"url(#clip140)\">\n",
       "<text style=\"fill:#000000; fill-opacity:1; font-family:Arial,Helvetica Neue,Helvetica,sans-serif; font-size:66px; text-anchor:middle;\" transform=\"rotate(-90, 65.2861, 773.647)\" x=\"65.2861\" y=\"773.647\">y</text>\n",
       "</g>\n",
       "<g clip-path=\"url(#clip140)\">\n",
       "<text style=\"fill:#000000; fill-opacity:1; font-family:Arial,Helvetica Neue,Helvetica,sans-serif; font-size:84px; text-anchor:middle;\" transform=\"rotate(0, 1317.71, 73.2)\" x=\"1317.71\" y=\"73.2\">Practice plot with f(x)=x²</text>\n",
       "</g>\n",
       "<polyline clip-path=\"url(#clip142)\" style=\"stroke:#ff0000; stroke-linecap:round; stroke-linejoin:round; stroke-width:12; stroke-opacity:1; fill:none\" points=\"341.248,1388.71 360.974,1388.35 380.701,1387.73 400.427,1386.87 420.153,1385.76 439.88,1384.41 459.606,1382.81 479.333,1380.96 499.059,1378.87 518.786,1376.53 538.512,1373.95 558.239,1371.12 577.965,1368.05 597.692,1364.72 617.418,1361.16 637.145,1357.34 656.871,1353.28 676.598,1348.98 696.324,1344.43 716.051,1339.63 735.777,1334.58 755.503,1329.29 775.23,1323.76 794.956,1317.97 814.683,1311.95 834.409,1305.67 854.136,1299.15 873.862,1292.39 893.589,1285.37 913.315,1278.11 933.042,1270.61 952.768,1262.86 972.495,1254.86 992.221,1246.62 1011.95,1238.13 1031.67,1229.4 1051.4,1220.42 1071.13,1211.19 1090.85,1201.72 1110.58,1192 1130.31,1182.03 1150.03,1171.82 1169.76,1161.36 1189.49,1150.66 1209.21,1139.71 1228.94,1128.51 1248.67,1117.07 1268.39,1105.39 1288.12,1093.45 1307.84,1081.27 1327.57,1068.85 1347.3,1056.18 1367.02,1043.26 1386.75,1030.09 1406.48,1016.68 1426.2,1003.03 1445.93,989.127 1465.66,974.979 1485.38,960.585 1505.11,945.945 1524.84,931.058 1544.56,915.926 1564.29,900.548 1584.02,884.924 1603.74,869.053 1623.47,852.937 1643.19,836.575 1662.92,819.966 1682.65,803.112 1702.37,786.011 1722.1,768.664 1741.83,751.072 1761.55,733.233 1781.28,715.148 1801.01,696.817 1820.73,678.24 1840.46,659.417 1860.19,640.348 1879.91,621.033 1899.64,601.472 1919.37,581.665 1939.09,561.612 1958.82,541.313 1978.54,520.767 1998.27,499.976 2018,478.938 2037.72,457.655 2057.45,436.125 2077.18,414.35 2096.9,392.328 2116.63,370.061 2136.36,347.547 2156.08,324.787 2175.81,301.781 2195.54,278.529 2215.26,255.031 2234.99,231.287 2254.72,207.297 2274.44,183.061 2294.17,158.579 \"/>\n",
       "<path clip-path=\"url(#clip140)\" d=\"M351.663 265.739 L598.768 265.739 L598.768 165.14 L351.663 165.14  Z\" fill=\"#ffffff\" fill-rule=\"evenodd\" fill-opacity=\"1\"/>\n",
       "<polyline clip-path=\"url(#clip140)\" style=\"stroke:#000000; stroke-linecap:round; stroke-linejoin:round; stroke-width:4; stroke-opacity:1; fill:none\" points=\"351.663,265.739 598.768,265.739 598.768,165.14 351.663,165.14 351.663,265.739 \"/>\n",
       "<polyline clip-path=\"url(#clip140)\" style=\"stroke:#ff0000; stroke-linecap:round; stroke-linejoin:round; stroke-width:12; stroke-opacity:1; fill:none\" points=\"374.664,215.44 512.671,215.44 \"/>\n",
       "<g clip-path=\"url(#clip140)\">\n",
       "<text style=\"fill:#000000; fill-opacity:1; font-family:Arial,Helvetica Neue,Helvetica,sans-serif; font-size:48px; text-anchor:start;\" transform=\"rotate(0, 535.672, 232.94)\" x=\"535.672\" y=\"232.94\">x²</text>\n",
       "</g>\n",
       "</svg>\n"
      ]
     },
     "metadata": {},
     "output_type": "display_data"
    }
   ],
   "source": [
    "plot(x, y, linewidth=3.0, label=\"x²\", linecolor=:red, fontfamily=\"Helvetica\", title=\"Practice plot with f(x)=x²\", xlabel=\"x\", ylabel=\"y\")"
   ]
  },
  {
   "cell_type": "code",
   "execution_count": 127,
   "metadata": {},
   "outputs": [
    {
     "data": {
      "text/plain": [
       "g (generic function with 1 method)"
      ]
     },
     "metadata": {},
     "output_type": "display_data"
    }
   ],
   "source": [
    "g(u) = u^3 "
   ]
  },
  {
   "cell_type": "code",
   "execution_count": 128,
   "metadata": {},
   "outputs": [
    {
     "data": {
      "text/plain": [
       "100-element Vector{Int64}:\n",
       "       1\n",
       "       8\n",
       "      27\n",
       "      64\n",
       "     125\n",
       "     216\n",
       "     343\n",
       "     512\n",
       "     729\n",
       "    1000\n",
       "       ⋮\n",
       "  778688\n",
       "  804357\n",
       "  830584\n",
       "  857375\n",
       "  884736\n",
       "  912673\n",
       "  941192\n",
       "  970299\n",
       " 1000000"
      ]
     },
     "metadata": {},
     "output_type": "display_data"
    }
   ],
   "source": [
    "v = [g(i) for i in 1:100]"
   ]
  },
  {
   "cell_type": "code",
   "execution_count": 132,
   "metadata": {},
   "outputs": [
    {
     "data": {
      "image/png": "[encoded data removed]",
      "image/svg+xml": [
       "<?xml version=\"1.0\" encoding=\"utf-8\"?>\n",
       "<svg xmlns=\"http://www.w3.org/2000/svg\" xmlns:xlink=\"http://www.w3.org/1999/xlink\" width=\"600\" height=\"400\" viewBox=\"0 0 2400 1600\">\n",
       "<defs>\n",
       "  <clipPath id=\"clip180\">\n",
       "    <rect x=\"0\" y=\"0\" width=\"2400\" height=\"1600\"/>\n",
       "  </clipPath>\n",
       "</defs>\n",
       "<path clip-path=\"url(#clip180)\" d=\"M0 1600 L2400 1600 L2400 0 L0 0  Z\" fill=\"#ffffff\" fill-rule=\"evenodd\" fill-opacity=\"1\"/>\n",
       "<defs>\n",
       "  <clipPath id=\"clip181\">\n",
       "    <rect x=\"480\" y=\"0\" width=\"1681\" height=\"1600\"/>\n",
       "  </clipPath>\n",
       "</defs>\n",
       "<path clip-path=\"url(#clip180)\" d=\"M345.896 1425.62 L2352.76 1425.62 L2352.76 121.675 L345.896 121.675  Z\" fill=\"#ffffff\" fill-rule=\"evenodd\" fill-opacity=\"1\"/>\n",
       "<defs>\n",
       "  <clipPath id=\"clip182\">\n",
       "    <rect x=\"345\" y=\"121\" width=\"2008\" height=\"1305\"/>\n",
       "  </clipPath>\n",
       "</defs>\n",
       "<polyline clip-path=\"url(#clip182)\" style=\"stroke:#000000; stroke-linecap:round; stroke-linejoin:round; stroke-width:2; stroke-opacity:0.1; fill:none\" points=\"383.57,1425.62 383.57,121.675 \"/>\n",
       "<polyline clip-path=\"url(#clip182)\" style=\"stroke:#000000; stroke-linecap:round; stroke-linejoin:round; stroke-width:2; stroke-opacity:0.1; fill:none\" points=\"861.667,1425.62 861.667,121.675 \"/>\n",
       "<polyline clip-path=\"url(#clip182)\" style=\"stroke:#000000; stroke-linecap:round; stroke-linejoin:round; stroke-width:2; stroke-opacity:0.1; fill:none\" points=\"1339.76,1425.62 1339.76,121.675 \"/>\n",
       "<polyline clip-path=\"url(#clip182)\" style=\"stroke:#000000; stroke-linecap:round; stroke-linejoin:round; stroke-width:2; stroke-opacity:0.1; fill:none\" points=\"1817.86,1425.62 1817.86,121.675 \"/>\n",
       "<polyline clip-path=\"url(#clip182)\" style=\"stroke:#000000; stroke-linecap:round; stroke-linejoin:round; stroke-width:2; stroke-opacity:0.1; fill:none\" points=\"2295.96,1425.62 2295.96,121.675 \"/>\n",
       "<polyline clip-path=\"url(#clip180)\" style=\"stroke:#000000; stroke-linecap:round; stroke-linejoin:round; stroke-width:4; stroke-opacity:1; fill:none\" points=\"345.896,1425.62 2352.76,1425.62 \"/>\n",
       "<polyline clip-path=\"url(#clip180)\" style=\"stroke:#000000; stroke-linecap:round; stroke-linejoin:round; stroke-width:4; stroke-opacity:1; fill:none\" points=\"383.57,1425.62 383.57,1406.72 \"/>\n",
       "<polyline clip-path=\"url(#clip180)\" style=\"stroke:#000000; stroke-linecap:round; stroke-linejoin:round; stroke-width:4; stroke-opacity:1; fill:none\" points=\"861.667,1425.62 861.667,1406.72 \"/>\n",
       "<polyline clip-path=\"url(#clip180)\" style=\"stroke:#000000; stroke-linecap:round; stroke-linejoin:round; stroke-width:4; stroke-opacity:1; fill:none\" points=\"1339.76,1425.62 1339.76,1406.72 \"/>\n",
       "<polyline clip-path=\"url(#clip180)\" style=\"stroke:#000000; stroke-linecap:round; stroke-linejoin:round; stroke-width:4; stroke-opacity:1; fill:none\" points=\"1817.86,1425.62 1817.86,1406.72 \"/>\n",
       "<polyline clip-path=\"url(#clip180)\" style=\"stroke:#000000; stroke-linecap:round; stroke-linejoin:round; stroke-width:4; stroke-opacity:1; fill:none\" points=\"2295.96,1425.62 2295.96,1406.72 \"/>\n",
       "<g clip-path=\"url(#clip180)\">\n",
       "<text style=\"fill:#000000; fill-opacity:1; font-family:Arial,Helvetica Neue,Helvetica,sans-serif; font-size:48px; text-anchor:middle;\" transform=\"rotate(0, 383.57, 1487.47)\" x=\"383.57\" y=\"1487.47\">0</text>\n",
       "</g>\n",
       "<g clip-path=\"url(#clip180)\">\n",
       "<text style=\"fill:#000000; fill-opacity:1; font-family:Arial,Helvetica Neue,Helvetica,sans-serif; font-size:48px; text-anchor:middle;\" transform=\"rotate(0, 861.667, 1487.47)\" x=\"861.667\" y=\"1487.47\">25</text>\n",
       "</g>\n",
       "<g clip-path=\"url(#clip180)\">\n",
       "<text style=\"fill:#000000; fill-opacity:1; font-family:Arial,Helvetica Neue,Helvetica,sans-serif; font-size:48px; text-anchor:middle;\" transform=\"rotate(0, 1339.76, 1487.47)\" x=\"1339.76\" y=\"1487.47\">50</text>\n",
       "</g>\n",
       "<g clip-path=\"url(#clip180)\">\n",
       "<text style=\"fill:#000000; fill-opacity:1; font-family:Arial,Helvetica Neue,Helvetica,sans-serif; font-size:48px; text-anchor:middle;\" transform=\"rotate(0, 1817.86, 1487.47)\" x=\"1817.86\" y=\"1487.47\">75</text>\n",
       "</g>\n",
       "<g clip-path=\"url(#clip180)\">\n",
       "<text style=\"fill:#000000; fill-opacity:1; font-family:Arial,Helvetica Neue,Helvetica,sans-serif; font-size:48px; text-anchor:middle;\" transform=\"rotate(0, 2295.96, 1487.47)\" x=\"2295.96\" y=\"1487.47\">100</text>\n",
       "</g>\n",
       "<g clip-path=\"url(#clip180)\">\n",
       "<text style=\"fill:#000000; fill-opacity:1; font-family:Arial,Helvetica Neue,Helvetica,sans-serif; font-size:66px; text-anchor:middle;\" transform=\"rotate(0, 1349.33, 1571.48)\" x=\"1349.33\" y=\"1571.48\">x</text>\n",
       "</g>\n",
       "<polyline clip-path=\"url(#clip182)\" style=\"stroke:#000000; stroke-linecap:round; stroke-linejoin:round; stroke-width:2; stroke-opacity:0.1; fill:none\" points=\"345.896,1388.72 2352.76,1388.72 \"/>\n",
       "<polyline clip-path=\"url(#clip182)\" style=\"stroke:#000000; stroke-linecap:round; stroke-linejoin:round; stroke-width:2; stroke-opacity:0.1; fill:none\" points=\"345.896,1081.18 2352.76,1081.18 \"/>\n",
       "<polyline clip-path=\"url(#clip182)\" style=\"stroke:#000000; stroke-linecap:round; stroke-linejoin:round; stroke-width:2; stroke-opacity:0.1; fill:none\" points=\"345.896,773.647 2352.76,773.647 \"/>\n",
       "<polyline clip-path=\"url(#clip182)\" style=\"stroke:#000000; stroke-linecap:round; stroke-linejoin:round; stroke-width:2; stroke-opacity:0.1; fill:none\" points=\"345.896,466.113 2352.76,466.113 \"/>\n",
       "<polyline clip-path=\"url(#clip182)\" style=\"stroke:#000000; stroke-linecap:round; stroke-linejoin:round; stroke-width:2; stroke-opacity:0.1; fill:none\" points=\"345.896,158.579 2352.76,158.579 \"/>\n",
       "<polyline clip-path=\"url(#clip180)\" style=\"stroke:#000000; stroke-linecap:round; stroke-linejoin:round; stroke-width:4; stroke-opacity:1; fill:none\" points=\"345.896,1425.62 345.896,121.675 \"/>\n",
       "<polyline clip-path=\"url(#clip180)\" style=\"stroke:#000000; stroke-linecap:round; stroke-linejoin:round; stroke-width:4; stroke-opacity:1; fill:none\" points=\"345.896,1388.72 364.793,1388.72 \"/>\n",
       "<polyline clip-path=\"url(#clip180)\" style=\"stroke:#000000; stroke-linecap:round; stroke-linejoin:round; stroke-width:4; stroke-opacity:1; fill:none\" points=\"345.896,1081.18 364.793,1081.18 \"/>\n",
       "<polyline clip-path=\"url(#clip180)\" style=\"stroke:#000000; stroke-linecap:round; stroke-linejoin:round; stroke-width:4; stroke-opacity:1; fill:none\" points=\"345.896,773.647 364.793,773.647 \"/>\n",
       "<polyline clip-path=\"url(#clip180)\" style=\"stroke:#000000; stroke-linecap:round; stroke-linejoin:round; stroke-width:4; stroke-opacity:1; fill:none\" points=\"345.896,466.113 364.793,466.113 \"/>\n",
       "<polyline clip-path=\"url(#clip180)\" style=\"stroke:#000000; stroke-linecap:round; stroke-linejoin:round; stroke-width:4; stroke-opacity:1; fill:none\" points=\"345.896,158.579 364.793,158.579 \"/>\n",
       "<g clip-path=\"url(#clip180)\">\n",
       "<text style=\"fill:#000000; fill-opacity:1; font-family:Arial,Helvetica Neue,Helvetica,sans-serif; font-size:48px; text-anchor:middle;\" transform=\"rotate(0, 296.514, 1406.22)\" x=\"296.514\" y=\"1406.22\">0</text>\n",
       "</g>\n",
       "<g clip-path=\"url(#clip180)\">\n",
       "<text style=\"fill:#000000; fill-opacity:1; font-family:Arial,Helvetica Neue,Helvetica,sans-serif; font-size:48px; text-anchor:start;\" transform=\"rotate(0, 112.848, 1104.91)\" x=\"112.848\" y=\"1104.91\">2.50×10</text>\n",
       "</g>\n",
       "<g clip-path=\"url(#clip180)\">\n",
       "<text style=\"fill:#000000; fill-opacity:1; font-family:Arial,Helvetica Neue,Helvetica,sans-serif; font-size:38px; text-anchor:start;\" transform=\"rotate(0, 288.151, 1077.5)\" x=\"288.151\" y=\"1077.5\">5</text>\n",
       "</g>\n",
       "<g clip-path=\"url(#clip180)\">\n",
       "<text style=\"fill:#000000; fill-opacity:1; font-family:Arial,Helvetica Neue,Helvetica,sans-serif; font-size:48px; text-anchor:start;\" transform=\"rotate(0, 112.848, 797.375)\" x=\"112.848\" y=\"797.375\">5.00×10</text>\n",
       "</g>\n",
       "<g clip-path=\"url(#clip180)\">\n",
       "<text style=\"fill:#000000; fill-opacity:1; font-family:Arial,Helvetica Neue,Helvetica,sans-serif; font-size:38px; text-anchor:start;\" transform=\"rotate(0, 288.151, 769.965)\" x=\"288.151\" y=\"769.965\">5</text>\n",
       "</g>\n",
       "<g clip-path=\"url(#clip180)\">\n",
       "<text style=\"fill:#000000; fill-opacity:1; font-family:Arial,Helvetica Neue,Helvetica,sans-serif; font-size:48px; text-anchor:start;\" transform=\"rotate(0, 112.848, 489.841)\" x=\"112.848\" y=\"489.841\">7.50×10</text>\n",
       "</g>\n",
       "<g clip-path=\"url(#clip180)\">\n",
       "<text style=\"fill:#000000; fill-opacity:1; font-family:Arial,Helvetica Neue,Helvetica,sans-serif; font-size:38px; text-anchor:start;\" transform=\"rotate(0, 288.151, 462.431)\" x=\"288.151\" y=\"462.431\">5</text>\n",
       "</g>\n",
       "<g clip-path=\"url(#clip180)\">\n",
       "<text style=\"fill:#000000; fill-opacity:1; font-family:Arial,Helvetica Neue,Helvetica,sans-serif; font-size:48px; text-anchor:start;\" transform=\"rotate(0, 112.848, 182.307)\" x=\"112.848\" y=\"182.307\">1.00×10</text>\n",
       "</g>\n",
       "<g clip-path=\"url(#clip180)\">\n",
       "<text style=\"fill:#000000; fill-opacity:1; font-family:Arial,Helvetica Neue,Helvetica,sans-serif; font-size:38px; text-anchor:start;\" transform=\"rotate(0, 288.151, 154.896)\" x=\"288.151\" y=\"154.896\">6</text>\n",
       "</g>\n",
       "<g clip-path=\"url(#clip180)\">\n",
       "<text style=\"fill:#000000; fill-opacity:1; font-family:Arial,Helvetica Neue,Helvetica,sans-serif; font-size:66px; text-anchor:middle;\" transform=\"rotate(-90, 65.2861, 773.647)\" x=\"65.2861\" y=\"773.647\">y</text>\n",
       "</g>\n",
       "<g clip-path=\"url(#clip180)\">\n",
       "<text style=\"fill:#000000; fill-opacity:1; font-family:Arial,Helvetica Neue,Helvetica,sans-serif; font-size:84px; text-anchor:middle;\" transform=\"rotate(0, 1349.33, 73.2)\" x=\"1349.33\" y=\"73.2\">Practice plot with f(x)=x²</text>\n",
       "</g>\n",
       "<polyline clip-path=\"url(#clip182)\" style=\"stroke:#ff0000; stroke-linecap:round; stroke-linejoin:round; stroke-width:12; stroke-opacity:1; fill:none\" points=\"402.694,1388.71 421.817,1388.71 440.941,1388.7 460.065,1388.7 479.189,1388.69 498.313,1388.67 517.437,1388.66 536.561,1388.64 555.685,1388.62 574.808,1388.59 593.932,1388.57 613.056,1388.54 632.18,1388.51 651.304,1388.47 670.428,1388.44 689.552,1388.4 708.676,1388.36 727.8,1388.32 746.923,1388.27 766.047,1388.22 785.171,1388.17 804.295,1388.12 823.419,1388.07 842.543,1388.01 861.667,1387.95 880.791,1387.88 899.914,1387.82 919.038,1387.75 938.162,1387.68 957.286,1387.61 976.41,1387.53 995.534,1387.46 1014.66,1387.38 1033.78,1387.29 1052.91,1387.21 1072.03,1387.12 1091.15,1387.03 1110.28,1386.94 1129.4,1386.84 1148.52,1386.75 1167.65,1386.65 1186.77,1386.55 1205.9,1386.44 1225.02,1386.33 1244.14,1386.22 1263.27,1386.11 1282.39,1386 1301.52,1385.88 1320.64,1385.76 1339.76,1385.64 1358.89,1385.52 1378.01,1385.39 1397.14,1385.26 1416.26,1385.13 1435.38,1384.99 1454.51,1384.86 1473.63,1384.72 1492.75,1384.58 1511.88,1384.43 1531,1384.29 1550.13,1384.14 1569.25,1383.99 1588.37,1383.83 1607.5,1383.68 1626.62,1383.52 1645.75,1383.36 1664.87,1383.19 1683.99,1383.03 1703.12,1382.86 1722.24,1382.69 1741.37,1382.51 1760.49,1382.34 1779.61,1382.16 1798.74,1381.98 1817.86,1381.8 1836.98,1381.61 1856.11,1381.42 1875.23,1381.23 1894.36,1381.04 1913.48,1380.84 1932.6,1380.64 1951.73,1380.44 1970.85,1380.24 1989.98,1380.04 2009.1,1379.83 2028.22,1379.62 2047.35,1379.4 2066.47,1379.19 2085.6,1378.97 2104.72,1378.75 2123.84,1378.53 2142.97,1378.3 2162.09,1378.08 2181.21,1377.85 2200.34,1377.61 2219.46,1377.38 2238.59,1377.14 2257.71,1376.9 2276.83,1376.66 2295.96,1376.41 \"/>\n",
       "<polyline clip-path=\"url(#clip182)\" style=\"stroke:#0000ff; stroke-linecap:round; stroke-linejoin:round; stroke-width:12; stroke-opacity:1; fill:none\" points=\"402.694,1388.71 421.817,1388.71 440.941,1388.68 460.065,1388.64 479.189,1388.56 498.313,1388.45 517.437,1388.29 536.561,1388.09 555.685,1387.82 574.808,1387.49 593.932,1387.08 613.056,1386.59 632.18,1386.01 651.304,1385.34 670.428,1384.56 689.552,1383.68 708.676,1382.67 727.8,1381.54 746.923,1380.28 766.047,1378.87 785.171,1377.32 804.295,1375.62 823.419,1373.75 842.543,1371.71 861.667,1369.49 880.791,1367.09 899.914,1364.5 919.038,1361.71 938.162,1358.71 957.286,1355.5 976.41,1352.07 995.534,1348.41 1014.66,1344.51 1033.78,1340.37 1052.91,1335.97 1072.03,1331.32 1091.15,1326.41 1110.28,1321.22 1129.4,1315.75 1148.52,1309.99 1167.65,1303.93 1186.77,1297.58 1205.9,1290.91 1225.02,1283.93 1244.14,1276.62 1263.27,1268.98 1282.39,1261 1301.52,1252.67 1320.64,1243.99 1339.76,1234.95 1358.89,1225.54 1378.01,1215.75 1397.14,1205.58 1416.26,1195.01 1435.38,1184.05 1454.51,1172.68 1473.63,1160.9 1492.75,1148.7 1511.88,1136.07 1531,1123.01 1550.13,1109.5 1569.25,1095.54 1588.37,1081.12 1607.5,1066.24 1626.62,1050.89 1645.75,1035.06 1664.87,1018.74 1683.99,1001.92 1703.12,984.605 1722.24,966.779 1741.37,948.436 1760.49,929.57 1779.61,910.172 1798.74,890.235 1817.86,869.752 1836.98,848.715 1856.11,827.118 1875.23,804.952 1894.36,782.21 1913.48,758.886 1932.6,734.971 1951.73,710.458 1970.85,685.34 1989.98,659.609 2009.1,633.258 2028.22,606.28 2047.35,578.667 2066.47,550.412 2085.6,521.508 2104.72,491.946 2123.84,461.721 2142.97,430.823 2162.09,399.247 2181.21,366.984 2200.34,334.027 2219.46,300.37 2238.59,266.003 2257.71,230.921 2276.83,195.115 2295.96,158.579 \"/>\n",
       "<path clip-path=\"url(#clip180)\" d=\"M412.791 316.039 L653.572 316.039 L653.572 165.14 L412.791 165.14  Z\" fill=\"#ffffff\" fill-rule=\"evenodd\" fill-opacity=\"1\"/>\n",
       "<polyline clip-path=\"url(#clip180)\" style=\"stroke:#000000; stroke-linecap:round; stroke-linejoin:round; stroke-width:4; stroke-opacity:1; fill:none\" points=\"412.791,316.039 653.572,316.039 653.572,165.14 412.791,165.14 412.791,316.039 \"/>\n",
       "<polyline clip-path=\"url(#clip180)\" style=\"stroke:#ff0000; stroke-linecap:round; stroke-linejoin:round; stroke-width:12; stroke-opacity:1; fill:none\" points=\"435.089,215.44 568.88,215.44 \"/>\n",
       "<g clip-path=\"url(#clip180)\">\n",
       "<text style=\"fill:#000000; fill-opacity:1; font-family:Arial,Helvetica Neue,Helvetica,sans-serif; font-size:48px; text-anchor:start;\" transform=\"rotate(0, 591.179, 232.94)\" x=\"591.179\" y=\"232.94\">x²</text>\n",
       "</g>\n",
       "<polyline clip-path=\"url(#clip180)\" style=\"stroke:#0000ff; stroke-linecap:round; stroke-linejoin:round; stroke-width:12; stroke-opacity:1; fill:none\" points=\"435.089,265.739 568.88,265.739 \"/>\n",
       "<g clip-path=\"url(#clip180)\">\n",
       "<text style=\"fill:#000000; fill-opacity:1; font-family:Arial,Helvetica Neue,Helvetica,sans-serif; font-size:48px; text-anchor:start;\" transform=\"rotate(0, 591.179, 283.239)\" x=\"591.179\" y=\"283.239\">x³</text>\n",
       "</g>\n",
       "</svg>\n"
      ],
      "text/html": [
       "<?xml version=\"1.0\" encoding=\"utf-8\"?>\n",
       "<svg xmlns=\"http://www.w3.org/2000/svg\" xmlns:xlink=\"http://www.w3.org/1999/xlink\" width=\"600\" height=\"400\" viewBox=\"0 0 2400 1600\">\n",
       "<defs>\n",
       "  <clipPath id=\"clip230\">\n",
       "    <rect x=\"0\" y=\"0\" width=\"2400\" height=\"1600\"/>\n",
       "  </clipPath>\n",
       "</defs>\n",
       "<path clip-path=\"url(#clip230)\" d=\"M0 1600 L2400 1600 L2400 0 L0 0  Z\" fill=\"#ffffff\" fill-rule=\"evenodd\" fill-opacity=\"1\"/>\n",
       "<defs>\n",
       "  <clipPath id=\"clip231\">\n",
       "    <rect x=\"480\" y=\"0\" width=\"1681\" height=\"1600\"/>\n",
       "  </clipPath>\n",
       "</defs>\n",
       "<path clip-path=\"url(#clip230)\" d=\"M345.896 1425.62 L2352.76 1425.62 L2352.76 121.675 L345.896 121.675  Z\" fill=\"#ffffff\" fill-rule=\"evenodd\" fill-opacity=\"1\"/>\n",
       "<defs>\n",
       "  <clipPath id=\"clip232\">\n",
       "    <rect x=\"345\" y=\"121\" width=\"2008\" height=\"1305\"/>\n",
       "  </clipPath>\n",
       "</defs>\n",
       "<polyline clip-path=\"url(#clip232)\" style=\"stroke:#000000; stroke-linecap:round; stroke-linejoin:round; stroke-width:2; stroke-opacity:0.1; fill:none\" points=\"383.57,1425.62 383.57,121.675 \"/>\n",
       "<polyline clip-path=\"url(#clip232)\" style=\"stroke:#000000; stroke-linecap:round; stroke-linejoin:round; stroke-width:2; stroke-opacity:0.1; fill:none\" points=\"861.667,1425.62 861.667,121.675 \"/>\n",
       "<polyline clip-path=\"url(#clip232)\" style=\"stroke:#000000; stroke-linecap:round; stroke-linejoin:round; stroke-width:2; stroke-opacity:0.1; fill:none\" points=\"1339.76,1425.62 1339.76,121.675 \"/>\n",
       "<polyline clip-path=\"url(#clip232)\" style=\"stroke:#000000; stroke-linecap:round; stroke-linejoin:round; stroke-width:2; stroke-opacity:0.1; fill:none\" points=\"1817.86,1425.62 1817.86,121.675 \"/>\n",
       "<polyline clip-path=\"url(#clip232)\" style=\"stroke:#000000; stroke-linecap:round; stroke-linejoin:round; stroke-width:2; stroke-opacity:0.1; fill:none\" points=\"2295.96,1425.62 2295.96,121.675 \"/>\n",
       "<polyline clip-path=\"url(#clip230)\" style=\"stroke:#000000; stroke-linecap:round; stroke-linejoin:round; stroke-width:4; stroke-opacity:1; fill:none\" points=\"345.896,1425.62 2352.76,1425.62 \"/>\n",
       "<polyline clip-path=\"url(#clip230)\" style=\"stroke:#000000; stroke-linecap:round; stroke-linejoin:round; stroke-width:4; stroke-opacity:1; fill:none\" points=\"383.57,1425.62 383.57,1406.72 \"/>\n",
       "<polyline clip-path=\"url(#clip230)\" style=\"stroke:#000000; stroke-linecap:round; stroke-linejoin:round; stroke-width:4; stroke-opacity:1; fill:none\" points=\"861.667,1425.62 861.667,1406.72 \"/>\n",
       "<polyline clip-path=\"url(#clip230)\" style=\"stroke:#000000; stroke-linecap:round; stroke-linejoin:round; stroke-width:4; stroke-opacity:1; fill:none\" points=\"1339.76,1425.62 1339.76,1406.72 \"/>\n",
       "<polyline clip-path=\"url(#clip230)\" style=\"stroke:#000000; stroke-linecap:round; stroke-linejoin:round; stroke-width:4; stroke-opacity:1; fill:none\" points=\"1817.86,1425.62 1817.86,1406.72 \"/>\n",
       "<polyline clip-path=\"url(#clip230)\" style=\"stroke:#000000; stroke-linecap:round; stroke-linejoin:round; stroke-width:4; stroke-opacity:1; fill:none\" points=\"2295.96,1425.62 2295.96,1406.72 \"/>\n",
       "<g clip-path=\"url(#clip230)\">\n",
       "<text style=\"fill:#000000; fill-opacity:1; font-family:Arial,Helvetica Neue,Helvetica,sans-serif; font-size:48px; text-anchor:middle;\" transform=\"rotate(0, 383.57, 1487.47)\" x=\"383.57\" y=\"1487.47\">0</text>\n",
       "</g>\n",
       "<g clip-path=\"url(#clip230)\">\n",
       "<text style=\"fill:#000000; fill-opacity:1; font-family:Arial,Helvetica Neue,Helvetica,sans-serif; font-size:48px; text-anchor:middle;\" transform=\"rotate(0, 861.667, 1487.47)\" x=\"861.667\" y=\"1487.47\">25</text>\n",
       "</g>\n",
       "<g clip-path=\"url(#clip230)\">\n",
       "<text style=\"fill:#000000; fill-opacity:1; font-family:Arial,Helvetica Neue,Helvetica,sans-serif; font-size:48px; text-anchor:middle;\" transform=\"rotate(0, 1339.76, 1487.47)\" x=\"1339.76\" y=\"1487.47\">50</text>\n",
       "</g>\n",
       "<g clip-path=\"url(#clip230)\">\n",
       "<text style=\"fill:#000000; fill-opacity:1; font-family:Arial,Helvetica Neue,Helvetica,sans-serif; font-size:48px; text-anchor:middle;\" transform=\"rotate(0, 1817.86, 1487.47)\" x=\"1817.86\" y=\"1487.47\">75</text>\n",
       "</g>\n",
       "<g clip-path=\"url(#clip230)\">\n",
       "<text style=\"fill:#000000; fill-opacity:1; font-family:Arial,Helvetica Neue,Helvetica,sans-serif; font-size:48px; text-anchor:middle;\" transform=\"rotate(0, 2295.96, 1487.47)\" x=\"2295.96\" y=\"1487.47\">100</text>\n",
       "</g>\n",
       "<g clip-path=\"url(#clip230)\">\n",
       "<text style=\"fill:#000000; fill-opacity:1; font-family:Arial,Helvetica Neue,Helvetica,sans-serif; font-size:66px; text-anchor:middle;\" transform=\"rotate(0, 1349.33, 1571.48)\" x=\"1349.33\" y=\"1571.48\">x</text>\n",
       "</g>\n",
       "<polyline clip-path=\"url(#clip232)\" style=\"stroke:#000000; stroke-linecap:round; stroke-linejoin:round; stroke-width:2; stroke-opacity:0.1; fill:none\" points=\"345.896,1388.72 2352.76,1388.72 \"/>\n",
       "<polyline clip-path=\"url(#clip232)\" style=\"stroke:#000000; stroke-linecap:round; stroke-linejoin:round; stroke-width:2; stroke-opacity:0.1; fill:none\" points=\"345.896,1081.18 2352.76,1081.18 \"/>\n",
       "<polyline clip-path=\"url(#clip232)\" style=\"stroke:#000000; stroke-linecap:round; stroke-linejoin:round; stroke-width:2; stroke-opacity:0.1; fill:none\" points=\"345.896,773.647 2352.76,773.647 \"/>\n",
       "<polyline clip-path=\"url(#clip232)\" style=\"stroke:#000000; stroke-linecap:round; stroke-linejoin:round; stroke-width:2; stroke-opacity:0.1; fill:none\" points=\"345.896,466.113 2352.76,466.113 \"/>\n",
       "<polyline clip-path=\"url(#clip232)\" style=\"stroke:#000000; stroke-linecap:round; stroke-linejoin:round; stroke-width:2; stroke-opacity:0.1; fill:none\" points=\"345.896,158.579 2352.76,158.579 \"/>\n",
       "<polyline clip-path=\"url(#clip230)\" style=\"stroke:#000000; stroke-linecap:round; stroke-linejoin:round; stroke-width:4; stroke-opacity:1; fill:none\" points=\"345.896,1425.62 345.896,121.675 \"/>\n",
       "<polyline clip-path=\"url(#clip230)\" style=\"stroke:#000000; stroke-linecap:round; stroke-linejoin:round; stroke-width:4; stroke-opacity:1; fill:none\" points=\"345.896,1388.72 364.793,1388.72 \"/>\n",
       "<polyline clip-path=\"url(#clip230)\" style=\"stroke:#000000; stroke-linecap:round; stroke-linejoin:round; stroke-width:4; stroke-opacity:1; fill:none\" points=\"345.896,1081.18 364.793,1081.18 \"/>\n",
       "<polyline clip-path=\"url(#clip230)\" style=\"stroke:#000000; stroke-linecap:round; stroke-linejoin:round; stroke-width:4; stroke-opacity:1; fill:none\" points=\"345.896,773.647 364.793,773.647 \"/>\n",
       "<polyline clip-path=\"url(#clip230)\" style=\"stroke:#000000; stroke-linecap:round; stroke-linejoin:round; stroke-width:4; stroke-opacity:1; fill:none\" points=\"345.896,466.113 364.793,466.113 \"/>\n",
       "<polyline clip-path=\"url(#clip230)\" style=\"stroke:#000000; stroke-linecap:round; stroke-linejoin:round; stroke-width:4; stroke-opacity:1; fill:none\" points=\"345.896,158.579 364.793,158.579 \"/>\n",
       "<g clip-path=\"url(#clip230)\">\n",
       "<text style=\"fill:#000000; fill-opacity:1; font-family:Arial,Helvetica Neue,Helvetica,sans-serif; font-size:48px; text-anchor:middle;\" transform=\"rotate(0, 296.514, 1406.22)\" x=\"296.514\" y=\"1406.22\">0</text>\n",
       "</g>\n",
       "<g clip-path=\"url(#clip230)\">\n",
       "<text style=\"fill:#000000; fill-opacity:1; font-family:Arial,Helvetica Neue,Helvetica,sans-serif; font-size:48px; text-anchor:start;\" transform=\"rotate(0, 112.848, 1104.91)\" x=\"112.848\" y=\"1104.91\">2.50×10</text>\n",
       "</g>\n",
       "<g clip-path=\"url(#clip230)\">\n",
       "<text style=\"fill:#000000; fill-opacity:1; font-family:Arial,Helvetica Neue,Helvetica,sans-serif; font-size:38px; text-anchor:start;\" transform=\"rotate(0, 288.151, 1077.5)\" x=\"288.151\" y=\"1077.5\">5</text>\n",
       "</g>\n",
       "<g clip-path=\"url(#clip230)\">\n",
       "<text style=\"fill:#000000; fill-opacity:1; font-family:Arial,Helvetica Neue,Helvetica,sans-serif; font-size:48px; text-anchor:start;\" transform=\"rotate(0, 112.848, 797.375)\" x=\"112.848\" y=\"797.375\">5.00×10</text>\n",
       "</g>\n",
       "<g clip-path=\"url(#clip230)\">\n",
       "<text style=\"fill:#000000; fill-opacity:1; font-family:Arial,Helvetica Neue,Helvetica,sans-serif; font-size:38px; text-anchor:start;\" transform=\"rotate(0, 288.151, 769.965)\" x=\"288.151\" y=\"769.965\">5</text>\n",
       "</g>\n",
       "<g clip-path=\"url(#clip230)\">\n",
       "<text style=\"fill:#000000; fill-opacity:1; font-family:Arial,Helvetica Neue,Helvetica,sans-serif; font-size:48px; text-anchor:start;\" transform=\"rotate(0, 112.848, 489.841)\" x=\"112.848\" y=\"489.841\">7.50×10</text>\n",
       "</g>\n",
       "<g clip-path=\"url(#clip230)\">\n",
       "<text style=\"fill:#000000; fill-opacity:1; font-family:Arial,Helvetica Neue,Helvetica,sans-serif; font-size:38px; text-anchor:start;\" transform=\"rotate(0, 288.151, 462.431)\" x=\"288.151\" y=\"462.431\">5</text>\n",
       "</g>\n",
       "<g clip-path=\"url(#clip230)\">\n",
       "<text style=\"fill:#000000; fill-opacity:1; font-family:Arial,Helvetica Neue,Helvetica,sans-serif; font-size:48px; text-anchor:start;\" transform=\"rotate(0, 112.848, 182.307)\" x=\"112.848\" y=\"182.307\">1.00×10</text>\n",
       "</g>\n",
       "<g clip-path=\"url(#clip230)\">\n",
       "<text style=\"fill:#000000; fill-opacity:1; font-family:Arial,Helvetica Neue,Helvetica,sans-serif; font-size:38px; text-anchor:start;\" transform=\"rotate(0, 288.151, 154.896)\" x=\"288.151\" y=\"154.896\">6</text>\n",
       "</g>\n",
       "<g clip-path=\"url(#clip230)\">\n",
       "<text style=\"fill:#000000; fill-opacity:1; font-family:Arial,Helvetica Neue,Helvetica,sans-serif; font-size:66px; text-anchor:middle;\" transform=\"rotate(-90, 65.2861, 773.647)\" x=\"65.2861\" y=\"773.647\">y</text>\n",
       "</g>\n",
       "<g clip-path=\"url(#clip230)\">\n",
       "<text style=\"fill:#000000; fill-opacity:1; font-family:Arial,Helvetica Neue,Helvetica,sans-serif; font-size:84px; text-anchor:middle;\" transform=\"rotate(0, 1349.33, 73.2)\" x=\"1349.33\" y=\"73.2\">Practice plot with f(x)=x²</text>\n",
       "</g>\n",
       "<polyline clip-path=\"url(#clip232)\" style=\"stroke:#ff0000; stroke-linecap:round; stroke-linejoin:round; stroke-width:12; stroke-opacity:1; fill:none\" points=\"402.694,1388.71 421.817,1388.71 440.941,1388.7 460.065,1388.7 479.189,1388.69 498.313,1388.67 517.437,1388.66 536.561,1388.64 555.685,1388.62 574.808,1388.59 593.932,1388.57 613.056,1388.54 632.18,1388.51 651.304,1388.47 670.428,1388.44 689.552,1388.4 708.676,1388.36 727.8,1388.32 746.923,1388.27 766.047,1388.22 785.171,1388.17 804.295,1388.12 823.419,1388.07 842.543,1388.01 861.667,1387.95 880.791,1387.88 899.914,1387.82 919.038,1387.75 938.162,1387.68 957.286,1387.61 976.41,1387.53 995.534,1387.46 1014.66,1387.38 1033.78,1387.29 1052.91,1387.21 1072.03,1387.12 1091.15,1387.03 1110.28,1386.94 1129.4,1386.84 1148.52,1386.75 1167.65,1386.65 1186.77,1386.55 1205.9,1386.44 1225.02,1386.33 1244.14,1386.22 1263.27,1386.11 1282.39,1386 1301.52,1385.88 1320.64,1385.76 1339.76,1385.64 1358.89,1385.52 1378.01,1385.39 1397.14,1385.26 1416.26,1385.13 1435.38,1384.99 1454.51,1384.86 1473.63,1384.72 1492.75,1384.58 1511.88,1384.43 1531,1384.29 1550.13,1384.14 1569.25,1383.99 1588.37,1383.83 1607.5,1383.68 1626.62,1383.52 1645.75,1383.36 1664.87,1383.19 1683.99,1383.03 1703.12,1382.86 1722.24,1382.69 1741.37,1382.51 1760.49,1382.34 1779.61,1382.16 1798.74,1381.98 1817.86,1381.8 1836.98,1381.61 1856.11,1381.42 1875.23,1381.23 1894.36,1381.04 1913.48,1380.84 1932.6,1380.64 1951.73,1380.44 1970.85,1380.24 1989.98,1380.04 2009.1,1379.83 2028.22,1379.62 2047.35,1379.4 2066.47,1379.19 2085.6,1378.97 2104.72,1378.75 2123.84,1378.53 2142.97,1378.3 2162.09,1378.08 2181.21,1377.85 2200.34,1377.61 2219.46,1377.38 2238.59,1377.14 2257.71,1376.9 2276.83,1376.66 2295.96,1376.41 \"/>\n",
       "<polyline clip-path=\"url(#clip232)\" style=\"stroke:#0000ff; stroke-linecap:round; stroke-linejoin:round; stroke-width:12; stroke-opacity:1; fill:none\" points=\"402.694,1388.71 421.817,1388.71 440.941,1388.68 460.065,1388.64 479.189,1388.56 498.313,1388.45 517.437,1388.29 536.561,1388.09 555.685,1387.82 574.808,1387.49 593.932,1387.08 613.056,1386.59 632.18,1386.01 651.304,1385.34 670.428,1384.56 689.552,1383.68 708.676,1382.67 727.8,1381.54 746.923,1380.28 766.047,1378.87 785.171,1377.32 804.295,1375.62 823.419,1373.75 842.543,1371.71 861.667,1369.49 880.791,1367.09 899.914,1364.5 919.038,1361.71 938.162,1358.71 957.286,1355.5 976.41,1352.07 995.534,1348.41 1014.66,1344.51 1033.78,1340.37 1052.91,1335.97 1072.03,1331.32 1091.15,1326.41 1110.28,1321.22 1129.4,1315.75 1148.52,1309.99 1167.65,1303.93 1186.77,1297.58 1205.9,1290.91 1225.02,1283.93 1244.14,1276.62 1263.27,1268.98 1282.39,1261 1301.52,1252.67 1320.64,1243.99 1339.76,1234.95 1358.89,1225.54 1378.01,1215.75 1397.14,1205.58 1416.26,1195.01 1435.38,1184.05 1454.51,1172.68 1473.63,1160.9 1492.75,1148.7 1511.88,1136.07 1531,1123.01 1550.13,1109.5 1569.25,1095.54 1588.37,1081.12 1607.5,1066.24 1626.62,1050.89 1645.75,1035.06 1664.87,1018.74 1683.99,1001.92 1703.12,984.605 1722.24,966.779 1741.37,948.436 1760.49,929.57 1779.61,910.172 1798.74,890.235 1817.86,869.752 1836.98,848.715 1856.11,827.118 1875.23,804.952 1894.36,782.21 1913.48,758.886 1932.6,734.971 1951.73,710.458 1970.85,685.34 1989.98,659.609 2009.1,633.258 2028.22,606.28 2047.35,578.667 2066.47,550.412 2085.6,521.508 2104.72,491.946 2123.84,461.721 2142.97,430.823 2162.09,399.247 2181.21,366.984 2200.34,334.027 2219.46,300.37 2238.59,266.003 2257.71,230.921 2276.83,195.115 2295.96,158.579 \"/>\n",
       "<path clip-path=\"url(#clip230)\" d=\"M412.791 316.039 L653.572 316.039 L653.572 165.14 L412.791 165.14  Z\" fill=\"#ffffff\" fill-rule=\"evenodd\" fill-opacity=\"1\"/>\n",
       "<polyline clip-path=\"url(#clip230)\" style=\"stroke:#000000; stroke-linecap:round; stroke-linejoin:round; stroke-width:4; stroke-opacity:1; fill:none\" points=\"412.791,316.039 653.572,316.039 653.572,165.14 412.791,165.14 412.791,316.039 \"/>\n",
       "<polyline clip-path=\"url(#clip230)\" style=\"stroke:#ff0000; stroke-linecap:round; stroke-linejoin:round; stroke-width:12; stroke-opacity:1; fill:none\" points=\"435.089,215.44 568.88,215.44 \"/>\n",
       "<g clip-path=\"url(#clip230)\">\n",
       "<text style=\"fill:#000000; fill-opacity:1; font-family:Arial,Helvetica Neue,Helvetica,sans-serif; font-size:48px; text-anchor:start;\" transform=\"rotate(0, 591.179, 232.94)\" x=\"591.179\" y=\"232.94\">x²</text>\n",
       "</g>\n",
       "<polyline clip-path=\"url(#clip230)\" style=\"stroke:#0000ff; stroke-linecap:round; stroke-linejoin:round; stroke-width:12; stroke-opacity:1; fill:none\" points=\"435.089,265.739 568.88,265.739 \"/>\n",
       "<g clip-path=\"url(#clip230)\">\n",
       "<text style=\"fill:#000000; fill-opacity:1; font-family:Arial,Helvetica Neue,Helvetica,sans-serif; font-size:48px; text-anchor:start;\" transform=\"rotate(0, 591.179, 283.239)\" x=\"591.179\" y=\"283.239\">x³</text>\n",
       "</g>\n",
       "</svg>\n"
      ]
     },
     "metadata": {},
     "output_type": "display_data"
    }
   ],
   "source": [
    "plot!(x, v, linewidth=3.0, label=\"x³\", linecolor=:blue, fontfamily=\"Helvetica\", title=\"Practice plot with f(x)=x²\", xlabel=\"x\", ylabel=\"y\")"
   ]
  },
  {
   "cell_type": "code",
   "execution_count": 133,
   "metadata": {},
   "outputs": [
    {
     "data": {
      "text/plain": [
       "w (generic function with 1 method)"
      ]
     },
     "metadata": {},
     "output_type": "display_data"
    }
   ],
   "source": [
    "w(u) = u^4"
   ]
  },
  {
   "cell_type": "code",
   "execution_count": 134,
   "metadata": {},
   "outputs": [
    {
     "data": {
      "text/plain": [
       "100-element Vector{Int64}:\n",
       "         1\n",
       "        16\n",
       "        81\n",
       "       256\n",
       "       625\n",
       "      1296\n",
       "      2401\n",
       "      4096\n",
       "      6561\n",
       "     10000\n",
       "         ⋮\n",
       "  71639296\n",
       "  74805201\n",
       "  78074896\n",
       "  81450625\n",
       "  84934656\n",
       "  88529281\n",
       "  92236816\n",
       "  96059601\n",
       " 100000000"
      ]
     },
     "metadata": {},
     "output_type": "display_data"
    }
   ],
   "source": [
    "t = [w(i) for i in 1:100]"
   ]
  },
  {
   "cell_type": "code",
   "execution_count": 135,
   "metadata": {},
   "outputs": [
    {
     "data": {
      "image/png": "[encoded data removed]",
      "image/svg+xml": [
       "<?xml version=\"1.0\" encoding=\"utf-8\"?>\n",
       "<svg xmlns=\"http://www.w3.org/2000/svg\" xmlns:xlink=\"http://www.w3.org/1999/xlink\" width=\"600\" height=\"400\" viewBox=\"0 0 2400 1600\">\n",
       "<defs>\n",
       "  <clipPath id=\"clip270\">\n",
       "    <rect x=\"0\" y=\"0\" width=\"2400\" height=\"1600\"/>\n",
       "  </clipPath>\n",
       "</defs>\n",
       "<path clip-path=\"url(#clip270)\" d=\"M0 1600 L2400 1600 L2400 0 L0 0  Z\" fill=\"#ffffff\" fill-rule=\"evenodd\" fill-opacity=\"1\"/>\n",
       "<defs>\n",
       "  <clipPath id=\"clip271\">\n",
       "    <rect x=\"480\" y=\"0\" width=\"1681\" height=\"1600\"/>\n",
       "  </clipPath>\n",
       "</defs>\n",
       "<path clip-path=\"url(#clip270)\" d=\"M345.896 1425.62 L2352.76 1425.62 L2352.76 121.675 L345.896 121.675  Z\" fill=\"#ffffff\" fill-rule=\"evenodd\" fill-opacity=\"1\"/>\n",
       "<defs>\n",
       "  <clipPath id=\"clip272\">\n",
       "    <rect x=\"345\" y=\"121\" width=\"2008\" height=\"1305\"/>\n",
       "  </clipPath>\n",
       "</defs>\n",
       "<polyline clip-path=\"url(#clip272)\" style=\"stroke:#000000; stroke-linecap:round; stroke-linejoin:round; stroke-width:2; stroke-opacity:0.1; fill:none\" points=\"383.57,1425.62 383.57,121.675 \"/>\n",
       "<polyline clip-path=\"url(#clip272)\" style=\"stroke:#000000; stroke-linecap:round; stroke-linejoin:round; stroke-width:2; stroke-opacity:0.1; fill:none\" points=\"861.667,1425.62 861.667,121.675 \"/>\n",
       "<polyline clip-path=\"url(#clip272)\" style=\"stroke:#000000; stroke-linecap:round; stroke-linejoin:round; stroke-width:2; stroke-opacity:0.1; fill:none\" points=\"1339.76,1425.62 1339.76,121.675 \"/>\n",
       "<polyline clip-path=\"url(#clip272)\" style=\"stroke:#000000; stroke-linecap:round; stroke-linejoin:round; stroke-width:2; stroke-opacity:0.1; fill:none\" points=\"1817.86,1425.62 1817.86,121.675 \"/>\n",
       "<polyline clip-path=\"url(#clip272)\" style=\"stroke:#000000; stroke-linecap:round; stroke-linejoin:round; stroke-width:2; stroke-opacity:0.1; fill:none\" points=\"2295.96,1425.62 2295.96,121.675 \"/>\n",
       "<polyline clip-path=\"url(#clip270)\" style=\"stroke:#000000; stroke-linecap:round; stroke-linejoin:round; stroke-width:4; stroke-opacity:1; fill:none\" points=\"345.896,1425.62 2352.76,1425.62 \"/>\n",
       "<polyline clip-path=\"url(#clip270)\" style=\"stroke:#000000; stroke-linecap:round; stroke-linejoin:round; stroke-width:4; stroke-opacity:1; fill:none\" points=\"383.57,1425.62 383.57,1406.72 \"/>\n",
       "<polyline clip-path=\"url(#clip270)\" style=\"stroke:#000000; stroke-linecap:round; stroke-linejoin:round; stroke-width:4; stroke-opacity:1; fill:none\" points=\"861.667,1425.62 861.667,1406.72 \"/>\n",
       "<polyline clip-path=\"url(#clip270)\" style=\"stroke:#000000; stroke-linecap:round; stroke-linejoin:round; stroke-width:4; stroke-opacity:1; fill:none\" points=\"1339.76,1425.62 1339.76,1406.72 \"/>\n",
       "<polyline clip-path=\"url(#clip270)\" style=\"stroke:#000000; stroke-linecap:round; stroke-linejoin:round; stroke-width:4; stroke-opacity:1; fill:none\" points=\"1817.86,1425.62 1817.86,1406.72 \"/>\n",
       "<polyline clip-path=\"url(#clip270)\" style=\"stroke:#000000; stroke-linecap:round; stroke-linejoin:round; stroke-width:4; stroke-opacity:1; fill:none\" points=\"2295.96,1425.62 2295.96,1406.72 \"/>\n",
       "<g clip-path=\"url(#clip270)\">\n",
       "<text style=\"fill:#000000; fill-opacity:1; font-family:Arial,Helvetica Neue,Helvetica,sans-serif; font-size:48px; text-anchor:middle;\" transform=\"rotate(0, 383.57, 1487.47)\" x=\"383.57\" y=\"1487.47\">0</text>\n",
       "</g>\n",
       "<g clip-path=\"url(#clip270)\">\n",
       "<text style=\"fill:#000000; fill-opacity:1; font-family:Arial,Helvetica Neue,Helvetica,sans-serif; font-size:48px; text-anchor:middle;\" transform=\"rotate(0, 861.667, 1487.47)\" x=\"861.667\" y=\"1487.47\">25</text>\n",
       "</g>\n",
       "<g clip-path=\"url(#clip270)\">\n",
       "<text style=\"fill:#000000; fill-opacity:1; font-family:Arial,Helvetica Neue,Helvetica,sans-serif; font-size:48px; text-anchor:middle;\" transform=\"rotate(0, 1339.76, 1487.47)\" x=\"1339.76\" y=\"1487.47\">50</text>\n",
       "</g>\n",
       "<g clip-path=\"url(#clip270)\">\n",
       "<text style=\"fill:#000000; fill-opacity:1; font-family:Arial,Helvetica Neue,Helvetica,sans-serif; font-size:48px; text-anchor:middle;\" transform=\"rotate(0, 1817.86, 1487.47)\" x=\"1817.86\" y=\"1487.47\">75</text>\n",
       "</g>\n",
       "<g clip-path=\"url(#clip270)\">\n",
       "<text style=\"fill:#000000; fill-opacity:1; font-family:Arial,Helvetica Neue,Helvetica,sans-serif; font-size:48px; text-anchor:middle;\" transform=\"rotate(0, 2295.96, 1487.47)\" x=\"2295.96\" y=\"1487.47\">100</text>\n",
       "</g>\n",
       "<g clip-path=\"url(#clip270)\">\n",
       "<text style=\"fill:#000000; fill-opacity:1; font-family:Arial,Helvetica Neue,Helvetica,sans-serif; font-size:66px; text-anchor:middle;\" transform=\"rotate(0, 1349.33, 1571.48)\" x=\"1349.33\" y=\"1571.48\">x</text>\n",
       "</g>\n",
       "<polyline clip-path=\"url(#clip272)\" style=\"stroke:#000000; stroke-linecap:round; stroke-linejoin:round; stroke-width:2; stroke-opacity:0.1; fill:none\" points=\"345.896,1388.71 2352.76,1388.71 \"/>\n",
       "<polyline clip-path=\"url(#clip272)\" style=\"stroke:#000000; stroke-linecap:round; stroke-linejoin:round; stroke-width:2; stroke-opacity:0.1; fill:none\" points=\"345.896,1081.18 2352.76,1081.18 \"/>\n",
       "<polyline clip-path=\"url(#clip272)\" style=\"stroke:#000000; stroke-linecap:round; stroke-linejoin:round; stroke-width:2; stroke-opacity:0.1; fill:none\" points=\"345.896,773.647 2352.76,773.647 \"/>\n",
       "<polyline clip-path=\"url(#clip272)\" style=\"stroke:#000000; stroke-linecap:round; stroke-linejoin:round; stroke-width:2; stroke-opacity:0.1; fill:none\" points=\"345.896,466.113 2352.76,466.113 \"/>\n",
       "<polyline clip-path=\"url(#clip272)\" style=\"stroke:#000000; stroke-linecap:round; stroke-linejoin:round; stroke-width:2; stroke-opacity:0.1; fill:none\" points=\"345.896,158.579 2352.76,158.579 \"/>\n",
       "<polyline clip-path=\"url(#clip270)\" style=\"stroke:#000000; stroke-linecap:round; stroke-linejoin:round; stroke-width:4; stroke-opacity:1; fill:none\" points=\"345.896,1425.62 345.896,121.675 \"/>\n",
       "<polyline clip-path=\"url(#clip270)\" style=\"stroke:#000000; stroke-linecap:round; stroke-linejoin:round; stroke-width:4; stroke-opacity:1; fill:none\" points=\"345.896,1388.71 364.793,1388.71 \"/>\n",
       "<polyline clip-path=\"url(#clip270)\" style=\"stroke:#000000; stroke-linecap:round; stroke-linejoin:round; stroke-width:4; stroke-opacity:1; fill:none\" points=\"345.896,1081.18 364.793,1081.18 \"/>\n",
       "<polyline clip-path=\"url(#clip270)\" style=\"stroke:#000000; stroke-linecap:round; stroke-linejoin:round; stroke-width:4; stroke-opacity:1; fill:none\" points=\"345.896,773.647 364.793,773.647 \"/>\n",
       "<polyline clip-path=\"url(#clip270)\" style=\"stroke:#000000; stroke-linecap:round; stroke-linejoin:round; stroke-width:4; stroke-opacity:1; fill:none\" points=\"345.896,466.113 364.793,466.113 \"/>\n",
       "<polyline clip-path=\"url(#clip270)\" style=\"stroke:#000000; stroke-linecap:round; stroke-linejoin:round; stroke-width:4; stroke-opacity:1; fill:none\" points=\"345.896,158.579 364.793,158.579 \"/>\n",
       "<g clip-path=\"url(#clip270)\">\n",
       "<text style=\"fill:#000000; fill-opacity:1; font-family:Arial,Helvetica Neue,Helvetica,sans-serif; font-size:48px; text-anchor:middle;\" transform=\"rotate(0, 296.514, 1406.21)\" x=\"296.514\" y=\"1406.21\">0</text>\n",
       "</g>\n",
       "<g clip-path=\"url(#clip270)\">\n",
       "<text style=\"fill:#000000; fill-opacity:1; font-family:Arial,Helvetica Neue,Helvetica,sans-serif; font-size:48px; text-anchor:start;\" transform=\"rotate(0, 112.848, 1104.91)\" x=\"112.848\" y=\"1104.91\">2.50×10</text>\n",
       "</g>\n",
       "<g clip-path=\"url(#clip270)\">\n",
       "<text style=\"fill:#000000; fill-opacity:1; font-family:Arial,Helvetica Neue,Helvetica,sans-serif; font-size:38px; text-anchor:start;\" transform=\"rotate(0, 288.151, 1077.5)\" x=\"288.151\" y=\"1077.5\">7</text>\n",
       "</g>\n",
       "<g clip-path=\"url(#clip270)\">\n",
       "<text style=\"fill:#000000; fill-opacity:1; font-family:Arial,Helvetica Neue,Helvetica,sans-serif; font-size:48px; text-anchor:start;\" transform=\"rotate(0, 112.848, 797.374)\" x=\"112.848\" y=\"797.374\">5.00×10</text>\n",
       "</g>\n",
       "<g clip-path=\"url(#clip270)\">\n",
       "<text style=\"fill:#000000; fill-opacity:1; font-family:Arial,Helvetica Neue,Helvetica,sans-serif; font-size:38px; text-anchor:start;\" transform=\"rotate(0, 288.151, 769.964)\" x=\"288.151\" y=\"769.964\">7</text>\n",
       "</g>\n",
       "<g clip-path=\"url(#clip270)\">\n",
       "<text style=\"fill:#000000; fill-opacity:1; font-family:Arial,Helvetica Neue,Helvetica,sans-serif; font-size:48px; text-anchor:start;\" transform=\"rotate(0, 112.848, 489.841)\" x=\"112.848\" y=\"489.841\">7.50×10</text>\n",
       "</g>\n",
       "<g clip-path=\"url(#clip270)\">\n",
       "<text style=\"fill:#000000; fill-opacity:1; font-family:Arial,Helvetica Neue,Helvetica,sans-serif; font-size:38px; text-anchor:start;\" transform=\"rotate(0, 288.151, 462.43)\" x=\"288.151\" y=\"462.43\">7</text>\n",
       "</g>\n",
       "<g clip-path=\"url(#clip270)\">\n",
       "<text style=\"fill:#000000; fill-opacity:1; font-family:Arial,Helvetica Neue,Helvetica,sans-serif; font-size:48px; text-anchor:start;\" transform=\"rotate(0, 112.848, 182.307)\" x=\"112.848\" y=\"182.307\">1.00×10</text>\n",
       "</g>\n",
       "<g clip-path=\"url(#clip270)\">\n",
       "<text style=\"fill:#000000; fill-opacity:1; font-family:Arial,Helvetica Neue,Helvetica,sans-serif; font-size:38px; text-anchor:start;\" transform=\"rotate(0, 288.151, 154.896)\" x=\"288.151\" y=\"154.896\">8</text>\n",
       "</g>\n",
       "<g clip-path=\"url(#clip270)\">\n",
       "<text style=\"fill:#000000; fill-opacity:1; font-family:Arial,Helvetica Neue,Helvetica,sans-serif; font-size:66px; text-anchor:middle;\" transform=\"rotate(-90, 65.2861, 773.647)\" x=\"65.2861\" y=\"773.647\">y</text>\n",
       "</g>\n",
       "<g clip-path=\"url(#clip270)\">\n",
       "<text style=\"fill:#000000; fill-opacity:1; font-family:Arial,Helvetica Neue,Helvetica,sans-serif; font-size:84px; text-anchor:middle;\" transform=\"rotate(0, 1349.33, 73.2)\" x=\"1349.33\" y=\"73.2\">Practice plot with f(x)=x²</text>\n",
       "</g>\n",
       "<polyline clip-path=\"url(#clip272)\" style=\"stroke:#ff0000; stroke-linecap:round; stroke-linejoin:round; stroke-width:12; stroke-opacity:1; fill:none\" points=\"402.694,1388.71 421.817,1388.71 440.941,1388.71 460.065,1388.71 479.189,1388.71 498.313,1388.71 517.437,1388.71 536.561,1388.71 555.685,1388.71 574.808,1388.71 593.932,1388.71 613.056,1388.71 632.18,1388.71 651.304,1388.71 670.428,1388.71 689.552,1388.71 708.676,1388.71 727.8,1388.71 746.923,1388.71 766.047,1388.71 785.171,1388.71 804.295,1388.71 823.419,1388.71 842.543,1388.71 861.667,1388.71 880.791,1388.71 899.914,1388.71 919.038,1388.7 938.162,1388.7 957.286,1388.7 976.41,1388.7 995.534,1388.7 1014.66,1388.7 1033.78,1388.7 1052.91,1388.7 1072.03,1388.7 1091.15,1388.7 1110.28,1388.7 1129.4,1388.7 1148.52,1388.69 1167.65,1388.69 1186.77,1388.69 1205.9,1388.69 1225.02,1388.69 1244.14,1388.69 1263.27,1388.69 1282.39,1388.69 1301.52,1388.69 1320.64,1388.69 1339.76,1388.68 1358.89,1388.68 1378.01,1388.68 1397.14,1388.68 1416.26,1388.68 1435.38,1388.68 1454.51,1388.68 1473.63,1388.67 1492.75,1388.67 1511.88,1388.67 1531,1388.67 1550.13,1388.67 1569.25,1388.67 1588.37,1388.67 1607.5,1388.66 1626.62,1388.66 1645.75,1388.66 1664.87,1388.66 1683.99,1388.66 1703.12,1388.66 1722.24,1388.65 1741.37,1388.65 1760.49,1388.65 1779.61,1388.65 1798.74,1388.65 1817.86,1388.65 1836.98,1388.64 1856.11,1388.64 1875.23,1388.64 1894.36,1388.64 1913.48,1388.64 1932.6,1388.63 1951.73,1388.63 1970.85,1388.63 1989.98,1388.63 2009.1,1388.63 2028.22,1388.62 2047.35,1388.62 2066.47,1388.62 2085.6,1388.62 2104.72,1388.61 2123.84,1388.61 2142.97,1388.61 2162.09,1388.61 2181.21,1388.61 2200.34,1388.6 2219.46,1388.6 2238.59,1388.6 2257.71,1388.6 2276.83,1388.59 2295.96,1388.59 \"/>\n",
       "<polyline clip-path=\"url(#clip272)\" style=\"stroke:#0000ff; stroke-linecap:round; stroke-linejoin:round; stroke-width:12; stroke-opacity:1; fill:none\" points=\"402.694,1388.71 421.817,1388.71 440.941,1388.71 460.065,1388.71 479.189,1388.71 498.313,1388.71 517.437,1388.71 536.561,1388.71 555.685,1388.71 574.808,1388.7 593.932,1388.7 613.056,1388.69 632.18,1388.69 651.304,1388.68 670.428,1388.67 689.552,1388.66 708.676,1388.65 727.8,1388.64 746.923,1388.63 766.047,1388.62 785.171,1388.6 804.295,1388.58 823.419,1388.56 842.543,1388.54 861.667,1388.52 880.791,1388.5 899.914,1388.47 919.038,1388.44 938.162,1388.41 957.286,1388.38 976.41,1388.35 995.534,1388.31 1014.66,1388.27 1033.78,1388.23 1052.91,1388.19 1072.03,1388.14 1091.15,1388.09 1110.28,1388.04 1129.4,1387.98 1148.52,1387.93 1167.65,1387.87 1186.77,1387.8 1205.9,1387.74 1225.02,1387.67 1244.14,1387.59 1263.27,1387.52 1282.39,1387.44 1301.52,1387.35 1320.64,1387.27 1339.76,1387.18 1358.89,1387.08 1378.01,1386.98 1397.14,1386.88 1416.26,1386.78 1435.38,1386.67 1454.51,1386.55 1473.63,1386.44 1492.75,1386.31 1511.88,1386.19 1531,1386.06 1550.13,1385.92 1569.25,1385.78 1588.37,1385.64 1607.5,1385.49 1626.62,1385.34 1645.75,1385.18 1664.87,1385.01 1683.99,1384.85 1703.12,1384.67 1722.24,1384.5 1741.37,1384.31 1760.49,1384.12 1779.61,1383.93 1798.74,1383.73 1817.86,1383.52 1836.98,1383.31 1856.11,1383.1 1875.23,1382.88 1894.36,1382.65 1913.48,1382.42 1932.6,1382.18 1951.73,1381.93 1970.85,1381.68 1989.98,1381.42 2009.1,1381.16 2028.22,1380.89 2047.35,1380.61 2066.47,1380.33 2085.6,1380.04 2104.72,1379.75 2123.84,1379.44 2142.97,1379.14 2162.09,1378.82 2181.21,1378.5 2200.34,1378.17 2219.46,1377.83 2238.59,1377.49 2257.71,1377.14 2276.83,1376.78 2295.96,1376.41 \"/>\n",
       "<polyline clip-path=\"url(#clip272)\" style=\"stroke:#008000; stroke-linecap:round; stroke-linejoin:round; stroke-width:12; stroke-opacity:1; fill:none\" points=\"402.694,1388.71 421.817,1388.71 440.941,1388.71 460.065,1388.71 479.189,1388.71 498.313,1388.7 517.437,1388.69 536.561,1388.66 555.685,1388.63 574.808,1388.59 593.932,1388.53 613.056,1388.46 632.18,1388.36 651.304,1388.24 670.428,1388.09 689.552,1387.91 708.676,1387.69 727.8,1387.42 746.923,1387.11 766.047,1386.75 785.171,1386.32 804.295,1385.83 823.419,1385.27 842.543,1384.63 861.667,1383.91 880.791,1383.09 899.914,1382.18 919.038,1381.15 938.162,1380.01 957.286,1378.75 976.41,1377.35 995.534,1375.82 1014.66,1374.13 1033.78,1372.28 1052.91,1370.25 1072.03,1368.05 1091.15,1365.66 1110.28,1363.06 1129.4,1360.26 1148.52,1357.22 1167.65,1353.95 1186.77,1350.44 1205.9,1346.66 1225.02,1342.61 1244.14,1338.27 1263.27,1333.64 1282.39,1328.69 1301.52,1323.41 1320.64,1317.8 1339.76,1311.83 1358.89,1305.49 1378.01,1298.77 1397.14,1291.65 1416.26,1284.12 1435.38,1276.15 1454.51,1267.74 1473.63,1258.86 1492.75,1249.51 1511.88,1239.65 1531,1229.29 1550.13,1218.39 1569.25,1206.95 1588.37,1194.93 1607.5,1182.33 1626.62,1169.13 1645.75,1155.3 1664.87,1140.83 1683.99,1125.69 1703.12,1109.88 1722.24,1093.36 1741.37,1076.12 1760.49,1058.13 1779.61,1039.38 1798.74,1019.84 1817.86,999.492 1836.98,978.315 1856.11,956.285 1875.23,933.379 1894.36,909.576 1913.48,884.851 1932.6,859.182 1951.73,832.544 1970.85,804.913 1989.98,776.265 2009.1,746.576 2028.22,715.82 2047.35,683.973 2066.47,651.008 2085.6,616.9 2104.72,581.623 2123.84,545.15 2142.97,507.454 2162.09,468.509 2181.21,428.288 2200.34,386.762 2219.46,343.903 2238.59,299.685 2257.71,254.077 2276.83,207.051 2295.96,158.579 \"/>\n",
       "<path clip-path=\"url(#clip270)\" d=\"M412.791 366.339 L664.306 366.339 L664.306 165.14 L412.791 165.14  Z\" fill=\"#ffffff\" fill-rule=\"evenodd\" fill-opacity=\"1\"/>\n",
       "<polyline clip-path=\"url(#clip270)\" style=\"stroke:#000000; stroke-linecap:round; stroke-linejoin:round; stroke-width:4; stroke-opacity:1; fill:none\" points=\"412.791,366.339 664.306,366.339 664.306,165.14 412.791,165.14 412.791,366.339 \"/>\n",
       "<polyline clip-path=\"url(#clip270)\" style=\"stroke:#ff0000; stroke-linecap:round; stroke-linejoin:round; stroke-width:12; stroke-opacity:1; fill:none\" points=\"435.089,215.44 568.88,215.44 \"/>\n",
       "<g clip-path=\"url(#clip270)\">\n",
       "<text style=\"fill:#000000; fill-opacity:1; font-family:Arial,Helvetica Neue,Helvetica,sans-serif; font-size:48px; text-anchor:start;\" transform=\"rotate(0, 591.179, 232.94)\" x=\"591.179\" y=\"232.94\">x²</text>\n",
       "</g>\n",
       "<polyline clip-path=\"url(#clip270)\" style=\"stroke:#0000ff; stroke-linecap:round; stroke-linejoin:round; stroke-width:12; stroke-opacity:1; fill:none\" points=\"435.089,265.739 568.88,265.739 \"/>\n",
       "<g clip-path=\"url(#clip270)\">\n",
       "<text style=\"fill:#000000; fill-opacity:1; font-family:Arial,Helvetica Neue,Helvetica,sans-serif; font-size:48px; text-anchor:start;\" transform=\"rotate(0, 591.179, 283.239)\" x=\"591.179\" y=\"283.239\">x³</text>\n",
       "</g>\n",
       "<polyline clip-path=\"url(#clip270)\" style=\"stroke:#008000; stroke-linecap:round; stroke-linejoin:round; stroke-width:12; stroke-opacity:1; fill:none\" points=\"435.089,316.039 568.88,316.039 \"/>\n",
       "<g clip-path=\"url(#clip270)\">\n",
       "<text style=\"fill:#000000; fill-opacity:1; font-family:Arial,Helvetica Neue,Helvetica,sans-serif; font-size:48px; text-anchor:start;\" transform=\"rotate(0, 591.179, 333.539)\" x=\"591.179\" y=\"333.539\">x⁴</text>\n",
       "</g>\n",
       "</svg>\n"
      ],
      "text/html": [
       "<?xml version=\"1.0\" encoding=\"utf-8\"?>\n",
       "<svg xmlns=\"http://www.w3.org/2000/svg\" xmlns:xlink=\"http://www.w3.org/1999/xlink\" width=\"600\" height=\"400\" viewBox=\"0 0 2400 1600\">\n",
       "<defs>\n",
       "  <clipPath id=\"clip320\">\n",
       "    <rect x=\"0\" y=\"0\" width=\"2400\" height=\"1600\"/>\n",
       "  </clipPath>\n",
       "</defs>\n",
       "<path clip-path=\"url(#clip320)\" d=\"M0 1600 L2400 1600 L2400 0 L0 0  Z\" fill=\"#ffffff\" fill-rule=\"evenodd\" fill-opacity=\"1\"/>\n",
       "<defs>\n",
       "  <clipPath id=\"clip321\">\n",
       "    <rect x=\"480\" y=\"0\" width=\"1681\" height=\"1600\"/>\n",
       "  </clipPath>\n",
       "</defs>\n",
       "<path clip-path=\"url(#clip320)\" d=\"M345.896 1425.62 L2352.76 1425.62 L2352.76 121.675 L345.896 121.675  Z\" fill=\"#ffffff\" fill-rule=\"evenodd\" fill-opacity=\"1\"/>\n",
       "<defs>\n",
       "  <clipPath id=\"clip322\">\n",
       "    <rect x=\"345\" y=\"121\" width=\"2008\" height=\"1305\"/>\n",
       "  </clipPath>\n",
       "</defs>\n",
       "<polyline clip-path=\"url(#clip322)\" style=\"stroke:#000000; stroke-linecap:round; stroke-linejoin:round; stroke-width:2; stroke-opacity:0.1; fill:none\" points=\"383.57,1425.62 383.57,121.675 \"/>\n",
       "<polyline clip-path=\"url(#clip322)\" style=\"stroke:#000000; stroke-linecap:round; stroke-linejoin:round; stroke-width:2; stroke-opacity:0.1; fill:none\" points=\"861.667,1425.62 861.667,121.675 \"/>\n",
       "<polyline clip-path=\"url(#clip322)\" style=\"stroke:#000000; stroke-linecap:round; stroke-linejoin:round; stroke-width:2; stroke-opacity:0.1; fill:none\" points=\"1339.76,1425.62 1339.76,121.675 \"/>\n",
       "<polyline clip-path=\"url(#clip322)\" style=\"stroke:#000000; stroke-linecap:round; stroke-linejoin:round; stroke-width:2; stroke-opacity:0.1; fill:none\" points=\"1817.86,1425.62 1817.86,121.675 \"/>\n",
       "<polyline clip-path=\"url(#clip322)\" style=\"stroke:#000000; stroke-linecap:round; stroke-linejoin:round; stroke-width:2; stroke-opacity:0.1; fill:none\" points=\"2295.96,1425.62 2295.96,121.675 \"/>\n",
       "<polyline clip-path=\"url(#clip320)\" style=\"stroke:#000000; stroke-linecap:round; stroke-linejoin:round; stroke-width:4; stroke-opacity:1; fill:none\" points=\"345.896,1425.62 2352.76,1425.62 \"/>\n",
       "<polyline clip-path=\"url(#clip320)\" style=\"stroke:#000000; stroke-linecap:round; stroke-linejoin:round; stroke-width:4; stroke-opacity:1; fill:none\" points=\"383.57,1425.62 383.57,1406.72 \"/>\n",
       "<polyline clip-path=\"url(#clip320)\" style=\"stroke:#000000; stroke-linecap:round; stroke-linejoin:round; stroke-width:4; stroke-opacity:1; fill:none\" points=\"861.667,1425.62 861.667,1406.72 \"/>\n",
       "<polyline clip-path=\"url(#clip320)\" style=\"stroke:#000000; stroke-linecap:round; stroke-linejoin:round; stroke-width:4; stroke-opacity:1; fill:none\" points=\"1339.76,1425.62 1339.76,1406.72 \"/>\n",
       "<polyline clip-path=\"url(#clip320)\" style=\"stroke:#000000; stroke-linecap:round; stroke-linejoin:round; stroke-width:4; stroke-opacity:1; fill:none\" points=\"1817.86,1425.62 1817.86,1406.72 \"/>\n",
       "<polyline clip-path=\"url(#clip320)\" style=\"stroke:#000000; stroke-linecap:round; stroke-linejoin:round; stroke-width:4; stroke-opacity:1; fill:none\" points=\"2295.96,1425.62 2295.96,1406.72 \"/>\n",
       "<g clip-path=\"url(#clip320)\">\n",
       "<text style=\"fill:#000000; fill-opacity:1; font-family:Arial,Helvetica Neue,Helvetica,sans-serif; font-size:48px; text-anchor:middle;\" transform=\"rotate(0, 383.57, 1487.47)\" x=\"383.57\" y=\"1487.47\">0</text>\n",
       "</g>\n",
       "<g clip-path=\"url(#clip320)\">\n",
       "<text style=\"fill:#000000; fill-opacity:1; font-family:Arial,Helvetica Neue,Helvetica,sans-serif; font-size:48px; text-anchor:middle;\" transform=\"rotate(0, 861.667, 1487.47)\" x=\"861.667\" y=\"1487.47\">25</text>\n",
       "</g>\n",
       "<g clip-path=\"url(#clip320)\">\n",
       "<text style=\"fill:#000000; fill-opacity:1; font-family:Arial,Helvetica Neue,Helvetica,sans-serif; font-size:48px; text-anchor:middle;\" transform=\"rotate(0, 1339.76, 1487.47)\" x=\"1339.76\" y=\"1487.47\">50</text>\n",
       "</g>\n",
       "<g clip-path=\"url(#clip320)\">\n",
       "<text style=\"fill:#000000; fill-opacity:1; font-family:Arial,Helvetica Neue,Helvetica,sans-serif; font-size:48px; text-anchor:middle;\" transform=\"rotate(0, 1817.86, 1487.47)\" x=\"1817.86\" y=\"1487.47\">75</text>\n",
       "</g>\n",
       "<g clip-path=\"url(#clip320)\">\n",
       "<text style=\"fill:#000000; fill-opacity:1; font-family:Arial,Helvetica Neue,Helvetica,sans-serif; font-size:48px; text-anchor:middle;\" transform=\"rotate(0, 2295.96, 1487.47)\" x=\"2295.96\" y=\"1487.47\">100</text>\n",
       "</g>\n",
       "<g clip-path=\"url(#clip320)\">\n",
       "<text style=\"fill:#000000; fill-opacity:1; font-family:Arial,Helvetica Neue,Helvetica,sans-serif; font-size:66px; text-anchor:middle;\" transform=\"rotate(0, 1349.33, 1571.48)\" x=\"1349.33\" y=\"1571.48\">x</text>\n",
       "</g>\n",
       "<polyline clip-path=\"url(#clip322)\" style=\"stroke:#000000; stroke-linecap:round; stroke-linejoin:round; stroke-width:2; stroke-opacity:0.1; fill:none\" points=\"345.896,1388.71 2352.76,1388.71 \"/>\n",
       "<polyline clip-path=\"url(#clip322)\" style=\"stroke:#000000; stroke-linecap:round; stroke-linejoin:round; stroke-width:2; stroke-opacity:0.1; fill:none\" points=\"345.896,1081.18 2352.76,1081.18 \"/>\n",
       "<polyline clip-path=\"url(#clip322)\" style=\"stroke:#000000; stroke-linecap:round; stroke-linejoin:round; stroke-width:2; stroke-opacity:0.1; fill:none\" points=\"345.896,773.647 2352.76,773.647 \"/>\n",
       "<polyline clip-path=\"url(#clip322)\" style=\"stroke:#000000; stroke-linecap:round; stroke-linejoin:round; stroke-width:2; stroke-opacity:0.1; fill:none\" points=\"345.896,466.113 2352.76,466.113 \"/>\n",
       "<polyline clip-path=\"url(#clip322)\" style=\"stroke:#000000; stroke-linecap:round; stroke-linejoin:round; stroke-width:2; stroke-opacity:0.1; fill:none\" points=\"345.896,158.579 2352.76,158.579 \"/>\n",
       "<polyline clip-path=\"url(#clip320)\" style=\"stroke:#000000; stroke-linecap:round; stroke-linejoin:round; stroke-width:4; stroke-opacity:1; fill:none\" points=\"345.896,1425.62 345.896,121.675 \"/>\n",
       "<polyline clip-path=\"url(#clip320)\" style=\"stroke:#000000; stroke-linecap:round; stroke-linejoin:round; stroke-width:4; stroke-opacity:1; fill:none\" points=\"345.896,1388.71 364.793,1388.71 \"/>\n",
       "<polyline clip-path=\"url(#clip320)\" style=\"stroke:#000000; stroke-linecap:round; stroke-linejoin:round; stroke-width:4; stroke-opacity:1; fill:none\" points=\"345.896,1081.18 364.793,1081.18 \"/>\n",
       "<polyline clip-path=\"url(#clip320)\" style=\"stroke:#000000; stroke-linecap:round; stroke-linejoin:round; stroke-width:4; stroke-opacity:1; fill:none\" points=\"345.896,773.647 364.793,773.647 \"/>\n",
       "<polyline clip-path=\"url(#clip320)\" style=\"stroke:#000000; stroke-linecap:round; stroke-linejoin:round; stroke-width:4; stroke-opacity:1; fill:none\" points=\"345.896,466.113 364.793,466.113 \"/>\n",
       "<polyline clip-path=\"url(#clip320)\" style=\"stroke:#000000; stroke-linecap:round; stroke-linejoin:round; stroke-width:4; stroke-opacity:1; fill:none\" points=\"345.896,158.579 364.793,158.579 \"/>\n",
       "<g clip-path=\"url(#clip320)\">\n",
       "<text style=\"fill:#000000; fill-opacity:1; font-family:Arial,Helvetica Neue,Helvetica,sans-serif; font-size:48px; text-anchor:middle;\" transform=\"rotate(0, 296.514, 1406.21)\" x=\"296.514\" y=\"1406.21\">0</text>\n",
       "</g>\n",
       "<g clip-path=\"url(#clip320)\">\n",
       "<text style=\"fill:#000000; fill-opacity:1; font-family:Arial,Helvetica Neue,Helvetica,sans-serif; font-size:48px; text-anchor:start;\" transform=\"rotate(0, 112.848, 1104.91)\" x=\"112.848\" y=\"1104.91\">2.50×10</text>\n",
       "</g>\n",
       "<g clip-path=\"url(#clip320)\">\n",
       "<text style=\"fill:#000000; fill-opacity:1; font-family:Arial,Helvetica Neue,Helvetica,sans-serif; font-size:38px; text-anchor:start;\" transform=\"rotate(0, 288.151, 1077.5)\" x=\"288.151\" y=\"1077.5\">7</text>\n",
       "</g>\n",
       "<g clip-path=\"url(#clip320)\">\n",
       "<text style=\"fill:#000000; fill-opacity:1; font-family:Arial,Helvetica Neue,Helvetica,sans-serif; font-size:48px; text-anchor:start;\" transform=\"rotate(0, 112.848, 797.374)\" x=\"112.848\" y=\"797.374\">5.00×10</text>\n",
       "</g>\n",
       "<g clip-path=\"url(#clip320)\">\n",
       "<text style=\"fill:#000000; fill-opacity:1; font-family:Arial,Helvetica Neue,Helvetica,sans-serif; font-size:38px; text-anchor:start;\" transform=\"rotate(0, 288.151, 769.964)\" x=\"288.151\" y=\"769.964\">7</text>\n",
       "</g>\n",
       "<g clip-path=\"url(#clip320)\">\n",
       "<text style=\"fill:#000000; fill-opacity:1; font-family:Arial,Helvetica Neue,Helvetica,sans-serif; font-size:48px; text-anchor:start;\" transform=\"rotate(0, 112.848, 489.841)\" x=\"112.848\" y=\"489.841\">7.50×10</text>\n",
       "</g>\n",
       "<g clip-path=\"url(#clip320)\">\n",
       "<text style=\"fill:#000000; fill-opacity:1; font-family:Arial,Helvetica Neue,Helvetica,sans-serif; font-size:38px; text-anchor:start;\" transform=\"rotate(0, 288.151, 462.43)\" x=\"288.151\" y=\"462.43\">7</text>\n",
       "</g>\n",
       "<g clip-path=\"url(#clip320)\">\n",
       "<text style=\"fill:#000000; fill-opacity:1; font-family:Arial,Helvetica Neue,Helvetica,sans-serif; font-size:48px; text-anchor:start;\" transform=\"rotate(0, 112.848, 182.307)\" x=\"112.848\" y=\"182.307\">1.00×10</text>\n",
       "</g>\n",
       "<g clip-path=\"url(#clip320)\">\n",
       "<text style=\"fill:#000000; fill-opacity:1; font-family:Arial,Helvetica Neue,Helvetica,sans-serif; font-size:38px; text-anchor:start;\" transform=\"rotate(0, 288.151, 154.896)\" x=\"288.151\" y=\"154.896\">8</text>\n",
       "</g>\n",
       "<g clip-path=\"url(#clip320)\">\n",
       "<text style=\"fill:#000000; fill-opacity:1; font-family:Arial,Helvetica Neue,Helvetica,sans-serif; font-size:66px; text-anchor:middle;\" transform=\"rotate(-90, 65.2861, 773.647)\" x=\"65.2861\" y=\"773.647\">y</text>\n",
       "</g>\n",
       "<g clip-path=\"url(#clip320)\">\n",
       "<text style=\"fill:#000000; fill-opacity:1; font-family:Arial,Helvetica Neue,Helvetica,sans-serif; font-size:84px; text-anchor:middle;\" transform=\"rotate(0, 1349.33, 73.2)\" x=\"1349.33\" y=\"73.2\">Practice plot with f(x)=x²</text>\n",
       "</g>\n",
       "<polyline clip-path=\"url(#clip322)\" style=\"stroke:#ff0000; stroke-linecap:round; stroke-linejoin:round; stroke-width:12; stroke-opacity:1; fill:none\" points=\"402.694,1388.71 421.817,1388.71 440.941,1388.71 460.065,1388.71 479.189,1388.71 498.313,1388.71 517.437,1388.71 536.561,1388.71 555.685,1388.71 574.808,1388.71 593.932,1388.71 613.056,1388.71 632.18,1388.71 651.304,1388.71 670.428,1388.71 689.552,1388.71 708.676,1388.71 727.8,1388.71 746.923,1388.71 766.047,1388.71 785.171,1388.71 804.295,1388.71 823.419,1388.71 842.543,1388.71 861.667,1388.71 880.791,1388.71 899.914,1388.71 919.038,1388.7 938.162,1388.7 957.286,1388.7 976.41,1388.7 995.534,1388.7 1014.66,1388.7 1033.78,1388.7 1052.91,1388.7 1072.03,1388.7 1091.15,1388.7 1110.28,1388.7 1129.4,1388.7 1148.52,1388.69 1167.65,1388.69 1186.77,1388.69 1205.9,1388.69 1225.02,1388.69 1244.14,1388.69 1263.27,1388.69 1282.39,1388.69 1301.52,1388.69 1320.64,1388.69 1339.76,1388.68 1358.89,1388.68 1378.01,1388.68 1397.14,1388.68 1416.26,1388.68 1435.38,1388.68 1454.51,1388.68 1473.63,1388.67 1492.75,1388.67 1511.88,1388.67 1531,1388.67 1550.13,1388.67 1569.25,1388.67 1588.37,1388.67 1607.5,1388.66 1626.62,1388.66 1645.75,1388.66 1664.87,1388.66 1683.99,1388.66 1703.12,1388.66 1722.24,1388.65 1741.37,1388.65 1760.49,1388.65 1779.61,1388.65 1798.74,1388.65 1817.86,1388.65 1836.98,1388.64 1856.11,1388.64 1875.23,1388.64 1894.36,1388.64 1913.48,1388.64 1932.6,1388.63 1951.73,1388.63 1970.85,1388.63 1989.98,1388.63 2009.1,1388.63 2028.22,1388.62 2047.35,1388.62 2066.47,1388.62 2085.6,1388.62 2104.72,1388.61 2123.84,1388.61 2142.97,1388.61 2162.09,1388.61 2181.21,1388.61 2200.34,1388.6 2219.46,1388.6 2238.59,1388.6 2257.71,1388.6 2276.83,1388.59 2295.96,1388.59 \"/>\n",
       "<polyline clip-path=\"url(#clip322)\" style=\"stroke:#0000ff; stroke-linecap:round; stroke-linejoin:round; stroke-width:12; stroke-opacity:1; fill:none\" points=\"402.694,1388.71 421.817,1388.71 440.941,1388.71 460.065,1388.71 479.189,1388.71 498.313,1388.71 517.437,1388.71 536.561,1388.71 555.685,1388.71 574.808,1388.7 593.932,1388.7 613.056,1388.69 632.18,1388.69 651.304,1388.68 670.428,1388.67 689.552,1388.66 708.676,1388.65 727.8,1388.64 746.923,1388.63 766.047,1388.62 785.171,1388.6 804.295,1388.58 823.419,1388.56 842.543,1388.54 861.667,1388.52 880.791,1388.5 899.914,1388.47 919.038,1388.44 938.162,1388.41 957.286,1388.38 976.41,1388.35 995.534,1388.31 1014.66,1388.27 1033.78,1388.23 1052.91,1388.19 1072.03,1388.14 1091.15,1388.09 1110.28,1388.04 1129.4,1387.98 1148.52,1387.93 1167.65,1387.87 1186.77,1387.8 1205.9,1387.74 1225.02,1387.67 1244.14,1387.59 1263.27,1387.52 1282.39,1387.44 1301.52,1387.35 1320.64,1387.27 1339.76,1387.18 1358.89,1387.08 1378.01,1386.98 1397.14,1386.88 1416.26,1386.78 1435.38,1386.67 1454.51,1386.55 1473.63,1386.44 1492.75,1386.31 1511.88,1386.19 1531,1386.06 1550.13,1385.92 1569.25,1385.78 1588.37,1385.64 1607.5,1385.49 1626.62,1385.34 1645.75,1385.18 1664.87,1385.01 1683.99,1384.85 1703.12,1384.67 1722.24,1384.5 1741.37,1384.31 1760.49,1384.12 1779.61,1383.93 1798.74,1383.73 1817.86,1383.52 1836.98,1383.31 1856.11,1383.1 1875.23,1382.88 1894.36,1382.65 1913.48,1382.42 1932.6,1382.18 1951.73,1381.93 1970.85,1381.68 1989.98,1381.42 2009.1,1381.16 2028.22,1380.89 2047.35,1380.61 2066.47,1380.33 2085.6,1380.04 2104.72,1379.75 2123.84,1379.44 2142.97,1379.14 2162.09,1378.82 2181.21,1378.5 2200.34,1378.17 2219.46,1377.83 2238.59,1377.49 2257.71,1377.14 2276.83,1376.78 2295.96,1376.41 \"/>\n",
       "<polyline clip-path=\"url(#clip322)\" style=\"stroke:#008000; stroke-linecap:round; stroke-linejoin:round; stroke-width:12; stroke-opacity:1; fill:none\" points=\"402.694,1388.71 421.817,1388.71 440.941,1388.71 460.065,1388.71 479.189,1388.71 498.313,1388.7 517.437,1388.69 536.561,1388.66 555.685,1388.63 574.808,1388.59 593.932,1388.53 613.056,1388.46 632.18,1388.36 651.304,1388.24 670.428,1388.09 689.552,1387.91 708.676,1387.69 727.8,1387.42 746.923,1387.11 766.047,1386.75 785.171,1386.32 804.295,1385.83 823.419,1385.27 842.543,1384.63 861.667,1383.91 880.791,1383.09 899.914,1382.18 919.038,1381.15 938.162,1380.01 957.286,1378.75 976.41,1377.35 995.534,1375.82 1014.66,1374.13 1033.78,1372.28 1052.91,1370.25 1072.03,1368.05 1091.15,1365.66 1110.28,1363.06 1129.4,1360.26 1148.52,1357.22 1167.65,1353.95 1186.77,1350.44 1205.9,1346.66 1225.02,1342.61 1244.14,1338.27 1263.27,1333.64 1282.39,1328.69 1301.52,1323.41 1320.64,1317.8 1339.76,1311.83 1358.89,1305.49 1378.01,1298.77 1397.14,1291.65 1416.26,1284.12 1435.38,1276.15 1454.51,1267.74 1473.63,1258.86 1492.75,1249.51 1511.88,1239.65 1531,1229.29 1550.13,1218.39 1569.25,1206.95 1588.37,1194.93 1607.5,1182.33 1626.62,1169.13 1645.75,1155.3 1664.87,1140.83 1683.99,1125.69 1703.12,1109.88 1722.24,1093.36 1741.37,1076.12 1760.49,1058.13 1779.61,1039.38 1798.74,1019.84 1817.86,999.492 1836.98,978.315 1856.11,956.285 1875.23,933.379 1894.36,909.576 1913.48,884.851 1932.6,859.182 1951.73,832.544 1970.85,804.913 1989.98,776.265 2009.1,746.576 2028.22,715.82 2047.35,683.973 2066.47,651.008 2085.6,616.9 2104.72,581.623 2123.84,545.15 2142.97,507.454 2162.09,468.509 2181.21,428.288 2200.34,386.762 2219.46,343.903 2238.59,299.685 2257.71,254.077 2276.83,207.051 2295.96,158.579 \"/>\n",
       "<path clip-path=\"url(#clip320)\" d=\"M412.791 366.339 L664.306 366.339 L664.306 165.14 L412.791 165.14  Z\" fill=\"#ffffff\" fill-rule=\"evenodd\" fill-opacity=\"1\"/>\n",
       "<polyline clip-path=\"url(#clip320)\" style=\"stroke:#000000; stroke-linecap:round; stroke-linejoin:round; stroke-width:4; stroke-opacity:1; fill:none\" points=\"412.791,366.339 664.306,366.339 664.306,165.14 412.791,165.14 412.791,366.339 \"/>\n",
       "<polyline clip-path=\"url(#clip320)\" style=\"stroke:#ff0000; stroke-linecap:round; stroke-linejoin:round; stroke-width:12; stroke-opacity:1; fill:none\" points=\"435.089,215.44 568.88,215.44 \"/>\n",
       "<g clip-path=\"url(#clip320)\">\n",
       "<text style=\"fill:#000000; fill-opacity:1; font-family:Arial,Helvetica Neue,Helvetica,sans-serif; font-size:48px; text-anchor:start;\" transform=\"rotate(0, 591.179, 232.94)\" x=\"591.179\" y=\"232.94\">x²</text>\n",
       "</g>\n",
       "<polyline clip-path=\"url(#clip320)\" style=\"stroke:#0000ff; stroke-linecap:round; stroke-linejoin:round; stroke-width:12; stroke-opacity:1; fill:none\" points=\"435.089,265.739 568.88,265.739 \"/>\n",
       "<g clip-path=\"url(#clip320)\">\n",
       "<text style=\"fill:#000000; fill-opacity:1; font-family:Arial,Helvetica Neue,Helvetica,sans-serif; font-size:48px; text-anchor:start;\" transform=\"rotate(0, 591.179, 283.239)\" x=\"591.179\" y=\"283.239\">x³</text>\n",
       "</g>\n",
       "<polyline clip-path=\"url(#clip320)\" style=\"stroke:#008000; stroke-linecap:round; stroke-linejoin:round; stroke-width:12; stroke-opacity:1; fill:none\" points=\"435.089,316.039 568.88,316.039 \"/>\n",
       "<g clip-path=\"url(#clip320)\">\n",
       "<text style=\"fill:#000000; fill-opacity:1; font-family:Arial,Helvetica Neue,Helvetica,sans-serif; font-size:48px; text-anchor:start;\" transform=\"rotate(0, 591.179, 333.539)\" x=\"591.179\" y=\"333.539\">x⁴</text>\n",
       "</g>\n",
       "</svg>\n"
      ]
     },
     "metadata": {},
     "output_type": "display_data"
    },
    {
     "name": "stderr",
     "output_type": "stream",
     "text": [
      "GKS: glyph missing from current font: 8308\n",
      "GKS: glyph missing from current font: 8308\n"
     ]
    }
   ],
   "source": [
    "plot!(x, t, linewidth=3.0, label=\"x⁴\", linecolor=:green, fontfamily=\"Helvetica\", title=\"Practice plot with f(x)=x²\", xlabel=\"x\", ylabel=\"y\")"
   ]
  },
  {
   "cell_type": "code",
   "execution_count": 8,
   "metadata": {},
   "outputs": [],
   "source": [
    "# for n in 1:3\n",
    "#     ψ = sqrt(2/a) * sin.(n * pi * x / a)\n",
    "#     plot!(x, ψ, label=\"n = $n\", linewidth=3)\n",
    "# end\n",
    "# \n",
    "# title!(\"Particle in a Box Wavefunctions\")\n",
    "# xlabel!(\"x (a.u.)\")\n",
    "# ylabel!(\"ψ(x)\")"
   ]
  },
  {
   "cell_type": "code",
   "execution_count": 50,
   "metadata": {},
   "outputs": [],
   "source": [
    "# colors = [:red, :green, :blue]  # specify colors for lines\n",
    "# \n",
    "# for (n, color) in enumerate(colors)\n",
    "#     ψ = sqrt(2/a) * sin.(n * pi * x / a)\n",
    "#     plot!(x, ψ, linewidth=3, linecolor=color, label=\"n = $n\")  # change linecolor here\n",
    "# end\n",
    "# \n",
    "# title!(\"Particle in a Box Wavefunctions\")\n",
    "# xlabel!(\"x (a.u.)\")\n",
    "# ylabel!(\"ψ(x)\")"
   ]
  },
  {
   "cell_type": "code",
   "execution_count": 51,
   "metadata": {},
   "outputs": [],
   "source": [
    "# for (n, color) in enumerate(colors)\n",
    "#     ψ = sqrt(2/a) * sin.(n * pi * x / a)\n",
    "#     plot!(x, ψ, linewidth=3, linecolor=color, label=\"n = $n\", fontfamily=\"Helvetica\")  # change linecolor here\n",
    "# end\n",
    "# \n",
    "# title!(\"Particle in a Box Wavefunctions\")\n",
    "# xlabel!(\"x (a.u.)\")\n",
    "# ylabel!(\"ψ(x)\")"
   ]
  },
  {
   "attachments": {},
   "cell_type": "markdown",
   "metadata": {},
   "source": [
    "### Bar plots"
   ]
  },
  {
   "cell_type": "code",
   "execution_count": 53,
   "metadata": {},
   "outputs": [],
   "source": [
    "# using Plots\n",
    "# using StatsPlots  # This includes the `groupedbar` function.\n",
    "# \n",
    "# # Set the GR backend.\n",
    "# gr()\n",
    "# \n",
    "# # Define your data.\n",
    "# names = [\"1\", \"2\", \"3\", \"4\", \"5\", \"6\"]\n",
    "# group1 = [250, 345, 700, 1300, 1678, 2157]\n",
    "# group2 = [110, 200, 400, 800, 1000, 1500]\n",
    "# group3 = [65, 101, 189, 367, 432, 702]\n",
    "# \n",
    "# # Create the grouped bar plot.\n",
    "# groupedbar(names, [group1 group2 group3], \n",
    "#            bar_position = :dodge, \n",
    "#            bar_width=0.7, \n",
    "#            xlabel = \"Molecules\", \n",
    "#            ylabel = \"Time in miliseconds\", \n",
    "#            label = [\"1 core\" \"4 cores\" \"8 cores\"],\n",
    "#            title = \"Benchmarking Julia (parallelization)\", \n",
    "#            legend = :topleft,\n",
    "#            fontfamily=\"Helvetica\")"
   ]
  },
  {
   "attachments": {},
   "cell_type": "markdown",
   "metadata": {},
   "source": [
    "### Homework\n",
    "\n",
    "- Install [DFTK.jl](https://docs.dftk.org/stable/)"
   ]
  }
 ],
 "metadata": {
  "kernelspec": {
   "display_name": "Julia 1.9.0",
   "language": "julia",
   "name": "julia-1.9"
  },
  "language_info": {
   "file_extension": ".jl",
   "mimetype": "application/julia",
   "name": "julia",
   "version": "1.9.0"
  },
  "orig_nbformat": 4
 },
 "nbformat": 4,
 "nbformat_minor": 2
}
