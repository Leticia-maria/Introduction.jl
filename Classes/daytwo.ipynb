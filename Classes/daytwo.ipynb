{
 "cells": [
  {
   "attachments": {},
   "cell_type": "markdown",
   "metadata": {},
   "source": [
    "### Vectorization in Julia"
   ]
  },
  {
   "attachments": {},
   "cell_type": "markdown",
   "metadata": {},
   "source": [
    "#### Element-wise arithmetic operations:"
   ]
  },
  {
   "cell_type": "code",
   "execution_count": null,
   "metadata": {},
   "outputs": [],
   "source": [
    "a = [1, 2, 3]\n",
    "b = [4, 5, 6]\n",
    "c = a + b  "
   ]
  },
  {
   "cell_type": "code",
   "execution_count": null,
   "metadata": {},
   "outputs": [],
   "source": [
    "a = [1, 2, 3]\n",
    "b = [4, 5, 6]\n",
    "c = a + b"
   ]
  },
  {
   "attachments": {},
   "cell_type": "markdown",
   "metadata": {},
   "source": [
    "### Element-wise logical operations:"
   ]
  },
  {
   "attachments": {},
   "cell_type": "markdown",
   "metadata": {},
   "source": [
    "| A | B | A AND B | A OR B | A XOR B | A NAND B |\n",
    "|---|---|---------|--------|---------|----------|\n",
    "| 0 | 0 |    0    |   0    |    0    |    1     |\n",
    "| 0 | 1 |    0    |   1    |    1    |    1     |\n",
    "| 1 | 0 |    0    |   1    |    1    |    1     |\n",
    "| 1 | 1 |    1    |   1    |    0    |    0     |"
   ]
  },
  {
   "cell_type": "code",
   "execution_count": null,
   "metadata": {},
   "outputs": [],
   "source": [
    "# Element-wise comparison\n",
    "a = [1, 2, 3]\n",
    "b = [2, 2, 2]\n",
    "c = a .== b  # [false, true, false]\n",
    "\n",
    "# Element-wise logical AND\n",
    "x = [true, false, true]\n",
    "y = [false, true, true]\n",
    "z = x .& y  # [false, false, true]"
   ]
  },
  {
   "cell_type": "code",
   "execution_count": null,
   "metadata": {},
   "outputs": [],
   "source": [
    "# Using square brackets to define a matrix\n",
    "A = [1 2 3;\n",
    "     4 5 6;\n",
    "     7 8 9]\n"
   ]
  },
  {
   "cell_type": "code",
   "execution_count": null,
   "metadata": {},
   "outputs": [],
   "source": [
    "# Using the `reshape` function\n",
    "B = reshape([1, 2, 3, 4, 5, 6, 7, 8, 9], 3, 3)"
   ]
  },
  {
   "cell_type": "code",
   "execution_count": null,
   "metadata": {},
   "outputs": [],
   "source": [
    "B'"
   ]
  },
  {
   "cell_type": "code",
   "execution_count": null,
   "metadata": {},
   "outputs": [],
   "source": [
    "# Using the `zeros` function to create a matrix of zeros\n",
    "C = zeros(3, 3)"
   ]
  },
  {
   "cell_type": "code",
   "execution_count": null,
   "metadata": {},
   "outputs": [],
   "source": [
    "# Using the `ones` function to create a matrix of ones\n",
    "D = ones(Int64, 3, 3)"
   ]
  },
  {
   "cell_type": "code",
   "execution_count": null,
   "metadata": {},
   "outputs": [],
   "source": [
    "# Using the `rand` function to create a matrix of random numbers\n",
    "E = rand(3, 3)"
   ]
  },
  {
   "cell_type": "code",
   "execution_count": null,
   "metadata": {},
   "outputs": [],
   "source": [
    "A = [1 2 3;\n",
    "     4 5 6;\n",
    "     7 8 9]\n",
    "\n",
    "# Accessing a single element\n",
    "elem = A[2, 3]  # 6\n",
    "\n",
    "# Accessing a row\n",
    "row = A[2, :]  # [4, 5, 6]\n",
    "\n",
    "# Accessing a column\n",
    "column = A[:, 1]  # [1, 4, 7]"
   ]
  },
  {
   "cell_type": "code",
   "execution_count": null,
   "metadata": {},
   "outputs": [],
   "source": [
    "A = [1 2;\n",
    "     3 4]\n",
    "\n",
    "B = [5 6;\n",
    "     7 8]"
   ]
  },
  {
   "cell_type": "code",
   "execution_count": null,
   "metadata": {},
   "outputs": [],
   "source": [
    "# Matrix addition\n",
    "C = A + B  # [6 8; 10 12]"
   ]
  },
  {
   "cell_type": "code",
   "execution_count": null,
   "metadata": {},
   "outputs": [],
   "source": [
    "# Matrix subtraction\n",
    "D = A - B  # [-4 -4; -4 -4]"
   ]
  },
  {
   "cell_type": "code",
   "execution_count": null,
   "metadata": {},
   "outputs": [],
   "source": [
    "# Matrix multiplication\n",
    "E = A * B  # [19 22; 43 50]"
   ]
  },
  {
   "cell_type": "code",
   "execution_count": null,
   "metadata": {},
   "outputs": [],
   "source": [
    "# Matrix transpose\n",
    "F = A'  # [1 3; 2 4]"
   ]
  },
  {
   "cell_type": "code",
   "execution_count": null,
   "metadata": {},
   "outputs": [],
   "source": [
    "# Concatenating matrices horizontally\n",
    "C = hcat(A, B)  # [1 2 5 6; 3 4 7 8]"
   ]
  },
  {
   "cell_type": "code",
   "execution_count": null,
   "metadata": {},
   "outputs": [],
   "source": [
    "# Concatenating matrices vertically\n",
    "D = vcat(A, B)  # [1 2; 3 4; 5 6; 7 8]"
   ]
  },
  {
   "attachments": {},
   "cell_type": "markdown",
   "metadata": {},
   "source": [
    "### Plots"
   ]
  },
  {
   "cell_type": "code",
   "execution_count": null,
   "metadata": {},
   "outputs": [],
   "source": [
    "using Plots\n",
    "# Let's define a simple one-dimensional box from 0 to a:\n",
    "a = 1.0  # in atomic units\n",
    "# Number of points in space\n",
    "N = 100\n",
    "# Coordinate space\n",
    "x = range(0, stop=a, length=N)\n",
    "\n",
    "labels = []\n",
    "wavefunctions = []\n",
    "\n",
    "# Now let's compute the first three wavefunctions:\n",
    "for n in 1:3\n",
    "    ψ = sqrt(2/a) * sin.(n * pi * x / a)\n",
    "    push!(wavefunctions, ψ)\n",
    "    push!(labels, \"n = $n\")\n",
    "    println(ψ)\n",
    "end\n",
    "\n",
    "print(reshape(labels, 1,3))\n",
    "plot!(\n",
    "        x, wavefunctions, \n",
    "        label=reshape(labels, 1,3)\n",
    "    )\n",
    "\n",
    "title!(\"Particle in a Box Wavefunctions\")\n",
    "xlabel!(\"x (a.u.)\")\n",
    "ylabel!(\"ψ(x)\")"
   ]
  },
  {
   "cell_type": "code",
   "execution_count": null,
   "metadata": {},
   "outputs": [],
   "source": [
    "# for n in 1:3\n",
    "#     ψ = sqrt(2/a) * sin.(n * pi * x / a)\n",
    "#     plot!(x, ψ, label=\"n = $n\", linewidth=3)\n",
    "# end\n",
    "# \n",
    "# title!(\"Particle in a Box Wavefunctions\")\n",
    "# xlabel!(\"x (a.u.)\")\n",
    "# ylabel!(\"ψ(x)\")"
   ]
  },
  {
   "cell_type": "code",
   "execution_count": null,
   "metadata": {},
   "outputs": [],
   "source": [
    "# colors = [:red, :green, :blue]  # specify colors for lines\n",
    "# \n",
    "# for (n, color) in enumerate(colors)\n",
    "#     ψ = sqrt(2/a) * sin.(n * pi * x / a)\n",
    "#     plot!(x, ψ, linewidth=3, linecolor=color, label=\"n = $n\")  # change linecolor here\n",
    "# end\n",
    "# \n",
    "# title!(\"Particle in a Box Wavefunctions\")\n",
    "# xlabel!(\"x (a.u.)\")\n",
    "# ylabel!(\"ψ(x)\")"
   ]
  },
  {
   "cell_type": "code",
   "execution_count": null,
   "metadata": {},
   "outputs": [],
   "source": [
    "# for (n, color) in enumerate(colors)\n",
    "#     ψ = sqrt(2/a) * sin.(n * pi * x / a)\n",
    "#     plot!(x, ψ, linewidth=3, linecolor=color, label=\"n = $n\", fontfamily=\"Helvetica\")  # change linecolor here\n",
    "# end\n",
    "# \n",
    "# title!(\"Particle in a Box Wavefunctions\")\n",
    "# xlabel!(\"x (a.u.)\")\n",
    "# ylabel!(\"ψ(x)\")"
   ]
  },
  {
   "cell_type": "code",
   "execution_count": null,
   "metadata": {},
   "outputs": [],
   "source": [
    "### show latex strings \n",
    "### show dotted plots\n",
    "### show bar plots\n",
    "### show dynamic plots\n",
    "### show dataframes\n",
    "### show animations"
   ]
  },
  {
   "cell_type": "code",
   "execution_count": null,
   "metadata": {},
   "outputs": [],
   "source": [
    "# using Plots\n",
    "# using StatsPlots  # This includes the `groupedbar` function.\n",
    "# \n",
    "# # Set the GR backend.\n",
    "# gr()\n",
    "# \n",
    "# # Define your data.\n",
    "# names = [\"1\", \"2\", \"3\", \"4\", \"5\", \"6\"]\n",
    "# group1 = [250, 345, 700, 1300, 1678, 2157]\n",
    "# group2 = [110, 200, 400, 800, 1000, 1500]\n",
    "# group3 = [65, 101, 189, 367, 432, 702]\n",
    "# \n",
    "# # Create the grouped bar plot.\n",
    "# groupedbar(names, [group1 group2 group3], \n",
    "#            bar_position = :dodge, \n",
    "#            bar_width=0.7, \n",
    "#            xlabel = \"Molecules\", \n",
    "#            ylabel = \"Time in miliseconds\", \n",
    "#            label = [\"1 core\" \"4 cores\" \"8 cores\"],\n",
    "#            title = \"Benchmarking Julia (parallelization)\", \n",
    "#            legend = :topleft,\n",
    "#            fontfamily=\"Helvetica\")"
   ]
  },
  {
   "cell_type": "code",
   "execution_count": null,
   "metadata": {},
   "outputs": [],
   "source": []
  }
 ],
 "metadata": {
  "kernelspec": {
   "display_name": "Julia 1.9.0",
   "language": "julia",
   "name": "julia-1.9"
  },
  "language_info": {
   "file_extension": ".jl",
   "mimetype": "application/julia",
   "name": "julia",
   "version": "1.9.0"
  },
  "orig_nbformat": 4
 },
 "nbformat": 4,
 "nbformat_minor": 2
}
