{
 "cells": [
  {
   "cell_type": "code",
   "execution_count": 1,
   "metadata": {},
   "outputs": [
    {
     "name": "stderr",
     "output_type": "stream",
     "text": [
      "\u001b[32m\u001b[1m   Resolving\u001b[22m\u001b[39m package versions...\n"
     ]
    },
    {
     "name": "stderr",
     "output_type": "stream",
     "text": [
      "\u001b[32m\u001b[1m  No Changes\u001b[22m\u001b[39m to `~/.julia/environments/v1.9/Project.toml`\n",
      "\u001b[32m\u001b[1m  No Changes\u001b[22m\u001b[39m to `~/.julia/environments/v1.9/Manifest.toml`\n"
     ]
    }
   ],
   "source": [
    "using Pkg\n",
    "Pkg.add(\"Molly\")"
   ]
  },
  {
   "attachments": {},
   "cell_type": "markdown",
   "metadata": {},
   "source": [
    "### Our **first simulation**\n",
    "#### Fluid acting under a Lennard-Jones potential"
   ]
  },
  {
   "cell_type": "code",
   "execution_count": 2,
   "metadata": {},
   "outputs": [],
   "source": [
    "using Molly"
   ]
  },
  {
   "attachments": {},
   "cell_type": "markdown",
   "metadata": {},
   "source": [
    "### Let's define the number of particles and their masses."
   ]
  },
  {
   "cell_type": "code",
   "execution_count": 3,
   "metadata": {},
   "outputs": [
    {
     "data": {
      "text/plain": [
       "100-element Vector{Atom{Float64, Quantity{Float64, 𝐌, Unitful.FreeUnits{(u,), 𝐌, nothing}}, Quantity{Float64, 𝐋, Unitful.FreeUnits{(nm,), 𝐋, nothing}}, Quantity{Float64, 𝐋² 𝐌 𝐍⁻¹ 𝐓⁻², Unitful.FreeUnits{(kJ, mol⁻¹), 𝐋² 𝐌 𝐍⁻¹ 𝐓⁻², nothing}}}}:\n",
       " Atom with index 1, charge=0.0, mass=10.0 u, σ=0.3 nm, ϵ=0.2 kJ mol⁻¹\n",
       " Atom with index 1, charge=0.0, mass=10.0 u, σ=0.3 nm, ϵ=0.2 kJ mol⁻¹\n",
       " Atom with index 1, charge=0.0, mass=10.0 u, σ=0.3 nm, ϵ=0.2 kJ mol⁻¹\n",
       " Atom with index 1, charge=0.0, mass=10.0 u, σ=0.3 nm, ϵ=0.2 kJ mol⁻¹\n",
       " Atom with index 1, charge=0.0, mass=10.0 u, σ=0.3 nm, ϵ=0.2 kJ mol⁻¹\n",
       " Atom with index 1, charge=0.0, mass=10.0 u, σ=0.3 nm, ϵ=0.2 kJ mol⁻¹\n",
       " Atom with index 1, charge=0.0, mass=10.0 u, σ=0.3 nm, ϵ=0.2 kJ mol⁻¹\n",
       " Atom with index 1, charge=0.0, mass=10.0 u, σ=0.3 nm, ϵ=0.2 kJ mol⁻¹\n",
       " Atom with index 1, charge=0.0, mass=10.0 u, σ=0.3 nm, ϵ=0.2 kJ mol⁻¹\n",
       " Atom with index 1, charge=0.0, mass=10.0 u, σ=0.3 nm, ϵ=0.2 kJ mol⁻¹\n",
       " ⋮\n",
       " Atom with index 1, charge=0.0, mass=10.0 u, σ=0.3 nm, ϵ=0.2 kJ mol⁻¹\n",
       " Atom with index 1, charge=0.0, mass=10.0 u, σ=0.3 nm, ϵ=0.2 kJ mol⁻¹\n",
       " Atom with index 1, charge=0.0, mass=10.0 u, σ=0.3 nm, ϵ=0.2 kJ mol⁻¹\n",
       " Atom with index 1, charge=0.0, mass=10.0 u, σ=0.3 nm, ϵ=0.2 kJ mol⁻¹\n",
       " Atom with index 1, charge=0.0, mass=10.0 u, σ=0.3 nm, ϵ=0.2 kJ mol⁻¹\n",
       " Atom with index 1, charge=0.0, mass=10.0 u, σ=0.3 nm, ϵ=0.2 kJ mol⁻¹\n",
       " Atom with index 1, charge=0.0, mass=10.0 u, σ=0.3 nm, ϵ=0.2 kJ mol⁻¹\n",
       " Atom with index 1, charge=0.0, mass=10.0 u, σ=0.3 nm, ϵ=0.2 kJ mol⁻¹\n",
       " Atom with index 1, charge=0.0, mass=10.0 u, σ=0.3 nm, ϵ=0.2 kJ mol⁻¹"
      ]
     },
     "metadata": {},
     "output_type": "display_data"
    }
   ],
   "source": [
    "n_atoms = 100\n",
    "atom_mass = 10.0u\"u\"\n",
    "atoms = [Atom(mass=atom_mass, σ=0.3u\"nm\", ϵ=0.2u\"kJ * mol^-1\") for i in 1:n_atoms]"
   ]
  },
  {
   "attachments": {},
   "cell_type": "markdown",
   "metadata": {},
   "source": [
    "Our simulation will run in a cubic box (defined by the ```CubicBoundary```). You can also use a ```TriclinicBoundary```. Simulations in 2 dimensions should use a ```RectangularBoundary```."
   ]
  },
  {
   "cell_type": "code",
   "execution_count": 6,
   "metadata": {},
   "outputs": [
    {
     "data": {
      "text/plain": [
       "CubicBoundary{Quantity{Float64, 𝐋, Unitful.FreeUnits{(nm,), 𝐋, nothing}}}(Quantity{Float64, 𝐋, Unitful.FreeUnits{(nm,), 𝐋, nothing}}[2.0 nm, 2.0 nm, 2.0 nm])"
      ]
     },
     "metadata": {},
     "output_type": "display_data"
    }
   ],
   "source": [
    "boundary = CubicBoundary(2.0u\"nm\", 2.0u\"nm\", 2.0u\"nm\") # Periodic boundary conditions"
   ]
  },
  {
   "cell_type": "code",
   "execution_count": 7,
   "metadata": {},
   "outputs": [
    {
     "data": {
      "text/plain": [
       "(LennardJones{false, NoCutoff, Int64, Int64, Unitful.FreeUnits{(kJ, nm⁻¹, mol⁻¹), 𝐋 𝐌 𝐍⁻¹ 𝐓⁻², nothing}, Unitful.FreeUnits{(kJ, mol⁻¹), 𝐋² 𝐌 𝐍⁻¹ 𝐓⁻², nothing}}(NoCutoff(), false, true, 1, 1, kJ nm⁻¹ mol⁻¹, kJ mol⁻¹),)"
      ]
     },
     "metadata": {},
     "output_type": "display_data"
    }
   ],
   "source": [
    "pairwise_inters = (LennardJones(),) "
   ]
  },
  {
   "cell_type": "code",
   "execution_count": 9,
   "metadata": {},
   "outputs": [
    {
     "data": {
      "text/plain": [
       "100-element Vector{SVector{3, Quantity{Float64, 𝐋, Unitful.FreeUnits{(nm,), 𝐋, nothing}}}}:\n",
       " [1.0210195811034832 nm, 1.3783441292512717 nm, 1.4229650161889464 nm]\n",
       " [0.3875910356741563 nm, 1.289736810789835 nm, 1.4824102779086579 nm]\n",
       " [1.2523893008253242 nm, 0.46410856762966834 nm, 1.0966842675721462 nm]\n",
       " [0.13859750200934973 nm, 1.2742497300782027 nm, 1.692841525864135 nm]\n",
       " [1.3684681014773892 nm, 1.5906663720643164 nm, 0.9391732707701912 nm]\n",
       " [1.6630764469468908 nm, 1.4708841277889786 nm, 0.7761044945919497 nm]\n",
       " [1.4259478499196945 nm, 0.9457251323331222 nm, 1.6247236724109875 nm]\n",
       " [1.4323915388228765 nm, 1.9102745549686426 nm, 0.752239773640234 nm]\n",
       " [1.8475635086502038 nm, 0.6060926439935954 nm, 0.5491378862220235 nm]\n",
       " [1.4685345028473238 nm, 0.6144213501043336 nm, 1.929799693082883 nm]\n",
       " ⋮\n",
       " [1.922145615871222 nm, 0.10327182263466206 nm, 0.649170711325014 nm]\n",
       " [1.8942110427171073 nm, 1.3023311942171574 nm, 1.2740824872125514 nm]\n",
       " [0.4196497186701229 nm, 0.7032517001036922 nm, 0.6580791317503796 nm]\n",
       " [0.7687307943179358 nm, 0.9675651740172606 nm, 0.7010563332466793 nm]\n",
       " [0.952529180702862 nm, 1.9903214221120307 nm, 1.6529033034520526 nm]\n",
       " [1.8493975301950687 nm, 0.6553795361171646 nm, 0.9507451985166686 nm]\n",
       " [1.1027935495223007 nm, 1.3528108251617037 nm, 1.758977961443905 nm]\n",
       " [0.42178966374468363 nm, 0.3599660280643304 nm, 1.4314556870570334 nm]\n",
       " [0.8022365336323722 nm, 1.9353763358391165 nm, 0.8917570013248459 nm]"
      ]
     },
     "metadata": {},
     "output_type": "display_data"
    }
   ],
   "source": [
    "coords = place_atoms(n_atoms, boundary; min_dist=0.3u\"nm\") # Random placement without clashing"
   ]
  },
  {
   "cell_type": "code",
   "execution_count": 11,
   "metadata": {},
   "outputs": [
    {
     "data": {
      "text/plain": [
       "100.0 K"
      ]
     },
     "metadata": {},
     "output_type": "display_data"
    }
   ],
   "source": [
    "temp = 100.0u\"K\""
   ]
  },
  {
   "cell_type": "code",
   "execution_count": 12,
   "metadata": {},
   "outputs": [
    {
     "data": {
      "text/plain": [
       "100-element Vector{SVector{3, Quantity{Float64, 𝐋 𝐓⁻¹, Unitful.FreeUnits{(nm, ps⁻¹), 𝐋 𝐓⁻¹, nothing}}}}:\n",
       " [-0.05408635301992621 nm ps⁻¹, 0.30163008576230926 nm ps⁻¹, 0.5975275107322007 nm ps⁻¹]\n",
       " [-0.18467452266349066 nm ps⁻¹, 0.5007118350607077 nm ps⁻¹, -0.357635196248212 nm ps⁻¹]\n",
       " [-0.15142173131598038 nm ps⁻¹, 0.570011545370811 nm ps⁻¹, 0.010941125962294011 nm ps⁻¹]\n",
       " [0.38196618570792806 nm ps⁻¹, -0.24263141796081492 nm ps⁻¹, -0.13336929367498437 nm ps⁻¹]\n",
       " [-0.25481385435583376 nm ps⁻¹, 0.26164395421586345 nm ps⁻¹, -0.11306618140500649 nm ps⁻¹]\n",
       " [0.17551211042881001 nm ps⁻¹, 0.38348959362234036 nm ps⁻¹, -0.12982336280985587 nm ps⁻¹]\n",
       " [-0.30948402238103767 nm ps⁻¹, 0.5047222177623284 nm ps⁻¹, -0.2166174027929962 nm ps⁻¹]\n",
       " [0.1514092000056909 nm ps⁻¹, -0.18490307650568102 nm ps⁻¹, 0.34438362717270343 nm ps⁻¹]\n",
       " [0.2607685099208775 nm ps⁻¹, -0.32825652149619355 nm ps⁻¹, -0.46185419632779295 nm ps⁻¹]\n",
       " [0.008726811227677456 nm ps⁻¹, 0.174944634263802 nm ps⁻¹, 0.2202261565881186 nm ps⁻¹]\n",
       " ⋮\n",
       " [0.014908331631898955 nm ps⁻¹, -0.1809260485610797 nm ps⁻¹, -0.25289121194930503 nm ps⁻¹]\n",
       " [-0.4434952757268632 nm ps⁻¹, -0.6833068258002457 nm ps⁻¹, -0.6484534455903853 nm ps⁻¹]\n",
       " [-0.23339960334794152 nm ps⁻¹, 0.015002695100465929 nm ps⁻¹, 0.26061656238139586 nm ps⁻¹]\n",
       " [0.5970027063486371 nm ps⁻¹, 0.22650899206223052 nm ps⁻¹, 0.005186485087477907 nm ps⁻¹]\n",
       " [0.30728032005879735 nm ps⁻¹, -0.41752030155222464 nm ps⁻¹, -0.31039527605007267 nm ps⁻¹]\n",
       " [-0.37964080320047455 nm ps⁻¹, 0.38170536356639095 nm ps⁻¹, -0.10984330884692395 nm ps⁻¹]\n",
       " [-0.28678843365784934 nm ps⁻¹, -0.3756210816142212 nm ps⁻¹, 0.3992976818351333 nm ps⁻¹]\n",
       " [-0.12915000801320414 nm ps⁻¹, -0.16692512234432735 nm ps⁻¹, 0.38554151305677226 nm ps⁻¹]\n",
       " [-0.06125038712579944 nm ps⁻¹, -0.036235337797202234 nm ps⁻¹, 0.1466511454005359 nm ps⁻¹]"
      ]
     },
     "metadata": {},
     "output_type": "display_data"
    }
   ],
   "source": [
    "velocities = [random_velocity(atom_mass, temp) for i in 1:n_atoms]"
   ]
  },
  {
   "cell_type": "code",
   "execution_count": 13,
   "metadata": {},
   "outputs": [
    {
     "data": {
      "text/plain": [
       "System with 100 atoms, boundary CubicBoundary{Quantity{Float64, 𝐋, Unitful.FreeUnits{(nm,), 𝐋, nothing}}}(Quantity{Float64, 𝐋, Unitful.FreeUnits{(nm,), 𝐋, nothing}}[2.0 nm, 2.0 nm, 2.0 nm])"
      ]
     },
     "metadata": {},
     "output_type": "display_data"
    }
   ],
   "source": [
    "sys = System(\n",
    "    atoms=atoms,\n",
    "    pairwise_inters=pairwise_inters,\n",
    "    coords=coords,\n",
    "    velocities=velocities,\n",
    "    boundary=boundary,\n",
    "    loggers=(\n",
    "        temp=TemperatureLogger(10),\n",
    "        coords=CoordinateLogger(10),\n",
    "    ),\n",
    ")"
   ]
  },
  {
   "cell_type": "code",
   "execution_count": 14,
   "metadata": {},
   "outputs": [
    {
     "data": {
      "text/plain": [
       "VelocityVerlet{Quantity{Float64, 𝐓, Unitful.FreeUnits{(ps,), 𝐓, nothing}}, AndersenThermostat{Quantity{Float64, 𝚯, Unitful.FreeUnits{(K,), 𝚯, nothing}}, Quantity{Float64, 𝐓, Unitful.FreeUnits{(ps,), 𝐓, nothing}}}}(0.002 ps, AndersenThermostat{Quantity{Float64, 𝚯, Unitful.FreeUnits{(K,), 𝚯, nothing}}, Quantity{Float64, 𝐓, Unitful.FreeUnits{(ps,), 𝐓, nothing}}}(100.0 K, 1.0 ps), 1)"
      ]
     },
     "metadata": {},
     "output_type": "display_data"
    }
   ],
   "source": [
    "simulator = VelocityVerlet(\n",
    "    dt=0.002u\"ps\",\n",
    "    coupling=AndersenThermostat(temp, 1.0u\"ps\"),\n",
    ")"
   ]
  },
  {
   "cell_type": "code",
   "execution_count": 15,
   "metadata": {},
   "outputs": [
    {
     "data": {
      "text/plain": [
       "System with 100 atoms, boundary CubicBoundary{Quantity{Float64, 𝐋, Unitful.FreeUnits{(nm,), 𝐋, nothing}}}(Quantity{Float64, 𝐋, Unitful.FreeUnits{(nm,), 𝐋, nothing}}[2.0 nm, 2.0 nm, 2.0 nm])"
      ]
     },
     "metadata": {},
     "output_type": "display_data"
    }
   ],
   "source": [
    "simulate!(sys, simulator, 1_000)"
   ]
  },
  {
   "cell_type": "code",
   "execution_count": 16,
   "metadata": {},
   "outputs": [
    {
     "name": "stderr",
     "output_type": "stream",
     "text": [
      "\u001b[32m\u001b[1m   Resolving\u001b[22m\u001b[39m package versions...\n"
     ]
    },
    {
     "name": "stderr",
     "output_type": "stream",
     "text": [
      "\u001b[32m\u001b[1m   Installed\u001b[22m\u001b[39m TiffImages ─────────── v0.6.4\n",
      "\u001b[32m\u001b[1m   Installed\u001b[22m\u001b[39m MiniQhull ──────────── v0.4.0\n",
      "\u001b[32m\u001b[1m   Installed\u001b[22m\u001b[39m PNGFiles ───────────── v0.3.17\n",
      "\u001b[32m\u001b[1m   Installed\u001b[22m\u001b[39m StableHashTraits ───── v0.3.1\n",
      "\u001b[32m\u001b[1m   Installed\u001b[22m\u001b[39m ModernGL ───────────── v1.1.7\n",
      "\u001b[32m\u001b[1m   Installed\u001b[22m\u001b[39m JpegTurbo ──────────── v0.1.2\n",
      "\u001b[32m\u001b[1m   Installed\u001b[22m\u001b[39m Netpbm ─────────────── v1.1.0\n",
      "\u001b[32m\u001b[1m   Installed\u001b[22m\u001b[39m AxisArrays ─────────── v0.4.6\n",
      "\u001b[32m\u001b[1m   Installed\u001b[22m\u001b[39m GLMakie ────────────── v0.8.6\n"
     ]
    },
    {
     "name": "stderr",
     "output_type": "stream",
     "text": [
      "\u001b[32m\u001b[1m   Installed\u001b[22m\u001b[39m QhullMiniWrapper_jll ─ v1.0.0+1\n",
      "\u001b[32m\u001b[1m   Installed\u001b[22m\u001b[39m TupleTools ─────────── v1.3.0\n",
      "\u001b[32m\u001b[1m   Installed\u001b[22m\u001b[39m TriplotBase ────────── v0.1.0\n",
      "\u001b[32m\u001b[1m   Installed\u001b[22m\u001b[39m ImageMetadata ──────── v0.9.8\n",
      "\u001b[32m\u001b[1m   Installed\u001b[22m\u001b[39m MosaicViews ────────── v0.3.4\n",
      "\u001b[32m\u001b[1m   Installed\u001b[22m\u001b[39m PaddedViews ────────── v0.5.12\n",
      "\u001b[32m\u001b[1m   Installed\u001b[22m\u001b[39m GridLayoutBase ─────── v0.9.1\n"
     ]
    },
    {
     "name": "stderr",
     "output_type": "stream",
     "text": [
      "\u001b[32m\u001b[1m   Installed\u001b[22m\u001b[39m Imath_jll ──────────── v3.1.7+0\n"
     ]
    },
    {
     "name": "stderr",
     "output_type": "stream",
     "text": [
      "\u001b[32m\u001b[1m   Installed\u001b[22m\u001b[39m RangeArrays ────────── v0.3.2\n",
      "\u001b[32m\u001b[1m   Installed\u001b[22m\u001b[39m OpenEXR_jll ────────── v3.1.4+0\n",
      "\u001b[32m\u001b[1m   Installed\u001b[22m\u001b[39m MakieCore ──────────── v0.6.3\n",
      "\u001b[32m\u001b[1m   Installed\u001b[22m\u001b[39m Packing ────────────── v0.5.0\n",
      "\u001b[32m\u001b[1m   Installed\u001b[22m\u001b[39m FreeTypeAbstraction ── v0.10.0\n",
      "\u001b[32m\u001b[1m   Installed\u001b[22m\u001b[39m ImageBase ──────────── v0.1.5\n",
      "\u001b[32m\u001b[1m   Installed\u001b[22m\u001b[39m GeometryBasics ─────── v0.4.7\n"
     ]
    },
    {
     "name": "stderr",
     "output_type": "stream",
     "text": [
      "\u001b[32m\u001b[1m   Installed\u001b[22m\u001b[39m ShaderAbstractions ─── v0.3.0\n",
      "\u001b[32m\u001b[1m   Installed\u001b[22m\u001b[39m MathTeXEngine ──────── v0.5.6\n",
      "\u001b[32m\u001b[1m   Installed\u001b[22m\u001b[39m ImageAxes ──────────── v0.6.10\n"
     ]
    },
    {
     "name": "stderr",
     "output_type": "stream",
     "text": [
      "\u001b[32m\u001b[1m   Installed\u001b[22m\u001b[39m GeoInterface ───────── v1.3.1\n"
     ]
    },
    {
     "name": "stderr",
     "output_type": "stream",
     "text": [
      "\u001b[32m\u001b[1m   Installed\u001b[22m\u001b[39m Makie ──────────────── v0.19.6\n"
     ]
    },
    {
     "name": "stderr",
     "output_type": "stream",
     "text": [
      "\u001b[32m\u001b[1m    Updating\u001b[22m\u001b[39m `~/.julia/environments/v1.9/Project.toml`\n",
      "  \u001b[90m[e9467ef8] \u001b[39m\u001b[92m+ GLMakie v0.8.6\u001b[39m\n",
      "\u001b[32m\u001b[1m    Updating\u001b[22m\u001b[39m `~/.julia/environments/v1.9/Manifest.toml`\n"
     ]
    },
    {
     "name": "stderr",
     "output_type": "stream",
     "text": [
      "  \u001b[90m[27a7e980] \u001b[39m\u001b[92m+ Animations v0.4.1\u001b[39m\n",
      "  \u001b[90m[39de3d68] \u001b[39m\u001b[92m+ AxisArrays v0.4.6\u001b[39m\n",
      "  \u001b[90m[a2cac450] \u001b[39m\u001b[92m+ ColorBrewer v0.4.0\u001b[39m\n",
      "  \u001b[90m[411431e0] \u001b[39m\u001b[92m+ Extents v0.1.1\u001b[39m\n",
      "  \u001b[90m[b38be410] \u001b[39m\u001b[92m+ FreeType v4.0.0\u001b[39m\n",
      "  \u001b[90m[663a7486] \u001b[39m\u001b[92m+ FreeTypeAbstraction v0.10.0\u001b[39m\n",
      "  \u001b[90m[f7f18e0c] \u001b[39m\u001b[92m+ GLFW v3.4.1\u001b[39m\n",
      "  \u001b[90m[e9467ef8] \u001b[39m\u001b[92m+ GLMakie v0.8.6\u001b[39m\n",
      "  \u001b[90m[cf35fbd7] \u001b[39m\u001b[92m+ GeoInterface v1.3.1\u001b[39m\n",
      "  \u001b[90m[5c1252a2] \u001b[39m\u001b[92m+ GeometryBasics v0.4.7\u001b[39m\n",
      "  \u001b[90m[a2bd30eb] \u001b[39m\u001b[92m+ Graphics v1.1.2\u001b[39m\n",
      "  \u001b[90m[3955a311] \u001b[39m\u001b[92m+ GridLayoutBase v0.9.1\u001b[39m\n",
      "  \u001b[90m[2803e5a7] \u001b[39m\u001b[92m+ ImageAxes v0.6.10\u001b[39m\n",
      "  \u001b[90m[c817782e] \u001b[39m\u001b[92m+ ImageBase v0.1.5\u001b[39m\n",
      "  \u001b[90m[a09fc81d] \u001b[39m\u001b[92m+ ImageCore v0.9.4\u001b[39m\n",
      "  \u001b[90m[82e4d734] \u001b[39m\u001b[92m+ ImageIO v0.6.6\u001b[39m\n",
      "  \u001b[90m[bc367c6b] \u001b[39m\u001b[92m+ ImageMetadata v0.9.8\u001b[39m\n",
      "  \u001b[90m[9b13fd28] \u001b[39m\u001b[92m+ IndirectArrays v1.0.0\u001b[39m\n",
      "  \u001b[90m[f1662d9f] \u001b[39m\u001b[92m+ Isoband v0.1.1\u001b[39m\n",
      "  \u001b[90m[b835a17e] \u001b[39m\u001b[92m+ JpegTurbo v0.1.2\u001b[39m\n",
      "  \u001b[90m[8cdb02fc] \u001b[39m\u001b[92m+ LazyModules v0.3.1\u001b[39m\n",
      "  \u001b[90m[ee78f7c6] \u001b[39m\u001b[92m+ Makie v0.19.6\u001b[39m\n",
      "  \u001b[90m[20f20a25] \u001b[39m\u001b[92m+ MakieCore v0.6.3\u001b[39m\n",
      "  \u001b[90m[7eb4fadd] \u001b[39m\u001b[92m+ Match v1.2.0\u001b[39m\n",
      "  \u001b[90m[0a4f8689] \u001b[39m\u001b[92m+ MathTeXEngine v0.5.6\u001b[39m\n",
      "  \u001b[90m[7269a6da] \u001b[39m\u001b[92m+ MeshIO v0.4.10\u001b[39m\n",
      "  \u001b[90m[978d7f02] \u001b[39m\u001b[92m+ MiniQhull v0.4.0\u001b[39m\n",
      "  \u001b[90m[66fc600b] \u001b[39m\u001b[92m+ ModernGL v1.1.7\u001b[39m\n",
      "  \u001b[90m[e94cdb99] \u001b[39m\u001b[92m+ MosaicViews v0.3.4\u001b[39m\n",
      "  \u001b[90m[f09324ee] \u001b[39m\u001b[92m+ Netpbm v1.1.0\u001b[39m\n",
      "  \u001b[90m[52e1d378] \u001b[39m\u001b[92m+ OpenEXR v0.3.2\u001b[39m\n",
      "  \u001b[90m[f57f5aa1] \u001b[39m\u001b[92m+ PNGFiles v0.3.17\u001b[39m\n",
      "  \u001b[90m[19eb6ba3] \u001b[39m\u001b[92m+ Packing v0.5.0\u001b[39m\n",
      "  \u001b[90m[5432bcbf] \u001b[39m\u001b[92m+ PaddedViews v0.5.12\u001b[39m\n",
      "  \u001b[90m[647866c9] \u001b[39m\u001b[92m+ PolygonOps v0.1.2\u001b[39m\n",
      "  \u001b[90m[4b34888f] \u001b[39m\u001b[92m+ QOI v1.0.0\u001b[39m\n",
      "  \u001b[90m[b3c3ace0] \u001b[39m\u001b[92m+ RangeArrays v0.3.2\u001b[39m\n",
      "  \u001b[90m[65257c39] \u001b[39m\u001b[92m+ ShaderAbstractions v0.3.0\u001b[39m\n",
      "  \u001b[90m[73760f76] \u001b[39m\u001b[92m+ SignedDistanceFields v0.4.0\u001b[39m\n",
      "  \u001b[90m[45858cf5] \u001b[39m\u001b[92m+ Sixel v0.1.2\u001b[39m\n",
      "  \u001b[90m[c5dd0088] \u001b[39m\u001b[92m+ StableHashTraits v0.3.1\u001b[39m\n",
      "  \u001b[90m[cae243ae] \u001b[39m\u001b[92m+ StackViews v0.1.1\u001b[39m\n",
      "  \u001b[90m[731e570b] \u001b[39m\u001b[92m+ TiffImages v0.6.4\u001b[39m\n",
      "  \u001b[90m[981d1d27] \u001b[39m\u001b[92m+ TriplotBase v0.1.0\u001b[39m\n",
      "  \u001b[90m[9d95972d] \u001b[39m\u001b[92m+ TupleTools v1.3.0\u001b[39m\n",
      "  \u001b[90m[5ae413db] \u001b[39m\u001b[92m+ EarCut_jll v2.2.4+0\u001b[39m\n",
      "  \u001b[90m[905a6f67] \u001b[39m\u001b[92m+ Imath_jll v3.1.7+0\u001b[39m\n",
      "  \u001b[90m[18a262bb] \u001b[39m\u001b[92m+ OpenEXR_jll v3.1.4+0\u001b[39m\n",
      "  \u001b[90m[460c41e3] \u001b[39m\u001b[92m+ QhullMiniWrapper_jll v1.0.0+1\u001b[39m\n",
      "  \u001b[90m[9a68df92] \u001b[39m\u001b[92m+ isoband_jll v0.2.3+0\u001b[39m\n",
      "  \u001b[90m[075b6546] \u001b[39m\u001b[92m+ libsixel_jll v1.10.3+0\u001b[39m\n",
      "  \u001b[90m[8bf52ea8] \u001b[39m\u001b[92m+ CRC32c\u001b[39m\n",
      "\u001b[32m\u001b[1m    Building\u001b[22m\u001b[39m ModernGL → `~/.julia/scratchspaces/44cfe95a-1eb2-52ea-b672-e2afdf69b78f/b76ea40b5c0f45790ae09492712dd326208c28b2/build.log`\n"
     ]
    },
    {
     "name": "stderr",
     "output_type": "stream",
     "text": [
      "\u001b[32m\u001b[1mPrecompiling\u001b[22m\u001b[39m "
     ]
    },
    {
     "name": "stderr",
     "output_type": "stream",
     "text": [
      "project...\n"
     ]
    },
    {
     "name": "stderr",
     "output_type": "stream",
     "text": [
      "\u001b[32m  ✓ \u001b[39m\u001b[90mSignedDistanceFields\u001b[39m"
     ]
    },
    {
     "name": "stderr",
     "output_type": "stream",
     "text": [
      "\n",
      "\u001b[32m  ✓ \u001b[39m\u001b[90mMatch\u001b[39m\n",
      "\u001b[32m  ✓ \u001b[39m\u001b[90mExtents\u001b[39m\n",
      "\u001b[32m  ✓ \u001b[39m\u001b[90mRangeArrays\u001b[39m\n",
      "\u001b[32m  ✓ \u001b[39m\u001b[90mPolygonOps\u001b[39m\n",
      "\u001b[32m  ✓ \u001b[39m\u001b[90mLazyModules\u001b[39m\n",
      "\u001b[32m  ✓ \u001b[39m\u001b[90mMakieCore\u001b[39m\n"
     ]
    },
    {
     "name": "stderr",
     "output_type": "stream",
     "text": [
      "\u001b[32m  ✓ \u001b[39m\u001b[90mIndirectArrays\u001b[39m\n",
      "\u001b[32m  ✓ \u001b[39m\u001b[90misoband_jll\u001b[39m\n",
      "\u001b[32m  ✓ \u001b[39m\u001b[90mTupleTools\u001b[39m\n"
     ]
    },
    {
     "name": "stderr",
     "output_type": "stream",
     "text": [
      "\u001b[32m  ✓ \u001b[39m\u001b[90mTriplotBase\u001b[39m\n",
      "\u001b[32m  ✓ \u001b[39m\u001b[90mQhullMiniWrapper_jll\u001b[39m\n"
     ]
    },
    {
     "name": "stderr",
     "output_type": "stream",
     "text": [
      "\u001b[32m  ✓ \u001b[39m\u001b[90mQOI\u001b[39m\n"
     ]
    },
    {
     "name": "stderr",
     "output_type": "stream",
     "text": [
      "\u001b[32m  ✓ \u001b[39m\u001b[90mImath_jll\u001b[39m\n"
     ]
    },
    {
     "name": "stderr",
     "output_type": "stream",
     "text": [
      "\u001b[32m  ✓ \u001b[39m\u001b[90mPaddedViews\u001b[39m\n",
      "\u001b[32m  ✓ \u001b[39m\u001b[90mEarCut_jll\u001b[39m\n",
      "\u001b[32m  ✓ \u001b[39m\u001b[90mStackViews\u001b[39m\n",
      "\u001b[32m  ✓ \u001b[39m\u001b[90mlibsixel_jll\u001b[39m\n"
     ]
    },
    {
     "name": "stderr",
     "output_type": "stream",
     "text": [
      "\u001b[32m  ✓ \u001b[39m\u001b[90mGraphics\u001b[39m\n"
     ]
    },
    {
     "name": "stderr",
     "output_type": "stream",
     "text": [
      "\u001b[32m  ✓ \u001b[39m\u001b[90mAnimations\u001b[39m\n"
     ]
    },
    {
     "name": "stderr",
     "output_type": "stream",
     "text": [
      "\u001b[32m  ✓ \u001b[39m\u001b[90mColorBrewer\u001b[39m\n"
     ]
    },
    {
     "name": "stderr",
     "output_type": "stream",
     "text": [
      "\u001b[32m  ✓ \u001b[39m\u001b[90mFreeType\u001b[39m\n"
     ]
    },
    {
     "name": "stderr",
     "output_type": "stream",
     "text": [
      "\u001b[32m  ✓ \u001b[39m\u001b[90mModernGL\u001b[39m\n"
     ]
    },
    {
     "name": "stderr",
     "output_type": "stream",
     "text": [
      "\u001b[32m  ✓ \u001b[39m\u001b[90mGeoInterface\u001b[39m\n"
     ]
    },
    {
     "name": "stderr",
     "output_type": "stream",
     "text": [
      "\u001b[32m  ✓ \u001b[39m\u001b[90mGLFW\u001b[39m\n"
     ]
    },
    {
     "name": "stderr",
     "output_type": "stream",
     "text": [
      "\u001b[32m  ✓ \u001b[39m\u001b[90mAxisArrays\u001b[39m\n",
      "\u001b[32m  ✓ \u001b[39m\u001b[90mIsoband\u001b[39m\n"
     ]
    },
    {
     "name": "stderr",
     "output_type": "stream",
     "text": [
      "\u001b[32m  ✓ \u001b[39m\u001b[90mStableHashTraits\u001b[39m\n",
      "\u001b[32m  ✓ \u001b[39m\u001b[90mPolynomials → PolynomialsMakieCoreExt\u001b[39m\n"
     ]
    },
    {
     "name": "stderr",
     "output_type": "stream",
     "text": [
      "\u001b[32m  ✓ \u001b[39m\u001b[90mOpenEXR_jll\u001b[39m\n",
      "\u001b[32m  ✓ \u001b[39m\u001b[90mMiniQhull\u001b[39m\n"
     ]
    },
    {
     "name": "stderr",
     "output_type": "stream",
     "text": [
      "\u001b[32m  ✓ \u001b[39m\u001b[90mMosaicViews\u001b[39m\n"
     ]
    },
    {
     "name": "stderr",
     "output_type": "stream",
     "text": [
      "\u001b[32m  ✓ \u001b[39m\u001b[90mOpenEXR\u001b[39m\n"
     ]
    },
    {
     "name": "stderr",
     "output_type": "stream",
     "text": [
      "\u001b[32m  ✓ \u001b[39m\u001b[90mGeometryBasics\u001b[39m\n"
     ]
    },
    {
     "name": "stderr",
     "output_type": "stream",
     "text": [
      "\u001b[32m  ✓ \u001b[39m\u001b[90mPacking\u001b[39m\n"
     ]
    },
    {
     "name": "stderr",
     "output_type": "stream",
     "text": [
      "\u001b[32m  ✓ \u001b[39m\u001b[90mShaderAbstractions\u001b[39m\n"
     ]
    },
    {
     "name": "stderr",
     "output_type": "stream",
     "text": [
      "\u001b[32m  ✓ \u001b[39m\u001b[90mMeshIO\u001b[39m\n"
     ]
    },
    {
     "name": "stderr",
     "output_type": "stream",
     "text": [
      "\u001b[32m  ✓ \u001b[39m\u001b[90mFreeTypeAbstraction\u001b[39m\n"
     ]
    },
    {
     "name": "stderr",
     "output_type": "stream",
     "text": [
      "\u001b[32m  ✓ \u001b[39m\u001b[90mGridLayoutBase\u001b[39m\n"
     ]
    },
    {
     "name": "stderr",
     "output_type": "stream",
     "text": [
      "\u001b[32m  ✓ \u001b[39m\u001b[90mPlots → GeometryBasicsExt\u001b[39m\n"
     ]
    },
    {
     "name": "stderr",
     "output_type": "stream",
     "text": [
      "\u001b[32m  ✓ \u001b[39m\u001b[90mMathTeXEngine\u001b[39m\n"
     ]
    },
    {
     "name": "stderr",
     "output_type": "stream",
     "text": [
      "\u001b[32m  ✓ \u001b[39m\u001b[90mImageCore\u001b[39m\n"
     ]
    },
    {
     "name": "stderr",
     "output_type": "stream",
     "text": [
      "\u001b[32m  ✓ \u001b[39m\u001b[90mJpegTurbo\u001b[39m\n"
     ]
    },
    {
     "name": "stderr",
     "output_type": "stream",
     "text": [
      "\u001b[32m  ✓ \u001b[39m\u001b[90mSixel\u001b[39m\n"
     ]
    },
    {
     "name": "stderr",
     "output_type": "stream",
     "text": [
      "\u001b[32m  ✓ \u001b[39m\u001b[90mImageBase\u001b[39m\n"
     ]
    },
    {
     "name": "stderr",
     "output_type": "stream",
     "text": [
      "\u001b[32m  ✓ \u001b[39m\u001b[90mPNGFiles\u001b[39m\n"
     ]
    },
    {
     "name": "stderr",
     "output_type": "stream",
     "text": [
      "\u001b[32m  ✓ \u001b[39m\u001b[90mImageAxes\u001b[39m\n"
     ]
    },
    {
     "name": "stderr",
     "output_type": "stream",
     "text": [
      "\u001b[32m  ✓ \u001b[39m\u001b[90mTiffImages\u001b[39m\n"
     ]
    },
    {
     "name": "stderr",
     "output_type": "stream",
     "text": [
      "\u001b[32m  ✓ \u001b[39m\u001b[90mImageMetadata\u001b[39m\n"
     ]
    },
    {
     "name": "stderr",
     "output_type": "stream",
     "text": [
      "\u001b[32m  ✓ \u001b[39m\u001b[90mNetpbm\u001b[39m\n"
     ]
    },
    {
     "name": "stderr",
     "output_type": "stream",
     "text": [
      "\u001b[32m  ✓ \u001b[39m\u001b[90mImageIO\u001b[39m\n"
     ]
    },
    {
     "name": "stderr",
     "output_type": "stream",
     "text": [
      "\u001b[32m  ✓ \u001b[39m\u001b[90mMakie\u001b[39m\n"
     ]
    },
    {
     "name": "stderr",
     "output_type": "stream",
     "text": [
      "\u001b[32m  ✓ \u001b[39m\u001b[90mBrillouin → BrillouinMakieExt\u001b[39m\n"
     ]
    },
    {
     "name": "stderr",
     "output_type": "stream",
     "text": [
      "\u001b[32m  ✓ \u001b[39mGLMakie\n",
      "  54 dependencies successfully precompiled in 127 seconds. 506 already precompiled.\n"
     ]
    }
   ],
   "source": [
    "Pkg.add(\"GLMakie\")"
   ]
  },
  {
   "cell_type": "code",
   "execution_count": 17,
   "metadata": {},
   "outputs": [],
   "source": [
    "using GLMakie"
   ]
  },
  {
   "attachments": {},
   "cell_type": "markdown",
   "metadata": {},
   "source": [
    "### Let's visualize!"
   ]
  },
  {
   "cell_type": "code",
   "execution_count": null,
   "metadata": {},
   "outputs": [],
   "source": [
    "visualize(sys.loggers.coords, boundary, \"../Simulations/atom_lennard_jones_100K.mp4\")"
   ]
  },
  {
   "cell_type": "code",
   "execution_count": null,
   "metadata": {},
   "outputs": [],
   "source": [
    "## Applications in Chemistry/Materials Science/Physics\n",
    "### Our **first simulation**\n",
    "#### Fluid acting under a Lennard-Jones potential\n",
    "\n",
    "> Lennard-Jones is the potential that defines the interactions between the atoms\n",
    "using Molly\n",
    "#### Let's define the number of particles and their masses.\n",
    "n_atoms = 100\n",
    "atom_mass = 10.0u\"u\"\n",
    "atoms = [Atom(mass=atom_mass, σ=0.3u\"nm\", ϵ=0.2u\"kJ * mol^-1\") for i in 1:n_atoms]\n",
    "Our simulation will run in a cubic box (defined by the ```CubicBoundary```). You can also use a ```TriclinicBoundary```. Simulations in 2 dimensions should use a ```RectangularBoundary```.\n",
    "# CubicBoundary() ## this is a type/struct/class in Julia\n",
    "boundary = TriclinicBoundary(2.0u\"nm\", 2.0u\"nm\", 2.0u\"nm\") # Periodic boundary conditions\n",
    "\n",
    "##### Now we can define our pairwise interactions, i.e. those between most or all atom pairs. Because we have defined the relevant parameters for the atoms, we can use the built-in Lennard-Jones type.\n",
    "pairwise_inters = (LennardJones(),) # Don't forget the trailing comma!\n",
    "##### Finally, we can define the system and run the simulation. We use an Andersen thermostat to keep a constant temperature, and we log the temperature and coordinates every 10 steps. Periodic boundary conditions are automatically used with the cubic box we defined earlier.\n",
    "sys = System(\n",
    "    atoms=atoms,\n",
    "    pairwise_inters=pairwise_inters,\n",
    "    coords=coords,\n",
    "    velocities=velocities,\n",
    "    boundary=boundary,\n",
    "    loggers=(\n",
    "        temp=TemperatureLogger(10),\n",
    "        coords=CoordinateLogger(10),\n",
    "    ),\n",
    ")\n",
    "\n",
    "simulator = VelocityVerlet(\n",
    "    dt=0.002u\"ps\",\n",
    "    coupling=AndersenThermostat(temp, 1.0u\"ps\"),\n",
    ")\n",
    "\n",
    "simulate!(sys, simulator, 1_000)\n",
    "##### Do not forget to install the package with ```Pkg.add(\"GLMakie\")``` \n",
    "using GLMakie\n",
    "visualize(sys.loggers.coords, boundary, \"sim_lj.mp4\")\n",
    "### Molly also supports GPU acceleration\n",
    "#### Do not forget to install the packages using ```Pkg.install(\"CUDA\")```\n",
    "using CUDA\n",
    "n_atoms = 100\n",
    "atom_mass = 10.0f0u\"u\"\n",
    "boundary = CubicBoundary(2.0f0u\"nm\", 2.0f0u\"nm\", 2.0f0u\"nm\")\n",
    "temp = 100.0f0u\"K\"\n",
    "atoms = CuArray([Atom(mass=atom_mass, σ=0.3f0u\"nm\", ϵ=0.2f0u\"kJ * mol^-1\") for i in 1:n_atoms])\n",
    "coords = CuArray(place_atoms(n_atoms, boundary; min_dist=0.3u\"nm\"))\n",
    "velocities = CuArray([velocity(atom_mass, temp) for i in 1:n_atoms])\n",
    "simulator = VelocityVerlet(dt=0.002f0u\"ps\")\n",
    "\n",
    "sys = System(\n",
    "    atoms=atoms,\n",
    "    pairwise_inters=(LennardJones(),),\n",
    "    coords=coords,\n",
    "    velocities=velocities,\n",
    "    boundary=boundary,\n",
    "    loggers=(\n",
    "        temp=TemperatureLogger(typeof(1.0f0u\"K\"), 10),\n",
    "        coords=CoordinateLogger(typeof(1.0f0u\"nm\"), 10),\n",
    "    ),\n",
    ")\n",
    "\n",
    "simulate!(sys, simulator, 1_000)\n",
    "### Let us simulate a diatomic molecule\n",
    "##### If we want to define specific interactions between atoms, for example bonds, we can do this as well. Using the same definitions as the first example, let's set up the coordinates so that paired atoms are 1 Å apart.\n",
    "## 100 atoms\n",
    "## cubic\n",
    "coords = place_atoms(n_atoms ÷ 2, boundary; min_dist=0.3u\"nm\")\n",
    "for i in 1:length(coords)\n",
    "    push!(coords, coords[i] .+ [0.1, 0.0, 0.0]u\"nm\")\n",
    "end\n",
    "\n",
    "velocities = [velocity(atom_mass, temp) for i in 1:n_atoms]\n",
    "#### Now we can use the built-in interaction list and bond types to place harmonic bonds between paired atoms.\n",
    "bonds = InteractionList2Atoms(\n",
    "    collect(1:(n_atoms ÷ 2)),           # First atom indices\n",
    "    collect((1 + n_atoms ÷ 2):n_atoms), # Second atom indices\n",
    "    repeat([\"\"], n_atoms ÷ 2),          # Bond types\n",
    "    [HarmonicBond(k=300_000.0u\"kJ * mol^-1 * nm^-2\", r0=0.1u\"nm\") for i in 1:(n_atoms ÷ 2)],\n",
    ")\n",
    "\n",
    "specific_inter_lists = (bonds,)\n",
    "##### This time, we are also going to use a neighbor list to speed up the Lennard Jones calculation. We can use the built-in ```DistanceNeighborFinder```. The arguments are a 2D array of eligible interacting pairs, the number of steps between each update and the distance cutoff to be classed as a neighbor. Since the neighbor finder is run every 10 steps we should also use a cutoff for the interaction with a cutoff distance less than the neighbor list distance.\n",
    "# All pairs apart from bonded pairs are eligible for non-bonded interactions\n",
    "nb_matrix = trues(n_atoms, n_atoms)\n",
    "for i in 1:(n_atoms ÷ 2)\n",
    "    nb_matrix[i, i + (n_atoms ÷ 2)] = false\n",
    "    nb_matrix[i + (n_atoms ÷ 2), i] = false\n",
    "end\n",
    "\n",
    "neighbor_finder = DistanceNeighborFinder(\n",
    "    nb_matrix=nb_matrix,\n",
    "    n_steps=10,\n",
    "    dist_cutoff=1.5u\"nm\",\n",
    ")\n",
    "\n",
    "pairwise_inters = (LennardJones(nl_only=true, cutoff=DistanceCutoff(1.2u\"nm\")),)\n",
    "sys = System(\n",
    "    atoms=atoms,\n",
    "    pairwise_inters=pairwise_inters,\n",
    "    specific_inter_lists=specific_inter_lists,\n",
    "    coords=coords,\n",
    "    velocities=velocities,\n",
    "    boundary=boundary,\n",
    "    neighbor_finder=neighbor_finder,\n",
    "    loggers=(\n",
    "        temp=TemperatureLogger(10),\n",
    "        coords=CoordinateLogger(10),\n",
    "    ),\n",
    ")\n",
    "\n",
    "simulator = VelocityVerlet(\n",
    "    dt=0.002u\"ps\",\n",
    "    coupling=AndersenThermostat(temp, 1.0u\"ps\"),\n",
    ")\n",
    "simulate!(sys, simulator, 1_000)\n",
    "#### This time when we view the trajectory we can add lines to show the bonds.\n",
    "visualize(\n",
    "    sys.loggers.coords,\n",
    "    boundary,\n",
    "    \"sim_diatomic.mp4\";\n",
    "    connections=[(i, i + (n_atoms ÷ 2)) for i in 1:(n_atoms ÷ 2)],\n",
    ")\n",
    "### Simulating the **protein**\n",
    "using Molly\n",
    "### This is from the standard folder of Molly library.\n",
    "data_dir = joinpath(dirname(\"/Users/leticiamadureira/.julia/packages/Molly/\"), \"PMLnv\", \"data\")\n",
    "#### First, we need to read in a force field in ```OpenMM XML format``` and read in a coordinate file in a format supported by ```Chemfiles.jl```.\n",
    "#### Myelom protein\n",
    "ff = OpenMMForceField(\n",
    "    joinpath(data_dir, \"force_fields\", \"ff99SBildn.xml\"),\n",
    "    joinpath(data_dir, \"force_fields\", \"tip3p_standard.xml\"),\n",
    "    joinpath(data_dir, \"force_fields\", \"his.xml\"),\n",
    ")\n",
    "#### This sets up a system in the same data structures as above and that is simulated in the same way. Here we carry out an energy minimization, simulate with a ```Langevin integrator``` and use a ```StructureWriter``` to write the trajectory as a PDB file.\n",
    "sys = System(\n",
    "    joinpath(data_dir, \"6mrr_equil.pdb\"),\n",
    "    ff;\n",
    "    loggers=(\n",
    "        energy=TotalEnergyLogger(10),\n",
    "        writer=StructureWriter(10, \"traj_6mrr_1ps.pdb\", [\"HOH\"]),\n",
    "    ),\n",
    ")\n",
    "\n",
    "minimizer = SteepestDescentMinimizer()\n",
    "simulate!(sys, minimizer)\n",
    "\n",
    "random_velocities!(sys, 298.0u\"K\")\n",
    "simulator = Langevin(\n",
    "    dt=0.001u\"ps\",\n",
    "    temperature=300.0u\"K\",\n",
    "    friction=1.0u\"ps^-1\",\n",
    ")\n",
    "\n",
    "simulate!(sys, simulator, 5_000; n_threads=Threads.nthreads())\n",
    "### Simulating gravity\n",
    "##### Molly is geared primarily to molecular simulation, but can also be used to simulate other physical systems. Let's set up a gravitational simulation. This example also shows the use of Float32, a 2D simulation and no specified units.\n",
    "atoms = [Atom(mass=1.0f0), Atom(mass=1.0f0)]\n",
    "coords = [SVector(0.3f0, 0.5f0), SVector(0.7f0, 0.5f0)]\n",
    "velocities = [SVector(0.0f0, 1.0f0), SVector(0.0f0, -1.0f0)]\n",
    "pairwise_inters = (Gravity(nl_only=false, G=1.5f0),)\n",
    "simulator = VelocityVerlet(dt=0.002f0)\n",
    "boundary = RectangularBoundary(1.0f0, 1.0f0)\n",
    "\n",
    "sys = System(\n",
    "    atoms=atoms,\n",
    "    pairwise_inters=pairwise_inters,\n",
    "    coords=coords,\n",
    "    velocities=velocities,\n",
    "    boundary=boundary,\n",
    "    loggers=(coords=CoordinateLogger(Float32, 10; dims=2),),\n",
    "    force_units=NoUnits,\n",
    "    energy_units=NoUnits,\n",
    ")\n",
    "\n",
    "simulate!(sys, simulator, 2_000)\n",
    "visualize(\n",
    "    sys.loggers.coords,\n",
    "    boundary,\n",
    "    \"sim_gravity.mp4\";\n",
    "    trails=4,\n",
    "    framerate=15,\n",
    "    color=[:orange, :lightgreen],\n",
    ")\n",
    "### A **fun topic**: simulating the solar system\n",
    "using GLMakie\n",
    "using Molly\n",
    "\n",
    "# Using get_body_barycentric_posvel from Astropy\n",
    "coords = [\n",
    "    SVector(-1336052.8665050615,  294465.0896030796 ,  158690.88781384667)u\"km\",\n",
    "    SVector(-58249418.70233503 , -26940630.286818042, -8491250.752464907 )u\"km\",\n",
    "    SVector( 58624128.321813114, -81162437.2641475  , -40287143.05760552 )u\"km\",\n",
    "    SVector(-99397467.7302648  , -105119583.06486066, -45537506.29775053 )u\"km\",\n",
    "    SVector( 131714235.34070954, -144249196.60814604, -69730238.5084304  )u\"km\",\n",
    "]\n",
    "\n",
    "velocities = [\n",
    "    SVector(-303.86327859262457, -1229.6540090943934, -513.791218405548  )u\"km * d^-1\",\n",
    "    SVector( 1012486.9596885007, -3134222.279236384 , -1779128.5093088674)u\"km * d^-1\",\n",
    "    SVector( 2504563.6403826815,  1567163.5923297722,  546718.234192132  )u\"km * d^-1\",\n",
    "    SVector( 1915792.9709661514, -1542400.0057833872, -668579.962254351  )u\"km * d^-1\",\n",
    "    SVector( 1690083.43357355  ,  1393597.7855017239,  593655.0037930267 )u\"km * d^-1\",\n",
    "]\n",
    "\n",
    "body_masses = [\n",
    "    1.989e30u\"kg\",\n",
    "    0.330e24u\"kg\",\n",
    "    4.87e24u\"kg\" ,\n",
    "    5.97e24u\"kg\" ,\n",
    "    0.642e24u\"kg\",\n",
    "]\n",
    "\n",
    "boundary = CubicBoundary(1e9u\"km\", 1e9u\"km\", 1e9u\"km\")\n",
    "\n",
    "# Convert the gravitational constant to the appropriate units\n",
    "inter = Gravity(G=convert(typeof(1.0u\"km^3 * kg^-1 * d^-2\"), Unitful.G))\n",
    "\n",
    "sys = System(\n",
    "    atoms=[Atom(mass=m) for m in body_masses],\n",
    "    pairwise_inters=(inter,),\n",
    "    coords=coords .+ (SVector(5e8, 5e8, 5e8)u\"km\",),\n",
    "    velocities=velocities,\n",
    "    boundary=boundary,\n",
    "    loggers=(coords=CoordinateLogger(typeof(1.0u\"km\"), 10),),\n",
    "    force_units=u\"kg * km * d^-2\",\n",
    "    energy_units=u\"kg * km^2 * d^-2\",\n",
    ")\n",
    "\n",
    "simulator = Verlet(\n",
    "    dt=0.1u\"d\",\n",
    "    remove_CM_motion=false,\n",
    ")\n",
    "\n",
    "simulate!(sys, simulator, 3650) # 1 year\n",
    "\n",
    "visualize(\n",
    "    sys.loggers.coords,\n",
    "    boundary,\n",
    "    \"sim_planets.mp4\";\n",
    "    trails=5,\n",
    "    color=[:yellow, :grey, :orange, :blue, :red],\n",
    "    markersize=[0.25, 0.08, 0.08, 0.08, 0.08],\n",
    "    transparency=false,\n",
    ")\n",
    "\n",
    "### Julia for Machine Learning\n",
    "- Recommending packages\n",
    "![](FluxLogo.png)\n",
    "- Showing tutorials\n",
    "[Machine Learning with Julia Language](https://youtu.be/FLAjNjcwDpI)\n",
    "### Building your first model\n",
    "#### This is a simple linear regression model that attempts to recover a linear function by looking at noisy examples.\n",
    "#### Do not forget to install Flux using ```Pkg.install(\"Flux\")```\n",
    "##### First, we’ll write a function that generates our “true” data. We’ll use to use Flux to recover W_truth and b_truth by looking only at examples of the ground_truth function.\n",
    "using Flux\n",
    "\n",
    "# Define the ground truth model. We aim to recover W_truth and b_truth using\n",
    "# only examples of ground_truth()\n",
    "W_truth = [1 2 3 4 5;\n",
    "            5 4 3 2 1]\n",
    "b_truth = [-1.0; -2.0]\n",
    "ground_truth(x) = W_truth*x .+ b_truth\n",
    "#### Next, we generate our training data by passing random vectors into the ground truth function. We’ll also add Gaussian noise using randn() so that it’s not too easy for Flux to figure out the model.\n",
    "x_train = [ 5 .* rand(5) for _ in 1:10_000 ]\n",
    "y_train = [ ground_truth(x) + 0.2 .* randn(2) for x in x_train ]\n",
    "#### There are two important things to note in this example which differ from real machine learning problems:\n",
    " - ### Our variables are individual vectors, stored inside another vector. Usually, we would have a collection of N-dimensional arrays (N >= 2) as our data.\n",
    " - ### In a real learning scenario, we would not have access to our ground truth, only the training examples.\n",
    "#### Next, we define the model we want to use to learn the data. We’ll use the same form that we used for our training data:\n",
    "model(x) = W*x .+ b\n",
    "#### We need to set the parameters of the model (W and b) to some initial values. It’s fairly common to use random values, so we’ll do that:\n",
    "W = rand(2, 5)\n",
    "b = rand(2)\n",
    "#### A loss function evaluates a machine learning model’s performance. In other words, it measures how far the model is from its target prediction. Flux lets you define your own custom loss function, or you can use one of the Loss Functions that Flux provides.\n",
    "\n",
    "#### For this example, we’ll define a loss function that measures the squared distance from the predicted output to the actual output:\n",
    "function loss(x, y)\n",
    "    ŷ = model(x)\n",
    "    sum((y .- ŷ).^2)\n",
    "  end\n",
    "#### You train a machine learning model by running an optimization algorithm (optimiser) that finds the best parameters (W and b). The best parameters for a model are the ones that achieve the best score of the loss function. Flux provides Optimisers that you can use to train a model.\n",
    "\n",
    "#### For this tutorial, we’ll use a classic gradient descent optimiser with learning rate η = 0.01:\n",
    "opt = Descent(0.01)\n",
    "#### Training a model is the process of computing the gradients with respect to the parameters for each input in the data. At every step, the optimiser updates all of the parameters until it finds a good value for them. This process can be written as a loop: we iterate over the examples in x_train and y_train and update the model for each example.\n",
    "\n",
    "#### To indicate that we want all derivatives of W and b, we write ps = Flux.params(W, b). This is a convenience function that Flux provides so that we don’t have to explicitly list every gradient we want. Check out the section on Taking Gradients if you want to learn more about how this works.\n",
    "\n",
    "#### We can now execute the training procedure for our model:\n",
    "train_data = zip(x_train, y_train)\n",
    "ps = Flux.params(W, b)\n",
    "\n",
    "for (x,y) in train_data\n",
    "  gs = Flux.gradient(ps) do\n",
    "    loss(x,y)\n",
    "  end\n",
    "  Flux.Optimise.update!(opt, ps, gs)\n",
    "end\n",
    "#### Instead of writing your own loop, you can use the built-in method on Flux:\n",
    "Flux.train!(loss, Flux.params(W, b), train_data, opt)\n",
    "#### The training loop we ran modified W and b to be closer to the values used to generate the training data (W and b). We can see how well we did by printing out the difference between the learned and actual matrices.\n",
    "@show W\n",
    "@show maximum(abs, W .- W_truth)\n",
    "#### Because the data and initialization are random, your results may vary slightly, but in most cases, the largest difference between the elements of learned and actual W matrix is no more than 4%.\n",
    "### Conclusion: **Julia is a super powerful language**"
   ]
  }
 ],
 "metadata": {
  "kernelspec": {
   "display_name": "Julia 1.9.0",
   "language": "julia",
   "name": "julia-1.9"
  },
  "language_info": {
   "file_extension": ".jl",
   "mimetype": "application/julia",
   "name": "julia",
   "version": "1.9.0"
  },
  "orig_nbformat": 4
 },
 "nbformat": 4,
 "nbformat_minor": 2
}
