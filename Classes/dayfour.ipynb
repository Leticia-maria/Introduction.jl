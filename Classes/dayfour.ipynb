{
 "cells": [
  {
   "cell_type": "code",
   "execution_count": 1,
   "metadata": {},
   "outputs": [
    {
     "name": "stderr",
     "output_type": "stream",
     "text": [
      "\u001b[32m\u001b[1m   Resolving\u001b[22m\u001b[39m package versions...\n"
     ]
    },
    {
     "name": "stderr",
     "output_type": "stream",
     "text": [
      "\u001b[32m\u001b[1m  No Changes\u001b[22m\u001b[39m to `~/.julia/environments/v1.9/Project.toml`\n",
      "\u001b[32m\u001b[1m  No Changes\u001b[22m\u001b[39m to `~/.julia/environments/v1.9/Manifest.toml`\n"
     ]
    }
   ],
   "source": [
    "using Pkg\n",
    "Pkg.add(\"Molly\")"
   ]
  },
  {
   "attachments": {},
   "cell_type": "markdown",
   "metadata": {},
   "source": [
    "### Our **first simulation**\n",
    "#### Fluid acting under a Lennard-Jones potential"
   ]
  },
  {
   "cell_type": "code",
   "execution_count": 79,
   "metadata": {},
   "outputs": [],
   "source": [
    "using Molly"
   ]
  },
  {
   "attachments": {},
   "cell_type": "markdown",
   "metadata": {},
   "source": [
    "### Let's define the number of particles and their masses."
   ]
  },
  {
   "cell_type": "code",
   "execution_count": 97,
   "metadata": {},
   "outputs": [
    {
     "data": {
      "text/plain": [
       "100-element Vector{Atom{Float64, Quantity{Float64, 𝐌, Unitful.FreeUnits{(u,), 𝐌, nothing}}, Quantity{Float64, 𝐋, Unitful.FreeUnits{(nm,), 𝐋, nothing}}, Quantity{Float64, 𝐋² 𝐌 𝐍⁻¹ 𝐓⁻², Unitful.FreeUnits{(kJ, mol⁻¹), 𝐋² 𝐌 𝐍⁻¹ 𝐓⁻², nothing}}}}:\n",
       " Atom with index 1, charge=0.0, mass=60.0 u, σ=0.4 nm, ϵ=0.2 kJ mol⁻¹\n",
       " Atom with index 1, charge=0.0, mass=60.0 u, σ=0.4 nm, ϵ=0.2 kJ mol⁻¹\n",
       " Atom with index 1, charge=0.0, mass=60.0 u, σ=0.4 nm, ϵ=0.2 kJ mol⁻¹\n",
       " Atom with index 1, charge=0.0, mass=60.0 u, σ=0.4 nm, ϵ=0.2 kJ mol⁻¹\n",
       " Atom with index 1, charge=0.0, mass=60.0 u, σ=0.4 nm, ϵ=0.2 kJ mol⁻¹\n",
       " Atom with index 1, charge=0.0, mass=60.0 u, σ=0.4 nm, ϵ=0.2 kJ mol⁻¹\n",
       " Atom with index 1, charge=0.0, mass=60.0 u, σ=0.4 nm, ϵ=0.2 kJ mol⁻¹\n",
       " Atom with index 1, charge=0.0, mass=60.0 u, σ=0.4 nm, ϵ=0.2 kJ mol⁻¹\n",
       " Atom with index 1, charge=0.0, mass=60.0 u, σ=0.4 nm, ϵ=0.2 kJ mol⁻¹\n",
       " Atom with index 1, charge=0.0, mass=60.0 u, σ=0.4 nm, ϵ=0.2 kJ mol⁻¹\n",
       " ⋮\n",
       " Atom with index 1, charge=0.0, mass=60.0 u, σ=0.4 nm, ϵ=0.2 kJ mol⁻¹\n",
       " Atom with index 1, charge=0.0, mass=60.0 u, σ=0.4 nm, ϵ=0.2 kJ mol⁻¹\n",
       " Atom with index 1, charge=0.0, mass=60.0 u, σ=0.4 nm, ϵ=0.2 kJ mol⁻¹\n",
       " Atom with index 1, charge=0.0, mass=60.0 u, σ=0.4 nm, ϵ=0.2 kJ mol⁻¹\n",
       " Atom with index 1, charge=0.0, mass=60.0 u, σ=0.4 nm, ϵ=0.2 kJ mol⁻¹\n",
       " Atom with index 1, charge=0.0, mass=60.0 u, σ=0.4 nm, ϵ=0.2 kJ mol⁻¹\n",
       " Atom with index 1, charge=0.0, mass=60.0 u, σ=0.4 nm, ϵ=0.2 kJ mol⁻¹\n",
       " Atom with index 1, charge=0.0, mass=60.0 u, σ=0.4 nm, ϵ=0.2 kJ mol⁻¹\n",
       " Atom with index 1, charge=0.0, mass=60.0 u, σ=0.4 nm, ϵ=0.2 kJ mol⁻¹"
      ]
     },
     "metadata": {},
     "output_type": "display_data"
    }
   ],
   "source": [
    "n_atoms = 100\n",
    "atom_mass = 60.0u\"u\"\n",
    "atoms = [Atom(mass=atom_mass, σ=0.4u\"nm\", ϵ=0.2u\"kJ * mol^-1\") for i in 1:n_atoms]"
   ]
  },
  {
   "attachments": {},
   "cell_type": "markdown",
   "metadata": {},
   "source": [
    "Our simulation will run in a cubic box (defined by the ```CubicBoundary```). You can also use a ```TriclinicBoundary```. Simulations in 2 dimensions should use a ```RectangularBoundary```."
   ]
  },
  {
   "cell_type": "code",
   "execution_count": 98,
   "metadata": {},
   "outputs": [
    {
     "data": {
      "text/plain": [
       "CubicBoundary{Quantity{Float64, 𝐋, Unitful.FreeUnits{(nm,), 𝐋, nothing}}}(Quantity{Float64, 𝐋, Unitful.FreeUnits{(nm,), 𝐋, nothing}}[2.0 nm, 2.0 nm, 2.0 nm])"
      ]
     },
     "metadata": {},
     "output_type": "display_data"
    }
   ],
   "source": [
    "boundary = CubicBoundary(2.0u\"nm\", 2.0u\"nm\", 2.0u\"nm\") # Periodic boundary conditions"
   ]
  },
  {
   "cell_type": "code",
   "execution_count": 99,
   "metadata": {},
   "outputs": [
    {
     "data": {
      "text/plain": [
       "(LennardJones{false, NoCutoff, Int64, Int64, Unitful.FreeUnits{(kJ, nm⁻¹, mol⁻¹), 𝐋 𝐌 𝐍⁻¹ 𝐓⁻², nothing}, Unitful.FreeUnits{(kJ, mol⁻¹), 𝐋² 𝐌 𝐍⁻¹ 𝐓⁻², nothing}}(NoCutoff(), false, true, 1, 1, kJ nm⁻¹ mol⁻¹, kJ mol⁻¹),)"
      ]
     },
     "metadata": {},
     "output_type": "display_data"
    }
   ],
   "source": [
    "pairwise_inters = (LennardJones(),) "
   ]
  },
  {
   "cell_type": "code",
   "execution_count": 100,
   "metadata": {},
   "outputs": [
    {
     "data": {
      "text/plain": [
       "100-element Vector{SVector{3, Quantity{Float64, 𝐋, Unitful.FreeUnits{(nm,), 𝐋, nothing}}}}:\n",
       " [1.7451657370189435 nm, 1.5543810917998426 nm, 0.5523737244241955 nm]\n",
       " [1.953502069819428 nm, 1.7011140424471076 nm, 1.1551112527095306 nm]\n",
       " [1.5353660307585313 nm, 1.7897840346385547 nm, 1.5411193797258456 nm]\n",
       " [0.8639218738603518 nm, 1.2738794173307442 nm, 0.5203488359251229 nm]\n",
       " [1.213352628717237 nm, 0.9199953564234806 nm, 1.1812913728182541 nm]\n",
       " [1.4146468208625647 nm, 1.2137363802534635 nm, 1.057559683613193 nm]\n",
       " [1.587673266014089 nm, 0.4889666238422614 nm, 0.4590874038508652 nm]\n",
       " [1.1892575860405032 nm, 1.8545595200838991 nm, 0.4556058851240332 nm]\n",
       " [1.355599219630459 nm, 0.7145144220322879 nm, 0.5089035157166168 nm]\n",
       " [1.8351526624109487 nm, 0.6063541920013431 nm, 0.01771081904473859 nm]\n",
       " ⋮\n",
       " [1.6429970238986324 nm, 1.173506470639411 nm, 0.3493835792730797 nm]\n",
       " [1.8524314375354531 nm, 0.7655515127983019 nm, 1.5212495124498866 nm]\n",
       " [1.8688802650618968 nm, 1.7841194325684775 nm, 0.743900860519445 nm]\n",
       " [0.3112796422445425 nm, 0.4889118727477828 nm, 0.8292729820758 nm]\n",
       " [1.0799679298472713 nm, 0.7999483439506672 nm, 0.20925790465195604 nm]\n",
       " [0.06031152792078198 nm, 0.21826093389920076 nm, 0.14468472600593318 nm]\n",
       " [0.6952685467760804 nm, 0.3562702803266957 nm, 0.9381653545694264 nm]\n",
       " [1.8603310176067578 nm, 1.605504367936538 nm, 1.7203943363695053 nm]\n",
       " [0.3432303709935476 nm, 1.8409643728268266 nm, 1.450305351682237 nm]"
      ]
     },
     "metadata": {},
     "output_type": "display_data"
    }
   ],
   "source": [
    "coords = place_atoms(n_atoms, boundary; min_dist=0.3u\"nm\") # Random placement without clashing"
   ]
  },
  {
   "cell_type": "code",
   "execution_count": 101,
   "metadata": {},
   "outputs": [
    {
     "data": {
      "text/plain": [
       "100.0 K"
      ]
     },
     "metadata": {},
     "output_type": "display_data"
    }
   ],
   "source": [
    "temp = 100.0u\"K\""
   ]
  },
  {
   "cell_type": "code",
   "execution_count": 102,
   "metadata": {},
   "outputs": [
    {
     "data": {
      "text/plain": [
       "100-element Vector{SVector{3, Quantity{Float64, 𝐋 𝐓⁻¹, Unitful.FreeUnits{(nm, ps⁻¹), 𝐋 𝐓⁻¹, nothing}}}}:\n",
       " [-0.2588856573318415 nm ps⁻¹, -0.32491180180373297 nm ps⁻¹, -0.15200846643097723 nm ps⁻¹]\n",
       " [-6.229158924166076e-5 nm ps⁻¹, -0.0834622316520094 nm ps⁻¹, 0.04312563079365239 nm ps⁻¹]\n",
       " [0.1812120905528976 nm ps⁻¹, 0.08890716651302939 nm ps⁻¹, -0.16804149455475506 nm ps⁻¹]\n",
       " [-0.13882753506884535 nm ps⁻¹, 0.17846748006317895 nm ps⁻¹, -0.04915120770312765 nm ps⁻¹]\n",
       " [-0.1070013536756371 nm ps⁻¹, 0.029249204906012818 nm ps⁻¹, 0.10612160463260716 nm ps⁻¹]\n",
       " [-0.26691277193246044 nm ps⁻¹, 0.16051896939291685 nm ps⁻¹, -0.017199194410713464 nm ps⁻¹]\n",
       " [0.0732966332871844 nm ps⁻¹, -0.12903609882161238 nm ps⁻¹, 0.13024712709847933 nm ps⁻¹]\n",
       " [-0.14942354784207781 nm ps⁻¹, -0.2960745574172137 nm ps⁻¹, -0.13168599444293363 nm ps⁻¹]\n",
       " [-0.008429977193601721 nm ps⁻¹, 0.19250365077159698 nm ps⁻¹, -0.2603617302018193 nm ps⁻¹]\n",
       " [0.0014776021677905971 nm ps⁻¹, -0.13241781270130065 nm ps⁻¹, 0.20805088549628634 nm ps⁻¹]\n",
       " ⋮\n",
       " [0.05409543171790309 nm ps⁻¹, 0.05583865142071243 nm ps⁻¹, -0.14745352000713585 nm ps⁻¹]\n",
       " [-0.04845581740526422 nm ps⁻¹, 0.1530652018351488 nm ps⁻¹, -0.08448760161331435 nm ps⁻¹]\n",
       " [0.09631579366984439 nm ps⁻¹, -0.0652762514349296 nm ps⁻¹, -0.22444533450804502 nm ps⁻¹]\n",
       " [0.06969350965956413 nm ps⁻¹, -0.010100155849312863 nm ps⁻¹, -0.028100590024316273 nm ps⁻¹]\n",
       " [0.017194105402563435 nm ps⁻¹, 0.1949983733991132 nm ps⁻¹, -0.01692512365102081 nm ps⁻¹]\n",
       " [-0.24531106299806058 nm ps⁻¹, -0.3952030564933677 nm ps⁻¹, -0.07378169016302703 nm ps⁻¹]\n",
       " [0.0751566032323327 nm ps⁻¹, 0.10644200345641479 nm ps⁻¹, 0.10083596336665573 nm ps⁻¹]\n",
       " [0.00043099176578485413 nm ps⁻¹, 0.09227279205725757 nm ps⁻¹, -0.0076114605868371835 nm ps⁻¹]\n",
       " [-0.04705883813418937 nm ps⁻¹, 0.13691135145998226 nm ps⁻¹, -0.1755259122160976 nm ps⁻¹]"
      ]
     },
     "metadata": {},
     "output_type": "display_data"
    }
   ],
   "source": [
    "velocities = [random_velocity(atom_mass, temp) for i in 1:n_atoms]"
   ]
  },
  {
   "cell_type": "code",
   "execution_count": 103,
   "metadata": {},
   "outputs": [
    {
     "data": {
      "text/plain": [
       "System with 100 atoms, boundary CubicBoundary{Quantity{Float64, 𝐋, Unitful.FreeUnits{(nm,), 𝐋, nothing}}}(Quantity{Float64, 𝐋, Unitful.FreeUnits{(nm,), 𝐋, nothing}}[2.0 nm, 2.0 nm, 2.0 nm])"
      ]
     },
     "metadata": {},
     "output_type": "display_data"
    }
   ],
   "source": [
    "sys = System(\n",
    "    atoms=atoms,\n",
    "    pairwise_inters=pairwise_inters,\n",
    "    coords=coords,\n",
    "    velocities=velocities,\n",
    "    boundary=boundary,\n",
    "    loggers=(\n",
    "        temp=TemperatureLogger(10),\n",
    "        coords=CoordinateLogger(10),\n",
    "    ),\n",
    ")"
   ]
  },
  {
   "cell_type": "code",
   "execution_count": 104,
   "metadata": {},
   "outputs": [
    {
     "data": {
      "text/plain": [
       "VelocityVerlet{Quantity{Float64, 𝐓, Unitful.FreeUnits{(ps,), 𝐓, nothing}}, AndersenThermostat{Quantity{Float64, 𝚯, Unitful.FreeUnits{(K,), 𝚯, nothing}}, Quantity{Float64, 𝐓, Unitful.FreeUnits{(ps,), 𝐓, nothing}}}}(0.002 ps, AndersenThermostat{Quantity{Float64, 𝚯, Unitful.FreeUnits{(K,), 𝚯, nothing}}, Quantity{Float64, 𝐓, Unitful.FreeUnits{(ps,), 𝐓, nothing}}}(100.0 K, 1.0 ps), 1)"
      ]
     },
     "metadata": {},
     "output_type": "display_data"
    }
   ],
   "source": [
    "simulator = VelocityVerlet(\n",
    "    dt=0.002u\"ps\",\n",
    "    coupling=AndersenThermostat(temp, 1.0u\"ps\"),\n",
    ")"
   ]
  },
  {
   "cell_type": "code",
   "execution_count": 105,
   "metadata": {},
   "outputs": [
    {
     "data": {
      "text/plain": [
       "System with 100 atoms, boundary CubicBoundary{Quantity{Float64, 𝐋, Unitful.FreeUnits{(nm,), 𝐋, nothing}}}(Quantity{Float64, 𝐋, Unitful.FreeUnits{(nm,), 𝐋, nothing}}[2.0 nm, 2.0 nm, 2.0 nm])"
      ]
     },
     "metadata": {},
     "output_type": "display_data"
    }
   ],
   "source": [
    "simulate!(sys, simulator, 1_000)"
   ]
  },
  {
   "cell_type": "code",
   "execution_count": 16,
   "metadata": {},
   "outputs": [
    {
     "name": "stderr",
     "output_type": "stream",
     "text": [
      "\u001b[32m\u001b[1m   Resolving\u001b[22m\u001b[39m package versions...\n"
     ]
    },
    {
     "name": "stderr",
     "output_type": "stream",
     "text": [
      "\u001b[32m\u001b[1m   Installed\u001b[22m\u001b[39m TiffImages ─────────── v0.6.4\n",
      "\u001b[32m\u001b[1m   Installed\u001b[22m\u001b[39m MiniQhull ──────────── v0.4.0\n",
      "\u001b[32m\u001b[1m   Installed\u001b[22m\u001b[39m PNGFiles ───────────── v0.3.17\n",
      "\u001b[32m\u001b[1m   Installed\u001b[22m\u001b[39m StableHashTraits ───── v0.3.1\n",
      "\u001b[32m\u001b[1m   Installed\u001b[22m\u001b[39m ModernGL ───────────── v1.1.7\n",
      "\u001b[32m\u001b[1m   Installed\u001b[22m\u001b[39m JpegTurbo ──────────── v0.1.2\n",
      "\u001b[32m\u001b[1m   Installed\u001b[22m\u001b[39m Netpbm ─────────────── v1.1.0\n",
      "\u001b[32m\u001b[1m   Installed\u001b[22m\u001b[39m AxisArrays ─────────── v0.4.6\n",
      "\u001b[32m\u001b[1m   Installed\u001b[22m\u001b[39m GLMakie ────────────── v0.8.6\n"
     ]
    },
    {
     "name": "stderr",
     "output_type": "stream",
     "text": [
      "\u001b[32m\u001b[1m   Installed\u001b[22m\u001b[39m QhullMiniWrapper_jll ─ v1.0.0+1\n",
      "\u001b[32m\u001b[1m   Installed\u001b[22m\u001b[39m TupleTools ─────────── v1.3.0\n",
      "\u001b[32m\u001b[1m   Installed\u001b[22m\u001b[39m TriplotBase ────────── v0.1.0\n",
      "\u001b[32m\u001b[1m   Installed\u001b[22m\u001b[39m ImageMetadata ──────── v0.9.8\n",
      "\u001b[32m\u001b[1m   Installed\u001b[22m\u001b[39m MosaicViews ────────── v0.3.4\n",
      "\u001b[32m\u001b[1m   Installed\u001b[22m\u001b[39m PaddedViews ────────── v0.5.12\n",
      "\u001b[32m\u001b[1m   Installed\u001b[22m\u001b[39m GridLayoutBase ─────── v0.9.1\n"
     ]
    },
    {
     "name": "stderr",
     "output_type": "stream",
     "text": [
      "\u001b[32m\u001b[1m   Installed\u001b[22m\u001b[39m Imath_jll ──────────── v3.1.7+0\n"
     ]
    },
    {
     "name": "stderr",
     "output_type": "stream",
     "text": [
      "\u001b[32m\u001b[1m   Installed\u001b[22m\u001b[39m RangeArrays ────────── v0.3.2\n",
      "\u001b[32m\u001b[1m   Installed\u001b[22m\u001b[39m OpenEXR_jll ────────── v3.1.4+0\n",
      "\u001b[32m\u001b[1m   Installed\u001b[22m\u001b[39m MakieCore ──────────── v0.6.3\n",
      "\u001b[32m\u001b[1m   Installed\u001b[22m\u001b[39m Packing ────────────── v0.5.0\n",
      "\u001b[32m\u001b[1m   Installed\u001b[22m\u001b[39m FreeTypeAbstraction ── v0.10.0\n",
      "\u001b[32m\u001b[1m   Installed\u001b[22m\u001b[39m ImageBase ──────────── v0.1.5\n",
      "\u001b[32m\u001b[1m   Installed\u001b[22m\u001b[39m GeometryBasics ─────── v0.4.7\n"
     ]
    },
    {
     "name": "stderr",
     "output_type": "stream",
     "text": [
      "\u001b[32m\u001b[1m   Installed\u001b[22m\u001b[39m ShaderAbstractions ─── v0.3.0\n",
      "\u001b[32m\u001b[1m   Installed\u001b[22m\u001b[39m MathTeXEngine ──────── v0.5.6\n",
      "\u001b[32m\u001b[1m   Installed\u001b[22m\u001b[39m ImageAxes ──────────── v0.6.10\n"
     ]
    },
    {
     "name": "stderr",
     "output_type": "stream",
     "text": [
      "\u001b[32m\u001b[1m   Installed\u001b[22m\u001b[39m GeoInterface ───────── v1.3.1\n"
     ]
    },
    {
     "name": "stderr",
     "output_type": "stream",
     "text": [
      "\u001b[32m\u001b[1m   Installed\u001b[22m\u001b[39m Makie ──────────────── v0.19.6\n"
     ]
    },
    {
     "name": "stderr",
     "output_type": "stream",
     "text": [
      "\u001b[32m\u001b[1m    Updating\u001b[22m\u001b[39m `~/.julia/environments/v1.9/Project.toml`\n",
      "  \u001b[90m[e9467ef8] \u001b[39m\u001b[92m+ GLMakie v0.8.6\u001b[39m\n",
      "\u001b[32m\u001b[1m    Updating\u001b[22m\u001b[39m `~/.julia/environments/v1.9/Manifest.toml`\n"
     ]
    },
    {
     "name": "stderr",
     "output_type": "stream",
     "text": [
      "  \u001b[90m[27a7e980] \u001b[39m\u001b[92m+ Animations v0.4.1\u001b[39m\n",
      "  \u001b[90m[39de3d68] \u001b[39m\u001b[92m+ AxisArrays v0.4.6\u001b[39m\n",
      "  \u001b[90m[a2cac450] \u001b[39m\u001b[92m+ ColorBrewer v0.4.0\u001b[39m\n",
      "  \u001b[90m[411431e0] \u001b[39m\u001b[92m+ Extents v0.1.1\u001b[39m\n",
      "  \u001b[90m[b38be410] \u001b[39m\u001b[92m+ FreeType v4.0.0\u001b[39m\n",
      "  \u001b[90m[663a7486] \u001b[39m\u001b[92m+ FreeTypeAbstraction v0.10.0\u001b[39m\n",
      "  \u001b[90m[f7f18e0c] \u001b[39m\u001b[92m+ GLFW v3.4.1\u001b[39m\n",
      "  \u001b[90m[e9467ef8] \u001b[39m\u001b[92m+ GLMakie v0.8.6\u001b[39m\n",
      "  \u001b[90m[cf35fbd7] \u001b[39m\u001b[92m+ GeoInterface v1.3.1\u001b[39m\n",
      "  \u001b[90m[5c1252a2] \u001b[39m\u001b[92m+ GeometryBasics v0.4.7\u001b[39m\n",
      "  \u001b[90m[a2bd30eb] \u001b[39m\u001b[92m+ Graphics v1.1.2\u001b[39m\n",
      "  \u001b[90m[3955a311] \u001b[39m\u001b[92m+ GridLayoutBase v0.9.1\u001b[39m\n",
      "  \u001b[90m[2803e5a7] \u001b[39m\u001b[92m+ ImageAxes v0.6.10\u001b[39m\n",
      "  \u001b[90m[c817782e] \u001b[39m\u001b[92m+ ImageBase v0.1.5\u001b[39m\n",
      "  \u001b[90m[a09fc81d] \u001b[39m\u001b[92m+ ImageCore v0.9.4\u001b[39m\n",
      "  \u001b[90m[82e4d734] \u001b[39m\u001b[92m+ ImageIO v0.6.6\u001b[39m\n",
      "  \u001b[90m[bc367c6b] \u001b[39m\u001b[92m+ ImageMetadata v0.9.8\u001b[39m\n",
      "  \u001b[90m[9b13fd28] \u001b[39m\u001b[92m+ IndirectArrays v1.0.0\u001b[39m\n",
      "  \u001b[90m[f1662d9f] \u001b[39m\u001b[92m+ Isoband v0.1.1\u001b[39m\n",
      "  \u001b[90m[b835a17e] \u001b[39m\u001b[92m+ JpegTurbo v0.1.2\u001b[39m\n",
      "  \u001b[90m[8cdb02fc] \u001b[39m\u001b[92m+ LazyModules v0.3.1\u001b[39m\n",
      "  \u001b[90m[ee78f7c6] \u001b[39m\u001b[92m+ Makie v0.19.6\u001b[39m\n",
      "  \u001b[90m[20f20a25] \u001b[39m\u001b[92m+ MakieCore v0.6.3\u001b[39m\n",
      "  \u001b[90m[7eb4fadd] \u001b[39m\u001b[92m+ Match v1.2.0\u001b[39m\n",
      "  \u001b[90m[0a4f8689] \u001b[39m\u001b[92m+ MathTeXEngine v0.5.6\u001b[39m\n",
      "  \u001b[90m[7269a6da] \u001b[39m\u001b[92m+ MeshIO v0.4.10\u001b[39m\n",
      "  \u001b[90m[978d7f02] \u001b[39m\u001b[92m+ MiniQhull v0.4.0\u001b[39m\n",
      "  \u001b[90m[66fc600b] \u001b[39m\u001b[92m+ ModernGL v1.1.7\u001b[39m\n",
      "  \u001b[90m[e94cdb99] \u001b[39m\u001b[92m+ MosaicViews v0.3.4\u001b[39m\n",
      "  \u001b[90m[f09324ee] \u001b[39m\u001b[92m+ Netpbm v1.1.0\u001b[39m\n",
      "  \u001b[90m[52e1d378] \u001b[39m\u001b[92m+ OpenEXR v0.3.2\u001b[39m\n",
      "  \u001b[90m[f57f5aa1] \u001b[39m\u001b[92m+ PNGFiles v0.3.17\u001b[39m\n",
      "  \u001b[90m[19eb6ba3] \u001b[39m\u001b[92m+ Packing v0.5.0\u001b[39m\n",
      "  \u001b[90m[5432bcbf] \u001b[39m\u001b[92m+ PaddedViews v0.5.12\u001b[39m\n",
      "  \u001b[90m[647866c9] \u001b[39m\u001b[92m+ PolygonOps v0.1.2\u001b[39m\n",
      "  \u001b[90m[4b34888f] \u001b[39m\u001b[92m+ QOI v1.0.0\u001b[39m\n",
      "  \u001b[90m[b3c3ace0] \u001b[39m\u001b[92m+ RangeArrays v0.3.2\u001b[39m\n",
      "  \u001b[90m[65257c39] \u001b[39m\u001b[92m+ ShaderAbstractions v0.3.0\u001b[39m\n",
      "  \u001b[90m[73760f76] \u001b[39m\u001b[92m+ SignedDistanceFields v0.4.0\u001b[39m\n",
      "  \u001b[90m[45858cf5] \u001b[39m\u001b[92m+ Sixel v0.1.2\u001b[39m\n",
      "  \u001b[90m[c5dd0088] \u001b[39m\u001b[92m+ StableHashTraits v0.3.1\u001b[39m\n",
      "  \u001b[90m[cae243ae] \u001b[39m\u001b[92m+ StackViews v0.1.1\u001b[39m\n",
      "  \u001b[90m[731e570b] \u001b[39m\u001b[92m+ TiffImages v0.6.4\u001b[39m\n",
      "  \u001b[90m[981d1d27] \u001b[39m\u001b[92m+ TriplotBase v0.1.0\u001b[39m\n",
      "  \u001b[90m[9d95972d] \u001b[39m\u001b[92m+ TupleTools v1.3.0\u001b[39m\n",
      "  \u001b[90m[5ae413db] \u001b[39m\u001b[92m+ EarCut_jll v2.2.4+0\u001b[39m\n",
      "  \u001b[90m[905a6f67] \u001b[39m\u001b[92m+ Imath_jll v3.1.7+0\u001b[39m\n",
      "  \u001b[90m[18a262bb] \u001b[39m\u001b[92m+ OpenEXR_jll v3.1.4+0\u001b[39m\n",
      "  \u001b[90m[460c41e3] \u001b[39m\u001b[92m+ QhullMiniWrapper_jll v1.0.0+1\u001b[39m\n",
      "  \u001b[90m[9a68df92] \u001b[39m\u001b[92m+ isoband_jll v0.2.3+0\u001b[39m\n",
      "  \u001b[90m[075b6546] \u001b[39m\u001b[92m+ libsixel_jll v1.10.3+0\u001b[39m\n",
      "  \u001b[90m[8bf52ea8] \u001b[39m\u001b[92m+ CRC32c\u001b[39m\n",
      "\u001b[32m\u001b[1m    Building\u001b[22m\u001b[39m ModernGL → `~/.julia/scratchspaces/44cfe95a-1eb2-52ea-b672-e2afdf69b78f/b76ea40b5c0f45790ae09492712dd326208c28b2/build.log`\n"
     ]
    },
    {
     "name": "stderr",
     "output_type": "stream",
     "text": [
      "\u001b[32m\u001b[1mPrecompiling\u001b[22m\u001b[39m "
     ]
    },
    {
     "name": "stderr",
     "output_type": "stream",
     "text": [
      "project...\n"
     ]
    },
    {
     "name": "stderr",
     "output_type": "stream",
     "text": [
      "\u001b[32m  ✓ \u001b[39m\u001b[90mSignedDistanceFields\u001b[39m"
     ]
    },
    {
     "name": "stderr",
     "output_type": "stream",
     "text": [
      "\n",
      "\u001b[32m  ✓ \u001b[39m\u001b[90mMatch\u001b[39m\n",
      "\u001b[32m  ✓ \u001b[39m\u001b[90mExtents\u001b[39m\n",
      "\u001b[32m  ✓ \u001b[39m\u001b[90mRangeArrays\u001b[39m\n",
      "\u001b[32m  ✓ \u001b[39m\u001b[90mPolygonOps\u001b[39m\n",
      "\u001b[32m  ✓ \u001b[39m\u001b[90mLazyModules\u001b[39m\n",
      "\u001b[32m  ✓ \u001b[39m\u001b[90mMakieCore\u001b[39m\n"
     ]
    },
    {
     "name": "stderr",
     "output_type": "stream",
     "text": [
      "\u001b[32m  ✓ \u001b[39m\u001b[90mIndirectArrays\u001b[39m\n",
      "\u001b[32m  ✓ \u001b[39m\u001b[90misoband_jll\u001b[39m\n",
      "\u001b[32m  ✓ \u001b[39m\u001b[90mTupleTools\u001b[39m\n"
     ]
    },
    {
     "name": "stderr",
     "output_type": "stream",
     "text": [
      "\u001b[32m  ✓ \u001b[39m\u001b[90mTriplotBase\u001b[39m\n",
      "\u001b[32m  ✓ \u001b[39m\u001b[90mQhullMiniWrapper_jll\u001b[39m\n"
     ]
    },
    {
     "name": "stderr",
     "output_type": "stream",
     "text": [
      "\u001b[32m  ✓ \u001b[39m\u001b[90mQOI\u001b[39m\n"
     ]
    },
    {
     "name": "stderr",
     "output_type": "stream",
     "text": [
      "\u001b[32m  ✓ \u001b[39m\u001b[90mImath_jll\u001b[39m\n"
     ]
    },
    {
     "name": "stderr",
     "output_type": "stream",
     "text": [
      "\u001b[32m  ✓ \u001b[39m\u001b[90mPaddedViews\u001b[39m\n",
      "\u001b[32m  ✓ \u001b[39m\u001b[90mEarCut_jll\u001b[39m\n",
      "\u001b[32m  ✓ \u001b[39m\u001b[90mStackViews\u001b[39m\n",
      "\u001b[32m  ✓ \u001b[39m\u001b[90mlibsixel_jll\u001b[39m\n"
     ]
    },
    {
     "name": "stderr",
     "output_type": "stream",
     "text": [
      "\u001b[32m  ✓ \u001b[39m\u001b[90mGraphics\u001b[39m\n"
     ]
    },
    {
     "name": "stderr",
     "output_type": "stream",
     "text": [
      "\u001b[32m  ✓ \u001b[39m\u001b[90mAnimations\u001b[39m\n"
     ]
    },
    {
     "name": "stderr",
     "output_type": "stream",
     "text": [
      "\u001b[32m  ✓ \u001b[39m\u001b[90mColorBrewer\u001b[39m\n"
     ]
    },
    {
     "name": "stderr",
     "output_type": "stream",
     "text": [
      "\u001b[32m  ✓ \u001b[39m\u001b[90mFreeType\u001b[39m\n"
     ]
    },
    {
     "name": "stderr",
     "output_type": "stream",
     "text": [
      "\u001b[32m  ✓ \u001b[39m\u001b[90mModernGL\u001b[39m\n"
     ]
    },
    {
     "name": "stderr",
     "output_type": "stream",
     "text": [
      "\u001b[32m  ✓ \u001b[39m\u001b[90mGeoInterface\u001b[39m\n"
     ]
    },
    {
     "name": "stderr",
     "output_type": "stream",
     "text": [
      "\u001b[32m  ✓ \u001b[39m\u001b[90mGLFW\u001b[39m\n"
     ]
    },
    {
     "name": "stderr",
     "output_type": "stream",
     "text": [
      "\u001b[32m  ✓ \u001b[39m\u001b[90mAxisArrays\u001b[39m\n",
      "\u001b[32m  ✓ \u001b[39m\u001b[90mIsoband\u001b[39m\n"
     ]
    },
    {
     "name": "stderr",
     "output_type": "stream",
     "text": [
      "\u001b[32m  ✓ \u001b[39m\u001b[90mStableHashTraits\u001b[39m\n",
      "\u001b[32m  ✓ \u001b[39m\u001b[90mPolynomials → PolynomialsMakieCoreExt\u001b[39m\n"
     ]
    },
    {
     "name": "stderr",
     "output_type": "stream",
     "text": [
      "\u001b[32m  ✓ \u001b[39m\u001b[90mOpenEXR_jll\u001b[39m\n",
      "\u001b[32m  ✓ \u001b[39m\u001b[90mMiniQhull\u001b[39m\n"
     ]
    },
    {
     "name": "stderr",
     "output_type": "stream",
     "text": [
      "\u001b[32m  ✓ \u001b[39m\u001b[90mMosaicViews\u001b[39m\n"
     ]
    },
    {
     "name": "stderr",
     "output_type": "stream",
     "text": [
      "\u001b[32m  ✓ \u001b[39m\u001b[90mOpenEXR\u001b[39m\n"
     ]
    },
    {
     "name": "stderr",
     "output_type": "stream",
     "text": [
      "\u001b[32m  ✓ \u001b[39m\u001b[90mGeometryBasics\u001b[39m\n"
     ]
    },
    {
     "name": "stderr",
     "output_type": "stream",
     "text": [
      "\u001b[32m  ✓ \u001b[39m\u001b[90mPacking\u001b[39m\n"
     ]
    },
    {
     "name": "stderr",
     "output_type": "stream",
     "text": [
      "\u001b[32m  ✓ \u001b[39m\u001b[90mShaderAbstractions\u001b[39m\n"
     ]
    },
    {
     "name": "stderr",
     "output_type": "stream",
     "text": [
      "\u001b[32m  ✓ \u001b[39m\u001b[90mMeshIO\u001b[39m\n"
     ]
    },
    {
     "name": "stderr",
     "output_type": "stream",
     "text": [
      "\u001b[32m  ✓ \u001b[39m\u001b[90mFreeTypeAbstraction\u001b[39m\n"
     ]
    },
    {
     "name": "stderr",
     "output_type": "stream",
     "text": [
      "\u001b[32m  ✓ \u001b[39m\u001b[90mGridLayoutBase\u001b[39m\n"
     ]
    },
    {
     "name": "stderr",
     "output_type": "stream",
     "text": [
      "\u001b[32m  ✓ \u001b[39m\u001b[90mPlots → GeometryBasicsExt\u001b[39m\n"
     ]
    },
    {
     "name": "stderr",
     "output_type": "stream",
     "text": [
      "\u001b[32m  ✓ \u001b[39m\u001b[90mMathTeXEngine\u001b[39m\n"
     ]
    },
    {
     "name": "stderr",
     "output_type": "stream",
     "text": [
      "\u001b[32m  ✓ \u001b[39m\u001b[90mImageCore\u001b[39m\n"
     ]
    },
    {
     "name": "stderr",
     "output_type": "stream",
     "text": [
      "\u001b[32m  ✓ \u001b[39m\u001b[90mJpegTurbo\u001b[39m\n"
     ]
    },
    {
     "name": "stderr",
     "output_type": "stream",
     "text": [
      "\u001b[32m  ✓ \u001b[39m\u001b[90mSixel\u001b[39m\n"
     ]
    },
    {
     "name": "stderr",
     "output_type": "stream",
     "text": [
      "\u001b[32m  ✓ \u001b[39m\u001b[90mImageBase\u001b[39m\n"
     ]
    },
    {
     "name": "stderr",
     "output_type": "stream",
     "text": [
      "\u001b[32m  ✓ \u001b[39m\u001b[90mPNGFiles\u001b[39m\n"
     ]
    },
    {
     "name": "stderr",
     "output_type": "stream",
     "text": [
      "\u001b[32m  ✓ \u001b[39m\u001b[90mImageAxes\u001b[39m\n"
     ]
    },
    {
     "name": "stderr",
     "output_type": "stream",
     "text": [
      "\u001b[32m  ✓ \u001b[39m\u001b[90mTiffImages\u001b[39m\n"
     ]
    },
    {
     "name": "stderr",
     "output_type": "stream",
     "text": [
      "\u001b[32m  ✓ \u001b[39m\u001b[90mImageMetadata\u001b[39m\n"
     ]
    },
    {
     "name": "stderr",
     "output_type": "stream",
     "text": [
      "\u001b[32m  ✓ \u001b[39m\u001b[90mNetpbm\u001b[39m\n"
     ]
    },
    {
     "name": "stderr",
     "output_type": "stream",
     "text": [
      "\u001b[32m  ✓ \u001b[39m\u001b[90mImageIO\u001b[39m\n"
     ]
    },
    {
     "name": "stderr",
     "output_type": "stream",
     "text": [
      "\u001b[32m  ✓ \u001b[39m\u001b[90mMakie\u001b[39m\n"
     ]
    },
    {
     "name": "stderr",
     "output_type": "stream",
     "text": [
      "\u001b[32m  ✓ \u001b[39m\u001b[90mBrillouin → BrillouinMakieExt\u001b[39m\n"
     ]
    },
    {
     "name": "stderr",
     "output_type": "stream",
     "text": [
      "\u001b[32m  ✓ \u001b[39mGLMakie\n",
      "  54 dependencies successfully precompiled in 127 seconds. 506 already precompiled.\n"
     ]
    }
   ],
   "source": [
    "Pkg.add(\"GLMakie\")"
   ]
  },
  {
   "cell_type": "code",
   "execution_count": 17,
   "metadata": {},
   "outputs": [],
   "source": [
    "using GLMakie"
   ]
  },
  {
   "attachments": {},
   "cell_type": "markdown",
   "metadata": {},
   "source": [
    "### Let's visualize!"
   ]
  },
  {
   "cell_type": "code",
   "execution_count": 106,
   "metadata": {},
   "outputs": [
    {
     "data": {
      "text/plain": [
       "\"../Simulations/atom_lennard_jones_100K_60u.mp4\""
      ]
     },
     "metadata": {},
     "output_type": "display_data"
    }
   ],
   "source": [
    "visualize(sys.loggers.coords, boundary, \"../Simulations/atom_lennard_jones_100K_60u.mp4\")"
   ]
  },
  {
   "attachments": {},
   "cell_type": "markdown",
   "metadata": {},
   "source": [
    "# Let us try at higher temperatures"
   ]
  },
  {
   "cell_type": "code",
   "execution_count": 91,
   "metadata": {},
   "outputs": [
    {
     "data": {
      "text/plain": [
       "3000.0 K"
      ]
     },
     "metadata": {},
     "output_type": "display_data"
    }
   ],
   "source": [
    "temp = 3000.0u\"K\""
   ]
  },
  {
   "cell_type": "code",
   "execution_count": 92,
   "metadata": {},
   "outputs": [
    {
     "data": {
      "text/plain": [
       "100-element Vector{SVector{3, Quantity{Float64, 𝐋 𝐓⁻¹, Unitful.FreeUnits{(nm, ps⁻¹), 𝐋 𝐓⁻¹, nothing}}}}:\n",
       " [0.45971609325086843 nm ps⁻¹, -0.3312215940057514 nm ps⁻¹, -0.5569224660157925 nm ps⁻¹]\n",
       " [-0.9788936487466292 nm ps⁻¹, 1.5983616929754274 nm ps⁻¹, 0.18488580690159775 nm ps⁻¹]\n",
       " [0.7774274098417816 nm ps⁻¹, 0.9701606799436878 nm ps⁻¹, 0.5411424262503624 nm ps⁻¹]\n",
       " [0.5959804261475508 nm ps⁻¹, -0.7109895246239925 nm ps⁻¹, 0.15265928526695413 nm ps⁻¹]\n",
       " [-1.2017438622037677 nm ps⁻¹, -1.9333583228415838 nm ps⁻¹, 0.07385439387710462 nm ps⁻¹]\n",
       " [0.6032589526961857 nm ps⁻¹, -0.6975553339862568 nm ps⁻¹, 0.5601723455970268 nm ps⁻¹]\n",
       " [-0.37693750133232834 nm ps⁻¹, 0.47126781828843584 nm ps⁻¹, -0.9225903962716668 nm ps⁻¹]\n",
       " [0.4314649299111182 nm ps⁻¹, -0.14426153170169637 nm ps⁻¹, 1.977385620025461 nm ps⁻¹]\n",
       " [-0.11834349720558707 nm ps⁻¹, -0.8013693983860963 nm ps⁻¹, 0.48253291485685884 nm ps⁻¹]\n",
       " [-1.7187069206411967 nm ps⁻¹, 0.6339205850468542 nm ps⁻¹, -0.14796834286797445 nm ps⁻¹]\n",
       " ⋮\n",
       " [0.37782919452483815 nm ps⁻¹, 1.2446695683921143 nm ps⁻¹, 0.44575133825179813 nm ps⁻¹]\n",
       " [0.20286191283602298 nm ps⁻¹, -0.18249055070636128 nm ps⁻¹, -0.6243635421135392 nm ps⁻¹]\n",
       " [-0.7274156610945575 nm ps⁻¹, 1.4385719192490272 nm ps⁻¹, 0.6234675517999948 nm ps⁻¹]\n",
       " [-1.5423783389044192 nm ps⁻¹, 0.25254274506658325 nm ps⁻¹, 0.6789222223424701 nm ps⁻¹]\n",
       " [-0.7942364034232522 nm ps⁻¹, 0.2946105080279819 nm ps⁻¹, -1.15615500952568 nm ps⁻¹]\n",
       " [0.23882098952787228 nm ps⁻¹, -0.8447062423913516 nm ps⁻¹, 0.12202484190588767 nm ps⁻¹]\n",
       " [-2.228283083566386 nm ps⁻¹, -0.40686187178010186 nm ps⁻¹, 0.7004704261422637 nm ps⁻¹]\n",
       " [-0.00211067571892641 nm ps⁻¹, 1.4703692739192493 nm ps⁻¹, -0.30975182746777896 nm ps⁻¹]\n",
       " [-0.8694918381783922 nm ps⁻¹, 0.8965441834362153 nm ps⁻¹, -1.657599324469998 nm ps⁻¹]"
      ]
     },
     "metadata": {},
     "output_type": "display_data"
    }
   ],
   "source": [
    "velocities = [random_velocity(atom_mass, temp) for i in 1:n_atoms]"
   ]
  },
  {
   "cell_type": "code",
   "execution_count": 94,
   "metadata": {},
   "outputs": [
    {
     "data": {
      "text/plain": [
       "VelocityVerlet{Quantity{Float64, 𝐓, Unitful.FreeUnits{(ps,), 𝐓, nothing}}, AndersenThermostat{Quantity{Float64, 𝚯, Unitful.FreeUnits{(K,), 𝚯, nothing}}, Quantity{Float64, 𝐓, Unitful.FreeUnits{(ps,), 𝐓, nothing}}}}(0.002 ps, AndersenThermostat{Quantity{Float64, 𝚯, Unitful.FreeUnits{(K,), 𝚯, nothing}}, Quantity{Float64, 𝐓, Unitful.FreeUnits{(ps,), 𝐓, nothing}}}(3000.0 K, 0.5 ps), 1)"
      ]
     },
     "metadata": {},
     "output_type": "display_data"
    }
   ],
   "source": [
    "simulator = VelocityVerlet(\n",
    "    dt=0.002u\"ps\",\n",
    "    coupling=AndersenThermostat(temp, 0.5u\"ps\"),\n",
    ")"
   ]
  },
  {
   "cell_type": "code",
   "execution_count": 95,
   "metadata": {},
   "outputs": [
    {
     "data": {
      "text/plain": [
       "System with 100 atoms, boundary CubicBoundary{Quantity{Float64, 𝐋, Unitful.FreeUnits{(nm,), 𝐋, nothing}}}(Quantity{Float64, 𝐋, Unitful.FreeUnits{(nm,), 𝐋, nothing}}[2.0 nm, 2.0 nm, 2.0 nm])"
      ]
     },
     "metadata": {},
     "output_type": "display_data"
    }
   ],
   "source": [
    "simulate!(sys, simulator, 2_000)"
   ]
  },
  {
   "cell_type": "code",
   "execution_count": 96,
   "metadata": {},
   "outputs": [
    {
     "data": {
      "text/plain": [
       "\"../Simulations/atom_lennard_jones_3000K.mp4\""
      ]
     },
     "metadata": {},
     "output_type": "display_data"
    }
   ],
   "source": [
    "visualize(sys.loggers.coords, boundary, \"../Simulations/atom_lennard_jones_3000K.mp4\")"
   ]
  },
  {
   "attachments": {},
   "cell_type": "markdown",
   "metadata": {},
   "source": [
    "## Simulating a diatomic system"
   ]
  },
  {
   "cell_type": "code",
   "execution_count": 107,
   "metadata": {},
   "outputs": [
    {
     "data": {
      "text/plain": [
       "100-element Vector{Atom{Float64, Quantity{Float64, 𝐌, Unitful.FreeUnits{(u,), 𝐌, nothing}}, Quantity{Float64, 𝐋, Unitful.FreeUnits{(nm,), 𝐋, nothing}}, Quantity{Float64, 𝐋² 𝐌 𝐍⁻¹ 𝐓⁻², Unitful.FreeUnits{(kJ, mol⁻¹), 𝐋² 𝐌 𝐍⁻¹ 𝐓⁻², nothing}}}}:\n",
       " Atom with index 1, charge=0.0, mass=60.0 u, σ=0.3 nm, ϵ=0.2 kJ mol⁻¹\n",
       " Atom with index 1, charge=0.0, mass=60.0 u, σ=0.3 nm, ϵ=0.2 kJ mol⁻¹\n",
       " Atom with index 1, charge=0.0, mass=60.0 u, σ=0.3 nm, ϵ=0.2 kJ mol⁻¹\n",
       " Atom with index 1, charge=0.0, mass=60.0 u, σ=0.3 nm, ϵ=0.2 kJ mol⁻¹\n",
       " Atom with index 1, charge=0.0, mass=60.0 u, σ=0.3 nm, ϵ=0.2 kJ mol⁻¹\n",
       " Atom with index 1, charge=0.0, mass=60.0 u, σ=0.3 nm, ϵ=0.2 kJ mol⁻¹\n",
       " Atom with index 1, charge=0.0, mass=60.0 u, σ=0.3 nm, ϵ=0.2 kJ mol⁻¹\n",
       " Atom with index 1, charge=0.0, mass=60.0 u, σ=0.3 nm, ϵ=0.2 kJ mol⁻¹\n",
       " Atom with index 1, charge=0.0, mass=60.0 u, σ=0.3 nm, ϵ=0.2 kJ mol⁻¹\n",
       " Atom with index 1, charge=0.0, mass=60.0 u, σ=0.3 nm, ϵ=0.2 kJ mol⁻¹\n",
       " ⋮\n",
       " Atom with index 1, charge=0.0, mass=60.0 u, σ=0.3 nm, ϵ=0.2 kJ mol⁻¹\n",
       " Atom with index 1, charge=0.0, mass=60.0 u, σ=0.3 nm, ϵ=0.2 kJ mol⁻¹\n",
       " Atom with index 1, charge=0.0, mass=60.0 u, σ=0.3 nm, ϵ=0.2 kJ mol⁻¹\n",
       " Atom with index 1, charge=0.0, mass=60.0 u, σ=0.3 nm, ϵ=0.2 kJ mol⁻¹\n",
       " Atom with index 1, charge=0.0, mass=60.0 u, σ=0.3 nm, ϵ=0.2 kJ mol⁻¹\n",
       " Atom with index 1, charge=0.0, mass=60.0 u, σ=0.3 nm, ϵ=0.2 kJ mol⁻¹\n",
       " Atom with index 1, charge=0.0, mass=60.0 u, σ=0.3 nm, ϵ=0.2 kJ mol⁻¹\n",
       " Atom with index 1, charge=0.0, mass=60.0 u, σ=0.3 nm, ϵ=0.2 kJ mol⁻¹\n",
       " Atom with index 1, charge=0.0, mass=60.0 u, σ=0.3 nm, ϵ=0.2 kJ mol⁻¹"
      ]
     },
     "metadata": {},
     "output_type": "display_data"
    }
   ],
   "source": [
    "atoms = [Atom(mass=atom_mass, σ=0.3u\"nm\", ϵ=0.2u\"kJ * mol^-1\") for i in 1:n_atoms]"
   ]
  },
  {
   "cell_type": "code",
   "execution_count": 108,
   "metadata": {},
   "outputs": [
    {
     "data": {
      "text/plain": [
       "50-element Vector{SVector{3, Quantity{Float64, 𝐋, Unitful.FreeUnits{(nm,), 𝐋, nothing}}}}:\n",
       " [1.9120490023667227 nm, 0.1556608540760016 nm, 1.6003873253306495 nm]\n",
       " [1.8974094203930603 nm, 1.7976762980477463 nm, 1.9216336734585493 nm]\n",
       " [1.6912809846211652 nm, 1.0535524589949492 nm, 0.6737407319874615 nm]\n",
       " [1.6411258638058952 nm, 1.4742998285410538 nm, 0.6450336866069399 nm]\n",
       " [0.8874909706017291 nm, 0.5046414814600284 nm, 1.0841706330358565 nm]\n",
       " [0.702254137571733 nm, 1.3256434741544336 nm, 0.4045854262687505 nm]\n",
       " [1.4445960506906166 nm, 0.987637872076975 nm, 1.803822488239809 nm]\n",
       " [0.6448043135965487 nm, 0.9878092069687254 nm, 0.651115289838337 nm]\n",
       " [0.1782011452212866 nm, 0.3145942593943143 nm, 0.8922526044625245 nm]\n",
       " [1.820180727161239 nm, 0.4153649238532411 nm, 0.2910000342830166 nm]\n",
       " ⋮\n",
       " [1.1226246763549266 nm, 0.6676761409444574 nm, 0.53024618093682 nm]\n",
       " [1.7973631035574735 nm, 0.715325543921792 nm, 1.3342596598385528 nm]\n",
       " [0.6491066294490535 nm, 1.2733941505218038 nm, 1.1383849598098146 nm]\n",
       " [0.07518536282226185 nm, 0.861051211043856 nm, 0.21803108684045047 nm]\n",
       " [0.04339747840866348 nm, 1.6509195235238134 nm, 0.7008165322822115 nm]\n",
       " [1.068142858766543 nm, 0.5707640002688326 nm, 0.10663435363057228 nm]\n",
       " [0.7253890992893997 nm, 0.3117873123105048 nm, 1.9882779514824724 nm]\n",
       " [0.7505202786818654 nm, 1.5588983233402713 nm, 0.9786116535201677 nm]\n",
       " [1.9197342999427698 nm, 0.40547864213008156 nm, 1.1671622897516503 nm]"
      ]
     },
     "metadata": {},
     "output_type": "display_data"
    }
   ],
   "source": [
    "coords = place_atoms(n_atoms ÷ 2, boundary; min_dist=0.3u\"nm\")"
   ]
  },
  {
   "cell_type": "code",
   "execution_count": 109,
   "metadata": {},
   "outputs": [],
   "source": [
    "for i in 1:length(coords)\n",
    "    push!(coords, coords[i] .+ [0.1, 0.0, 0.0]u\"nm\")\n",
    "end"
   ]
  },
  {
   "cell_type": "code",
   "execution_count": 111,
   "metadata": {},
   "outputs": [
    {
     "data": {
      "text/plain": [
       "100-element Vector{SVector{3, Quantity{Float64, 𝐋 𝐓⁻¹, Unitful.FreeUnits{(nm, ps⁻¹), 𝐋 𝐓⁻¹, nothing}}}}:\n",
       " [0.03582453136811323 nm ps⁻¹, 0.12386428928200804 nm ps⁻¹, -0.15167316002924788 nm ps⁻¹]\n",
       " [-0.16972030504731092 nm ps⁻¹, -0.09943279413810759 nm ps⁻¹, 0.15348858198405907 nm ps⁻¹]\n",
       " [0.04198128153759074 nm ps⁻¹, 0.003665686837040339 nm ps⁻¹, 0.08944609464031014 nm ps⁻¹]\n",
       " [0.16508959236041298 nm ps⁻¹, -0.23808872679496215 nm ps⁻¹, -0.2198337866473036 nm ps⁻¹]\n",
       " [0.010431468376331177 nm ps⁻¹, -0.13012316722207162 nm ps⁻¹, 0.1868227707398649 nm ps⁻¹]\n",
       " [-0.01561584096378625 nm ps⁻¹, -0.17902031838182955 nm ps⁻¹, 0.028650048600018862 nm ps⁻¹]\n",
       " [0.21935617542926908 nm ps⁻¹, -0.00886291082472204 nm ps⁻¹, 0.004418357618891774 nm ps⁻¹]\n",
       " [-0.10952760285830954 nm ps⁻¹, 0.05440912588456303 nm ps⁻¹, 0.003626802791344637 nm ps⁻¹]\n",
       " [0.1275664249480009 nm ps⁻¹, -0.025737148051905336 nm ps⁻¹, 0.12364944579456238 nm ps⁻¹]\n",
       " [0.1502091401099793 nm ps⁻¹, 0.049903987790626325 nm ps⁻¹, -0.07664915098223601 nm ps⁻¹]\n",
       " ⋮\n",
       " [0.06465056409158668 nm ps⁻¹, 0.01227836246509886 nm ps⁻¹, 0.13378155567729694 nm ps⁻¹]\n",
       " [-0.11720099773581777 nm ps⁻¹, -0.16915300727785823 nm ps⁻¹, 0.05309129321342694 nm ps⁻¹]\n",
       " [-0.04505452904660557 nm ps⁻¹, -0.050563102629915146 nm ps⁻¹, -0.07305547111513061 nm ps⁻¹]\n",
       " [0.06387435842921892 nm ps⁻¹, 0.1250968070014616 nm ps⁻¹, -0.10385098409915798 nm ps⁻¹]\n",
       " [0.04478288044816645 nm ps⁻¹, -0.1611608317141862 nm ps⁻¹, -0.053676106373891946 nm ps⁻¹]\n",
       " [0.13166677934379697 nm ps⁻¹, 0.07436898161379923 nm ps⁻¹, -0.05224281881723851 nm ps⁻¹]\n",
       " [0.1287549269083802 nm ps⁻¹, 0.06883354394934374 nm ps⁻¹, 0.04021248677894196 nm ps⁻¹]\n",
       " [-0.08243037559369497 nm ps⁻¹, 0.0984039969204725 nm ps⁻¹, -0.004627539946067603 nm ps⁻¹]\n",
       " [0.07191026542101782 nm ps⁻¹, 0.04873395966868181 nm ps⁻¹, 0.09902688760749383 nm ps⁻¹]"
      ]
     },
     "metadata": {},
     "output_type": "display_data"
    }
   ],
   "source": [
    "velocities = [random_velocity(atom_mass, temp) for i in 1:n_atoms]"
   ]
  },
  {
   "cell_type": "code",
   "execution_count": 112,
   "metadata": {},
   "outputs": [
    {
     "data": {
      "text/plain": [
       "InteractionList2Atoms{Vector{Int64}, Vector{HarmonicBond{Quantity{Float64, 𝐌 𝐍⁻¹ 𝐓⁻², Unitful.FreeUnits{(kJ, nm⁻², mol⁻¹), 𝐌 𝐍⁻¹ 𝐓⁻², nothing}}, Quantity{Float64, 𝐋, Unitful.FreeUnits{(nm,), 𝐋, nothing}}}}}([1, 2, 3, 4, 5, 6, 7, 8, 9, 10  …  41, 42, 43, 44, 45, 46, 47, 48, 49, 50], [51, 52, 53, 54, 55, 56, 57, 58, 59, 60  …  91, 92, 93, 94, 95, 96, 97, 98, 99, 100], HarmonicBond{Quantity{Float64, 𝐌 𝐍⁻¹ 𝐓⁻², Unitful.FreeUnits{(kJ, nm⁻², mol⁻¹), 𝐌 𝐍⁻¹ 𝐓⁻², nothing}}, Quantity{Float64, 𝐋, Unitful.FreeUnits{(nm,), 𝐋, nothing}}}[HarmonicBond{Quantity{Float64, 𝐌 𝐍⁻¹ 𝐓⁻², Unitful.FreeUnits{(kJ, nm⁻², mol⁻¹), 𝐌 𝐍⁻¹ 𝐓⁻², nothing}}, Quantity{Float64, 𝐋, Unitful.FreeUnits{(nm,), 𝐋, nothing}}}(300000.0 kJ nm⁻² mol⁻¹, 0.1 nm), HarmonicBond{Quantity{Float64, 𝐌 𝐍⁻¹ 𝐓⁻², Unitful.FreeUnits{(kJ, nm⁻², mol⁻¹), 𝐌 𝐍⁻¹ 𝐓⁻², nothing}}, Quantity{Float64, 𝐋, Unitful.FreeUnits{(nm,), 𝐋, nothing}}}(300000.0 kJ nm⁻² mol⁻¹, 0.1 nm), HarmonicBond{Quantity{Float64, 𝐌 𝐍⁻¹ 𝐓⁻², Unitful.FreeUnits{(kJ, nm⁻², mol⁻¹), 𝐌 𝐍⁻¹ 𝐓⁻², nothing}}, Quantity{Float64, 𝐋, Unitful.FreeUnits{(nm,), 𝐋, nothing}}}(300000.0 kJ nm⁻² mol⁻¹, 0.1 nm), HarmonicBond{Quantity{Float64, 𝐌 𝐍⁻¹ 𝐓⁻², Unitful.FreeUnits{(kJ, nm⁻², mol⁻¹), 𝐌 𝐍⁻¹ 𝐓⁻², nothing}}, Quantity{Float64, 𝐋, Unitful.FreeUnits{(nm,), 𝐋, nothing}}}(300000.0 kJ nm⁻² mol⁻¹, 0.1 nm), HarmonicBond{Quantity{Float64, 𝐌 𝐍⁻¹ 𝐓⁻², Unitful.FreeUnits{(kJ, nm⁻², mol⁻¹), 𝐌 𝐍⁻¹ 𝐓⁻², nothing}}, Quantity{Float64, 𝐋, Unitful.FreeUnits{(nm,), 𝐋, nothing}}}(300000.0 kJ nm⁻² mol⁻¹, 0.1 nm), HarmonicBond{Quantity{Float64, 𝐌 𝐍⁻¹ 𝐓⁻², Unitful.FreeUnits{(kJ, nm⁻², mol⁻¹), 𝐌 𝐍⁻¹ 𝐓⁻², nothing}}, Quantity{Float64, 𝐋, Unitful.FreeUnits{(nm,), 𝐋, nothing}}}(300000.0 kJ nm⁻² mol⁻¹, 0.1 nm), HarmonicBond{Quantity{Float64, 𝐌 𝐍⁻¹ 𝐓⁻², Unitful.FreeUnits{(kJ, nm⁻², mol⁻¹), 𝐌 𝐍⁻¹ 𝐓⁻², nothing}}, Quantity{Float64, 𝐋, Unitful.FreeUnits{(nm,), 𝐋, nothing}}}(300000.0 kJ nm⁻² mol⁻¹, 0.1 nm), HarmonicBond{Quantity{Float64, 𝐌 𝐍⁻¹ 𝐓⁻², Unitful.FreeUnits{(kJ, nm⁻², mol⁻¹), 𝐌 𝐍⁻¹ 𝐓⁻², nothing}}, Quantity{Float64, 𝐋, Unitful.FreeUnits{(nm,), 𝐋, nothing}}}(300000.0 kJ nm⁻² mol⁻¹, 0.1 nm), HarmonicBond{Quantity{Float64, 𝐌 𝐍⁻¹ 𝐓⁻², Unitful.FreeUnits{(kJ, nm⁻², mol⁻¹), 𝐌 𝐍⁻¹ 𝐓⁻², nothing}}, Quantity{Float64, 𝐋, Unitful.FreeUnits{(nm,), 𝐋, nothing}}}(300000.0 kJ nm⁻² mol⁻¹, 0.1 nm), HarmonicBond{Quantity{Float64, 𝐌 𝐍⁻¹ 𝐓⁻², Unitful.FreeUnits{(kJ, nm⁻², mol⁻¹), 𝐌 𝐍⁻¹ 𝐓⁻², nothing}}, Quantity{Float64, 𝐋, Unitful.FreeUnits{(nm,), 𝐋, nothing}}}(300000.0 kJ nm⁻² mol⁻¹, 0.1 nm)  …  HarmonicBond{Quantity{Float64, 𝐌 𝐍⁻¹ 𝐓⁻², Unitful.FreeUnits{(kJ, nm⁻², mol⁻¹), 𝐌 𝐍⁻¹ 𝐓⁻², nothing}}, Quantity{Float64, 𝐋, Unitful.FreeUnits{(nm,), 𝐋, nothing}}}(300000.0 kJ nm⁻² mol⁻¹, 0.1 nm), HarmonicBond{Quantity{Float64, 𝐌 𝐍⁻¹ 𝐓⁻², Unitful.FreeUnits{(kJ, nm⁻², mol⁻¹), 𝐌 𝐍⁻¹ 𝐓⁻², nothing}}, Quantity{Float64, 𝐋, Unitful.FreeUnits{(nm,), 𝐋, nothing}}}(300000.0 kJ nm⁻² mol⁻¹, 0.1 nm), HarmonicBond{Quantity{Float64, 𝐌 𝐍⁻¹ 𝐓⁻², Unitful.FreeUnits{(kJ, nm⁻², mol⁻¹), 𝐌 𝐍⁻¹ 𝐓⁻², nothing}}, Quantity{Float64, 𝐋, Unitful.FreeUnits{(nm,), 𝐋, nothing}}}(300000.0 kJ nm⁻² mol⁻¹, 0.1 nm), HarmonicBond{Quantity{Float64, 𝐌 𝐍⁻¹ 𝐓⁻², Unitful.FreeUnits{(kJ, nm⁻², mol⁻¹), 𝐌 𝐍⁻¹ 𝐓⁻², nothing}}, Quantity{Float64, 𝐋, Unitful.FreeUnits{(nm,), 𝐋, nothing}}}(300000.0 kJ nm⁻² mol⁻¹, 0.1 nm), HarmonicBond{Quantity{Float64, 𝐌 𝐍⁻¹ 𝐓⁻², Unitful.FreeUnits{(kJ, nm⁻², mol⁻¹), 𝐌 𝐍⁻¹ 𝐓⁻², nothing}}, Quantity{Float64, 𝐋, Unitful.FreeUnits{(nm,), 𝐋, nothing}}}(300000.0 kJ nm⁻² mol⁻¹, 0.1 nm), HarmonicBond{Quantity{Float64, 𝐌 𝐍⁻¹ 𝐓⁻², Unitful.FreeUnits{(kJ, nm⁻², mol⁻¹), 𝐌 𝐍⁻¹ 𝐓⁻², nothing}}, Quantity{Float64, 𝐋, Unitful.FreeUnits{(nm,), 𝐋, nothing}}}(300000.0 kJ nm⁻² mol⁻¹, 0.1 nm), HarmonicBond{Quantity{Float64, 𝐌 𝐍⁻¹ 𝐓⁻², Unitful.FreeUnits{(kJ, nm⁻², mol⁻¹), 𝐌 𝐍⁻¹ 𝐓⁻², nothing}}, Quantity{Float64, 𝐋, Unitful.FreeUnits{(nm,), 𝐋, nothing}}}(300000.0 kJ nm⁻² mol⁻¹, 0.1 nm), HarmonicBond{Quantity{Float64, 𝐌 𝐍⁻¹ 𝐓⁻², Unitful.FreeUnits{(kJ, nm⁻², mol⁻¹), 𝐌 𝐍⁻¹ 𝐓⁻², nothing}}, Quantity{Float64, 𝐋, Unitful.FreeUnits{(nm,), 𝐋, nothing}}}(300000.0 kJ nm⁻² mol⁻¹, 0.1 nm), HarmonicBond{Quantity{Float64, 𝐌 𝐍⁻¹ 𝐓⁻², Unitful.FreeUnits{(kJ, nm⁻², mol⁻¹), 𝐌 𝐍⁻¹ 𝐓⁻², nothing}}, Quantity{Float64, 𝐋, Unitful.FreeUnits{(nm,), 𝐋, nothing}}}(300000.0 kJ nm⁻² mol⁻¹, 0.1 nm), HarmonicBond{Quantity{Float64, 𝐌 𝐍⁻¹ 𝐓⁻², Unitful.FreeUnits{(kJ, nm⁻², mol⁻¹), 𝐌 𝐍⁻¹ 𝐓⁻², nothing}}, Quantity{Float64, 𝐋, Unitful.FreeUnits{(nm,), 𝐋, nothing}}}(300000.0 kJ nm⁻² mol⁻¹, 0.1 nm)], [\"\", \"\", \"\", \"\", \"\", \"\", \"\", \"\", \"\", \"\"  …  \"\", \"\", \"\", \"\", \"\", \"\", \"\", \"\", \"\", \"\"])"
      ]
     },
     "metadata": {},
     "output_type": "display_data"
    }
   ],
   "source": [
    "bonds = InteractionList2Atoms(\n",
    "    collect(1:(n_atoms ÷ 2)),           # First atom indices\n",
    "    collect((1 + n_atoms ÷ 2):n_atoms), # Second atom indices\n",
    "    [HarmonicBond(k=300_000.0u\"kJ * mol^-1 * nm^-2\", r0=0.1u\"nm\") for i in 1:(n_atoms ÷ 2)],\n",
    ")"
   ]
  },
  {
   "cell_type": "code",
   "execution_count": 113,
   "metadata": {},
   "outputs": [
    {
     "data": {
      "text/plain": [
       "(InteractionList2Atoms{Vector{Int64}, Vector{HarmonicBond{Quantity{Float64, 𝐌 𝐍⁻¹ 𝐓⁻², Unitful.FreeUnits{(kJ, nm⁻², mol⁻¹), 𝐌 𝐍⁻¹ 𝐓⁻², nothing}}, Quantity{Float64, 𝐋, Unitful.FreeUnits{(nm,), 𝐋, nothing}}}}}([1, 2, 3, 4, 5, 6, 7, 8, 9, 10  …  41, 42, 43, 44, 45, 46, 47, 48, 49, 50], [51, 52, 53, 54, 55, 56, 57, 58, 59, 60  …  91, 92, 93, 94, 95, 96, 97, 98, 99, 100], HarmonicBond{Quantity{Float64, 𝐌 𝐍⁻¹ 𝐓⁻², Unitful.FreeUnits{(kJ, nm⁻², mol⁻¹), 𝐌 𝐍⁻¹ 𝐓⁻², nothing}}, Quantity{Float64, 𝐋, Unitful.FreeUnits{(nm,), 𝐋, nothing}}}[HarmonicBond{Quantity{Float64, 𝐌 𝐍⁻¹ 𝐓⁻², Unitful.FreeUnits{(kJ, nm⁻², mol⁻¹), 𝐌 𝐍⁻¹ 𝐓⁻², nothing}}, Quantity{Float64, 𝐋, Unitful.FreeUnits{(nm,), 𝐋, nothing}}}(300000.0 kJ nm⁻² mol⁻¹, 0.1 nm), HarmonicBond{Quantity{Float64, 𝐌 𝐍⁻¹ 𝐓⁻², Unitful.FreeUnits{(kJ, nm⁻², mol⁻¹), 𝐌 𝐍⁻¹ 𝐓⁻², nothing}}, Quantity{Float64, 𝐋, Unitful.FreeUnits{(nm,), 𝐋, nothing}}}(300000.0 kJ nm⁻² mol⁻¹, 0.1 nm), HarmonicBond{Quantity{Float64, 𝐌 𝐍⁻¹ 𝐓⁻², Unitful.FreeUnits{(kJ, nm⁻², mol⁻¹), 𝐌 𝐍⁻¹ 𝐓⁻², nothing}}, Quantity{Float64, 𝐋, Unitful.FreeUnits{(nm,), 𝐋, nothing}}}(300000.0 kJ nm⁻² mol⁻¹, 0.1 nm), HarmonicBond{Quantity{Float64, 𝐌 𝐍⁻¹ 𝐓⁻², Unitful.FreeUnits{(kJ, nm⁻², mol⁻¹), 𝐌 𝐍⁻¹ 𝐓⁻², nothing}}, Quantity{Float64, 𝐋, Unitful.FreeUnits{(nm,), 𝐋, nothing}}}(300000.0 kJ nm⁻² mol⁻¹, 0.1 nm), HarmonicBond{Quantity{Float64, 𝐌 𝐍⁻¹ 𝐓⁻², Unitful.FreeUnits{(kJ, nm⁻², mol⁻¹), 𝐌 𝐍⁻¹ 𝐓⁻², nothing}}, Quantity{Float64, 𝐋, Unitful.FreeUnits{(nm,), 𝐋, nothing}}}(300000.0 kJ nm⁻² mol⁻¹, 0.1 nm), HarmonicBond{Quantity{Float64, 𝐌 𝐍⁻¹ 𝐓⁻², Unitful.FreeUnits{(kJ, nm⁻², mol⁻¹), 𝐌 𝐍⁻¹ 𝐓⁻², nothing}}, Quantity{Float64, 𝐋, Unitful.FreeUnits{(nm,), 𝐋, nothing}}}(300000.0 kJ nm⁻² mol⁻¹, 0.1 nm), HarmonicBond{Quantity{Float64, 𝐌 𝐍⁻¹ 𝐓⁻², Unitful.FreeUnits{(kJ, nm⁻², mol⁻¹), 𝐌 𝐍⁻¹ 𝐓⁻², nothing}}, Quantity{Float64, 𝐋, Unitful.FreeUnits{(nm,), 𝐋, nothing}}}(300000.0 kJ nm⁻² mol⁻¹, 0.1 nm), HarmonicBond{Quantity{Float64, 𝐌 𝐍⁻¹ 𝐓⁻², Unitful.FreeUnits{(kJ, nm⁻², mol⁻¹), 𝐌 𝐍⁻¹ 𝐓⁻², nothing}}, Quantity{Float64, 𝐋, Unitful.FreeUnits{(nm,), 𝐋, nothing}}}(300000.0 kJ nm⁻² mol⁻¹, 0.1 nm), HarmonicBond{Quantity{Float64, 𝐌 𝐍⁻¹ 𝐓⁻², Unitful.FreeUnits{(kJ, nm⁻², mol⁻¹), 𝐌 𝐍⁻¹ 𝐓⁻², nothing}}, Quantity{Float64, 𝐋, Unitful.FreeUnits{(nm,), 𝐋, nothing}}}(300000.0 kJ nm⁻² mol⁻¹, 0.1 nm), HarmonicBond{Quantity{Float64, 𝐌 𝐍⁻¹ 𝐓⁻², Unitful.FreeUnits{(kJ, nm⁻², mol⁻¹), 𝐌 𝐍⁻¹ 𝐓⁻², nothing}}, Quantity{Float64, 𝐋, Unitful.FreeUnits{(nm,), 𝐋, nothing}}}(300000.0 kJ nm⁻² mol⁻¹, 0.1 nm)  …  HarmonicBond{Quantity{Float64, 𝐌 𝐍⁻¹ 𝐓⁻², Unitful.FreeUnits{(kJ, nm⁻², mol⁻¹), 𝐌 𝐍⁻¹ 𝐓⁻², nothing}}, Quantity{Float64, 𝐋, Unitful.FreeUnits{(nm,), 𝐋, nothing}}}(300000.0 kJ nm⁻² mol⁻¹, 0.1 nm), HarmonicBond{Quantity{Float64, 𝐌 𝐍⁻¹ 𝐓⁻², Unitful.FreeUnits{(kJ, nm⁻², mol⁻¹), 𝐌 𝐍⁻¹ 𝐓⁻², nothing}}, Quantity{Float64, 𝐋, Unitful.FreeUnits{(nm,), 𝐋, nothing}}}(300000.0 kJ nm⁻² mol⁻¹, 0.1 nm), HarmonicBond{Quantity{Float64, 𝐌 𝐍⁻¹ 𝐓⁻², Unitful.FreeUnits{(kJ, nm⁻², mol⁻¹), 𝐌 𝐍⁻¹ 𝐓⁻², nothing}}, Quantity{Float64, 𝐋, Unitful.FreeUnits{(nm,), 𝐋, nothing}}}(300000.0 kJ nm⁻² mol⁻¹, 0.1 nm), HarmonicBond{Quantity{Float64, 𝐌 𝐍⁻¹ 𝐓⁻², Unitful.FreeUnits{(kJ, nm⁻², mol⁻¹), 𝐌 𝐍⁻¹ 𝐓⁻², nothing}}, Quantity{Float64, 𝐋, Unitful.FreeUnits{(nm,), 𝐋, nothing}}}(300000.0 kJ nm⁻² mol⁻¹, 0.1 nm), HarmonicBond{Quantity{Float64, 𝐌 𝐍⁻¹ 𝐓⁻², Unitful.FreeUnits{(kJ, nm⁻², mol⁻¹), 𝐌 𝐍⁻¹ 𝐓⁻², nothing}}, Quantity{Float64, 𝐋, Unitful.FreeUnits{(nm,), 𝐋, nothing}}}(300000.0 kJ nm⁻² mol⁻¹, 0.1 nm), HarmonicBond{Quantity{Float64, 𝐌 𝐍⁻¹ 𝐓⁻², Unitful.FreeUnits{(kJ, nm⁻², mol⁻¹), 𝐌 𝐍⁻¹ 𝐓⁻², nothing}}, Quantity{Float64, 𝐋, Unitful.FreeUnits{(nm,), 𝐋, nothing}}}(300000.0 kJ nm⁻² mol⁻¹, 0.1 nm), HarmonicBond{Quantity{Float64, 𝐌 𝐍⁻¹ 𝐓⁻², Unitful.FreeUnits{(kJ, nm⁻², mol⁻¹), 𝐌 𝐍⁻¹ 𝐓⁻², nothing}}, Quantity{Float64, 𝐋, Unitful.FreeUnits{(nm,), 𝐋, nothing}}}(300000.0 kJ nm⁻² mol⁻¹, 0.1 nm), HarmonicBond{Quantity{Float64, 𝐌 𝐍⁻¹ 𝐓⁻², Unitful.FreeUnits{(kJ, nm⁻², mol⁻¹), 𝐌 𝐍⁻¹ 𝐓⁻², nothing}}, Quantity{Float64, 𝐋, Unitful.FreeUnits{(nm,), 𝐋, nothing}}}(300000.0 kJ nm⁻² mol⁻¹, 0.1 nm), HarmonicBond{Quantity{Float64, 𝐌 𝐍⁻¹ 𝐓⁻², Unitful.FreeUnits{(kJ, nm⁻², mol⁻¹), 𝐌 𝐍⁻¹ 𝐓⁻², nothing}}, Quantity{Float64, 𝐋, Unitful.FreeUnits{(nm,), 𝐋, nothing}}}(300000.0 kJ nm⁻² mol⁻¹, 0.1 nm), HarmonicBond{Quantity{Float64, 𝐌 𝐍⁻¹ 𝐓⁻², Unitful.FreeUnits{(kJ, nm⁻², mol⁻¹), 𝐌 𝐍⁻¹ 𝐓⁻², nothing}}, Quantity{Float64, 𝐋, Unitful.FreeUnits{(nm,), 𝐋, nothing}}}(300000.0 kJ nm⁻² mol⁻¹, 0.1 nm)], [\"\", \"\", \"\", \"\", \"\", \"\", \"\", \"\", \"\", \"\"  …  \"\", \"\", \"\", \"\", \"\", \"\", \"\", \"\", \"\", \"\"]),)"
      ]
     },
     "metadata": {},
     "output_type": "display_data"
    }
   ],
   "source": [
    "specific_inter_lists = (bonds,)"
   ]
  },
  {
   "cell_type": "code",
   "execution_count": 114,
   "metadata": {},
   "outputs": [
    {
     "data": {
      "text/plain": [
       "10×10 BitMatrix:\n",
       " 1  1  1  1  1  1  1  1  1  1\n",
       " 1  1  1  1  1  1  1  1  1  1\n",
       " 1  1  1  1  1  1  1  1  1  1\n",
       " 1  1  1  1  1  1  1  1  1  1\n",
       " 1  1  1  1  1  1  1  1  1  1\n",
       " 1  1  1  1  1  1  1  1  1  1\n",
       " 1  1  1  1  1  1  1  1  1  1\n",
       " 1  1  1  1  1  1  1  1  1  1\n",
       " 1  1  1  1  1  1  1  1  1  1\n",
       " 1  1  1  1  1  1  1  1  1  1"
      ]
     },
     "metadata": {},
     "output_type": "display_data"
    }
   ],
   "source": [
    "trues(10,10)"
   ]
  },
  {
   "cell_type": "code",
   "execution_count": 115,
   "metadata": {},
   "outputs": [],
   "source": [
    "# All pairs apart from bonded pairs are eligible for non-bonded interactions\n",
    "eligible = trues(n_atoms, n_atoms)\n",
    "for i in 1:(n_atoms ÷ 2)\n",
    "    eligible[i, i + (n_atoms ÷ 2)] = false\n",
    "    eligible[i + (n_atoms ÷ 2), i] = false\n",
    "end"
   ]
  },
  {
   "cell_type": "code",
   "execution_count": 116,
   "metadata": {},
   "outputs": [
    {
     "data": {
      "text/plain": [
       "DistanceNeighborFinder{BitMatrix, Quantity{Float64, 𝐋, Unitful.FreeUnits{(nm,), 𝐋, nothing}}}\n",
       "  Size of eligible matrix = (100, 100)\n",
       "  n_steps = 10\n",
       "  dist_cutoff = 1.5 nm"
      ]
     },
     "metadata": {},
     "output_type": "display_data"
    }
   ],
   "source": [
    "neighbor_finder = DistanceNeighborFinder(\n",
    "    eligible=eligible,\n",
    "    n_steps=10,\n",
    "    dist_cutoff=1.5u\"nm\",\n",
    ")"
   ]
  },
  {
   "cell_type": "code",
   "execution_count": 117,
   "metadata": {},
   "outputs": [
    {
     "data": {
      "text/plain": [
       "(LennardJones{false, DistanceCutoff{Quantity{Float64, 𝐋, Unitful.FreeUnits{(nm,), 𝐋, nothing}}, Quantity{Float64, 𝐋², Unitful.FreeUnits{(nm²,), 𝐋², nothing}}, Quantity{Float64, 𝐋⁻², Unitful.FreeUnits{(nm⁻²,), 𝐋⁻², nothing}}}, Int64, Int64, Unitful.FreeUnits{(kJ, nm⁻¹, mol⁻¹), 𝐋 𝐌 𝐍⁻¹ 𝐓⁻², nothing}, Unitful.FreeUnits{(kJ, mol⁻¹), 𝐋² 𝐌 𝐍⁻¹ 𝐓⁻², nothing}}(DistanceCutoff{Quantity{Float64, 𝐋, Unitful.FreeUnits{(nm,), 𝐋, nothing}}, Quantity{Float64, 𝐋², Unitful.FreeUnits{(nm²,), 𝐋², nothing}}, Quantity{Float64, 𝐋⁻², Unitful.FreeUnits{(nm⁻²,), 𝐋⁻², nothing}}}(1.2 nm, 1.44 nm², 0.6944444444444444 nm⁻²), true, true, 1, 1, kJ nm⁻¹ mol⁻¹, kJ mol⁻¹),)"
      ]
     },
     "metadata": {},
     "output_type": "display_data"
    }
   ],
   "source": [
    "cutoff = DistanceCutoff(1.2u\"nm\")\n",
    "pairwise_inters = (LennardJones(use_neighbors=true, cutoff=cutoff),)"
   ]
  },
  {
   "cell_type": "code",
   "execution_count": 118,
   "metadata": {},
   "outputs": [
    {
     "data": {
      "text/plain": [
       "System with 100 atoms, boundary CubicBoundary{Quantity{Float64, 𝐋, Unitful.FreeUnits{(nm,), 𝐋, nothing}}}(Quantity{Float64, 𝐋, Unitful.FreeUnits{(nm,), 𝐋, nothing}}[2.0 nm, 2.0 nm, 2.0 nm])"
      ]
     },
     "metadata": {},
     "output_type": "display_data"
    }
   ],
   "source": [
    "sys = System(\n",
    "    atoms=atoms,\n",
    "    coords=coords,\n",
    "    boundary=boundary,\n",
    "    velocities=velocities,\n",
    "    pairwise_inters=pairwise_inters,\n",
    "    specific_inter_lists=specific_inter_lists,\n",
    "    neighbor_finder=neighbor_finder,\n",
    "    loggers=(\n",
    "        temp=TemperatureLogger(10),\n",
    "        coords=CoordinateLogger(10),\n",
    "    ),\n",
    ")"
   ]
  },
  {
   "cell_type": "code",
   "execution_count": 119,
   "metadata": {},
   "outputs": [
    {
     "data": {
      "text/plain": [
       "VelocityVerlet{Quantity{Float64, 𝐓, Unitful.FreeUnits{(ps,), 𝐓, nothing}}, AndersenThermostat{Quantity{Float64, 𝚯, Unitful.FreeUnits{(K,), 𝚯, nothing}}, Quantity{Float64, 𝐓, Unitful.FreeUnits{(ps,), 𝐓, nothing}}}}(0.002 ps, AndersenThermostat{Quantity{Float64, 𝚯, Unitful.FreeUnits{(K,), 𝚯, nothing}}, Quantity{Float64, 𝐓, Unitful.FreeUnits{(ps,), 𝐓, nothing}}}(100.0 K, 1.0 ps), 1)"
      ]
     },
     "metadata": {},
     "output_type": "display_data"
    }
   ],
   "source": [
    "simulator = VelocityVerlet(\n",
    "    dt=0.002u\"ps\",\n",
    "    coupling=AndersenThermostat(temp, 1.0u\"ps\"),\n",
    ")"
   ]
  },
  {
   "cell_type": "code",
   "execution_count": 120,
   "metadata": {},
   "outputs": [
    {
     "data": {
      "text/plain": [
       "System with 100 atoms, boundary CubicBoundary{Quantity{Float64, 𝐋, Unitful.FreeUnits{(nm,), 𝐋, nothing}}}(Quantity{Float64, 𝐋, Unitful.FreeUnits{(nm,), 𝐋, nothing}}[2.0 nm, 2.0 nm, 2.0 nm])"
      ]
     },
     "metadata": {},
     "output_type": "display_data"
    }
   ],
   "source": [
    "simulate!(sys, simulator, 1_000)"
   ]
  },
  {
   "cell_type": "code",
   "execution_count": 121,
   "metadata": {},
   "outputs": [
    {
     "data": {
      "text/plain": [
       "\"../Simulations/diatomic_lennard_jones.mp4\""
      ]
     },
     "metadata": {},
     "output_type": "display_data"
    }
   ],
   "source": [
    "visualize(\n",
    "    sys.loggers.coords,\n",
    "    boundary,\n",
    "    \"../Simulations/diatomic_lennard_jones.mp4\";\n",
    "    connections=[(i, i + (n_atoms ÷ 2)) for i in 1:(n_atoms ÷ 2)],\n",
    ")"
   ]
  },
  {
   "cell_type": "code",
   "execution_count": null,
   "metadata": {},
   "outputs": [],
   "source": []
  }
 ],
 "metadata": {
  "kernelspec": {
   "display_name": "Julia 1.9.0",
   "language": "julia",
   "name": "julia-1.9"
  },
  "language_info": {
   "file_extension": ".jl",
   "mimetype": "application/julia",
   "name": "julia",
   "version": "1.9.0"
  },
  "orig_nbformat": 4
 },
 "nbformat": 4,
 "nbformat_minor": 2
}
