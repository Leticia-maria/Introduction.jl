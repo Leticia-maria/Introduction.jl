{
 "cells": [
  {
   "cell_type": "code",
   "execution_count": 1,
   "metadata": {},
   "outputs": [
    {
     "name": "stderr",
     "output_type": "stream",
     "text": [
      "\u001b[32m\u001b[1m   Resolving\u001b[22m\u001b[39m package versions...\n"
     ]
    },
    {
     "name": "stderr",
     "output_type": "stream",
     "text": [
      "\u001b[32m\u001b[1m  No Changes\u001b[22m\u001b[39m to `~/.julia/environments/v1.9/Project.toml`\n",
      "\u001b[32m\u001b[1m  No Changes\u001b[22m\u001b[39m to `~/.julia/environments/v1.9/Manifest.toml`\n"
     ]
    }
   ],
   "source": [
    "using Pkg\n",
    "Pkg.add(\"Molly\")"
   ]
  },
  {
   "attachments": {},
   "cell_type": "markdown",
   "metadata": {},
   "source": [
    "### Our **first simulation**\n",
    "#### Fluid acting under a Lennard-Jones potential"
   ]
  },
  {
   "cell_type": "code",
   "execution_count": 2,
   "metadata": {},
   "outputs": [],
   "source": [
    "using Molly"
   ]
  },
  {
   "attachments": {},
   "cell_type": "markdown",
   "metadata": {},
   "source": [
    "### Let's define the number of particles and their masses."
   ]
  },
  {
   "cell_type": "code",
   "execution_count": 25,
   "metadata": {},
   "outputs": [
    {
     "data": {
      "text/plain": [
       "100-element Vector{Atom{Float64, Quantity{Float64, 𝐌, Unitful.FreeUnits{(u,), 𝐌, nothing}}, Quantity{Float64, 𝐋, Unitful.FreeUnits{(nm,), 𝐋, nothing}}, Quantity{Float64, 𝐋² 𝐌 𝐍⁻¹ 𝐓⁻², Unitful.FreeUnits{(kJ, mol⁻¹), 𝐋² 𝐌 𝐍⁻¹ 𝐓⁻², nothing}}}}:\n",
       " Atom with index 1, charge=0.0, mass=10.0 u, σ=0.3 nm, ϵ=0.2 kJ mol⁻¹\n",
       " Atom with index 1, charge=0.0, mass=10.0 u, σ=0.3 nm, ϵ=0.2 kJ mol⁻¹\n",
       " Atom with index 1, charge=0.0, mass=10.0 u, σ=0.3 nm, ϵ=0.2 kJ mol⁻¹\n",
       " Atom with index 1, charge=0.0, mass=10.0 u, σ=0.3 nm, ϵ=0.2 kJ mol⁻¹\n",
       " Atom with index 1, charge=0.0, mass=10.0 u, σ=0.3 nm, ϵ=0.2 kJ mol⁻¹\n",
       " Atom with index 1, charge=0.0, mass=10.0 u, σ=0.3 nm, ϵ=0.2 kJ mol⁻¹\n",
       " Atom with index 1, charge=0.0, mass=10.0 u, σ=0.3 nm, ϵ=0.2 kJ mol⁻¹\n",
       " Atom with index 1, charge=0.0, mass=10.0 u, σ=0.3 nm, ϵ=0.2 kJ mol⁻¹\n",
       " Atom with index 1, charge=0.0, mass=10.0 u, σ=0.3 nm, ϵ=0.2 kJ mol⁻¹\n",
       " Atom with index 1, charge=0.0, mass=10.0 u, σ=0.3 nm, ϵ=0.2 kJ mol⁻¹\n",
       " ⋮\n",
       " Atom with index 1, charge=0.0, mass=10.0 u, σ=0.3 nm, ϵ=0.2 kJ mol⁻¹\n",
       " Atom with index 1, charge=0.0, mass=10.0 u, σ=0.3 nm, ϵ=0.2 kJ mol⁻¹\n",
       " Atom with index 1, charge=0.0, mass=10.0 u, σ=0.3 nm, ϵ=0.2 kJ mol⁻¹\n",
       " Atom with index 1, charge=0.0, mass=10.0 u, σ=0.3 nm, ϵ=0.2 kJ mol⁻¹\n",
       " Atom with index 1, charge=0.0, mass=10.0 u, σ=0.3 nm, ϵ=0.2 kJ mol⁻¹\n",
       " Atom with index 1, charge=0.0, mass=10.0 u, σ=0.3 nm, ϵ=0.2 kJ mol⁻¹\n",
       " Atom with index 1, charge=0.0, mass=10.0 u, σ=0.3 nm, ϵ=0.2 kJ mol⁻¹\n",
       " Atom with index 1, charge=0.0, mass=10.0 u, σ=0.3 nm, ϵ=0.2 kJ mol⁻¹\n",
       " Atom with index 1, charge=0.0, mass=10.0 u, σ=0.3 nm, ϵ=0.2 kJ mol⁻¹"
      ]
     },
     "metadata": {},
     "output_type": "display_data"
    }
   ],
   "source": [
    "n_atoms = 100\n",
    "atom_mass = 10.0u\"u\"\n",
    "atoms = [Atom(mass=atom_mass, σ=0.3u\"nm\", ϵ=0.2u\"kJ * mol^-1\") for i in 1:n_atoms]"
   ]
  },
  {
   "attachments": {},
   "cell_type": "markdown",
   "metadata": {},
   "source": [
    "Our simulation will run in a cubic box (defined by the ```CubicBoundary```). You can also use a ```TriclinicBoundary```. Simulations in 2 dimensions should use a ```RectangularBoundary```."
   ]
  },
  {
   "cell_type": "code",
   "execution_count": 26,
   "metadata": {},
   "outputs": [
    {
     "data": {
      "text/plain": [
       "CubicBoundary{Quantity{Float64, 𝐋, Unitful.FreeUnits{(nm,), 𝐋, nothing}}}(Quantity{Float64, 𝐋, Unitful.FreeUnits{(nm,), 𝐋, nothing}}[2.0 nm, 2.0 nm, 2.0 nm])"
      ]
     },
     "metadata": {},
     "output_type": "display_data"
    }
   ],
   "source": [
    "boundary = CubicBoundary(2.0u\"nm\", 2.0u\"nm\", 2.0u\"nm\") # Periodic boundary conditions"
   ]
  },
  {
   "cell_type": "code",
   "execution_count": 27,
   "metadata": {},
   "outputs": [
    {
     "data": {
      "text/plain": [
       "(LennardJones{false, NoCutoff, Int64, Int64, Unitful.FreeUnits{(kJ, nm⁻¹, mol⁻¹), 𝐋 𝐌 𝐍⁻¹ 𝐓⁻², nothing}, Unitful.FreeUnits{(kJ, mol⁻¹), 𝐋² 𝐌 𝐍⁻¹ 𝐓⁻², nothing}}(NoCutoff(), false, true, 1, 1, kJ nm⁻¹ mol⁻¹, kJ mol⁻¹),)"
      ]
     },
     "metadata": {},
     "output_type": "display_data"
    }
   ],
   "source": [
    "pairwise_inters = (LennardJones(),) "
   ]
  },
  {
   "cell_type": "code",
   "execution_count": 28,
   "metadata": {},
   "outputs": [
    {
     "data": {
      "text/plain": [
       "100-element Vector{SVector{3, Quantity{Float64, 𝐋, Unitful.FreeUnits{(nm,), 𝐋, nothing}}}}:\n",
       " [1.7778077784474735 nm, 0.9901981090002268 nm, 0.4384945043394741 nm]\n",
       " [1.935750684649968 nm, 0.2055721474690524 nm, 1.5063566178019583 nm]\n",
       " [1.546213357996598 nm, 1.1659426518030647 nm, 1.460299805807513 nm]\n",
       " [0.47847879594632126 nm, 1.2990991729112744 nm, 0.0521099467242474 nm]\n",
       " [1.4562595128349312 nm, 0.07982685135702217 nm, 0.8255821733668218 nm]\n",
       " [0.8662649137457159 nm, 1.859474396658764 nm, 0.663783479630371 nm]\n",
       " [0.4793348349081705 nm, 1.7395565471141818 nm, 1.0900456604097102 nm]\n",
       " [0.30884067907864954 nm, 1.9223211535292684 nm, 0.659821817368728 nm]\n",
       " [1.9960754265938319 nm, 0.34718195736824 nm, 0.1877044374812047 nm]\n",
       " [0.8982716368179804 nm, 0.707866969266032 nm, 1.5026839328576662 nm]\n",
       " ⋮\n",
       " [1.9519778418699143 nm, 1.436206948010006 nm, 0.42787466535532226 nm]\n",
       " [1.2825877544825048 nm, 1.7653759946025007 nm, 1.9976633702920252 nm]\n",
       " [1.253764556911067 nm, 1.0275276875641701 nm, 1.431012646417672 nm]\n",
       " [1.8456452478652927 nm, 0.5956115878393895 nm, 0.527162440677025 nm]\n",
       " [0.727705858837117 nm, 1.677147577750201 nm, 1.5747984143151197 nm]\n",
       " [0.5867587488009407 nm, 1.6681351879206971 nm, 0.23399086796918378 nm]\n",
       " [1.8351719325098312 nm, 0.00953319204129266 nm, 0.9667360822276687 nm]\n",
       " [0.24278641287459135 nm, 0.4294185876848491 nm, 0.5013035742428531 nm]\n",
       " [1.2060965643308583 nm, 1.766825699461263 nm, 1.322092917089867 nm]"
      ]
     },
     "metadata": {},
     "output_type": "display_data"
    }
   ],
   "source": [
    "coords = place_atoms(n_atoms, boundary; min_dist=0.3u\"nm\") # Random placement without clashing"
   ]
  },
  {
   "cell_type": "code",
   "execution_count": 29,
   "metadata": {},
   "outputs": [
    {
     "data": {
      "text/plain": [
       "100.0 K"
      ]
     },
     "metadata": {},
     "output_type": "display_data"
    }
   ],
   "source": [
    "temp = 100.0u\"K\""
   ]
  },
  {
   "cell_type": "code",
   "execution_count": 30,
   "metadata": {},
   "outputs": [
    {
     "data": {
      "text/plain": [
       "100-element Vector{SVector{3, Quantity{Float64, 𝐋 𝐓⁻¹, Unitful.FreeUnits{(nm, ps⁻¹), 𝐋 𝐓⁻¹, nothing}}}}:\n",
       " [-0.12975032175693543 nm ps⁻¹, -0.08175969864693959 nm ps⁻¹, -0.5603977127512478 nm ps⁻¹]\n",
       " [-0.13179375392814136 nm ps⁻¹, -0.5707813046023895 nm ps⁻¹, 0.16278177072111755 nm ps⁻¹]\n",
       " [0.2072919201082432 nm ps⁻¹, 0.11323359975190546 nm ps⁻¹, 0.27814437233860223 nm ps⁻¹]\n",
       " [-0.23170283254292898 nm ps⁻¹, -0.1803082328275613 nm ps⁻¹, -0.22894011997783614 nm ps⁻¹]\n",
       " [-0.15069783039297924 nm ps⁻¹, 0.015979133318885726 nm ps⁻¹, -0.38816346557221076 nm ps⁻¹]\n",
       " [-0.3262037000997499 nm ps⁻¹, -0.140122735715261 nm ps⁻¹, -0.05891119027699866 nm ps⁻¹]\n",
       " [0.09338192517872869 nm ps⁻¹, -0.20120301829562617 nm ps⁻¹, -0.09189805934770477 nm ps⁻¹]\n",
       " [-0.38362278839179276 nm ps⁻¹, 0.30281567366233714 nm ps⁻¹, -0.30043115642775153 nm ps⁻¹]\n",
       " [0.1447757697424652 nm ps⁻¹, 0.006264978077395682 nm ps⁻¹, 0.01602893854617699 nm ps⁻¹]\n",
       " [-0.5501913904260566 nm ps⁻¹, 0.2097223413757074 nm ps⁻¹, 0.07853052252982931 nm ps⁻¹]\n",
       " ⋮\n",
       " [0.112708336733878 nm ps⁻¹, 0.3682028105472187 nm ps⁻¹, 0.01438066836208085 nm ps⁻¹]\n",
       " [0.3599185183641825 nm ps⁻¹, 0.49665317346918136 nm ps⁻¹, 0.09245513501438252 nm ps⁻¹]\n",
       " [0.13014300382181573 nm ps⁻¹, -0.3890027291252488 nm ps⁻¹, 0.26170853378760084 nm ps⁻¹]\n",
       " [-0.13703420736240848 nm ps⁻¹, -0.28923603750046206 nm ps⁻¹, 0.21768402750659668 nm ps⁻¹]\n",
       " [0.4747845770272965 nm ps⁻¹, 0.3366667731343059 nm ps⁻¹, -0.014632353160947605 nm ps⁻¹]\n",
       " [-0.04575084726938772 nm ps⁻¹, 0.025759032703427717 nm ps⁻¹, 0.08997583499170345 nm ps⁻¹]\n",
       " [-0.434586135362078 nm ps⁻¹, 0.3066807350608852 nm ps⁻¹, 0.05587700196943626 nm ps⁻¹]\n",
       " [-0.17734913550100614 nm ps⁻¹, 0.004142097085420193 nm ps⁻¹, -0.21934572403111102 nm ps⁻¹]\n",
       " [0.11926542984477362 nm ps⁻¹, -0.0017740799156566696 nm ps⁻¹, 0.23066958735090123 nm ps⁻¹]"
      ]
     },
     "metadata": {},
     "output_type": "display_data"
    }
   ],
   "source": [
    "velocities = [random_velocity(atom_mass, temp) for i in 1:n_atoms]"
   ]
  },
  {
   "cell_type": "code",
   "execution_count": 31,
   "metadata": {},
   "outputs": [
    {
     "data": {
      "text/plain": [
       "System with 100 atoms, boundary CubicBoundary{Quantity{Float64, 𝐋, Unitful.FreeUnits{(nm,), 𝐋, nothing}}}(Quantity{Float64, 𝐋, Unitful.FreeUnits{(nm,), 𝐋, nothing}}[2.0 nm, 2.0 nm, 2.0 nm])"
      ]
     },
     "metadata": {},
     "output_type": "display_data"
    }
   ],
   "source": [
    "sys = System(\n",
    "    atoms=atoms,\n",
    "    pairwise_inters=pairwise_inters,\n",
    "    coords=coords,\n",
    "    velocities=velocities,\n",
    "    boundary=boundary,\n",
    "    loggers=(\n",
    "        temp=TemperatureLogger(10),\n",
    "        coords=CoordinateLogger(10),\n",
    "    ),\n",
    ")"
   ]
  },
  {
   "cell_type": "code",
   "execution_count": 32,
   "metadata": {},
   "outputs": [
    {
     "data": {
      "text/plain": [
       "VelocityVerlet{Quantity{Float64, 𝐓, Unitful.FreeUnits{(ps,), 𝐓, nothing}}, AndersenThermostat{Quantity{Float64, 𝚯, Unitful.FreeUnits{(K,), 𝚯, nothing}}, Quantity{Float64, 𝐓, Unitful.FreeUnits{(ps,), 𝐓, nothing}}}}(0.002 ps, AndersenThermostat{Quantity{Float64, 𝚯, Unitful.FreeUnits{(K,), 𝚯, nothing}}, Quantity{Float64, 𝐓, Unitful.FreeUnits{(ps,), 𝐓, nothing}}}(100.0 K, 1.0 ps), 1)"
      ]
     },
     "metadata": {},
     "output_type": "display_data"
    }
   ],
   "source": [
    "simulator = VelocityVerlet(\n",
    "    dt=0.002u\"ps\",\n",
    "    coupling=AndersenThermostat(temp, 1.0u\"ps\"),\n",
    ")"
   ]
  },
  {
   "cell_type": "code",
   "execution_count": 33,
   "metadata": {},
   "outputs": [
    {
     "data": {
      "text/plain": [
       "System with 100 atoms, boundary CubicBoundary{Quantity{Float64, 𝐋, Unitful.FreeUnits{(nm,), 𝐋, nothing}}}(Quantity{Float64, 𝐋, Unitful.FreeUnits{(nm,), 𝐋, nothing}}[2.0 nm, 2.0 nm, 2.0 nm])"
      ]
     },
     "metadata": {},
     "output_type": "display_data"
    }
   ],
   "source": [
    "simulate!(sys, simulator, 1_000)"
   ]
  },
  {
   "cell_type": "code",
   "execution_count": 16,
   "metadata": {},
   "outputs": [
    {
     "name": "stderr",
     "output_type": "stream",
     "text": [
      "\u001b[32m\u001b[1m   Resolving\u001b[22m\u001b[39m package versions...\n"
     ]
    },
    {
     "name": "stderr",
     "output_type": "stream",
     "text": [
      "\u001b[32m\u001b[1m   Installed\u001b[22m\u001b[39m TiffImages ─────────── v0.6.4\n",
      "\u001b[32m\u001b[1m   Installed\u001b[22m\u001b[39m MiniQhull ──────────── v0.4.0\n",
      "\u001b[32m\u001b[1m   Installed\u001b[22m\u001b[39m PNGFiles ───────────── v0.3.17\n",
      "\u001b[32m\u001b[1m   Installed\u001b[22m\u001b[39m StableHashTraits ───── v0.3.1\n",
      "\u001b[32m\u001b[1m   Installed\u001b[22m\u001b[39m ModernGL ───────────── v1.1.7\n",
      "\u001b[32m\u001b[1m   Installed\u001b[22m\u001b[39m JpegTurbo ──────────── v0.1.2\n",
      "\u001b[32m\u001b[1m   Installed\u001b[22m\u001b[39m Netpbm ─────────────── v1.1.0\n",
      "\u001b[32m\u001b[1m   Installed\u001b[22m\u001b[39m AxisArrays ─────────── v0.4.6\n",
      "\u001b[32m\u001b[1m   Installed\u001b[22m\u001b[39m GLMakie ────────────── v0.8.6\n"
     ]
    },
    {
     "name": "stderr",
     "output_type": "stream",
     "text": [
      "\u001b[32m\u001b[1m   Installed\u001b[22m\u001b[39m QhullMiniWrapper_jll ─ v1.0.0+1\n",
      "\u001b[32m\u001b[1m   Installed\u001b[22m\u001b[39m TupleTools ─────────── v1.3.0\n",
      "\u001b[32m\u001b[1m   Installed\u001b[22m\u001b[39m TriplotBase ────────── v0.1.0\n",
      "\u001b[32m\u001b[1m   Installed\u001b[22m\u001b[39m ImageMetadata ──────── v0.9.8\n",
      "\u001b[32m\u001b[1m   Installed\u001b[22m\u001b[39m MosaicViews ────────── v0.3.4\n",
      "\u001b[32m\u001b[1m   Installed\u001b[22m\u001b[39m PaddedViews ────────── v0.5.12\n",
      "\u001b[32m\u001b[1m   Installed\u001b[22m\u001b[39m GridLayoutBase ─────── v0.9.1\n"
     ]
    },
    {
     "name": "stderr",
     "output_type": "stream",
     "text": [
      "\u001b[32m\u001b[1m   Installed\u001b[22m\u001b[39m Imath_jll ──────────── v3.1.7+0\n"
     ]
    },
    {
     "name": "stderr",
     "output_type": "stream",
     "text": [
      "\u001b[32m\u001b[1m   Installed\u001b[22m\u001b[39m RangeArrays ────────── v0.3.2\n",
      "\u001b[32m\u001b[1m   Installed\u001b[22m\u001b[39m OpenEXR_jll ────────── v3.1.4+0\n",
      "\u001b[32m\u001b[1m   Installed\u001b[22m\u001b[39m MakieCore ──────────── v0.6.3\n",
      "\u001b[32m\u001b[1m   Installed\u001b[22m\u001b[39m Packing ────────────── v0.5.0\n",
      "\u001b[32m\u001b[1m   Installed\u001b[22m\u001b[39m FreeTypeAbstraction ── v0.10.0\n",
      "\u001b[32m\u001b[1m   Installed\u001b[22m\u001b[39m ImageBase ──────────── v0.1.5\n",
      "\u001b[32m\u001b[1m   Installed\u001b[22m\u001b[39m GeometryBasics ─────── v0.4.7\n"
     ]
    },
    {
     "name": "stderr",
     "output_type": "stream",
     "text": [
      "\u001b[32m\u001b[1m   Installed\u001b[22m\u001b[39m ShaderAbstractions ─── v0.3.0\n",
      "\u001b[32m\u001b[1m   Installed\u001b[22m\u001b[39m MathTeXEngine ──────── v0.5.6\n",
      "\u001b[32m\u001b[1m   Installed\u001b[22m\u001b[39m ImageAxes ──────────── v0.6.10\n"
     ]
    },
    {
     "name": "stderr",
     "output_type": "stream",
     "text": [
      "\u001b[32m\u001b[1m   Installed\u001b[22m\u001b[39m GeoInterface ───────── v1.3.1\n"
     ]
    },
    {
     "name": "stderr",
     "output_type": "stream",
     "text": [
      "\u001b[32m\u001b[1m   Installed\u001b[22m\u001b[39m Makie ──────────────── v0.19.6\n"
     ]
    },
    {
     "name": "stderr",
     "output_type": "stream",
     "text": [
      "\u001b[32m\u001b[1m    Updating\u001b[22m\u001b[39m `~/.julia/environments/v1.9/Project.toml`\n",
      "  \u001b[90m[e9467ef8] \u001b[39m\u001b[92m+ GLMakie v0.8.6\u001b[39m\n",
      "\u001b[32m\u001b[1m    Updating\u001b[22m\u001b[39m `~/.julia/environments/v1.9/Manifest.toml`\n"
     ]
    },
    {
     "name": "stderr",
     "output_type": "stream",
     "text": [
      "  \u001b[90m[27a7e980] \u001b[39m\u001b[92m+ Animations v0.4.1\u001b[39m\n",
      "  \u001b[90m[39de3d68] \u001b[39m\u001b[92m+ AxisArrays v0.4.6\u001b[39m\n",
      "  \u001b[90m[a2cac450] \u001b[39m\u001b[92m+ ColorBrewer v0.4.0\u001b[39m\n",
      "  \u001b[90m[411431e0] \u001b[39m\u001b[92m+ Extents v0.1.1\u001b[39m\n",
      "  \u001b[90m[b38be410] \u001b[39m\u001b[92m+ FreeType v4.0.0\u001b[39m\n",
      "  \u001b[90m[663a7486] \u001b[39m\u001b[92m+ FreeTypeAbstraction v0.10.0\u001b[39m\n",
      "  \u001b[90m[f7f18e0c] \u001b[39m\u001b[92m+ GLFW v3.4.1\u001b[39m\n",
      "  \u001b[90m[e9467ef8] \u001b[39m\u001b[92m+ GLMakie v0.8.6\u001b[39m\n",
      "  \u001b[90m[cf35fbd7] \u001b[39m\u001b[92m+ GeoInterface v1.3.1\u001b[39m\n",
      "  \u001b[90m[5c1252a2] \u001b[39m\u001b[92m+ GeometryBasics v0.4.7\u001b[39m\n",
      "  \u001b[90m[a2bd30eb] \u001b[39m\u001b[92m+ Graphics v1.1.2\u001b[39m\n",
      "  \u001b[90m[3955a311] \u001b[39m\u001b[92m+ GridLayoutBase v0.9.1\u001b[39m\n",
      "  \u001b[90m[2803e5a7] \u001b[39m\u001b[92m+ ImageAxes v0.6.10\u001b[39m\n",
      "  \u001b[90m[c817782e] \u001b[39m\u001b[92m+ ImageBase v0.1.5\u001b[39m\n",
      "  \u001b[90m[a09fc81d] \u001b[39m\u001b[92m+ ImageCore v0.9.4\u001b[39m\n",
      "  \u001b[90m[82e4d734] \u001b[39m\u001b[92m+ ImageIO v0.6.6\u001b[39m\n",
      "  \u001b[90m[bc367c6b] \u001b[39m\u001b[92m+ ImageMetadata v0.9.8\u001b[39m\n",
      "  \u001b[90m[9b13fd28] \u001b[39m\u001b[92m+ IndirectArrays v1.0.0\u001b[39m\n",
      "  \u001b[90m[f1662d9f] \u001b[39m\u001b[92m+ Isoband v0.1.1\u001b[39m\n",
      "  \u001b[90m[b835a17e] \u001b[39m\u001b[92m+ JpegTurbo v0.1.2\u001b[39m\n",
      "  \u001b[90m[8cdb02fc] \u001b[39m\u001b[92m+ LazyModules v0.3.1\u001b[39m\n",
      "  \u001b[90m[ee78f7c6] \u001b[39m\u001b[92m+ Makie v0.19.6\u001b[39m\n",
      "  \u001b[90m[20f20a25] \u001b[39m\u001b[92m+ MakieCore v0.6.3\u001b[39m\n",
      "  \u001b[90m[7eb4fadd] \u001b[39m\u001b[92m+ Match v1.2.0\u001b[39m\n",
      "  \u001b[90m[0a4f8689] \u001b[39m\u001b[92m+ MathTeXEngine v0.5.6\u001b[39m\n",
      "  \u001b[90m[7269a6da] \u001b[39m\u001b[92m+ MeshIO v0.4.10\u001b[39m\n",
      "  \u001b[90m[978d7f02] \u001b[39m\u001b[92m+ MiniQhull v0.4.0\u001b[39m\n",
      "  \u001b[90m[66fc600b] \u001b[39m\u001b[92m+ ModernGL v1.1.7\u001b[39m\n",
      "  \u001b[90m[e94cdb99] \u001b[39m\u001b[92m+ MosaicViews v0.3.4\u001b[39m\n",
      "  \u001b[90m[f09324ee] \u001b[39m\u001b[92m+ Netpbm v1.1.0\u001b[39m\n",
      "  \u001b[90m[52e1d378] \u001b[39m\u001b[92m+ OpenEXR v0.3.2\u001b[39m\n",
      "  \u001b[90m[f57f5aa1] \u001b[39m\u001b[92m+ PNGFiles v0.3.17\u001b[39m\n",
      "  \u001b[90m[19eb6ba3] \u001b[39m\u001b[92m+ Packing v0.5.0\u001b[39m\n",
      "  \u001b[90m[5432bcbf] \u001b[39m\u001b[92m+ PaddedViews v0.5.12\u001b[39m\n",
      "  \u001b[90m[647866c9] \u001b[39m\u001b[92m+ PolygonOps v0.1.2\u001b[39m\n",
      "  \u001b[90m[4b34888f] \u001b[39m\u001b[92m+ QOI v1.0.0\u001b[39m\n",
      "  \u001b[90m[b3c3ace0] \u001b[39m\u001b[92m+ RangeArrays v0.3.2\u001b[39m\n",
      "  \u001b[90m[65257c39] \u001b[39m\u001b[92m+ ShaderAbstractions v0.3.0\u001b[39m\n",
      "  \u001b[90m[73760f76] \u001b[39m\u001b[92m+ SignedDistanceFields v0.4.0\u001b[39m\n",
      "  \u001b[90m[45858cf5] \u001b[39m\u001b[92m+ Sixel v0.1.2\u001b[39m\n",
      "  \u001b[90m[c5dd0088] \u001b[39m\u001b[92m+ StableHashTraits v0.3.1\u001b[39m\n",
      "  \u001b[90m[cae243ae] \u001b[39m\u001b[92m+ StackViews v0.1.1\u001b[39m\n",
      "  \u001b[90m[731e570b] \u001b[39m\u001b[92m+ TiffImages v0.6.4\u001b[39m\n",
      "  \u001b[90m[981d1d27] \u001b[39m\u001b[92m+ TriplotBase v0.1.0\u001b[39m\n",
      "  \u001b[90m[9d95972d] \u001b[39m\u001b[92m+ TupleTools v1.3.0\u001b[39m\n",
      "  \u001b[90m[5ae413db] \u001b[39m\u001b[92m+ EarCut_jll v2.2.4+0\u001b[39m\n",
      "  \u001b[90m[905a6f67] \u001b[39m\u001b[92m+ Imath_jll v3.1.7+0\u001b[39m\n",
      "  \u001b[90m[18a262bb] \u001b[39m\u001b[92m+ OpenEXR_jll v3.1.4+0\u001b[39m\n",
      "  \u001b[90m[460c41e3] \u001b[39m\u001b[92m+ QhullMiniWrapper_jll v1.0.0+1\u001b[39m\n",
      "  \u001b[90m[9a68df92] \u001b[39m\u001b[92m+ isoband_jll v0.2.3+0\u001b[39m\n",
      "  \u001b[90m[075b6546] \u001b[39m\u001b[92m+ libsixel_jll v1.10.3+0\u001b[39m\n",
      "  \u001b[90m[8bf52ea8] \u001b[39m\u001b[92m+ CRC32c\u001b[39m\n",
      "\u001b[32m\u001b[1m    Building\u001b[22m\u001b[39m ModernGL → `~/.julia/scratchspaces/44cfe95a-1eb2-52ea-b672-e2afdf69b78f/b76ea40b5c0f45790ae09492712dd326208c28b2/build.log`\n"
     ]
    },
    {
     "name": "stderr",
     "output_type": "stream",
     "text": [
      "\u001b[32m\u001b[1mPrecompiling\u001b[22m\u001b[39m "
     ]
    },
    {
     "name": "stderr",
     "output_type": "stream",
     "text": [
      "project...\n"
     ]
    },
    {
     "name": "stderr",
     "output_type": "stream",
     "text": [
      "\u001b[32m  ✓ \u001b[39m\u001b[90mSignedDistanceFields\u001b[39m"
     ]
    },
    {
     "name": "stderr",
     "output_type": "stream",
     "text": [
      "\n",
      "\u001b[32m  ✓ \u001b[39m\u001b[90mMatch\u001b[39m\n",
      "\u001b[32m  ✓ \u001b[39m\u001b[90mExtents\u001b[39m\n",
      "\u001b[32m  ✓ \u001b[39m\u001b[90mRangeArrays\u001b[39m\n",
      "\u001b[32m  ✓ \u001b[39m\u001b[90mPolygonOps\u001b[39m\n",
      "\u001b[32m  ✓ \u001b[39m\u001b[90mLazyModules\u001b[39m\n",
      "\u001b[32m  ✓ \u001b[39m\u001b[90mMakieCore\u001b[39m\n"
     ]
    },
    {
     "name": "stderr",
     "output_type": "stream",
     "text": [
      "\u001b[32m  ✓ \u001b[39m\u001b[90mIndirectArrays\u001b[39m\n",
      "\u001b[32m  ✓ \u001b[39m\u001b[90misoband_jll\u001b[39m\n",
      "\u001b[32m  ✓ \u001b[39m\u001b[90mTupleTools\u001b[39m\n"
     ]
    },
    {
     "name": "stderr",
     "output_type": "stream",
     "text": [
      "\u001b[32m  ✓ \u001b[39m\u001b[90mTriplotBase\u001b[39m\n",
      "\u001b[32m  ✓ \u001b[39m\u001b[90mQhullMiniWrapper_jll\u001b[39m\n"
     ]
    },
    {
     "name": "stderr",
     "output_type": "stream",
     "text": [
      "\u001b[32m  ✓ \u001b[39m\u001b[90mQOI\u001b[39m\n"
     ]
    },
    {
     "name": "stderr",
     "output_type": "stream",
     "text": [
      "\u001b[32m  ✓ \u001b[39m\u001b[90mImath_jll\u001b[39m\n"
     ]
    },
    {
     "name": "stderr",
     "output_type": "stream",
     "text": [
      "\u001b[32m  ✓ \u001b[39m\u001b[90mPaddedViews\u001b[39m\n",
      "\u001b[32m  ✓ \u001b[39m\u001b[90mEarCut_jll\u001b[39m\n",
      "\u001b[32m  ✓ \u001b[39m\u001b[90mStackViews\u001b[39m\n",
      "\u001b[32m  ✓ \u001b[39m\u001b[90mlibsixel_jll\u001b[39m\n"
     ]
    },
    {
     "name": "stderr",
     "output_type": "stream",
     "text": [
      "\u001b[32m  ✓ \u001b[39m\u001b[90mGraphics\u001b[39m\n"
     ]
    },
    {
     "name": "stderr",
     "output_type": "stream",
     "text": [
      "\u001b[32m  ✓ \u001b[39m\u001b[90mAnimations\u001b[39m\n"
     ]
    },
    {
     "name": "stderr",
     "output_type": "stream",
     "text": [
      "\u001b[32m  ✓ \u001b[39m\u001b[90mColorBrewer\u001b[39m\n"
     ]
    },
    {
     "name": "stderr",
     "output_type": "stream",
     "text": [
      "\u001b[32m  ✓ \u001b[39m\u001b[90mFreeType\u001b[39m\n"
     ]
    },
    {
     "name": "stderr",
     "output_type": "stream",
     "text": [
      "\u001b[32m  ✓ \u001b[39m\u001b[90mModernGL\u001b[39m\n"
     ]
    },
    {
     "name": "stderr",
     "output_type": "stream",
     "text": [
      "\u001b[32m  ✓ \u001b[39m\u001b[90mGeoInterface\u001b[39m\n"
     ]
    },
    {
     "name": "stderr",
     "output_type": "stream",
     "text": [
      "\u001b[32m  ✓ \u001b[39m\u001b[90mGLFW\u001b[39m\n"
     ]
    },
    {
     "name": "stderr",
     "output_type": "stream",
     "text": [
      "\u001b[32m  ✓ \u001b[39m\u001b[90mAxisArrays\u001b[39m\n",
      "\u001b[32m  ✓ \u001b[39m\u001b[90mIsoband\u001b[39m\n"
     ]
    },
    {
     "name": "stderr",
     "output_type": "stream",
     "text": [
      "\u001b[32m  ✓ \u001b[39m\u001b[90mStableHashTraits\u001b[39m\n",
      "\u001b[32m  ✓ \u001b[39m\u001b[90mPolynomials → PolynomialsMakieCoreExt\u001b[39m\n"
     ]
    },
    {
     "name": "stderr",
     "output_type": "stream",
     "text": [
      "\u001b[32m  ✓ \u001b[39m\u001b[90mOpenEXR_jll\u001b[39m\n",
      "\u001b[32m  ✓ \u001b[39m\u001b[90mMiniQhull\u001b[39m\n"
     ]
    },
    {
     "name": "stderr",
     "output_type": "stream",
     "text": [
      "\u001b[32m  ✓ \u001b[39m\u001b[90mMosaicViews\u001b[39m\n"
     ]
    },
    {
     "name": "stderr",
     "output_type": "stream",
     "text": [
      "\u001b[32m  ✓ \u001b[39m\u001b[90mOpenEXR\u001b[39m\n"
     ]
    },
    {
     "name": "stderr",
     "output_type": "stream",
     "text": [
      "\u001b[32m  ✓ \u001b[39m\u001b[90mGeometryBasics\u001b[39m\n"
     ]
    },
    {
     "name": "stderr",
     "output_type": "stream",
     "text": [
      "\u001b[32m  ✓ \u001b[39m\u001b[90mPacking\u001b[39m\n"
     ]
    },
    {
     "name": "stderr",
     "output_type": "stream",
     "text": [
      "\u001b[32m  ✓ \u001b[39m\u001b[90mShaderAbstractions\u001b[39m\n"
     ]
    },
    {
     "name": "stderr",
     "output_type": "stream",
     "text": [
      "\u001b[32m  ✓ \u001b[39m\u001b[90mMeshIO\u001b[39m\n"
     ]
    },
    {
     "name": "stderr",
     "output_type": "stream",
     "text": [
      "\u001b[32m  ✓ \u001b[39m\u001b[90mFreeTypeAbstraction\u001b[39m\n"
     ]
    },
    {
     "name": "stderr",
     "output_type": "stream",
     "text": [
      "\u001b[32m  ✓ \u001b[39m\u001b[90mGridLayoutBase\u001b[39m\n"
     ]
    },
    {
     "name": "stderr",
     "output_type": "stream",
     "text": [
      "\u001b[32m  ✓ \u001b[39m\u001b[90mPlots → GeometryBasicsExt\u001b[39m\n"
     ]
    },
    {
     "name": "stderr",
     "output_type": "stream",
     "text": [
      "\u001b[32m  ✓ \u001b[39m\u001b[90mMathTeXEngine\u001b[39m\n"
     ]
    },
    {
     "name": "stderr",
     "output_type": "stream",
     "text": [
      "\u001b[32m  ✓ \u001b[39m\u001b[90mImageCore\u001b[39m\n"
     ]
    },
    {
     "name": "stderr",
     "output_type": "stream",
     "text": [
      "\u001b[32m  ✓ \u001b[39m\u001b[90mJpegTurbo\u001b[39m\n"
     ]
    },
    {
     "name": "stderr",
     "output_type": "stream",
     "text": [
      "\u001b[32m  ✓ \u001b[39m\u001b[90mSixel\u001b[39m\n"
     ]
    },
    {
     "name": "stderr",
     "output_type": "stream",
     "text": [
      "\u001b[32m  ✓ \u001b[39m\u001b[90mImageBase\u001b[39m\n"
     ]
    },
    {
     "name": "stderr",
     "output_type": "stream",
     "text": [
      "\u001b[32m  ✓ \u001b[39m\u001b[90mPNGFiles\u001b[39m\n"
     ]
    },
    {
     "name": "stderr",
     "output_type": "stream",
     "text": [
      "\u001b[32m  ✓ \u001b[39m\u001b[90mImageAxes\u001b[39m\n"
     ]
    },
    {
     "name": "stderr",
     "output_type": "stream",
     "text": [
      "\u001b[32m  ✓ \u001b[39m\u001b[90mTiffImages\u001b[39m\n"
     ]
    },
    {
     "name": "stderr",
     "output_type": "stream",
     "text": [
      "\u001b[32m  ✓ \u001b[39m\u001b[90mImageMetadata\u001b[39m\n"
     ]
    },
    {
     "name": "stderr",
     "output_type": "stream",
     "text": [
      "\u001b[32m  ✓ \u001b[39m\u001b[90mNetpbm\u001b[39m\n"
     ]
    },
    {
     "name": "stderr",
     "output_type": "stream",
     "text": [
      "\u001b[32m  ✓ \u001b[39m\u001b[90mImageIO\u001b[39m\n"
     ]
    },
    {
     "name": "stderr",
     "output_type": "stream",
     "text": [
      "\u001b[32m  ✓ \u001b[39m\u001b[90mMakie\u001b[39m\n"
     ]
    },
    {
     "name": "stderr",
     "output_type": "stream",
     "text": [
      "\u001b[32m  ✓ \u001b[39m\u001b[90mBrillouin → BrillouinMakieExt\u001b[39m\n"
     ]
    },
    {
     "name": "stderr",
     "output_type": "stream",
     "text": [
      "\u001b[32m  ✓ \u001b[39mGLMakie\n",
      "  54 dependencies successfully precompiled in 127 seconds. 506 already precompiled.\n"
     ]
    }
   ],
   "source": [
    "Pkg.add(\"GLMakie\")"
   ]
  },
  {
   "cell_type": "code",
   "execution_count": 17,
   "metadata": {},
   "outputs": [],
   "source": [
    "using GLMakie"
   ]
  },
  {
   "attachments": {},
   "cell_type": "markdown",
   "metadata": {},
   "source": [
    "### Let's visualize!"
   ]
  },
  {
   "cell_type": "code",
   "execution_count": 34,
   "metadata": {},
   "outputs": [
    {
     "data": {
      "text/plain": [
       "\"../Simulations/atom_lennard_jones_100K.mp4\""
      ]
     },
     "metadata": {},
     "output_type": "display_data"
    }
   ],
   "source": [
    "visualize(sys.loggers.coords, boundary, \"../Simulations/atom_lennard_jones_100K.mp4\")"
   ]
  },
  {
   "attachments": {},
   "cell_type": "markdown",
   "metadata": {},
   "source": [
    "# Let us try at higher temperatures"
   ]
  },
  {
   "cell_type": "code",
   "execution_count": 35,
   "metadata": {},
   "outputs": [
    {
     "data": {
      "text/plain": [
       "300.0 K"
      ]
     },
     "metadata": {},
     "output_type": "display_data"
    }
   ],
   "source": [
    "temp = 300.0u\"K\""
   ]
  },
  {
   "cell_type": "code",
   "execution_count": 36,
   "metadata": {},
   "outputs": [
    {
     "data": {
      "text/plain": [
       "100-element Vector{SVector{3, Quantity{Float64, 𝐋 𝐓⁻¹, Unitful.FreeUnits{(nm, ps⁻¹), 𝐋 𝐓⁻¹, nothing}}}}:\n",
       " [-0.14328605260088761 nm ps⁻¹, -0.07045134810953785 nm ps⁻¹, 0.4091662187351717 nm ps⁻¹]\n",
       " [0.1782244712767378 nm ps⁻¹, -0.7252720860244865 nm ps⁻¹, 0.22431500689105519 nm ps⁻¹]\n",
       " [0.17631209215601484 nm ps⁻¹, 0.3011964751790961 nm ps⁻¹, 0.6987030585153833 nm ps⁻¹]\n",
       " [-0.041286270892538224 nm ps⁻¹, -0.06508478938228514 nm ps⁻¹, -0.2577835348409147 nm ps⁻¹]\n",
       " [-0.38763799845269375 nm ps⁻¹, -0.10980507077175464 nm ps⁻¹, -0.3551253524542351 nm ps⁻¹]\n",
       " [0.4368265161487977 nm ps⁻¹, -0.4921899220780395 nm ps⁻¹, -0.44367839957525346 nm ps⁻¹]\n",
       " [-0.7208722571392884 nm ps⁻¹, 0.6520105514380281 nm ps⁻¹, -0.1636119403174176 nm ps⁻¹]\n",
       " [-0.5267778173872996 nm ps⁻¹, -0.981256020335572 nm ps⁻¹, -0.7874035223687714 nm ps⁻¹]\n",
       " [-0.49994658133307895 nm ps⁻¹, 0.8869242008090592 nm ps⁻¹, -0.6728867300898289 nm ps⁻¹]\n",
       " [-0.5731850679250744 nm ps⁻¹, -0.6552102909362094 nm ps⁻¹, -0.43518474881725705 nm ps⁻¹]\n",
       " ⋮\n",
       " [-1.098541231122894 nm ps⁻¹, 0.5354818716199358 nm ps⁻¹, -0.576798413700484 nm ps⁻¹]\n",
       " [-0.915673489924005 nm ps⁻¹, -0.14875589715330265 nm ps⁻¹, -0.786313623355082 nm ps⁻¹]\n",
       " [0.4551087591753463 nm ps⁻¹, 0.22740401850927652 nm ps⁻¹, -0.1380291561493814 nm ps⁻¹]\n",
       " [0.08919140540014239 nm ps⁻¹, 0.3635052525526314 nm ps⁻¹, 0.5777847975996175 nm ps⁻¹]\n",
       " [0.03938520042891582 nm ps⁻¹, -0.5813975892254255 nm ps⁻¹, -0.8967015649218099 nm ps⁻¹]\n",
       " [-0.4342051185837314 nm ps⁻¹, 0.5118282969036076 nm ps⁻¹, 0.21535575244991612 nm ps⁻¹]\n",
       " [-0.5432672873697355 nm ps⁻¹, -1.3331060109902084 nm ps⁻¹, 0.6193266033874651 nm ps⁻¹]\n",
       " [0.7878157052854167 nm ps⁻¹, -0.3665325093319823 nm ps⁻¹, -0.97854234562641 nm ps⁻¹]\n",
       " [-0.9366253695043234 nm ps⁻¹, 0.34645845005011516 nm ps⁻¹, -0.4711839903769291 nm ps⁻¹]"
      ]
     },
     "metadata": {},
     "output_type": "display_data"
    }
   ],
   "source": [
    "velocities = [random_velocity(atom_mass, temp) for i in 1:n_atoms]"
   ]
  },
  {
   "cell_type": "code",
   "execution_count": 37,
   "metadata": {},
   "outputs": [
    {
     "data": {
      "text/plain": [
       "VelocityVerlet{Quantity{Float64, 𝐓, Unitful.FreeUnits{(ps,), 𝐓, nothing}}, AndersenThermostat{Quantity{Float64, 𝚯, Unitful.FreeUnits{(K,), 𝚯, nothing}}, Quantity{Float64, 𝐓, Unitful.FreeUnits{(ps,), 𝐓, nothing}}}}(0.002 ps, AndersenThermostat{Quantity{Float64, 𝚯, Unitful.FreeUnits{(K,), 𝚯, nothing}}, Quantity{Float64, 𝐓, Unitful.FreeUnits{(ps,), 𝐓, nothing}}}(300.0 K, 1.0 ps), 1)"
      ]
     },
     "metadata": {},
     "output_type": "display_data"
    }
   ],
   "source": [
    "simulator = VelocityVerlet(\n",
    "    dt=0.002u\"ps\",\n",
    "    coupling=AndersenThermostat(temp, 1.0u\"ps\"),\n",
    ")"
   ]
  },
  {
   "cell_type": "code",
   "execution_count": 40,
   "metadata": {},
   "outputs": [
    {
     "data": {
      "text/plain": [
       "System with 100 atoms, boundary CubicBoundary{Quantity{Float64, 𝐋, Unitful.FreeUnits{(nm,), 𝐋, nothing}}}(Quantity{Float64, 𝐋, Unitful.FreeUnits{(nm,), 𝐋, nothing}}[2.0 nm, 2.0 nm, 2.0 nm])"
      ]
     },
     "metadata": {},
     "output_type": "display_data"
    }
   ],
   "source": [
    "simulate!(sys, simulator, 2_000)"
   ]
  },
  {
   "cell_type": "code",
   "execution_count": 41,
   "metadata": {},
   "outputs": [
    {
     "data": {
      "text/plain": [
       "\"../Simulations/atom_lennard_jones_150K.mp4\""
      ]
     },
     "metadata": {},
     "output_type": "display_data"
    }
   ],
   "source": [
    "visualize(sys.loggers.coords, boundary, \"../Simulations/atom_lennard_jones_150K.mp4\")"
   ]
  },
  {
   "cell_type": "code",
   "execution_count": null,
   "metadata": {},
   "outputs": [],
   "source": []
  },
  {
   "attachments": {},
   "cell_type": "markdown",
   "metadata": {},
   "source": [
    "## Simulating a diatomic system"
   ]
  },
  {
   "cell_type": "code",
   "execution_count": null,
   "metadata": {},
   "outputs": [],
   "source": [
    "coords = place_atoms(n_atoms ÷ 2, boundary; min_dist=0.3u\"nm\")\n",
    "for i in 1:length(coords)\n",
    "    push!(coords, coords[i] .+ [0.1, 0.0, 0.0]u\"nm\")\n",
    "end\n",
    "\n",
    "velocities = [velocity(atom_mass, temp) for i in 1:n_atoms]\n",
    "#### Now we can use the built-in interaction list and bond types to place harmonic bonds between paired atoms.\n",
    "bonds = InteractionList2Atoms(\n",
    "    collect(1:(n_atoms ÷ 2)),           # First atom indices\n",
    "    collect((1 + n_atoms ÷ 2):n_atoms), # Second atom indices\n",
    "    repeat([\"\"], n_atoms ÷ 2),          # Bond types\n",
    "    [HarmonicBond(k=300_000.0u\"kJ * mol^-1 * nm^-2\", r0=0.1u\"nm\") for i in 1:(n_atoms ÷ 2)],\n",
    ")\n",
    "\n",
    "specific_inter_lists = (bonds,)\n",
    "##### This time, we are also going to use a neighbor list to speed up the Lennard Jones calculation. We can use the built-in ```DistanceNeighborFinder```. The arguments are a 2D array of eligible interacting pairs, the number of steps between each update and the distance cutoff to be classed as a neighbor. Since the neighbor finder is run every 10 steps we should also use a cutoff for the interaction with a cutoff distance less than the neighbor list distance.\n",
    "# All pairs apart from bonded pairs are eligible for non-bonded interactions\n",
    "nb_matrix = trues(n_atoms, n_atoms)\n",
    "for i in 1:(n_atoms ÷ 2)\n",
    "    nb_matrix[i, i + (n_atoms ÷ 2)] = false\n",
    "    nb_matrix[i + (n_atoms ÷ 2), i] = false\n",
    "end\n",
    "\n",
    "neighbor_finder = DistanceNeighborFinder(\n",
    "    nb_matrix=nb_matrix,\n",
    "    n_steps=10,\n",
    "    dist_cutoff=1.5u\"nm\",\n",
    ")\n",
    "\n",
    "pairwise_inters = (LennardJones(nl_only=true, cutoff=DistanceCutoff(1.2u\"nm\")),)\n",
    "sys = System(\n",
    "    atoms=atoms,\n",
    "    pairwise_inters=pairwise_inters,\n",
    "    specific_inter_lists=specific_inter_lists,\n",
    "    coords=coords,\n",
    "    velocities=velocities,\n",
    "    boundary=boundary,\n",
    "    neighbor_finder=neighbor_finder,\n",
    "    loggers=(\n",
    "        temp=TemperatureLogger(10),\n",
    "        coords=CoordinateLogger(10),\n",
    "    ),\n",
    ")\n",
    "\n",
    "simulator = VelocityVerlet(\n",
    "    dt=0.002u\"ps\",\n",
    "    coupling=AndersenThermostat(temp, 1.0u\"ps\"),\n",
    ")\n",
    "simulate!(sys, simulator, 1_000)\n",
    "#### This time when we view the trajectory we can add lines to show the bonds.\n",
    "visualize(\n",
    "    sys.loggers.coords,\n",
    "    boundary,\n",
    "    \"sim_diatomic.mp4\";\n",
    "    connections=[(i, i + (n_atoms ÷ 2)) for i in 1:(n_atoms ÷ 2)],\n",
    ")"
   ]
  }
 ],
 "metadata": {
  "kernelspec": {
   "display_name": "Julia 1.9.0",
   "language": "julia",
   "name": "julia-1.9"
  },
  "language_info": {
   "file_extension": ".jl",
   "mimetype": "application/julia",
   "name": "julia",
   "version": "1.9.0"
  },
  "orig_nbformat": 4
 },
 "nbformat": 4,
 "nbformat_minor": 2
}
