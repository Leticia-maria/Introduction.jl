{
 "cells": [
  {
   "cell_type": "markdown",
   "metadata": {},
   "source": [
    "# **Julia** workshop"
   ]
  },
  {
   "cell_type": "markdown",
   "metadata": {},
   "source": [
    "![](JuliaLogo.jpeg)"
   ]
  },
  {
   "cell_type": "markdown",
   "metadata": {},
   "source": [
    "# Level of this workshop: **Beginner**\n",
    "\n",
    "### __(You are all welcome to work together and learn)__"
   ]
  },
  {
   "cell_type": "markdown",
   "metadata": {},
   "source": [
    "> ## In this workshop, you will see:\n",
    "\n",
    "- ### a brief background of Julia Language\n",
    "- ### what are the advantages implemented in Julia\n",
    "- ### some applications in chemistry\n",
    "- ### some applications in machine learning\n",
    "- ### a brief and fun hands-on\n",
    "- ### how the julia community works"
   ]
  },
  {
   "cell_type": "markdown",
   "metadata": {},
   "source": [
    "### The objective of this workshop is **not** to make you an expert in Julia, but to inspire you starting applying julia in your projects, studies or research!"
   ]
  },
  {
   "cell_type": "markdown",
   "metadata": {},
   "source": [
    "![](JuliaHistory.png)"
   ]
  },
  {
   "cell_type": "markdown",
   "metadata": {},
   "source": [
    "### Julia language is a compiled programming language released in 2012!"
   ]
  },
  {
   "cell_type": "markdown",
   "metadata": {},
   "source": [
    "### **Curious fact** \n",
    "\n",
    "#### Why the programming language is called Julia?"
   ]
  },
  {
   "cell_type": "markdown",
   "metadata": {},
   "source": [
    "![](JuliaGroup.png)"
   ]
  },
  {
   "cell_type": "markdown",
   "metadata": {},
   "source": [
    "[Julia Repository](https://github.com/JuliaLang/julia)"
   ]
  },
  {
   "cell_type": "markdown",
   "metadata": {},
   "source": [
    "#### Some good points about Julia"
   ]
  },
  {
   "cell_type": "markdown",
   "metadata": {},
   "source": [
    "![](Paper.png)"
   ]
  },
  {
   "cell_type": "markdown",
   "metadata": {},
   "source": [
    "- ### Speed \n",
    "(why is it important for chemistry ?)"
   ]
  },
  {
   "cell_type": "markdown",
   "metadata": {},
   "source": [
    "#### **Extra topic**: run a benchmarking (Python vs. Julia)"
   ]
  },
  {
   "cell_type": "markdown",
   "metadata": {},
   "source": [
    "#### Runnning a for loop in python"
   ]
  },
  {
   "cell_type": "markdown",
   "metadata": {},
   "source": [
    "```python\n",
    "import numpy as np\n",
    "import timeit\n",
    "np.random.seed(0)\n",
    "values = np.random.randint(1, 100, size=1000000)\n",
    "def getReciprocal(values):\n",
    "    output = np.empty(len(values))\n",
    "    \n",
    "    for i in range(len(values)):\n",
    "        output[i] = 1.0/values[i]\n",
    "\n",
    "duration = timeit.repeat(\n",
    "    \"getReciprocal(values)\", - \n",
    "    \"from __main__ import getReciprocal, values\",\n",
    "    number=1,\n",
    "    repeat=7\n",
    ")\n",
    "\n",
    "print(duration)\n",
    "1.73 s +- 16.5 ms per loop\n",
    "```"
   ]
  },
  {
   "cell_type": "markdown",
   "metadata": {},
   "source": [
    "### Now, the same loop in Julia:"
   ]
  },
  {
   "cell_type": "markdown",
   "metadata": {},
   "source": [
    "```julia\n",
    "function getReciprocal2(values)\n",
    "    output = Vector{Float64}(undef, length(values))\n",
    "    \n",
    "    for i in eachindex(values)\n",
    "        @inbounds output[i] = 1.0 / values[1]\n",
    "    end\n",
    "    \n",
    "    return output\n",
    "end\n",
    "\n",
    "@btime getReciprocal2(values)\n",
    "\n",
    "--------------\n",
    "minimum time:    1.099 microseconds (0.00% GC)\n",
    "--------------\n",
    "```"
   ]
  },
  {
   "cell_type": "markdown",
   "metadata": {},
   "source": [
    "#### Julia **can be** 1 million times FASTER than Python!"
   ]
  },
  {
   "cell_type": "markdown",
   "metadata": {},
   "source": [
    "```julia\n",
    "import Pkg\n",
    "Pkg.add(\"BenchmarkTools\")\n",
    "using BenchmarkTools\n",
    "using Random\n",
    "using LinearAlgebra\n",
    "Random.seed!(0)\n",
    "values =  rand(1:100, 1, 1000000)\n",
    "function getReciprocal(values)\n",
    "    output = zeros(1, 1000000)\n",
    "    for i in 1:length(values)\n",
    "        output[i] = 1.0/values[i]\n",
    "    end\n",
    "end\n",
    "\n",
    "@btime getReciprocal(values)\n",
    "\n",
    "--------------\n",
    "minimum time:     1.931 ms (0.00% GC)\n",
    "--------------\n",
    "```"
   ]
  },
  {
   "cell_type": "markdown",
   "metadata": {},
   "source": [
    "#### Speed can become important when you are trying to solve many body problem in Physics and Chemistry."
   ]
  },
  {
   "cell_type": "markdown",
   "metadata": {},
   "source": [
    "[QuantumFoca package](https://github.com/Leticia-maria/QuantumFoca.jl)"
   ]
  },
  {
   "cell_type": "markdown",
   "metadata": {},
   "source": [
    "- ### Syntax"
   ]
  },
  {
   "cell_type": "markdown",
   "metadata": {},
   "source": [
    "#### high level syntax >> faster to code and learn"
   ]
  },
  {
   "cell_type": "markdown",
   "metadata": {},
   "source": [
    "### **Purposeful**: \n",
    "- #### numerical programming\n",
    "- #### scientific programming\n",
    "- #### machine learning"
   ]
  },
  {
   "cell_type": "markdown",
   "metadata": {},
   "source": [
    "### **the two language problem**"
   ]
  },
  {
   "cell_type": "markdown",
   "metadata": {},
   "source": [
    "### Now, let's get started!"
   ]
  },
  {
   "cell_type": "markdown",
   "metadata": {},
   "source": [
    "##### 1.2. **Print** method "
   ]
  },
  {
   "cell_type": "code",
   "execution_count": 2,
   "metadata": {},
   "outputs": [
    {
     "name": "stdout",
     "output_type": "stream",
     "text": [
      "Julia is a fast language!"
     ]
    }
   ],
   "source": [
    "print(\"Julia is a fast language!\")"
   ]
  },
  {
   "cell_type": "markdown",
   "metadata": {},
   "source": [
    "### Now it is your **turn to practice**!"
   ]
  },
  {
   "cell_type": "markdown",
   "metadata": {},
   "source": [
    "**Activity 1** : Print your own name."
   ]
  },
  {
   "cell_type": "code",
   "execution_count": 3,
   "metadata": {},
   "outputs": [
    {
     "name": "stdout",
     "output_type": "stream",
     "text": [
      "Leticia Maria Pequeno Madureira"
     ]
    }
   ],
   "source": [
    "print(\"Leticia Maria Pequeno Madureira\")"
   ]
  },
  {
   "cell_type": "markdown",
   "metadata": {},
   "source": [
    "**Activity 2** : Make the computer spell your name with a ```for``` loop."
   ]
  },
  {
   "cell_type": "code",
   "execution_count": 9,
   "metadata": {},
   "outputs": [
    {
     "data": {
      "text/plain": [
       "String"
      ]
     },
     "metadata": {},
     "output_type": "display_data"
    }
   ],
   "source": [
    "name = \"Leticia\"\n",
    "typeof(name)"
   ]
  },
  {
   "cell_type": "markdown",
   "metadata": {},
   "source": [
    "- ### Multiple dispatch"
   ]
  },
  {
   "cell_type": "code",
   "execution_count": 14,
   "metadata": {},
   "outputs": [
    {
     "data": {
      "text/plain": [
       "Int64"
      ]
     },
     "metadata": {},
     "output_type": "display_data"
    }
   ],
   "source": [
    "integer_number = 2\n",
    "typeof(integer_number)"
   ]
  },
  {
   "cell_type": "code",
   "execution_count": 15,
   "metadata": {},
   "outputs": [
    {
     "data": {
      "text/plain": [
       "Float64"
      ]
     },
     "metadata": {},
     "output_type": "display_data"
    }
   ],
   "source": [
    "decimal_number = 2.5\n",
    "typeof(decimal_number)"
   ]
  },
  {
   "cell_type": "code",
   "execution_count": 17,
   "metadata": {},
   "outputs": [
    {
     "data": {
      "text/plain": [
       "number_test (generic function with 1 method)"
      ]
     },
     "metadata": {},
     "output_type": "display_data"
    }
   ],
   "source": [
    "function number_test(N::Int64)\n",
    "    print(N)\n",
    "end"
   ]
  },
  {
   "cell_type": "code",
   "execution_count": 18,
   "metadata": {},
   "outputs": [
    {
     "name": "stdout",
     "output_type": "stream",
     "text": [
      "5"
     ]
    }
   ],
   "source": [
    "number_test(5)"
   ]
  },
  {
   "cell_type": "code",
   "execution_count": 19,
   "metadata": {},
   "outputs": [
    {
     "ename": "MethodError",
     "evalue": "MethodError: no method matching number_test(::Float64)\nClosest candidates are:\n  number_test(!Matched::Int64) at ~/RIIA_workshop/HandsOn.ipynb:1",
     "output_type": "error",
     "traceback": [
      "MethodError: no method matching number_test(::Float64)\n",
      "Closest candidates are:\n",
      "  number_test(!Matched::Int64) at ~/RIIA_workshop/HandsOn.ipynb:1\n",
      "\n",
      "Stacktrace:\n",
      " [1] top-level scope\n",
      "   @ ~/RIIA_workshop/HandsOn.ipynb:1"
     ]
    }
   ],
   "source": [
    "number_test(2.5)"
   ]
  },
  {
   "cell_type": "markdown",
   "metadata": {},
   "source": [
    "> There is support for ```Int16```, ```Int32```, ```Int64```. (The difference is the uage of bits to allocate it). In the data structures in julia, all these types are subtypes of ```Integer```."
   ]
  },
  {
   "cell_type": "code",
   "execution_count": 20,
   "metadata": {},
   "outputs": [
    {
     "data": {
      "text/plain": [
       "true"
      ]
     },
     "metadata": {},
     "output_type": "display_data"
    }
   ],
   "source": [
    "Int32 <: Integer"
   ]
  },
  {
   "cell_type": "code",
   "execution_count": null,
   "metadata": {},
   "outputs": [],
   "source": [
    "function number_test(N::T) where T <: Integer\n",
    "    print(N)\n",
    "end"
   ]
  },
  {
   "cell_type": "markdown",
   "metadata": {},
   "source": [
    "> For example, let's think about one example that is more reasonable: a ```Molecule``` is a subtype of ```ChemicalSystem```, right? So, let us build it in Julia!"
   ]
  },
  {
   "cell_type": "code",
   "execution_count": null,
   "metadata": {},
   "outputs": [],
   "source": [
    "abstract type ChemicalSystem end ### this is a supertype."
   ]
  },
  {
   "cell_type": "code",
   "execution_count": null,
   "metadata": {},
   "outputs": [],
   "source": [
    "struct Molecule <: ChemicalSystem end ## a class in python"
   ]
  },
  {
   "cell_type": "code",
   "execution_count": 21,
   "metadata": {},
   "outputs": [
    {
     "data": {
      "text/plain": [
       "number_test (generic function with 2 methods)"
      ]
     },
     "metadata": {},
     "output_type": "display_data"
    }
   ],
   "source": [
    "function number_test(N::Float64)\n",
    "    print(N)\n",
    "end"
   ]
  },
  {
   "cell_type": "code",
   "execution_count": 22,
   "metadata": {},
   "outputs": [
    {
     "name": "stdout",
     "output_type": "stream",
     "text": [
      "5.2"
     ]
    }
   ],
   "source": [
    "number_test(5.2)"
   ]
  },
  {
   "cell_type": "markdown",
   "metadata": {},
   "source": [
    "### **Practice** an example on REPL! >> Let's do it together!"
   ]
  },
  {
   "cell_type": "markdown",
   "metadata": {},
   "source": [
    "- print ```integer``` if Int; \n",
    "- print ```float``` if Float."
   ]
  },
  {
   "cell_type": "code",
   "execution_count": 30,
   "metadata": {},
   "outputs": [
    {
     "data": {
      "text/plain": [
       "true"
      ]
     },
     "metadata": {},
     "output_type": "display_data"
    }
   ],
   "source": [
    "Float32 <: Number"
   ]
  },
  {
   "cell_type": "code",
   "execution_count": 31,
   "metadata": {},
   "outputs": [
    {
     "name": "stdout",
     "output_type": "stream",
     "text": [
      "It is a float!"
     ]
    }
   ],
   "source": [
    "function practice_1(N::V) where V <: Number \n",
    "    if typeof(N) <: Integer\n",
    "        print(\"It is an integer number!\")\n",
    "    else\n",
    "        print(\"It is a float!\")\n",
    "    end\n",
    "end\n",
    "\n",
    "practice_1(2.5)\n"
   ]
  },
  {
   "cell_type": "code",
   "execution_count": 28,
   "metadata": {},
   "outputs": [
    {
     "name": "stdout",
     "output_type": "stream",
     "text": [
      "It is a string"
     ]
    }
   ],
   "source": [
    "function practice_2(N::Int64)\n",
    "    print(\"It is an integer\")\n",
    "end\n",
    "\n",
    "function practice_2(N::Float64)\n",
    "    print(\"It is a float\")\n",
    "end\n",
    "\n",
    "function practice_2(N::String)\n",
    "    print(\"It is a string\")\n",
    "end\n",
    "\n",
    "practice_2(\"4\")"
   ]
  },
  {
   "cell_type": "code",
   "execution_count": null,
   "metadata": {},
   "outputs": [],
   "source": []
  },
  {
   "cell_type": "markdown",
   "metadata": {},
   "source": [
    "### **Math** notation"
   ]
  },
  {
   "cell_type": "code",
   "execution_count": null,
   "metadata": {},
   "outputs": [],
   "source": [
    "f(x) = x+2 ## this is an expression"
   ]
  },
  {
   "cell_type": "code",
   "execution_count": null,
   "metadata": {},
   "outputs": [],
   "source": [
    "f(2)"
   ]
  },
  {
   "cell_type": "markdown",
   "metadata": {},
   "source": [
    "> Julia also support UNICODES! (what is so fun!)"
   ]
  },
  {
   "cell_type": "code",
   "execution_count": 32,
   "metadata": {},
   "outputs": [
    {
     "data": {
      "text/plain": [
       "f (generic function with 1 method)"
      ]
     },
     "metadata": {},
     "output_type": "display_data"
    }
   ],
   "source": [
    "f(θ) = α + β"
   ]
  },
  {
   "cell_type": "markdown",
   "metadata": {},
   "source": [
    "## 2. How to use libraries in Julia"
   ]
  },
  {
   "cell_type": "markdown",
   "metadata": {},
   "source": [
    "#### Use **Pkg** manager"
   ]
  },
  {
   "cell_type": "code",
   "execution_count": 33,
   "metadata": {},
   "outputs": [],
   "source": [
    "using Pkg"
   ]
  },
  {
   "cell_type": "code",
   "execution_count": 35,
   "metadata": {},
   "outputs": [
    {
     "name": "stderr",
     "output_type": "stream",
     "text": [
      "\u001b[32m\u001b[1m   Resolving\u001b[22m\u001b[39m package versions...\n"
     ]
    },
    {
     "name": "stderr",
     "output_type": "stream",
     "text": [
      "\u001b[32m\u001b[1m  No Changes\u001b[22m\u001b[39m to `~/.julia/environments/v1.8/Project.toml`\n",
      "\u001b[32m\u001b[1m  No Changes\u001b[22m\u001b[39m to `~/.julia/environments/v1.8/Manifest.toml`\n"
     ]
    }
   ],
   "source": [
    "Pkg.add(\"LinearAlgebra\")"
   ]
  },
  {
   "cell_type": "code",
   "execution_count": null,
   "metadata": {},
   "outputs": [],
   "source": [
    "using LinearAlgebra"
   ]
  },
  {
   "cell_type": "markdown",
   "metadata": {},
   "source": [
    "##### **Extra topic**: Let's learn how to use Pkg on **REPL (Read-Eval-Print Loop)**"
   ]
  },
  {
   "cell_type": "code",
   "execution_count": 34,
   "metadata": {},
   "outputs": [
    {
     "name": "stderr",
     "output_type": "stream",
     "text": [
      "\u001b[32m\u001b[1m    Updating\u001b[22m\u001b[39m registry at `~/.julia/registries/General.toml`\n"
     ]
    },
    {
     "name": "stderr",
     "output_type": "stream",
     "text": [
      "\u001b[32m\u001b[1m   Resolving\u001b[22m\u001b[39m package versions...\n"
     ]
    },
    {
     "name": "stderr",
     "output_type": "stream",
     "text": [
      "\u001b[32m\u001b[1m  No Changes\u001b[22m\u001b[39m to `~/.julia/environments/v1.8/Project.toml`\n",
      "\u001b[32m\u001b[1m  No Changes\u001b[22m\u001b[39m to `~/.julia/environments/v1.8/Manifest.toml`\n"
     ]
    }
   ],
   "source": [
    "Pkg.add(\"Molly\")"
   ]
  },
  {
   "cell_type": "markdown",
   "metadata": {},
   "source": [
    "## Applications in Chemistry/Materials Science/Physics"
   ]
  },
  {
   "cell_type": "markdown",
   "metadata": {},
   "source": [
    "### Our **first simulation**"
   ]
  },
  {
   "cell_type": "markdown",
   "metadata": {},
   "source": [
    "#### Fluid acting under a Lennard-Jones potential\n",
    "\n",
    "> Lennard-Jones is the potential that defines the interactions between the atoms"
   ]
  },
  {
   "cell_type": "code",
   "execution_count": 36,
   "metadata": {},
   "outputs": [],
   "source": [
    "using Molly"
   ]
  },
  {
   "cell_type": "markdown",
   "metadata": {},
   "source": [
    "#### Let's define the number of particles and their masses."
   ]
  },
  {
   "cell_type": "code",
   "execution_count": 37,
   "metadata": {},
   "outputs": [
    {
     "data": {
      "text/plain": [
       "100-element Vector{Atom{Float64, Quantity{Float64, 𝐌, Unitful.FreeUnits{(u,), 𝐌, nothing}}, Quantity{Float64, 𝐋, Unitful.FreeUnits{(nm,), 𝐋, nothing}}, Quantity{Float64, 𝐋² 𝐌 𝐍⁻¹ 𝐓⁻², Unitful.FreeUnits{(kJ, mol⁻¹), 𝐋² 𝐌 𝐍⁻¹ 𝐓⁻², nothing}}}}:\n",
       " Atom with index 1, charge=0.0, mass=10.0 u, σ=0.3 nm, ϵ=0.2 kJ mol⁻¹\n",
       " Atom with index 1, charge=0.0, mass=10.0 u, σ=0.3 nm, ϵ=0.2 kJ mol⁻¹\n",
       " Atom with index 1, charge=0.0, mass=10.0 u, σ=0.3 nm, ϵ=0.2 kJ mol⁻¹\n",
       " Atom with index 1, charge=0.0, mass=10.0 u, σ=0.3 nm, ϵ=0.2 kJ mol⁻¹\n",
       " Atom with index 1, charge=0.0, mass=10.0 u, σ=0.3 nm, ϵ=0.2 kJ mol⁻¹\n",
       " Atom with index 1, charge=0.0, mass=10.0 u, σ=0.3 nm, ϵ=0.2 kJ mol⁻¹\n",
       " Atom with index 1, charge=0.0, mass=10.0 u, σ=0.3 nm, ϵ=0.2 kJ mol⁻¹\n",
       " Atom with index 1, charge=0.0, mass=10.0 u, σ=0.3 nm, ϵ=0.2 kJ mol⁻¹\n",
       " Atom with index 1, charge=0.0, mass=10.0 u, σ=0.3 nm, ϵ=0.2 kJ mol⁻¹\n",
       " Atom with index 1, charge=0.0, mass=10.0 u, σ=0.3 nm, ϵ=0.2 kJ mol⁻¹\n",
       " ⋮\n",
       " Atom with index 1, charge=0.0, mass=10.0 u, σ=0.3 nm, ϵ=0.2 kJ mol⁻¹\n",
       " Atom with index 1, charge=0.0, mass=10.0 u, σ=0.3 nm, ϵ=0.2 kJ mol⁻¹\n",
       " Atom with index 1, charge=0.0, mass=10.0 u, σ=0.3 nm, ϵ=0.2 kJ mol⁻¹\n",
       " Atom with index 1, charge=0.0, mass=10.0 u, σ=0.3 nm, ϵ=0.2 kJ mol⁻¹\n",
       " Atom with index 1, charge=0.0, mass=10.0 u, σ=0.3 nm, ϵ=0.2 kJ mol⁻¹\n",
       " Atom with index 1, charge=0.0, mass=10.0 u, σ=0.3 nm, ϵ=0.2 kJ mol⁻¹\n",
       " Atom with index 1, charge=0.0, mass=10.0 u, σ=0.3 nm, ϵ=0.2 kJ mol⁻¹\n",
       " Atom with index 1, charge=0.0, mass=10.0 u, σ=0.3 nm, ϵ=0.2 kJ mol⁻¹\n",
       " Atom with index 1, charge=0.0, mass=10.0 u, σ=0.3 nm, ϵ=0.2 kJ mol⁻¹"
      ]
     },
     "metadata": {},
     "output_type": "display_data"
    }
   ],
   "source": [
    "n_atoms = 100\n",
    "atom_mass = 10.0u\"u\"\n",
    "atoms = [Atom(mass=atom_mass, σ=0.3u\"nm\", ϵ=0.2u\"kJ * mol^-1\") for i in 1:n_atoms]"
   ]
  },
  {
   "cell_type": "markdown",
   "metadata": {},
   "source": [
    "Our simulation will run in a cubic box (defined by the ```CubicBoundary```). You can also use a ```TriclinicBoundary```. Simulations in 2 dimensions should use a ```RectangularBoundary```."
   ]
  },
  {
   "cell_type": "code",
   "execution_count": null,
   "metadata": {},
   "outputs": [],
   "source": [
    "# CubicBoundary() ## this is a type/struct/class in Julia"
   ]
  },
  {
   "cell_type": "code",
   "execution_count": 47,
   "metadata": {},
   "outputs": [
    {
     "ename": "BoundsError",
     "evalue": "BoundsError",
     "output_type": "error",
     "traceback": [
      "BoundsError\n",
      "\n",
      "Stacktrace:\n",
      " [1] getindex\n",
      "   @ ./number.jl:98 [inlined]\n",
      " [2] TriclinicBoundary(bv::SVector{3, Quantity{Float64, 𝐋, Unitful.FreeUnits{(nm,), 𝐋, nothing}}}; approx_images::Bool)\n",
      "   @ Molly ~/.julia/packages/Molly/PMLnv/src/spatial.jl:92\n",
      " [3] TriclinicBoundary(bv::SVector{3, Quantity{Float64, 𝐋, Unitful.FreeUnits{(nm,), 𝐋, nothing}}})\n",
      "   @ Molly ~/.julia/packages/Molly/PMLnv/src/spatial.jl:91\n",
      " [4] TriclinicBoundary(v1::Quantity{Float64, 𝐋, Unitful.FreeUnits{(nm,), 𝐋, nothing}}, v2::Quantity{Float64, 𝐋, Unitful.FreeUnits{(nm,), 𝐋, nothing}}, v3::Quantity{Float64, 𝐋, Unitful.FreeUnits{(nm,), 𝐋, nothing}}; kwargs::Base.Pairs{Symbol, Union{}, Tuple{}, NamedTuple{(), Tuple{}}})\n",
      "   @ Molly ~/.julia/packages/Molly/PMLnv/src/spatial.jl:144\n",
      " [5] TriclinicBoundary(v1::Quantity{Float64, 𝐋, Unitful.FreeUnits{(nm,), 𝐋, nothing}}, v2::Quantity{Float64, 𝐋, Unitful.FreeUnits{(nm,), 𝐋, nothing}}, v3::Quantity{Float64, 𝐋, Unitful.FreeUnits{(nm,), 𝐋, nothing}})\n",
      "   @ Molly ~/.julia/packages/Molly/PMLnv/src/spatial.jl:144\n",
      " [6] top-level scope\n",
      "   @ ~/RIIA_workshop/HandsOn.ipynb:1"
     ]
    }
   ],
   "source": [
    "boundary = TriclinicBoundary(2.0u\"nm\", 2.0u\"nm\", 2.0u\"nm\") # Periodic boundary conditions\n"
   ]
  },
  {
   "cell_type": "markdown",
   "metadata": {},
   "source": [
    "##### Now we can define our pairwise interactions, i.e. those between most or all atom pairs. Because we have defined the relevant parameters for the atoms, we can use the built-in Lennard-Jones type."
   ]
  },
  {
   "cell_type": "code",
   "execution_count": 39,
   "metadata": {},
   "outputs": [
    {
     "data": {
      "text/plain": [
       "(LennardJones{false, NoCutoff, Int64, Int64, Unitful.FreeUnits{(kJ, nm⁻¹, mol⁻¹), 𝐋 𝐌 𝐍⁻¹ 𝐓⁻², nothing}, Unitful.FreeUnits{(kJ, mol⁻¹), 𝐋² 𝐌 𝐍⁻¹ 𝐓⁻², nothing}}(NoCutoff(), false, true, 1, 1, kJ nm⁻¹ mol⁻¹, kJ mol⁻¹),)"
      ]
     },
     "metadata": {},
     "output_type": "display_data"
    }
   ],
   "source": [
    "pairwise_inters = (LennardJones(),) # Don't forget the trailing comma!"
   ]
  },
  {
   "cell_type": "markdown",
   "metadata": {},
   "source": [
    "##### Finally, we can define the system and run the simulation. We use an Andersen thermostat to keep a constant temperature, and we log the temperature and coordinates every 10 steps. Periodic boundary conditions are automatically used with the cubic box we defined earlier."
   ]
  },
  {
   "cell_type": "code",
   "execution_count": 40,
   "metadata": {},
   "outputs": [
    {
     "data": {
      "text/plain": [
       "System with 100 atoms, boundary CubicBoundary{Quantity{Float64, 𝐋, Unitful.FreeUnits{(nm,), 𝐋, nothing}}}(Quantity{Float64, 𝐋, Unitful.FreeUnits{(nm,), 𝐋, nothing}}[2.0 nm, 2.0 nm, 2.0 nm])"
      ]
     },
     "metadata": {},
     "output_type": "display_data"
    }
   ],
   "source": [
    "sys = System(\n",
    "    atoms=atoms,\n",
    "    pairwise_inters=pairwise_inters,\n",
    "    coords=coords,\n",
    "    velocities=velocities,\n",
    "    boundary=boundary,\n",
    "    loggers=(\n",
    "        temp=TemperatureLogger(10),\n",
    "        coords=CoordinateLogger(10),\n",
    "    ),\n",
    ")\n",
    "\n",
    "simulator = VelocityVerlet(\n",
    "    dt=0.002u\"ps\",\n",
    "    coupling=AndersenThermostat(temp, 1.0u\"ps\"),\n",
    ")\n",
    "\n",
    "simulate!(sys, simulator, 1_000)"
   ]
  },
  {
   "cell_type": "markdown",
   "metadata": {},
   "source": [
    "##### Do not forget to install the package with ```Pkg.add(\"GLMakie\")``` "
   ]
  },
  {
   "cell_type": "code",
   "execution_count": null,
   "metadata": {},
   "outputs": [],
   "source": [
    "using GLMakie\n",
    "visualize(sys.loggers.coords, boundary, \"sim_lj.mp4\")"
   ]
  },
  {
   "cell_type": "markdown",
   "metadata": {},
   "source": [
    "### Molly also supports GPU acceleration"
   ]
  },
  {
   "cell_type": "markdown",
   "metadata": {},
   "source": [
    "#### Do not forget to install the packages using ```Pkg.install(\"CUDA\")```"
   ]
  },
  {
   "cell_type": "code",
   "execution_count": 50,
   "metadata": {},
   "outputs": [],
   "source": [
    "using CUDA"
   ]
  },
  {
   "cell_type": "code",
   "execution_count": 52,
   "metadata": {},
   "outputs": [
    {
     "ename": "ErrorException",
     "evalue": "Could not find the CUDA driver library. Please make sure you have installed the NVIDIA driver for your GPU.\nIf you're sure it's installed, look for `libcuda.so` in your system and make sure it's discoverable by the linker.\nTypically, that involves an entry in '/etc/ld.so.conf', or setting LD_LIBRARY_PATH.",
     "output_type": "error",
     "traceback": [
      "Could not find the CUDA driver library. Please make sure you have installed the NVIDIA driver for your GPU.\n",
      "If you're sure it's installed, look for `libcuda.so` in your system and make sure it's discoverable by the linker.\n",
      "Typically, that involves an entry in '/etc/ld.so.conf', or setting LD_LIBRARY_PATH.\n",
      "\n",
      "Stacktrace:\n",
      "  [1] libcuda()\n",
      "    @ CUDA ~/.julia/packages/CUDA/DfvRa/lib/cudadrv/CUDAdrv.jl:153\n",
      "  [2] macro expansion\n",
      "    @ ~/.julia/packages/CUDA/DfvRa/lib/cudadrv/libcuda.jl:29 [inlined]\n",
      "  [3] macro expansion\n",
      "    @ ~/.julia/packages/CUDA/DfvRa/lib/cudadrv/error.jl:95 [inlined]\n",
      "  [4] cuDeviceGet\n",
      "    @ ~/.julia/packages/CUDA/DfvRa/lib/utils/call.jl:26 [inlined]\n",
      "  [5] CuDevice\n",
      "    @ ~/.julia/packages/CUDA/DfvRa/lib/cudadrv/devices.jl:17 [inlined]\n",
      "  [6] CUDA.TaskLocalState()\n",
      "    @ CUDA ~/.julia/packages/CUDA/DfvRa/lib/cudadrv/state.jl:50\n",
      "  [7] task_local_state!()\n",
      "    @ CUDA ~/.julia/packages/CUDA/DfvRa/lib/cudadrv/state.jl:73\n",
      "  [8] active_state\n",
      "    @ ~/.julia/packages/CUDA/DfvRa/lib/cudadrv/state.jl:106 [inlined]\n",
      "  [9] #_alloc#170\n",
      "    @ ~/.julia/packages/CUDA/DfvRa/src/pool.jl:309 [inlined]\n",
      " [10] #alloc#169\n",
      "    @ ~/.julia/packages/CUDA/DfvRa/src/pool.jl:299 [inlined]\n",
      " [11] alloc\n",
      "    @ ~/.julia/packages/CUDA/DfvRa/src/pool.jl:293 [inlined]\n",
      " [12] CuArray\n",
      "    @ ~/.julia/packages/CUDA/DfvRa/src/array.jl:42 [inlined]\n",
      " [13] CuArray\n",
      "    @ ~/.julia/packages/CUDA/DfvRa/src/array.jl:291 [inlined]\n",
      " [14] CuArray\n",
      "    @ ~/.julia/packages/CUDA/DfvRa/src/array.jl:296 [inlined]\n",
      " [15] CuArray(A::Vector{Atom{Float64, Quantity{Float32, 𝐌, Unitful.FreeUnits{(u,), 𝐌, nothing}}, Quantity{Float32, 𝐋, Unitful.FreeUnits{(nm,), 𝐋, nothing}}, Quantity{Float32, 𝐋² 𝐌 𝐍⁻¹ 𝐓⁻², Unitful.FreeUnits{(kJ, mol⁻¹), 𝐋² 𝐌 𝐍⁻¹ 𝐓⁻², nothing}}}})\n",
      "    @ CUDA ~/.julia/packages/CUDA/DfvRa/src/array.jl:305\n",
      " [16] top-level scope\n",
      "    @ ~/RIIA_workshop/HandsOn.ipynb:5"
     ]
    }
   ],
   "source": [
    "n_atoms = 100\n",
    "atom_mass = 10.0f0u\"u\"\n",
    "boundary = CubicBoundary(2.0f0u\"nm\", 2.0f0u\"nm\", 2.0f0u\"nm\")\n",
    "temp = 100.0f0u\"K\"\n",
    "atoms = CuArray([Atom(mass=atom_mass, σ=0.3f0u\"nm\", ϵ=0.2f0u\"kJ * mol^-1\") for i in 1:n_atoms])\n",
    "coords = CuArray(place_atoms(n_atoms, boundary; min_dist=0.3u\"nm\"))\n",
    "velocities = CuArray([velocity(atom_mass, temp) for i in 1:n_atoms])\n",
    "simulator = VelocityVerlet(dt=0.002f0u\"ps\")\n",
    "\n",
    "sys = System(\n",
    "    atoms=atoms,\n",
    "    pairwise_inters=(LennardJones(),),\n",
    "    coords=coords,\n",
    "    velocities=velocities,\n",
    "    boundary=boundary,\n",
    "    loggers=(\n",
    "        temp=TemperatureLogger(typeof(1.0f0u\"K\"), 10),\n",
    "        coords=CoordinateLogger(typeof(1.0f0u\"nm\"), 10),\n",
    "    ),\n",
    ")\n",
    "\n",
    "simulate!(sys, simulator, 1_000)"
   ]
  },
  {
   "cell_type": "markdown",
   "metadata": {},
   "source": [
    "### Let us simulate a diatomic molecule"
   ]
  },
  {
   "cell_type": "markdown",
   "metadata": {},
   "source": [
    "##### If we want to define specific interactions between atoms, for example bonds, we can do this as well. Using the same definitions as the first example, let's set up the coordinates so that paired atoms are 1 Å apart."
   ]
  },
  {
   "cell_type": "code",
   "execution_count": null,
   "metadata": {},
   "outputs": [],
   "source": [
    "## 100 atoms\n",
    "## cubic\n",
    "coords = place_atoms(n_atoms ÷ 2, boundary; min_dist=0.3u\"nm\")\n",
    "for i in 1:length(coords)\n",
    "    push!(coords, coords[i] .+ [0.1, 0.0, 0.0]u\"nm\")\n",
    "end\n",
    "\n",
    "velocities = [velocity(atom_mass, temp) for i in 1:n_atoms]"
   ]
  },
  {
   "cell_type": "markdown",
   "metadata": {},
   "source": [
    "#### Now we can use the built-in interaction list and bond types to place harmonic bonds between paired atoms."
   ]
  },
  {
   "cell_type": "code",
   "execution_count": null,
   "metadata": {},
   "outputs": [],
   "source": [
    "bonds = InteractionList2Atoms(\n",
    "    collect(1:(n_atoms ÷ 2)),           # First atom indices\n",
    "    collect((1 + n_atoms ÷ 2):n_atoms), # Second atom indices\n",
    "    repeat([\"\"], n_atoms ÷ 2),          # Bond types\n",
    "    [HarmonicBond(k=300_000.0u\"kJ * mol^-1 * nm^-2\", r0=0.1u\"nm\") for i in 1:(n_atoms ÷ 2)],\n",
    ")\n",
    "\n",
    "specific_inter_lists = (bonds,)"
   ]
  },
  {
   "cell_type": "markdown",
   "metadata": {},
   "source": [
    "##### This time, we are also going to use a neighbor list to speed up the Lennard Jones calculation. We can use the built-in ```DistanceNeighborFinder```. The arguments are a 2D array of eligible interacting pairs, the number of steps between each update and the distance cutoff to be classed as a neighbor. Since the neighbor finder is run every 10 steps we should also use a cutoff for the interaction with a cutoff distance less than the neighbor list distance."
   ]
  },
  {
   "cell_type": "code",
   "execution_count": null,
   "metadata": {},
   "outputs": [],
   "source": [
    "# All pairs apart from bonded pairs are eligible for non-bonded interactions\n",
    "nb_matrix = trues(n_atoms, n_atoms)\n",
    "for i in 1:(n_atoms ÷ 2)\n",
    "    nb_matrix[i, i + (n_atoms ÷ 2)] = false\n",
    "    nb_matrix[i + (n_atoms ÷ 2), i] = false\n",
    "end\n",
    "\n",
    "neighbor_finder = DistanceNeighborFinder(\n",
    "    nb_matrix=nb_matrix,\n",
    "    n_steps=10,\n",
    "    dist_cutoff=1.5u\"nm\",\n",
    ")\n",
    "\n",
    "pairwise_inters = (LennardJones(nl_only=true, cutoff=DistanceCutoff(1.2u\"nm\")),)"
   ]
  },
  {
   "cell_type": "code",
   "execution_count": null,
   "metadata": {},
   "outputs": [],
   "source": [
    "sys = System(\n",
    "    atoms=atoms,\n",
    "    pairwise_inters=pairwise_inters,\n",
    "    specific_inter_lists=specific_inter_lists,\n",
    "    coords=coords,\n",
    "    velocities=velocities,\n",
    "    boundary=boundary,\n",
    "    neighbor_finder=neighbor_finder,\n",
    "    loggers=(\n",
    "        temp=TemperatureLogger(10),\n",
    "        coords=CoordinateLogger(10),\n",
    "    ),\n",
    ")\n",
    "\n",
    "simulator = VelocityVerlet(\n",
    "    dt=0.002u\"ps\",\n",
    "    coupling=AndersenThermostat(temp, 1.0u\"ps\"),\n",
    ")\n",
    "simulate!(sys, simulator, 1_000)"
   ]
  },
  {
   "cell_type": "markdown",
   "metadata": {},
   "source": [
    "#### This time when we view the trajectory we can add lines to show the bonds."
   ]
  },
  {
   "cell_type": "code",
   "execution_count": null,
   "metadata": {},
   "outputs": [],
   "source": [
    "visualize(\n",
    "    sys.loggers.coords,\n",
    "    boundary,\n",
    "    \"sim_diatomic.mp4\";\n",
    "    connections=[(i, i + (n_atoms ÷ 2)) for i in 1:(n_atoms ÷ 2)],\n",
    ")"
   ]
  },
  {
   "cell_type": "markdown",
   "metadata": {},
   "source": [
    "### Simulating the **protein**"
   ]
  },
  {
   "cell_type": "code",
   "execution_count": null,
   "metadata": {},
   "outputs": [],
   "source": [
    "using Molly"
   ]
  },
  {
   "cell_type": "markdown",
   "metadata": {},
   "source": [
    "### This is from the standard folder of Molly library."
   ]
  },
  {
   "cell_type": "code",
   "execution_count": null,
   "metadata": {},
   "outputs": [],
   "source": [
    "data_dir = joinpath(dirname(\"/Users/leticiamadureira/.julia/packages/Molly/\"), \"PMLnv\", \"data\")"
   ]
  },
  {
   "cell_type": "markdown",
   "metadata": {},
   "source": [
    "#### First, we need to read in a force field in ```OpenMM XML format``` and read in a coordinate file in a format supported by ```Chemfiles.jl```."
   ]
  },
  {
   "cell_type": "markdown",
   "metadata": {},
   "source": [
    "#### Myelom protein"
   ]
  },
  {
   "cell_type": "code",
   "execution_count": null,
   "metadata": {},
   "outputs": [],
   "source": [
    "ff = OpenMMForceField(\n",
    "    joinpath(data_dir, \"force_fields\", \"ff99SBildn.xml\"),\n",
    "    joinpath(data_dir, \"force_fields\", \"tip3p_standard.xml\"),\n",
    "    joinpath(data_dir, \"force_fields\", \"his.xml\"),\n",
    ")"
   ]
  },
  {
   "cell_type": "markdown",
   "metadata": {},
   "source": [
    "#### This sets up a system in the same data structures as above and that is simulated in the same way. Here we carry out an energy minimization, simulate with a ```Langevin integrator``` and use a ```StructureWriter``` to write the trajectory as a PDB file."
   ]
  },
  {
   "cell_type": "code",
   "execution_count": null,
   "metadata": {},
   "outputs": [],
   "source": [
    "sys = System(\n",
    "    joinpath(data_dir, \"6mrr_equil.pdb\"),\n",
    "    ff;\n",
    "    loggers=(\n",
    "        energy=TotalEnergyLogger(10),\n",
    "        writer=StructureWriter(10, \"traj_6mrr_1ps.pdb\", [\"HOH\"]),\n",
    "    ),\n",
    ")\n",
    "\n",
    "minimizer = SteepestDescentMinimizer()\n",
    "simulate!(sys, minimizer)\n",
    "\n",
    "random_velocities!(sys, 298.0u\"K\")\n",
    "simulator = Langevin(\n",
    "    dt=0.001u\"ps\",\n",
    "    temperature=300.0u\"K\",\n",
    "    friction=1.0u\"ps^-1\",\n",
    ")\n",
    "\n",
    "simulate!(sys, simulator, 5_000; n_threads=Threads.nthreads())"
   ]
  },
  {
   "cell_type": "markdown",
   "metadata": {},
   "source": [
    "### Simulating gravity"
   ]
  },
  {
   "cell_type": "markdown",
   "metadata": {},
   "source": [
    "##### Molly is geared primarily to molecular simulation, but can also be used to simulate other physical systems. Let's set up a gravitational simulation. This example also shows the use of Float32, a 2D simulation and no specified units."
   ]
  },
  {
   "cell_type": "code",
   "execution_count": null,
   "metadata": {},
   "outputs": [],
   "source": [
    "atoms = [Atom(mass=1.0f0), Atom(mass=1.0f0)]\n",
    "coords = [SVector(0.3f0, 0.5f0), SVector(0.7f0, 0.5f0)]\n",
    "velocities = [SVector(0.0f0, 1.0f0), SVector(0.0f0, -1.0f0)]\n",
    "pairwise_inters = (Gravity(nl_only=false, G=1.5f0),)\n",
    "simulator = VelocityVerlet(dt=0.002f0)\n",
    "boundary = RectangularBoundary(1.0f0, 1.0f0)\n",
    "\n",
    "sys = System(\n",
    "    atoms=atoms,\n",
    "    pairwise_inters=pairwise_inters,\n",
    "    coords=coords,\n",
    "    velocities=velocities,\n",
    "    boundary=boundary,\n",
    "    loggers=(coords=CoordinateLogger(Float32, 10; dims=2),),\n",
    "    force_units=NoUnits,\n",
    "    energy_units=NoUnits,\n",
    ")\n",
    "\n",
    "simulate!(sys, simulator, 2_000)"
   ]
  },
  {
   "cell_type": "code",
   "execution_count": null,
   "metadata": {},
   "outputs": [],
   "source": [
    "visualize(\n",
    "    sys.loggers.coords,\n",
    "    boundary,\n",
    "    \"sim_gravity.mp4\";\n",
    "    trails=4,\n",
    "    framerate=15,\n",
    "    color=[:orange, :lightgreen],\n",
    ")"
   ]
  },
  {
   "cell_type": "markdown",
   "metadata": {},
   "source": [
    "### A **fun topic**: simulating the solar system"
   ]
  },
  {
   "cell_type": "code",
   "execution_count": null,
   "metadata": {},
   "outputs": [],
   "source": [
    "using GLMakie\n",
    "using Molly\n",
    "\n",
    "# Using get_body_barycentric_posvel from Astropy\n",
    "coords = [\n",
    "    SVector(-1336052.8665050615,  294465.0896030796 ,  158690.88781384667)u\"km\",\n",
    "    SVector(-58249418.70233503 , -26940630.286818042, -8491250.752464907 )u\"km\",\n",
    "    SVector( 58624128.321813114, -81162437.2641475  , -40287143.05760552 )u\"km\",\n",
    "    SVector(-99397467.7302648  , -105119583.06486066, -45537506.29775053 )u\"km\",\n",
    "    SVector( 131714235.34070954, -144249196.60814604, -69730238.5084304  )u\"km\",\n",
    "]\n",
    "\n",
    "velocities = [\n",
    "    SVector(-303.86327859262457, -1229.6540090943934, -513.791218405548  )u\"km * d^-1\",\n",
    "    SVector( 1012486.9596885007, -3134222.279236384 , -1779128.5093088674)u\"km * d^-1\",\n",
    "    SVector( 2504563.6403826815,  1567163.5923297722,  546718.234192132  )u\"km * d^-1\",\n",
    "    SVector( 1915792.9709661514, -1542400.0057833872, -668579.962254351  )u\"km * d^-1\",\n",
    "    SVector( 1690083.43357355  ,  1393597.7855017239,  593655.0037930267 )u\"km * d^-1\",\n",
    "]\n",
    "\n",
    "body_masses = [\n",
    "    1.989e30u\"kg\",\n",
    "    0.330e24u\"kg\",\n",
    "    4.87e24u\"kg\" ,\n",
    "    5.97e24u\"kg\" ,\n",
    "    0.642e24u\"kg\",\n",
    "]\n",
    "\n",
    "boundary = CubicBoundary(1e9u\"km\", 1e9u\"km\", 1e9u\"km\")\n",
    "\n",
    "# Convert the gravitational constant to the appropriate units\n",
    "inter = Gravity(G=convert(typeof(1.0u\"km^3 * kg^-1 * d^-2\"), Unitful.G))\n",
    "\n",
    "sys = System(\n",
    "    atoms=[Atom(mass=m) for m in body_masses],\n",
    "    pairwise_inters=(inter,),\n",
    "    coords=coords .+ (SVector(5e8, 5e8, 5e8)u\"km\",),\n",
    "    velocities=velocities,\n",
    "    boundary=boundary,\n",
    "    loggers=(coords=CoordinateLogger(typeof(1.0u\"km\"), 10),),\n",
    "    force_units=u\"kg * km * d^-2\",\n",
    "    energy_units=u\"kg * km^2 * d^-2\",\n",
    ")\n",
    "\n",
    "simulator = Verlet(\n",
    "    dt=0.1u\"d\",\n",
    "    remove_CM_motion=false,\n",
    ")\n",
    "\n",
    "simulate!(sys, simulator, 3650) # 1 year\n",
    "\n",
    "visualize(\n",
    "    sys.loggers.coords,\n",
    "    boundary,\n",
    "    \"sim_planets.mp4\";\n",
    "    trails=5,\n",
    "    color=[:yellow, :grey, :orange, :blue, :red],\n",
    "    markersize=[0.25, 0.08, 0.08, 0.08, 0.08],\n",
    "    transparency=false,\n",
    ")\n"
   ]
  },
  {
   "cell_type": "markdown",
   "metadata": {},
   "source": [
    "### Julia for Machine Learning"
   ]
  },
  {
   "cell_type": "markdown",
   "metadata": {},
   "source": [
    "- Recommending packages"
   ]
  },
  {
   "cell_type": "markdown",
   "metadata": {},
   "source": [
    "![](FluxLogo.png)"
   ]
  },
  {
   "cell_type": "markdown",
   "metadata": {},
   "source": [
    "- Showing tutorials"
   ]
  },
  {
   "cell_type": "markdown",
   "metadata": {},
   "source": [
    "[Machine Learning with Julia Language](https://youtu.be/FLAjNjcwDpI)"
   ]
  },
  {
   "cell_type": "markdown",
   "metadata": {},
   "source": [
    "### Building your first model"
   ]
  },
  {
   "cell_type": "markdown",
   "metadata": {},
   "source": [
    "#### This is a simple linear regression model that attempts to recover a linear function by looking at noisy examples."
   ]
  },
  {
   "cell_type": "markdown",
   "metadata": {},
   "source": [
    "#### Do not forget to install Flux using ```Pkg.install(\"Flux\")```"
   ]
  },
  {
   "cell_type": "markdown",
   "metadata": {},
   "source": [
    "##### First, we’ll write a function that generates our “true” data. We’ll use to use Flux to recover W_truth and b_truth by looking only at examples of the ground_truth function."
   ]
  },
  {
   "cell_type": "code",
   "execution_count": null,
   "metadata": {},
   "outputs": [],
   "source": [
    "using Flux\n",
    "\n",
    "# Define the ground truth model. We aim to recover W_truth and b_truth using\n",
    "# only examples of ground_truth()\n",
    "W_truth = [1 2 3 4 5;\n",
    "            5 4 3 2 1]\n",
    "b_truth = [-1.0; -2.0]\n",
    "ground_truth(x) = W_truth*x .+ b_truth"
   ]
  },
  {
   "cell_type": "markdown",
   "metadata": {},
   "source": [
    "#### Next, we generate our training data by passing random vectors into the ground truth function. We’ll also add Gaussian noise using randn() so that it’s not too easy for Flux to figure out the model."
   ]
  },
  {
   "cell_type": "code",
   "execution_count": null,
   "metadata": {},
   "outputs": [],
   "source": [
    "x_train = [ 5 .* rand(5) for _ in 1:10_000 ]\n",
    "y_train = [ ground_truth(x) + 0.2 .* randn(2) for x in x_train ]"
   ]
  },
  {
   "cell_type": "markdown",
   "metadata": {},
   "source": [
    "#### There are two important things to note in this example which differ from real machine learning problems:\n",
    " - ### Our variables are individual vectors, stored inside another vector. Usually, we would have a collection of N-dimensional arrays (N >= 2) as our data.\n",
    " - ### In a real learning scenario, we would not have access to our ground truth, only the training examples."
   ]
  },
  {
   "cell_type": "markdown",
   "metadata": {},
   "source": [
    "#### Next, we define the model we want to use to learn the data. We’ll use the same form that we used for our training data:"
   ]
  },
  {
   "cell_type": "code",
   "execution_count": null,
   "metadata": {},
   "outputs": [],
   "source": [
    "model(x) = W*x .+ b"
   ]
  },
  {
   "cell_type": "markdown",
   "metadata": {},
   "source": [
    "#### We need to set the parameters of the model (W and b) to some initial values. It’s fairly common to use random values, so we’ll do that:"
   ]
  },
  {
   "cell_type": "code",
   "execution_count": null,
   "metadata": {},
   "outputs": [],
   "source": [
    "W = rand(2, 5)\n",
    "b = rand(2)"
   ]
  },
  {
   "cell_type": "markdown",
   "metadata": {},
   "source": [
    "#### A loss function evaluates a machine learning model’s performance. In other words, it measures how far the model is from its target prediction. Flux lets you define your own custom loss function, or you can use one of the Loss Functions that Flux provides.\n",
    "\n",
    "#### For this example, we’ll define a loss function that measures the squared distance from the predicted output to the actual output:"
   ]
  },
  {
   "cell_type": "code",
   "execution_count": null,
   "metadata": {},
   "outputs": [],
   "source": [
    "function loss(x, y)\n",
    "    ŷ = model(x)\n",
    "    sum((y .- ŷ).^2)\n",
    "  end"
   ]
  },
  {
   "cell_type": "markdown",
   "metadata": {},
   "source": [
    "#### You train a machine learning model by running an optimization algorithm (optimiser) that finds the best parameters (W and b). The best parameters for a model are the ones that achieve the best score of the loss function. Flux provides Optimisers that you can use to train a model.\n",
    "\n",
    "#### For this tutorial, we’ll use a classic gradient descent optimiser with learning rate η = 0.01:"
   ]
  },
  {
   "cell_type": "code",
   "execution_count": null,
   "metadata": {},
   "outputs": [],
   "source": [
    "opt = Descent(0.01)"
   ]
  },
  {
   "cell_type": "markdown",
   "metadata": {},
   "source": [
    "#### Training a model is the process of computing the gradients with respect to the parameters for each input in the data. At every step, the optimiser updates all of the parameters until it finds a good value for them. This process can be written as a loop: we iterate over the examples in x_train and y_train and update the model for each example.\n",
    "\n",
    "#### To indicate that we want all derivatives of W and b, we write ps = Flux.params(W, b). This is a convenience function that Flux provides so that we don’t have to explicitly list every gradient we want. Check out the section on Taking Gradients if you want to learn more about how this works.\n",
    "\n",
    "#### We can now execute the training procedure for our model:"
   ]
  },
  {
   "cell_type": "code",
   "execution_count": null,
   "metadata": {},
   "outputs": [],
   "source": [
    "train_data = zip(x_train, y_train)\n",
    "ps = Flux.params(W, b)\n",
    "\n",
    "for (x,y) in train_data\n",
    "  gs = Flux.gradient(ps) do\n",
    "    loss(x,y)\n",
    "  end\n",
    "  Flux.Optimise.update!(opt, ps, gs)\n",
    "end"
   ]
  },
  {
   "cell_type": "markdown",
   "metadata": {},
   "source": [
    "#### Instead of writing your own loop, you can use the built-in method on Flux:"
   ]
  },
  {
   "cell_type": "code",
   "execution_count": null,
   "metadata": {},
   "outputs": [],
   "source": [
    "Flux.train!(loss, Flux.params(W, b), train_data, opt)"
   ]
  },
  {
   "cell_type": "markdown",
   "metadata": {},
   "source": [
    "#### The training loop we ran modified W and b to be closer to the values used to generate the training data (W and b). We can see how well we did by printing out the difference between the learned and actual matrices."
   ]
  },
  {
   "cell_type": "code",
   "execution_count": null,
   "metadata": {},
   "outputs": [],
   "source": [
    "@show W\n",
    "@show maximum(abs, W .- W_truth)"
   ]
  },
  {
   "cell_type": "markdown",
   "metadata": {},
   "source": [
    "#### Because the data and initialization are random, your results may vary slightly, but in most cases, the largest difference between the elements of learned and actual W matrix is no more than 4%."
   ]
  },
  {
   "cell_type": "markdown",
   "metadata": {},
   "source": [
    "### Conclusion: **Julia is a super powerful language**"
   ]
  }
 ],
 "metadata": {
  "kernelspec": {
   "display_name": "Julia 1.8.1",
   "language": "julia",
   "name": "julia-1.8"
  },
  "language_info": {
   "file_extension": ".jl",
   "mimetype": "application/julia",
   "name": "julia",
   "version": "1.8.1"
  },
  "orig_nbformat": 4
 },
 "nbformat": 4,
 "nbformat_minor": 2
}
