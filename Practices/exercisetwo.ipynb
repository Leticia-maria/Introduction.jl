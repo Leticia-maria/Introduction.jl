{
 "cells": [
  {
   "attachments": {},
   "cell_type": "markdown",
   "metadata": {},
   "source": [
    "### Problem: Consider the following chemical reaction:\n",
    "\n",
    "```mathematica\n",
    "A + B + 2C → 3D + 2E\n",
    "```\n",
    "Given the matrix M representing the stoichiometry of the reaction, where each column represents a chemical species and each row represents a reactant or product, we want to determine the stoichiometric coefficients."
   ]
  },
  {
   "cell_type": "code",
   "execution_count": 3,
   "metadata": {},
   "outputs": [
    {
     "name": "stdout",
     "output_type": "stream",
     "text": [
      "Stoichiometric coefficients:\n",
      "[-1.0 -0.0 -0.0; -0.0 -1.0 -0.0]\n"
     ]
    }
   ],
   "source": [
    "using LinearAlgebra\n",
    "\n",
    "# Define the stoichiometry matrix\n",
    "M = [ 1  1  2  0  0;\n",
    "     -3  0  0  3  0;\n",
    "      0 -2  0  0  2]\n",
    "\n",
    "# Split the matrix into reactants and products\n",
    "reactants = M[:, 1:end-2]\n",
    "products = M[:, end-1:end]\n",
    "\n",
    "# Solve for the stoichiometric coefficients using vectorization\n",
    "coefficients = products \\ reactants\n",
    "\n",
    "# Print the result\n",
    "println(\"Stoichiometric coefficients:\")\n",
    "println(coefficients)"
   ]
  },
  {
   "cell_type": "code",
   "execution_count": null,
   "metadata": {},
   "outputs": [],
   "source": []
  }
 ],
 "metadata": {
  "kernelspec": {
   "display_name": "Julia 1.9.0",
   "language": "julia",
   "name": "julia-1.9"
  },
  "language_info": {
   "file_extension": ".jl",
   "mimetype": "application/julia",
   "name": "julia",
   "version": "1.9.0"
  },
  "orig_nbformat": 4
 },
 "nbformat": 4,
 "nbformat_minor": 2
}
