{
 "cells": [
  {
   "attachments": {},
   "cell_type": "markdown",
   "metadata": {},
   "source": [
    "### Problem: Consider the following chemical reaction:\n",
    "\n",
    "```mathematica\n",
    "A + B + 2C → 3D + 2E\n",
    "```\n",
    "Given the matrix M representing the stoichiometry of the reaction, where each column represents a chemical species and each row represents a reactant or product, we want to determine the stoichiometric coefficients."
   ]
  },
  {
   "attachments": {},
   "cell_type": "markdown",
   "metadata": {},
   "source": [
    "```julia\n",
    "@reaction_network begin\n",
    "    c1, A + B + 2C → 3D + 2E\n",
    "end\n",
    "```\n",
    "\n",
    "> Define a function that takes a reaction network and returns the stoichiometric coefficients in a matrix.\n",
    "\n",
    "```julia\n",
    "M = [ 1  1  2  0  0;\n",
    "     -3  0  0  3  0;\n",
    "      0 -2  0  0  2]\n",
    "```\n"
   ]
  },
  {
   "cell_type": "code",
   "execution_count": 8,
   "metadata": {},
   "outputs": [],
   "source": [
    "using Catalyst"
   ]
  },
  {
   "cell_type": "code",
   "execution_count": 9,
   "metadata": {},
   "outputs": [
    {
     "data": {
      "text/latex": [
       "$$ \\begin{align*}\n",
       "\\mathrm{A} + \\mathrm{B} + 2 \\mathrm{C} &\\xrightarrow{c1} 3 \\mathrm{D} + 2 \\mathrm{E}  \n",
       " \\end{align*}\n",
       " $$"
      ],
      "text/plain": [
       "\u001b[0m\u001b[1mModel ##ReactionSystem#315\u001b[22m\n",
       "\u001b[0m\u001b[1mStates (5):\u001b[22m\n",
       "  A(t)\n",
       "  B(t)\n",
       "  C(t)\n",
       "  D(t)\n",
       "⋮\n",
       "\u001b[0m\u001b[1mParameters (1):\u001b[22m\n",
       "  c1"
      ]
     },
     "metadata": {},
     "output_type": "display_data"
    }
   ],
   "source": [
    "# First, create the reaction network\n",
    "rn = @reaction_network begin\n",
    "    c1, A + B + 2C --> 3D + 2E\n",
    "end"
   ]
  },
  {
   "cell_type": "code",
   "execution_count": 10,
   "metadata": {},
   "outputs": [
    {
     "name": "stdout",
     "output_type": "stream",
     "text": [
      "ReactionSystem{Catalyst.NetworkProperties{Int64, SymbolicUtils.BasicSymbolic{Real}}}(Union{Equation, Reaction}[c1, A + B + 2*C --> 3*D + 2*E], Reaction[c1, A + B + 2*C --> 3*D + 2*E], t, SymbolicUtils.BasicSymbolic{Real}[], SymbolicUtils.BasicSymbolic{Real}[A(t), B(t), C(t), D(t), E(t)], SymbolicUtils.BasicSymbolic{Real}[A(t), B(t), C(t), D(t), E(t)], SymbolicUtils.BasicSymbolic{Real}[c1], Dict{Symbol, Any}(:A => A(t), :D => D(t), :B => B(t), :E => E(t), :c1 => c1, :C => C(t)), Equation[], Symbol(\"##ReactionSystem#315\"), Any[], Dict{Any, Any}(), nothing, Conserved Equations: \n",
      "\n",
      ", true, ModelingToolkit.SymbolicContinuousCallback[ModelingToolkit.SymbolicContinuousCallback(Equation[], Equation[])], ModelingToolkit.SymbolicDiscreteCallback[], false)\n"
     ]
    }
   ],
   "source": [
    "println(rn)"
   ]
  },
  {
   "cell_type": "code",
   "execution_count": 11,
   "metadata": {},
   "outputs": [
    {
     "data": {
      "text/plain": [
       "SymbolicUtils.BasicSymbolic{Real}[A(t), B(t), C(t), D(t), E(t)][1:5]"
      ]
     },
     "metadata": {},
     "output_type": "display_data"
    }
   ],
   "source": [
    "rn.species"
   ]
  },
  {
   "cell_type": "code",
   "execution_count": 14,
   "metadata": {},
   "outputs": [
    {
     "data": {
      "text/plain": [
       "1-element Vector{Reaction}:\n",
       " c1, A + B + 2*C --> 3*D + 2*E"
      ]
     },
     "metadata": {},
     "output_type": "display_data"
    }
   ],
   "source": [
    "reactions(rn)"
   ]
  },
  {
   "cell_type": "code",
   "execution_count": 22,
   "metadata": {},
   "outputs": [
    {
     "ename": "UndefVarError",
     "evalue": "UndefVarError: `stoich` not defined",
     "output_type": "error",
     "traceback": [
      "UndefVarError: `stoich` not defined\n",
      "\n",
      "Stacktrace:\n",
      " [1] top-level scope\n",
      "   @ ~/Introduction.jl/Practices/exercisetwo.ipynb:1"
     ]
    }
   ],
   "source": [
    "stoich(rn)"
   ]
  },
  {
   "cell_type": "code",
   "execution_count": 18,
   "metadata": {},
   "outputs": [
    {
     "ename": "BoundsError",
     "evalue": "BoundsError: attempt to access Int64 at index [2]",
     "output_type": "error",
     "traceback": [
      "BoundsError: attempt to access Int64 at index [2]\n",
      "\n",
      "Stacktrace:\n",
      " [1] indexed_iterate(I::Int64, i::Int64, state::Nothing)\n",
      "   @ Base ./tuple.jl:97\n",
      " [2] extract_stoichiometry(rn::ReactionSystem{Catalyst.NetworkProperties{Int64, SymbolicUtils.BasicSymbolic{Real}}})\n",
      "   @ Main ~/Introduction.jl/Practices/exercisetwo.ipynb:9\n",
      " [3] top-level scope\n",
      "   @ ~/Introduction.jl/Practices/exercisetwo.ipynb:27"
     ]
    }
   ],
   "source": [
    "# Define a function to extract the stoichiometry\n",
    "function extract_stoichiometry(rn::ReactionSystem)\n",
    "    # Initialize stoichiometric matrix with zeros\n",
    "    M = zeros(Int, length(rn.species), length(reactions(rn)))\n",
    "\n",
    "    # Loop over each reaction\n",
    "    for (j, reaction) in enumerate(reactions(rn))\n",
    "        print\n",
    "        # Loop over each reactant\n",
    "        for (species, stoich) in reaction.substoich\n",
    "            # The index function gives the index of a species in the reaction system\n",
    "            println(species)\n",
    "            i = index(rn, species)\n",
    "            M[i, j] -= stoich  # Subtract for reactants\n",
    "        end\n",
    "\n",
    "        # Loop over each product\n",
    "        for (species, stoich) in reaction.prodstoich\n",
    "            i = index(rn, species)\n",
    "            M[i, j] += stoich  # Add for products\n",
    "        end\n",
    "    end\n",
    "\n",
    "    return M\n",
    "end\n",
    "\n",
    "# Test the function\n",
    "M = extract_stoichiometry(rn)\n",
    "println(M)"
   ]
  },
  {
   "cell_type": "code",
   "execution_count": null,
   "metadata": {},
   "outputs": [],
   "source": []
  },
  {
   "cell_type": "code",
   "execution_count": null,
   "metadata": {},
   "outputs": [],
   "source": []
  }
 ],
 "metadata": {
  "kernelspec": {
   "display_name": "Julia 1.9.0",
   "language": "julia",
   "name": "julia-1.9"
  },
  "language_info": {
   "file_extension": ".jl",
   "mimetype": "application/julia",
   "name": "julia",
   "version": "1.9.0"
  },
  "orig_nbformat": 4
 },
 "nbformat": 4,
 "nbformat_minor": 2
}
