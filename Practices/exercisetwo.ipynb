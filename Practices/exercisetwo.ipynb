{
 "cells": [
  {
   "attachments": {},
   "cell_type": "markdown",
   "metadata": {},
   "source": [
    "### Problem: Consider the following chemical reaction:\n",
    "\n",
    "```mathematica\n",
    "A + B + 2C → 3D + 2E\n",
    "```\n",
    "Given the matrix M representing the stoichiometry of the reaction, where each column represents a chemical species and each row represents a reactant or product, we want to determine the stoichiometric coefficients."
   ]
  },
  {
   "attachments": {},
   "cell_type": "markdown",
   "metadata": {},
   "source": [
    "```julia\n",
    "@reaction_network begin\n",
    "    c1, A + B + 2C → 3D + 2E\n",
    "end\n",
    "```\n",
    "\n",
    "> Define a function that takes a reaction network and returns the stoichiometric coefficients in a matrix.\n",
    "\n",
    "```julia\n",
    "M = [ 1  1  2  0  0;\n",
    "      0  0  0  3  2]\n",
    "```\n"
   ]
  },
  {
   "cell_type": "code",
   "execution_count": 39,
   "metadata": {},
   "outputs": [],
   "source": [
    "using Catalyst"
   ]
  },
  {
   "cell_type": "code",
   "execution_count": 40,
   "metadata": {},
   "outputs": [
    {
     "data": {
      "text/latex": [
       "$$ \\begin{align*}\n",
       "\\mathrm{A} + \\mathrm{B} + 2 \\mathrm{C} &\\xrightarrow{c1} 3 \\mathrm{D} + 2 \\mathrm{E}  \n",
       " \\end{align*}\n",
       " $$"
      ],
      "text/plain": [
       "\u001b[0m\u001b[1mModel ##ReactionSystem#303\u001b[22m\n",
       "\u001b[0m\u001b[1mStates (5):\u001b[22m\n",
       "  A(t)\n",
       "  B(t)\n",
       "  C(t)\n",
       "  D(t)\n",
       "⋮\n",
       "\u001b[0m\u001b[1mParameters (1):\u001b[22m\n",
       "  c1"
      ]
     },
     "metadata": {},
     "output_type": "display_data"
    }
   ],
   "source": [
    "# First, create the reaction network\n",
    "rn = @reaction_network begin\n",
    "    c1, A + B + 2C --> 3D + 2E\n",
    "end"
   ]
  },
  {
   "cell_type": "code",
   "execution_count": 46,
   "metadata": {},
   "outputs": [
    {
     "data": {
      "text/latex": [
       "$$ \\begin{align*}\n",
       "\\mathrm{A} + \\mathrm{B} + 2 \\mathrm{C} &\\xrightarrow{c1} 3 \\mathrm{D} + 2 \\mathrm{E} \\\\\n",
       "\\mathrm{E} + \\mathrm{F} &\\xrightarrow{c2} 2 \\mathrm{G}  \n",
       " \\end{align*}\n",
       " $$"
      ],
      "text/plain": [
       "\u001b[0m\u001b[1mModel ##ReactionSystem#309\u001b[22m\n",
       "\u001b[0m\u001b[1mStates (7):\u001b[22m\n",
       "  A(t)\n",
       "  B(t)\n",
       "  C(t)\n",
       "  D(t)\n",
       "⋮\n",
       "\u001b[0m\u001b[1mParameters (2):\u001b[22m\n",
       "  c1\n",
       "  c2"
      ]
     },
     "metadata": {},
     "output_type": "display_data"
    }
   ],
   "source": [
    "# First, create the reaction network\n",
    "rn_2 = @reaction_network begin\n",
    "    c1, A + B + 2C --> 3D + 2E\n",
    "    c2, E + F --> 2G\n",
    "end"
   ]
  },
  {
   "cell_type": "code",
   "execution_count": 49,
   "metadata": {},
   "outputs": [
    {
     "data": {
      "text/plain": [
       "c2, E + F --> 2*G"
      ]
     },
     "metadata": {},
     "output_type": "display_data"
    }
   ],
   "source": [
    "reactions(rn_2)[2]"
   ]
  },
  {
   "cell_type": "code",
   "execution_count": 41,
   "metadata": {},
   "outputs": [
    {
     "name": "stdout",
     "output_type": "stream",
     "text": [
      "ReactionSystem{Catalyst.NetworkProperties{Int64, SymbolicUtils.BasicSymbolic{Real}}}(Union{Equation, Reaction}[c1, A + B + 2*C --> 3*D + 2*E], Reaction[c1, A + B + 2*C --> 3*D + 2*E], t, SymbolicUtils.BasicSymbolic{Real}[], SymbolicUtils.BasicSymbolic{Real}[A(t), B(t), C(t), D(t), E(t)], SymbolicUtils.BasicSymbolic{Real}[A(t), B(t), C(t), D(t), E(t)], SymbolicUtils.BasicSymbolic{Real}[c1], Dict{Symbol, Any}(:A => A(t), :D => D(t), :B => B(t), :E => E(t), :c1 => c1, :C => C(t)), Equation[], Symbol(\"##ReactionSystem#303\"), Any[], Dict{Any, Any}(), nothing, Conserved Equations: \n",
      "\n",
      ", true, ModelingToolkit.SymbolicContinuousCallback[ModelingToolkit.SymbolicContinuousCallback(Equation[], Equation[])], ModelingToolkit.SymbolicDiscreteCallback[], false)\n"
     ]
    }
   ],
   "source": [
    "println(rn)"
   ]
  },
  {
   "cell_type": "code",
   "execution_count": 42,
   "metadata": {},
   "outputs": [
    {
     "data": {
      "text/plain": [
       "SymbolicUtils.BasicSymbolic{Real}[A(t), B(t), C(t), D(t), E(t)][1:5]"
      ]
     },
     "metadata": {},
     "output_type": "display_data"
    }
   ],
   "source": [
    "rn.species"
   ]
  },
  {
   "cell_type": "code",
   "execution_count": 43,
   "metadata": {},
   "outputs": [
    {
     "data": {
      "text/plain": [
       "(5,)"
      ]
     },
     "metadata": {},
     "output_type": "display_data"
    }
   ],
   "source": [
    "size(rn.species)"
   ]
  },
  {
   "cell_type": "code",
   "execution_count": 50,
   "metadata": {},
   "outputs": [
    {
     "data": {
      "text/plain": [
       "1-element Vector{Reaction}:\n",
       " c1, A + B + 2*C --> 3*D + 2*E"
      ]
     },
     "metadata": {},
     "output_type": "display_data"
    }
   ],
   "source": [
    "reactions(rn)"
   ]
  },
  {
   "cell_type": "code",
   "execution_count": 45,
   "metadata": {},
   "outputs": [
    {
     "data": {
      "text/plain": [
       "c1, A + B + 2*C --> 3*D + 2*E"
      ]
     },
     "metadata": {},
     "output_type": "display_data"
    }
   ],
   "source": [
    "rx = reactions(rn)[1]"
   ]
  },
  {
   "attachments": {},
   "cell_type": "markdown",
   "metadata": {},
   "source": [
    "### If you have more than 1 reaction, you can iterate over:\n",
    "```julia\n",
    "for rx in reactions(rn)\n",
    "    println(rx)\n",
    "end\n",
    "```"
   ]
  },
  {
   "cell_type": "code",
   "execution_count": 51,
   "metadata": {},
   "outputs": [
    {
     "name": "stdout",
     "output_type": "stream",
     "text": [
      "c1, A + B + 2*C --> 3*D + 2*E\n",
      "c2, E + F --> 2*G\n"
     ]
    }
   ],
   "source": [
    "for reaction in reactions(rn_2)\n",
    "    println(reaction)\n",
    "end"
   ]
  },
  {
   "cell_type": "code",
   "execution_count": 15,
   "metadata": {},
   "outputs": [
    {
     "data": {
      "text/plain": [
       "3-element Vector{SymbolicUtils.BasicSymbolic{Real}}:\n",
       " A(t)\n",
       " B(t)\n",
       " C(t)"
      ]
     },
     "metadata": {},
     "output_type": "display_data"
    }
   ],
   "source": [
    "rx.substrates"
   ]
  },
  {
   "cell_type": "code",
   "execution_count": 16,
   "metadata": {},
   "outputs": [
    {
     "data": {
      "text/plain": [
       "2-element Vector{SymbolicUtils.BasicSymbolic{Real}}:\n",
       " D(t)\n",
       " E(t)"
      ]
     },
     "metadata": {},
     "output_type": "display_data"
    }
   ],
   "source": [
    "rx.products"
   ]
  },
  {
   "cell_type": "code",
   "execution_count": 52,
   "metadata": {},
   "outputs": [
    {
     "data": {
      "text/plain": [
       "3"
      ]
     },
     "metadata": {},
     "output_type": "display_data"
    }
   ],
   "source": [
    "length(rx.substrates)"
   ]
  },
  {
   "cell_type": "code",
   "execution_count": 27,
   "metadata": {},
   "outputs": [
    {
     "data": {
      "text/plain": [
       "2×3 Matrix{Int64}:\n",
       " 0  0  0\n",
       " 0  0  0"
      ]
     },
     "metadata": {},
     "output_type": "display_data"
    }
   ],
   "source": [
    "reactant_matrix = zeros(Int, 2, length(rx.substrates))"
   ]
  },
  {
   "cell_type": "code",
   "execution_count": 35,
   "metadata": {},
   "outputs": [
    {
     "data": {
      "text/plain": [
       "2×2 Matrix{Int64}:\n",
       " 0  0\n",
       " 0  0"
      ]
     },
     "metadata": {},
     "output_type": "display_data"
    }
   ],
   "source": [
    "prod_matrix = zeros(Int64, 2, length(rx.products))"
   ]
  },
  {
   "cell_type": "code",
   "execution_count": 53,
   "metadata": {},
   "outputs": [
    {
     "data": {
      "text/plain": [
       "3-element Vector{Int64}:\n",
       " 1\n",
       " 1\n",
       " 2"
      ]
     },
     "metadata": {},
     "output_type": "display_data"
    }
   ],
   "source": [
    "rx.substoich"
   ]
  },
  {
   "cell_type": "code",
   "execution_count": 23,
   "metadata": {},
   "outputs": [
    {
     "data": {
      "text/plain": [
       "2-element Vector{Int64}:\n",
       " 3\n",
       " 2"
      ]
     },
     "metadata": {},
     "output_type": "display_data"
    }
   ],
   "source": [
    "rx.prodstoich"
   ]
  },
  {
   "cell_type": "code",
   "execution_count": 54,
   "metadata": {},
   "outputs": [
    {
     "name": "stdout",
     "output_type": "stream",
     "text": [
      "1\n",
      "2\n",
      "3\n"
     ]
    }
   ],
   "source": [
    "for i in eachindex(rx.substrates)\n",
    "    println(i)\n",
    "end"
   ]
  },
  {
   "cell_type": "code",
   "execution_count": 55,
   "metadata": {},
   "outputs": [],
   "source": [
    "for i in eachindex(rx.substrates)\n",
    "    reactant_matrix[1, i] = rx.substoich[i]\n",
    "end"
   ]
  },
  {
   "cell_type": "code",
   "execution_count": 56,
   "metadata": {},
   "outputs": [
    {
     "data": {
      "text/plain": [
       "2×3 Matrix{Int64}:\n",
       " 1  1  2\n",
       " 0  0  0"
      ]
     },
     "metadata": {},
     "output_type": "display_data"
    }
   ],
   "source": [
    "reactant_matrix"
   ]
  },
  {
   "cell_type": "code",
   "execution_count": 57,
   "metadata": {},
   "outputs": [],
   "source": [
    "for i in eachindex(rx.products)\n",
    "    prod_matrix[2, i] = rx.prodstoich[i]\n",
    "end"
   ]
  },
  {
   "cell_type": "code",
   "execution_count": 58,
   "metadata": {},
   "outputs": [
    {
     "data": {
      "text/plain": [
       "2×2 Matrix{Int64}:\n",
       " 0  0\n",
       " 3  2"
      ]
     },
     "metadata": {},
     "output_type": "display_data"
    }
   ],
   "source": [
    "prod_matrix"
   ]
  },
  {
   "cell_type": "code",
   "execution_count": 59,
   "metadata": {},
   "outputs": [
    {
     "data": {
      "text/plain": [
       "2×5 Matrix{Int64}:\n",
       " 1  1  2  0  0\n",
       " 0  0  0  3  2"
      ]
     },
     "metadata": {},
     "output_type": "display_data"
    }
   ],
   "source": [
    "hcat(reactant_matrix, prod_matrix)"
   ]
  },
  {
   "cell_type": "code",
   "execution_count": null,
   "metadata": {},
   "outputs": [],
   "source": []
  }
 ],
 "metadata": {
  "kernelspec": {
   "display_name": "Julia 1.9.0",
   "language": "julia",
   "name": "julia-1.9"
  },
  "language_info": {
   "file_extension": ".jl",
   "mimetype": "application/julia",
   "name": "julia",
   "version": "1.9.0"
  },
  "orig_nbformat": 4
 },
 "nbformat": 4,
 "nbformat_minor": 2
}
