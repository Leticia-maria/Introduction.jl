{
 "cells": [
  {
   "attachments": {},
   "cell_type": "markdown",
   "metadata": {},
   "source": [
    "## Exercise Title: Determining Stoichiometric Coefficients in Chemical Reactions using Julia's Multiple Dispatch"
   ]
  },
  {
   "attachments": {},
   "cell_type": "markdown",
   "metadata": {},
   "source": [
    "### Objective:\n",
    "You will be implementing a Julia function to calculate missing stoichiometric coefficients in a chemical reaction using the multiple dispatch feature. "
   ]
  },
  {
   "attachments": {},
   "cell_type": "markdown",
   "metadata": {},
   "source": [
    "**Task Description:**\n",
    "\n",
    "1. Define a type, `Substance`, which contains two fields: `name::String` and `moles::Float64`.\n",
    "\n",
    "```julia\n",
    "struct Substance\n",
    "    name::String\n",
    "    moles::Float64\n",
    "end\n",
    "```\n",
    "\n",
    "2. Define a `Reaction` type that contains two fields: `reactants::Dict{Substance, Float64}` (a dictionary mapping each reactant to its stoichiometric coefficient) and `products::Dict{Substance, Float64}` (similarly, for the products).\n",
    "\n",
    "```julia\n",
    "struct Reaction\n",
    "    reactants::Dict{Substance, Float64}\n",
    "    products::Dict{Substance, Float64}\n",
    "end\n",
    "```\n",
    "\n",
    "3. Implement a function `stoichiometry` which will accept an instance of `Reaction` and a `Substance` whose coefficient is to be determined. This function should find the stoichiometric coefficient of the given substance so that the reaction is balanced. Use the conservation of mass to perform the calculation.\n",
    "\n",
    "```julia\n",
    "function stoichiometry(r::Reaction, s::Substance)\n",
    "    # Your implementation here\n",
    "end\n",
    "```\n",
    "\n",
    "Note: Stoichiometric coefficients represent the ratio of moles involved in a chemical reaction, not necessarily the absolute number of moles. Thus, a balanced reaction has an equal total of moles on both sides of the reaction.\n",
    "\n",
    "4. Test your function by creating instances of `Substance` for reactants and products of a chemical reaction. Create an instance of `Reaction` with these substances, leaving the coefficient of one of the substances as `NaN`. Use your function to find the missing coefficient and thus balance the reaction.\n",
    "\n",
    "**Criteria:**\n",
    "\n",
    "1. Code clarity and structure\n",
    "2. Correct use of Julia's type system and multiple dispatch feature\n",
    "3. Accuracy of stoichiometric coefficient calculations\n",
    "4. Comprehensive testing of the implemented functions with different reactants and products\n",
    "\n",
    "**Stretch Goals:**\n",
    "\n",
    "1. Implement a `display()` function for `Substance` and `Reaction` types, to present the information in a more user-friendly manner.\n",
    "2. Add an exception handling mechanism to catch and gracefully handle possible exceptions (e.g., if a substance doesn't exist in the reaction).\n",
    "3. Expand your `Reaction` type to handle reactions with coefficients in front of the substances (e.g., `2H2 + O2 -> 2H2O`), and adjust your `stoichiometry` function to handle such reactions"
   ]
  }
 ],
 "metadata": {
  "language_info": {
   "name": "python"
  },
  "orig_nbformat": 4
 },
 "nbformat": 4,
 "nbformat_minor": 2
}
