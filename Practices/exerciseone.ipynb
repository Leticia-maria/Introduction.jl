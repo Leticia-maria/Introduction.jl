{
 "cells": [
  {
   "attachments": {},
   "cell_type": "markdown",
   "metadata": {},
   "source": [
    "## Exercise Title: Determining Stoichiometric Coefficients in Chemical Reactions using Julia's Multiple Dispatch"
   ]
  },
  {
   "attachments": {},
   "cell_type": "markdown",
   "metadata": {},
   "source": [
    "### Objective:\n",
    "You will be implementing a Julia function to calculate missing stoichiometric coefficients in a chemical reaction using the multiple dispatch feature. "
   ]
  },
  {
   "attachments": {},
   "cell_type": "markdown",
   "metadata": {},
   "source": [
    "**Task Description:**\n",
    "\n",
    "1. Define a type, `Substance`, which contains two fields: `name::String` and `moles::Float64`.\n",
    "\n",
    "```julia\n",
    "struct Substance\n",
    "    name::String\n",
    "    mass::Float64\n",
    "end\n",
    "```\n",
    "\n",
    "2. Define a `Reaction` type that contains two fields: `reactants::Dict{Substance, Float64}` (a dictionary mapping each reactant to its stoichiometric coefficient) and `products::Dict{Substance, Float64}` (similarly, for the products).\n",
    "\n",
    "```julia\n",
    "struct Reaction\n",
    "    reactants::Dict{Substance, Float64}\n",
    "    products::Dict{Substance, Float64}\n",
    "end\n",
    "```\n",
    "\n",
    "3. Implement a function `stoichiometry` which will accept an instance of `Reaction` and a `Substance` whose coefficient is to be determined. This function should find the stoichiometric coefficient of the given substance so that the reaction is balanced. Use the conservation of mass to perform the calculation.\n",
    "\n",
    "```julia\n",
    "function stoichiometry(r::Reaction, s::Substance)\n",
    "    # Your implementation here\n",
    "end\n",
    "```\n",
    "\n",
    "Note: Stoichiometric coefficients represent the ratio of moles involved in a chemical reaction, not necessarily the absolute number of moles. Thus, a balanced reaction has an equal total of moles on both sides of the reaction.\n",
    "\n",
    "4. Test your function by creating instances of `Substance` for reactants and products of a chemical reaction. Create an instance of `Reaction` with these substances, leaving the coefficient of one of the substances as `NaN`. Use your function to find the missing coefficient and thus balance the reaction.\n",
    "\n",
    "**Criteria:**\n",
    "\n",
    "1. Code clarity and structure\n",
    "2. Correct use of Julia's type system and multiple dispatch feature\n",
    "3. Accuracy of stoichiometric coefficient calculations\n",
    "4. Comprehensive testing of the implemented functions with different reactants and products\n",
    "\n",
    "**Stretch Goals:**\n",
    "\n",
    "1. Implement a `display()` function for `Substance` and `Reaction` types, to present the information in a more user-friendly manner.\n",
    "2. Add an exception handling mechanism to catch and gracefully handle possible exceptions (e.g., if a substance doesn't exist in the reaction).\n",
    "3. Expand your `Reaction` type to handle reactions with coefficients in front of the substances (e.g., `2H2 + O2 -> 2H2O`), and adjust your `stoichiometry` function to handle such reactions"
   ]
  },
  {
   "attachments": {},
   "cell_type": "markdown",
   "metadata": {},
   "source": [
    "### Structure example"
   ]
  },
  {
   "cell_type": "code",
   "execution_count": 1,
   "metadata": {},
   "outputs": [],
   "source": [
    "struct Substance\n",
    "    name::String\n",
    "    mass::Float64\n",
    "end"
   ]
  },
  {
   "cell_type": "code",
   "execution_count": 11,
   "metadata": {},
   "outputs": [
    {
     "data": {
      "text/plain": [
       "Substance(\"H₂O\", 18.01528)"
      ]
     },
     "metadata": {},
     "output_type": "display_data"
    }
   ],
   "source": [
    "water = Substance(\"H₂O\", 18.01528)"
   ]
  },
  {
   "cell_type": "code",
   "execution_count": 12,
   "metadata": {},
   "outputs": [
    {
     "data": {
      "text/plain": [
       "18.01528"
      ]
     },
     "metadata": {},
     "output_type": "display_data"
    }
   ],
   "source": [
    "water.mass"
   ]
  },
  {
   "cell_type": "code",
   "execution_count": 13,
   "metadata": {},
   "outputs": [
    {
     "data": {
      "text/plain": [
       "\"H₂O\""
      ]
     },
     "metadata": {},
     "output_type": "display_data"
    }
   ],
   "source": [
    "water.name"
   ]
  },
  {
   "attachments": {},
   "cell_type": "markdown",
   "metadata": {},
   "source": [
    "### Dictionary example"
   ]
  },
  {
   "cell_type": "code",
   "execution_count": 14,
   "metadata": {},
   "outputs": [
    {
     "data": {
      "text/plain": [
       "2"
      ]
     },
     "metadata": {},
     "output_type": "display_data"
    }
   ],
   "source": [
    "water = Dict()\n",
    "water[\"name\"] = \"H₂O\"\n",
    "water[\"m\"] = 18.01528   \n",
    "water[\"n\"] = 2"
   ]
  },
  {
   "cell_type": "code",
   "execution_count": 15,
   "metadata": {},
   "outputs": [
    {
     "data": {
      "text/plain": [
       "\"H₂O\""
      ]
     },
     "metadata": {},
     "output_type": "display_data"
    }
   ],
   "source": [
    "water[\"name\"]"
   ]
  },
  {
   "cell_type": "code",
   "execution_count": 16,
   "metadata": {},
   "outputs": [
    {
     "data": {
      "text/plain": [
       "36.03056"
      ]
     },
     "metadata": {},
     "output_type": "display_data"
    }
   ],
   "source": [
    "water[\"m\"] * water[\"n\"]"
   ]
  },
  {
   "cell_type": "code",
   "execution_count": 5,
   "metadata": {},
   "outputs": [
    {
     "data": {
      "text/plain": [
       "Dict{Any, Any} with 3 entries:\n",
       "  \"name\" => \"H₂O\"\n",
       "  \"m\"    => 18.0153\n",
       "  \"n\"    => 2"
      ]
     },
     "metadata": {},
     "output_type": "display_data"
    }
   ],
   "source": [
    "water"
   ]
  },
  {
   "cell_type": "code",
   "execution_count": 17,
   "metadata": {},
   "outputs": [
    {
     "data": {
      "text/plain": [
       "true"
      ]
     },
     "metadata": {},
     "output_type": "display_data"
    }
   ],
   "source": [
    "Integer <: Any"
   ]
  },
  {
   "cell_type": "code",
   "execution_count": 18,
   "metadata": {},
   "outputs": [
    {
     "data": {
      "text/plain": [
       "true"
      ]
     },
     "metadata": {},
     "output_type": "display_data"
    }
   ],
   "source": [
    "String <: Any"
   ]
  },
  {
   "attachments": {},
   "cell_type": "markdown",
   "metadata": {},
   "source": [
    "### Strategy"
   ]
  },
  {
   "attachments": {},
   "cell_type": "markdown",
   "metadata": {},
   "source": [
    "```mathematica\n",
    "H2 + O2 -> H2O\n",
    "```"
   ]
  },
  {
   "cell_type": "code",
   "execution_count": 6,
   "metadata": {},
   "outputs": [],
   "source": [
    "struct Reaction\n",
    "    reactants::Dict{Substance, Float64}\n",
    "    products::Dict{Substance, Float64}\n",
    "end"
   ]
  },
  {
   "cell_type": "code",
   "execution_count": 20,
   "metadata": {},
   "outputs": [
    {
     "data": {
      "text/plain": [
       "Reaction(Dict{Substance, Float64}(Substance(\"O2\", 32.0) => 1.0, Substance(\"H2\", 2.0) => 2.0), Dict{Substance, Float64}(Substance(\"H2O\", 18.0) => NaN))"
      ]
     },
     "metadata": {},
     "output_type": "display_data"
    }
   ],
   "source": [
    "reaction = Reaction(\n",
    "    Dict(Substance(\"H2\", 2.0) => 2.0, \n",
    "    Substance(\"O2\", 32.0) => 1.0), \n",
    "    Dict(Substance(\"H2O\", 18.0) => NaN)\n",
    ")"
   ]
  },
  {
   "cell_type": "code",
   "execution_count": 32,
   "metadata": {},
   "outputs": [
    {
     "data": {
      "text/plain": [
       "KeySet for a Dict{Substance, Float64} with 2 entries. Keys:\n",
       "  Substance(\"O2\", 32.0)\n",
       "  Substance(\"H2\", 2.0)"
      ]
     },
     "metadata": {},
     "output_type": "display_data"
    }
   ],
   "source": [
    "keys(reaction.reactants)"
   ]
  },
  {
   "cell_type": "code",
   "execution_count": 26,
   "metadata": {},
   "outputs": [
    {
     "data": {
      "text/plain": [
       "KeySet for a Dict{Substance, Float64} with 2 entries. Keys:\n",
       "  Substance(\"O2\", 32.0)\n",
       "  Substance(\"H2\", 2.0)"
      ]
     },
     "metadata": {},
     "output_type": "display_data"
    }
   ],
   "source": [
    "reactants = keys(reaction.reactants)"
   ]
  },
  {
   "cell_type": "code",
   "execution_count": 27,
   "metadata": {},
   "outputs": [
    {
     "data": {
      "text/plain": [
       "ValueIterator for a Dict{Substance, Float64} with 2 entries. Values:\n",
       "  1.0\n",
       "  2.0"
      ]
     },
     "metadata": {},
     "output_type": "display_data"
    }
   ],
   "source": [
    "moles = values(reaction.reactants)"
   ]
  },
  {
   "cell_type": "code",
   "execution_count": 28,
   "metadata": {},
   "outputs": [
    {
     "name": "stdout",
     "output_type": "stream",
     "text": [
      "32.0\n",
      "2.0\n"
     ]
    }
   ],
   "source": [
    "for reactant in reactants\n",
    "    println(reactant.mass)\n",
    "end"
   ]
  },
  {
   "cell_type": "code",
   "execution_count": 22,
   "metadata": {},
   "outputs": [
    {
     "data": {
      "text/plain": [
       "Dict{Substance, Float64} with 1 entry:\n",
       "  Substance(\"H2O\", 18.0) => NaN"
      ]
     },
     "metadata": {},
     "output_type": "display_data"
    }
   ],
   "source": [
    "reaction.products"
   ]
  },
  {
   "cell_type": "code",
   "execution_count": 10,
   "metadata": {},
   "outputs": [],
   "source": []
  }
 ],
 "metadata": {
  "kernelspec": {
   "display_name": "Julia 1.9.0",
   "language": "julia",
   "name": "julia-1.9"
  },
  "language_info": {
   "file_extension": ".jl",
   "mimetype": "application/julia",
   "name": "julia",
   "version": "1.9.0"
  },
  "orig_nbformat": 4
 },
 "nbformat": 4,
 "nbformat_minor": 2
}
