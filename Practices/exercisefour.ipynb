{
 "cells": [
  {
   "attachments": {},
   "cell_type": "markdown",
   "metadata": {},
   "source": [
    "### Simulating a protein with Molly.jl"
   ]
  },
  {
   "cell_type": "code",
   "execution_count": null,
   "metadata": {
    "vscode": {
     "languageId": "julia"
    }
   },
   "outputs": [],
   "source": [
    "using Molly\n",
    "### This is from the standard folder of Molly library.\n",
    "data_dir = joinpath(dirname(\"/Users/leticiamadureira/.julia/packages/Molly/\"), \"PMLnv\", \"data\")\n",
    "#### First, we need to read in a force field in ```OpenMM XML format``` and read in a coordinate file in a format supported by ```Chemfiles.jl```.\n",
    "#### Myelom protein\n",
    "ff = OpenMMForceField(\n",
    "    joinpath(data_dir, \"force_fields\", \"ff99SBildn.xml\"),\n",
    "    joinpath(data_dir, \"force_fields\", \"tip3p_standard.xml\"),\n",
    "    joinpath(data_dir, \"force_fields\", \"his.xml\"),\n",
    ")\n",
    "#### This sets up a system in the same data structures as above and that is simulated in the same way. Here we carry out an energy minimization, simulate with a ```Langevin integrator``` and use a ```StructureWriter``` to write the trajectory as a PDB file.\n",
    "sys = System(\n",
    "    joinpath(data_dir, \"6mrr_equil.pdb\"),\n",
    "    ff;\n",
    "    loggers=(\n",
    "        energy=TotalEnergyLogger(10),\n",
    "        writer=StructureWriter(10, \"traj_6mrr_1ps.pdb\", [\"HOH\"]),\n",
    "    ),\n",
    ")\n",
    "\n",
    "minimizer = SteepestDescentMinimizer()\n",
    "simulate!(sys, minimizer)\n",
    "\n",
    "random_velocities!(sys, 298.0u\"K\")\n",
    "simulator = Langevin(\n",
    "    dt=0.001u\"ps\",\n",
    "    temperature=300.0u\"K\",\n",
    "    friction=1.0u\"ps^-1\",\n",
    ")\n",
    "\n",
    "simulate!(sys, simulator, 5_000; n_threads=Threads.nthreads())"
   ]
  }
 ],
 "metadata": {
  "language_info": {
   "name": "python"
  },
  "orig_nbformat": 4
 },
 "nbformat": 4,
 "nbformat_minor": 2
}
