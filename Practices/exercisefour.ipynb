{
 "cells": [
  {
   "attachments": {},
   "cell_type": "markdown",
   "metadata": {},
   "source": [
    "### Simulating a protein with Molly.jl"
   ]
  },
  {
   "cell_type": "code",
   "execution_count": 1,
   "metadata": {},
   "outputs": [],
   "source": [
    "using Molly"
   ]
  },
  {
   "attachments": {},
   "cell_type": "markdown",
   "metadata": {},
   "source": [
    "### Simple Example"
   ]
  },
  {
   "cell_type": "code",
   "execution_count": 6,
   "metadata": {},
   "outputs": [
    {
     "data": {
      "text/plain": [
       "System with 5191 atoms, boundary CubicBoundary{Quantity{Float64, 𝐋, Unitful.FreeUnits{(nm,), 𝐋, nothing}}}(Quantity{Float64, 𝐋, Unitful.FreeUnits{(nm,), 𝐋, nothing}}[3.7146 nm, 3.7146 nm, 3.7146 nm])"
      ]
     },
     "metadata": {},
     "output_type": "display_data"
    }
   ],
   "source": [
    "sys = System(\n",
    "    joinpath(dirname(pathof(Molly)), \"..\", \"data\", \"5XER\", \"gmx_coords.gro\"),\n",
    "    joinpath(dirname(pathof(Molly)), \"..\", \"data\", \"5XER\", \"gmx_top_ff.top\");\n",
    "    loggers=(\n",
    "        temp=TemperatureLogger(10),\n",
    "        writer=StructureWriter(10, \"traj_5XER_1ps.pdb\"),\n",
    "    ),\n",
    ")"
   ]
  },
  {
   "cell_type": "code",
   "execution_count": 7,
   "metadata": {},
   "outputs": [
    {
     "data": {
      "text/plain": [
       "VelocityVerlet{Quantity{Float64, 𝐓, Unitful.FreeUnits{(ps,), 𝐓, nothing}}, AndersenThermostat{Quantity{Float64, 𝚯, Unitful.FreeUnits{(K,), 𝚯, nothing}}, Quantity{Float64, 𝐓, Unitful.FreeUnits{(ps,), 𝐓, nothing}}}}(0.0002 ps, AndersenThermostat{Quantity{Float64, 𝚯, Unitful.FreeUnits{(K,), 𝚯, nothing}}, Quantity{Float64, 𝐓, Unitful.FreeUnits{(ps,), 𝐓, nothing}}}(298.0 K, 1.0 ps), 1)"
      ]
     },
     "metadata": {},
     "output_type": "display_data"
    }
   ],
   "source": [
    "temp = 298.0u\"K\"\n",
    "random_velocities!(sys, temp)\n",
    "simulator = VelocityVerlet(\n",
    "    dt=0.0002u\"ps\",\n",
    "    coupling=AndersenThermostat(temp, 1.0u\"ps\"),\n",
    ")"
   ]
  },
  {
   "cell_type": "code",
   "execution_count": 8,
   "metadata": {},
   "outputs": [
    {
     "data": {
      "text/plain": [
       "System with 5191 atoms, boundary CubicBoundary{Quantity{Float64, 𝐋, Unitful.FreeUnits{(nm,), 𝐋, nothing}}}(Quantity{Float64, 𝐋, Unitful.FreeUnits{(nm,), 𝐋, nothing}}[3.7146 nm, 3.7146 nm, 3.7146 nm])"
      ]
     },
     "metadata": {},
     "output_type": "display_data"
    }
   ],
   "source": [
    "simulate!(sys, simulator, 5_000)"
   ]
  },
  {
   "attachments": {},
   "cell_type": "markdown",
   "metadata": {},
   "source": [
    "### More refined example (bootstraping and statistical sampling)"
   ]
  },
  {
   "cell_type": "code",
   "execution_count": null,
   "metadata": {},
   "outputs": [],
   "source": [
    "using Statistics"
   ]
  },
  {
   "cell_type": "code",
   "execution_count": null,
   "metadata": {},
   "outputs": [],
   "source": [
    "data_dir = joinpath(dirname(pathof(Molly)), \"..\", \"data\")\n",
    "ff = MolecularForceField(\n",
    "    joinpath(data_dir, \"force_fields\", \"ff99SBildn.xml\"),\n",
    "    joinpath(data_dir, \"force_fields\", \"tip3p_standard.xml\"),\n",
    "    joinpath(data_dir, \"force_fields\", \"his.xml\"),\n",
    ")"
   ]
  },
  {
   "cell_type": "code",
   "execution_count": null,
   "metadata": {},
   "outputs": [],
   "source": [
    "sys = System(joinpath(data_dir, \"6mrr_equil.pdb\"), ff)"
   ]
  },
  {
   "cell_type": "code",
   "execution_count": null,
   "metadata": {},
   "outputs": [],
   "source": [
    "minimizer = SteepestDescentMinimizer()\n",
    "simulate!(sys, minimizer)"
   ]
  },
  {
   "cell_type": "code",
   "execution_count": null,
   "metadata": {},
   "outputs": [],
   "source": [
    "n_replicas = 4"
   ]
  },
  {
   "cell_type": "code",
   "execution_count": null,
   "metadata": {},
   "outputs": [],
   "source": [
    "rep_sys = ReplicaSystem(\n",
    "    atoms=sys.atoms,\n",
    "    replica_coords=[copy(sys.coords) for _ in 1:n_replicas],\n",
    "    boundary=sys.boundary,\n",
    "    n_replicas=n_replicas,\n",
    "    atoms_data=sys.atoms_data,\n",
    "    pairwise_inters=sys.pairwise_inters,\n",
    "    specific_inter_lists=sys.specific_inter_lists,\n",
    "    general_inters=sys.general_inters,\n",
    "    neighbor_finder=sys.neighbor_finder,\n",
    "    replica_loggers=[(temp=TemperatureLogger(10),) for _ in 1:n_replicas],\n",
    ")"
   ]
  },
  {
   "cell_type": "code",
   "execution_count": null,
   "metadata": {},
   "outputs": [],
   "source": [
    "temps = [240.0u\"K\", 280.0u\"K\", 320.0u\"K\", 360.0u\"K\"]\n",
    "dt = 0.0005u\"ps\"\n",
    "simulators = [Langevin(dt=dt, temperature=temp, friction=1.0u\"ps^-1\") for temp in temps]"
   ]
  },
  {
   "cell_type": "code",
   "execution_count": null,
   "metadata": {},
   "outputs": [],
   "source": [
    "sim = TemperatureREMD(\n",
    "    dt=dt,\n",
    "    temperatures=temps,\n",
    "    simulators=simulators,\n",
    "    exchange_time=1.0u\"ps\",\n",
    ")"
   ]
  },
  {
   "cell_type": "code",
   "execution_count": null,
   "metadata": {},
   "outputs": [],
   "source": [
    "simulate!(rep_sys, sim, 40_000; assign_velocities=true)"
   ]
  },
  {
   "cell_type": "code",
   "execution_count": null,
   "metadata": {},
   "outputs": [],
   "source": [
    "println(rep_sys.exchange_logger.n_attempts)"
   ]
  },
  {
   "cell_type": "code",
   "execution_count": null,
   "metadata": {},
   "outputs": [],
   "source": [
    "for i in 1:n_replicas\n",
    "    final_temps = values(rep_sys.replicas[i].loggers.temp)[(end - 10):end]\n",
    "    println(mean(final_temps))\n",
    "end"
   ]
  },
  {
   "cell_type": "code",
   "execution_count": 9,
   "metadata": {},
   "outputs": [
    {
     "name": "stdout",
     "output_type": "stream",
     "text": [
      "30\n"
     ]
    },
    {
     "name": "stdout",
     "output_type": "stream",
     "text": [
      "242.33815939306513 K\n",
      "278.44783635048003 K\n",
      "319.1063978742124 K\n",
      "361.08296040429155 K\n"
     ]
    }
   ],
   "source": [
    "using Statistics\n",
    "\n",
    "data_dir = joinpath(dirname(pathof(Molly)), \"..\", \"data\")\n",
    "ff = MolecularForceField(\n",
    "    joinpath(data_dir, \"force_fields\", \"ff99SBildn.xml\"),\n",
    "    joinpath(data_dir, \"force_fields\", \"tip3p_standard.xml\"),\n",
    "    joinpath(data_dir, \"force_fields\", \"his.xml\"),\n",
    ")\n",
    "\n",
    "sys = System(joinpath(data_dir, \"6mrr_equil.pdb\"), ff)\n",
    "\n",
    "minimizer = SteepestDescentMinimizer()\n",
    "simulate!(sys, minimizer)\n",
    "\n",
    "n_replicas = 4\n",
    "\n",
    "rep_sys = ReplicaSystem(\n",
    "    atoms=sys.atoms,\n",
    "    replica_coords=[copy(sys.coords) for _ in 1:n_replicas],\n",
    "    boundary=sys.boundary,\n",
    "    n_replicas=n_replicas,\n",
    "    atoms_data=sys.atoms_data,\n",
    "    pairwise_inters=sys.pairwise_inters,\n",
    "    specific_inter_lists=sys.specific_inter_lists,\n",
    "    general_inters=sys.general_inters,\n",
    "    neighbor_finder=sys.neighbor_finder,\n",
    "    replica_loggers=[(temp=TemperatureLogger(10),) for _ in 1:n_replicas],\n",
    ")\n",
    "\n",
    "temps = [240.0u\"K\", 280.0u\"K\", 320.0u\"K\", 360.0u\"K\"]\n",
    "dt = 0.0005u\"ps\"\n",
    "simulators = [Langevin(dt=dt, temperature=temp, friction=1.0u\"ps^-1\") for temp in temps]\n",
    "\n",
    "sim = TemperatureREMD(\n",
    "    dt=dt,\n",
    "    temperatures=temps,\n",
    "    simulators=simulators,\n",
    "    exchange_time=1.0u\"ps\",\n",
    ")\n",
    "\n",
    "simulate!(rep_sys, sim, 40_000; assign_velocities=true)\n",
    "\n",
    "println(rep_sys.exchange_logger.n_attempts)\n",
    "# 30\n",
    "\n",
    "for i in 1:n_replicas\n",
    "    final_temps = values(rep_sys.replicas[i].loggers.temp)[(end - 10):end]\n",
    "    println(mean(final_temps))\n",
    "end\n",
    "# 240.1691457033836 K\n",
    "# 281.3783250460198 K\n",
    "# 320.44985840482974 K\n",
    "# 357.710520769689 K"
   ]
  }
 ],
 "metadata": {
  "kernelspec": {
   "display_name": "Julia 1.9.0",
   "language": "julia",
   "name": "julia-1.9"
  },
  "language_info": {
   "file_extension": ".jl",
   "mimetype": "application/julia",
   "name": "julia",
   "version": "1.9.0"
  },
  "orig_nbformat": 4
 },
 "nbformat": 4,
 "nbformat_minor": 2
}
