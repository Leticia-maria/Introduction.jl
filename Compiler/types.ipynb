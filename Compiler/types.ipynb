{
 "cells": [
  {
   "attachments": {},
   "cell_type": "markdown",
   "metadata": {},
   "source": [
    "### Types"
   ]
  },
  {
   "attachments": {},
   "cell_type": "markdown",
   "metadata": {},
   "source": [
    "In Julia, the range for different integer types, including ```Int16```, ```Int32```, ```Int64```, and ```Int128```, can be determined by the number of bits they hold. Each type represents a set of signed integers, meaning they can be both negative and positive, including zero.\n",
    "\n",
    "The range for these types is calculated as $-2^{(n-1)}$ to $2^{(n-1)}-1$, where $n$ is the number of bits.\n",
    "\n",
    "Here are the ranges:\n",
    "\n",
    "**```Int16```**: ```-32768``` to ```32767```\n",
    "Calculation: ```-2^(16-1)``` to ```2^(16-1)-1```\n",
    "\n",
    "**```Int32```**: ```-2147483648``` to ```2147483647```\n",
    "Calculation: ```-2^(32-1)``` to ```2^(32-1)-1```\n",
    "\n",
    "**```Int64```**: ```-9223372036854775808``` to ```9223372036854775807```\n",
    "Calculation: ```-2^(64-1)``` to ```2^(64-1)-1```\n",
    "\n",
    "**```Int128```**: ```-170141183460469231731687303715884105728``` to ```170141183460469231731687303715884105727```\n",
    "Calculation: ```-2^(128-1)``` to ```2^(128-1)-1```\n",
    "\n",
    "Please note that attempting to store a number outside of these ranges in the respective type will result in an overflow or an ```InexactError()``` exception."
   ]
  },
  {
   "cell_type": "code",
   "execution_count": 1,
   "metadata": {},
   "outputs": [
    {
     "data": {
      "text/plain": [
       "1"
      ]
     },
     "metadata": {},
     "output_type": "display_data"
    }
   ],
   "source": [
    "Int16(1)"
   ]
  },
  {
   "cell_type": "code",
   "execution_count": 2,
   "metadata": {},
   "outputs": [
    {
     "data": {
      "text/plain": [
       "1"
      ]
     },
     "metadata": {},
     "output_type": "display_data"
    }
   ],
   "source": [
    "Int32(1)"
   ]
  },
  {
   "cell_type": "code",
   "execution_count": 3,
   "metadata": {},
   "outputs": [
    {
     "data": {
      "text/plain": [
       "1"
      ]
     },
     "metadata": {},
     "output_type": "display_data"
    }
   ],
   "source": [
    "Int64(1)"
   ]
  },
  {
   "cell_type": "code",
   "execution_count": 4,
   "metadata": {},
   "outputs": [
    {
     "data": {
      "text/plain": [
       "1"
      ]
     },
     "metadata": {},
     "output_type": "display_data"
    }
   ],
   "source": [
    "Int128(1)"
   ]
  },
  {
   "cell_type": "code",
   "execution_count": 6,
   "metadata": {},
   "outputs": [
    {
     "data": {
      "text/plain": [
       "2"
      ]
     },
     "metadata": {},
     "output_type": "display_data"
    }
   ],
   "source": [
    "a = Int16(1) + Int32(1)"
   ]
  },
  {
   "cell_type": "code",
   "execution_count": 7,
   "metadata": {},
   "outputs": [
    {
     "data": {
      "text/plain": [
       "Int32"
      ]
     },
     "metadata": {},
     "output_type": "display_data"
    }
   ],
   "source": [
    "typeof(a)"
   ]
  },
  {
   "cell_type": "code",
   "execution_count": 8,
   "metadata": {},
   "outputs": [
    {
     "ename": "InexactError",
     "evalue": "InexactError: trunc(Int16, 100000000000000)",
     "output_type": "error",
     "traceback": [
      "InexactError: trunc(Int16, 100000000000000)\n",
      "\n",
      "Stacktrace:\n",
      " [1] throw_inexacterror(f::Symbol, #unused#::Type{Int16}, val::Int64)\n",
      "   @ Core ./boot.jl:634\n",
      " [2] checked_trunc_sint\n",
      "   @ ./boot.jl:656 [inlined]\n",
      " [3] toInt16\n",
      "   @ ./boot.jl:682 [inlined]\n",
      " [4] Int16(x::Int64)\n",
      "   @ Core ./boot.jl:782\n",
      " [5] top-level scope\n",
      "   @ ~/Introduction.jl/Compiler/types.ipynb:1"
     ]
    }
   ],
   "source": [
    "Int16(100000000000000)"
   ]
  },
  {
   "cell_type": "code",
   "execution_count": 9,
   "metadata": {},
   "outputs": [
    {
     "data": {
      "text/plain": [
       "1000"
      ]
     },
     "metadata": {},
     "output_type": "display_data"
    }
   ],
   "source": [
    "trunc(Int16, 1000)"
   ]
  },
  {
   "cell_type": "code",
   "execution_count": null,
   "metadata": {},
   "outputs": [],
   "source": []
  }
 ],
 "metadata": {
  "kernelspec": {
   "display_name": "Julia 1.9.0",
   "language": "julia",
   "name": "julia-1.9"
  },
  "language_info": {
   "file_extension": ".jl",
   "mimetype": "application/julia",
   "name": "julia",
   "version": "1.9.0"
  },
  "orig_nbformat": 4
 },
 "nbformat": 4,
 "nbformat_minor": 2
}
